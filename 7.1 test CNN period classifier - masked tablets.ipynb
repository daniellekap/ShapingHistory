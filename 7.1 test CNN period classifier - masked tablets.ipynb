{
 "cells": [
  {
   "cell_type": "code",
   "execution_count": 1,
   "id": "b4aa5777-e805-4b0e-b56f-1cfa2fb3f4bb",
   "metadata": {},
   "outputs": [
    {
     "name": "stdout",
     "output_type": "stream",
     "text": [
      "env: CUDA_VISIBLE_DEVICES=0\n"
     ]
    }
   ],
   "source": [
    "#%env CUDA_VISIBLE_DEVICES=0"
   ]
  },
  {
   "cell_type": "code",
   "execution_count": 1,
   "id": "c9e1e007-dae2-4849-92ef-aa2fe798acdb",
   "metadata": {},
   "outputs": [],
   "source": [
    "from collections import Counter\n",
    "from glob import glob\n",
    "from itertools import islice\n",
    "\n",
    "import numpy as np\n",
    "import pandas as pd\n",
    "import scipy\n",
    "from sklearn.metrics import classification_report, roc_auc_score\n",
    "from sklearn.preprocessing import label_binarize\n",
    "import torch\n",
    "from torch.utils.data import DataLoader\n",
    "from tqdm import tqdm\n",
    "\n",
    "from era_data import TabletPeriodDataset\n",
    "from era_model import SimpleCNN"
   ]
  },
  {
   "cell_type": "code",
   "execution_count": 2,
   "id": "12ee9796-7969-4986-a706-57facaf751fc",
   "metadata": {},
   "outputs": [
    {
     "data": {
      "text/plain": [
       "'cuda'"
      ]
     },
     "execution_count": 2,
     "metadata": {},
     "output_type": "execute_result"
    }
   ],
   "source": [
    "device = 'cuda' if torch.cuda.is_available() else 'cpu'\n",
    "device"
   ]
  },
  {
   "cell_type": "markdown",
   "id": "dd376014-cc55-456f-a320-fa837a89e336",
   "metadata": {},
   "source": [
    "# Hyperparameters"
   ]
  },
  {
   "cell_type": "code",
   "execution_count": 3,
   "id": "9a476cff-cfbd-42cc-9ad8-c948c04049b4",
   "metadata": {},
   "outputs": [
    {
     "data": {
      "text/plain": [
       "'lightning_logs/period_clf_bs16_lr1e-05_20epochs-vanillaCNN-94936_samples-preprocessed-masked-April16-80-10-10_train-test-val/checkpoints/epoch=8-step=42723.ckpt'"
      ]
     },
     "execution_count": 3,
     "metadata": {},
     "output_type": "execute_result"
    }
   ],
   "source": [
    "IMG_DIR = 'output/images_preprocessed'\n",
    "VERSION_NAME = 'period_clf_bs16_lr1e-05_20epochs-vanillaCNN-94936_samples-preprocessed-masked-April16-80-10-10_train-test-val'\n",
    "\n",
    "BATCH_SIZE=16\n",
    "CKPT_FN = glob(f'lightning_logs/{VERSION_NAME}/checkpoints/*')[0]\n",
    "CKPT_FN"
   ]
  },
  {
   "cell_type": "markdown",
   "id": "9de98b67-ee0f-4833-9bec-4061124252c0",
   "metadata": {},
   "source": [
    "# Load data and model"
   ]
  },
  {
   "cell_type": "code",
   "execution_count": 4,
   "id": "e4576f69-0f93-4da4-b497-7109a2f6d464",
   "metadata": {},
   "outputs": [
    {
     "data": {
      "text/plain": [
       "22"
      ]
     },
     "execution_count": 4,
     "metadata": {},
     "output_type": "execute_result"
    }
   ],
   "source": [
    "num_classes = len(TabletPeriodDataset.PERIOD_INDICES)\n",
    "num_classes"
   ]
  },
  {
   "cell_type": "code",
   "execution_count": 5,
   "id": "0ee03f0b-8892-49f5-885f-2a1d21040e79",
   "metadata": {},
   "outputs": [],
   "source": [
    "def collate_fn(batch):\n",
    "    data = torch.stack([torch.from_numpy(sample[1]).unsqueeze(0) for sample in batch])\n",
    "    labels = torch.tensor([sample[2] for sample in batch])\n",
    "\n",
    "    return data, labels"
   ]
  },
  {
   "cell_type": "code",
   "execution_count": 6,
   "id": "74d3c43a-860d-4ba9-a319-0e66006de380",
   "metadata": {},
   "outputs": [],
   "source": [
    "test_ids = pd.read_csv(f'output/clf_ids/period-test-{VERSION_NAME}.csv', header=None)[0].astype(str)"
   ]
  },
  {
   "cell_type": "code",
   "execution_count": 7,
   "id": "211d37a7-c3c8-49c6-ad2d-a851e939ac85",
   "metadata": {},
   "outputs": [
    {
     "name": "stdout",
     "output_type": "stream",
     "text": [
      "Filtering 94936 IDS down to provided 9494...\n"
     ]
    }
   ],
   "source": [
    "ds_test = TabletPeriodDataset(IDS=test_ids, mask = True, IMG_DIR=IMG_DIR)"
   ]
  },
  {
   "cell_type": "code",
   "execution_count": 8,
   "id": "3ea25644-ad8f-4ef9-aba6-501d5bf0df32",
   "metadata": {},
   "outputs": [],
   "source": [
    "dl_test = DataLoader(ds_test, batch_size=BATCH_SIZE, collate_fn=collate_fn, shuffle=False, num_workers=4)"
   ]
  },
  {
   "cell_type": "code",
   "execution_count": 9,
   "id": "7398335c-a0d5-4ac4-853b-c38cdea6257e",
   "metadata": {},
   "outputs": [
    {
     "name": "stdout",
     "output_type": "stream",
     "text": [
      "CPU times: user 2.32 s, sys: 4.7 s, total: 7.02 s\n",
      "Wall time: 29 s\n"
     ]
    }
   ],
   "source": [
    "%time model = SimpleCNN.load_from_checkpoint(CKPT_FN, num_classes=num_classes)"
   ]
  },
  {
   "cell_type": "code",
   "execution_count": 10,
   "id": "67f52e35-f29f-469c-9856-ba01c9fc0d71",
   "metadata": {},
   "outputs": [],
   "source": [
    "model.to(device);"
   ]
  },
  {
   "cell_type": "code",
   "execution_count": 11,
   "id": "0b125770-c7ef-43bc-8f7d-08476377a0d1",
   "metadata": {},
   "outputs": [],
   "source": [
    "model.eval();"
   ]
  },
  {
   "cell_type": "markdown",
   "id": "ae355b1f-4d92-4bee-8413-b918f2337803",
   "metadata": {},
   "source": [
    "# Calculate Predictions"
   ]
  },
  {
   "cell_type": "code",
   "execution_count": 12,
   "id": "addaf5d2-4317-4d4a-986b-9ec6b2887622",
   "metadata": {},
   "outputs": [],
   "source": [
    "def dl2data(dl, MAX_N=None, device='cuda'):\n",
    "    logits = []\n",
    "    y_true = []  # This will hold the period indices\n",
    "    model.eval()  # Set the model to evaluation mode\n",
    "\n",
    "    with torch.no_grad():\n",
    "        gen = tqdm(islice(dl, MAX_N), total=(MAX_N if MAX_N is not None else len(dl)))\n",
    "        for img, period_index in gen:\n",
    "            try:\n",
    "                y_true.append(period_index.cpu().numpy())  # Append period indices\n",
    "                logits.append(model(img.to(device)).cpu().numpy())  # Process the image through the model\n",
    "            except Exception as e:\n",
    "                print(f\"Error processing batch: {e}\")\n",
    "    y_true = np.hstack(y_true)\n",
    "    logits = np.vstack(logits)\n",
    "\n",
    "    return logits, y_true"
   ]
  },
  {
   "cell_type": "code",
   "execution_count": 13,
   "id": "f950d48e",
   "metadata": {},
   "outputs": [
    {
     "name": "stderr",
     "output_type": "stream",
     "text": [
      "100%|██████████| 580/580 [00:20<00:00, 28.51it/s]\n"
     ]
    }
   ],
   "source": [
    "logits, y_true = dl2data(dl_test)"
   ]
  },
  {
   "cell_type": "code",
   "execution_count": 14,
   "id": "d95ae64c",
   "metadata": {},
   "outputs": [
    {
     "data": {
      "text/plain": [
       "((9279,), (9279, 22))"
      ]
     },
     "execution_count": 14,
     "metadata": {},
     "output_type": "execute_result"
    }
   ],
   "source": [
    "y_true.shape, logits.shape"
   ]
  },
  {
   "cell_type": "code",
   "execution_count": 15,
   "id": "266e0f5a",
   "metadata": {},
   "outputs": [],
   "source": [
    "y_pred = logits.argmax(axis=-1)\n",
    "y_prob = scipy.special.softmax(logits, axis=-1)"
   ]
  },
  {
   "cell_type": "code",
   "execution_count": 16,
   "id": "3bfcd9a0",
   "metadata": {},
   "outputs": [
    {
     "data": {
      "text/plain": [
       "((9279,), (9279, 22))"
      ]
     },
     "execution_count": 16,
     "metadata": {},
     "output_type": "execute_result"
    }
   ],
   "source": [
    "y_pred.shape, y_prob.shape"
   ]
  },
  {
   "cell_type": "code",
   "execution_count": 17,
   "id": "d103f5df",
   "metadata": {
    "scrolled": true
   },
   "outputs": [
    {
     "data": {
      "text/plain": [
       "0.7141933397995474"
      ]
     },
     "execution_count": 17,
     "metadata": {},
     "output_type": "execute_result"
    }
   ],
   "source": [
    "(y_pred == y_true).mean()"
   ]
  },
  {
   "cell_type": "code",
   "execution_count": 18,
   "id": "5fef70ef-3471-4eb9-8fdf-3e027f3b4f39",
   "metadata": {},
   "outputs": [
    {
     "name": "stdout",
     "output_type": "stream",
     "text": [
      "              precision    recall  f1-score   support\n",
      "\n",
      "           0       0.33      0.02      0.03        57\n",
      "           1       0.82      0.86      0.84      2740\n",
      "           2       0.89      0.96      0.92      2328\n",
      "           3       0.51      0.74      0.60      1705\n",
      "           4       0.47      0.29      0.35       632\n",
      "           5       0.48      0.33      0.39       479\n",
      "           6       0.62      0.40      0.48       302\n",
      "           7       0.57      0.33      0.42       173\n",
      "           8       0.59      0.14      0.22       200\n",
      "           9       0.73      0.51      0.60       145\n",
      "          10       0.45      0.18      0.26       150\n",
      "          11       0.85      0.47      0.60       166\n",
      "          12       0.71      0.34      0.46        35\n",
      "          13       0.00      0.00      0.00         1\n",
      "          14       0.67      0.46      0.54        48\n",
      "          15       0.42      0.31      0.36        42\n",
      "          16       0.00      0.00      0.00        15\n",
      "          17       0.88      0.37      0.52        19\n",
      "          18       0.00      0.00      0.00         4\n",
      "          19       0.75      0.33      0.46        18\n",
      "          20       0.00      0.00      0.00        18\n",
      "          21       0.00      0.00      0.00         2\n",
      "\n",
      "    accuracy                           0.71      9279\n",
      "   macro avg       0.49      0.32      0.37      9279\n",
      "weighted avg       0.71      0.71      0.70      9279\n",
      "\n"
     ]
    },
    {
     "name": "stderr",
     "output_type": "stream",
     "text": [
      "/home/kapond/.conda/envs/dani_torch/lib/python3.11/site-packages/sklearn/metrics/_classification.py:1469: UndefinedMetricWarning: Precision and F-score are ill-defined and being set to 0.0 in labels with no predicted samples. Use `zero_division` parameter to control this behavior.\n",
      "  _warn_prf(average, modifier, msg_start, len(result))\n",
      "/home/kapond/.conda/envs/dani_torch/lib/python3.11/site-packages/sklearn/metrics/_classification.py:1469: UndefinedMetricWarning: Precision and F-score are ill-defined and being set to 0.0 in labels with no predicted samples. Use `zero_division` parameter to control this behavior.\n",
      "  _warn_prf(average, modifier, msg_start, len(result))\n",
      "/home/kapond/.conda/envs/dani_torch/lib/python3.11/site-packages/sklearn/metrics/_classification.py:1469: UndefinedMetricWarning: Precision and F-score are ill-defined and being set to 0.0 in labels with no predicted samples. Use `zero_division` parameter to control this behavior.\n",
      "  _warn_prf(average, modifier, msg_start, len(result))\n"
     ]
    }
   ],
   "source": [
    "print(classification_report(y_true, y_pred))"
   ]
  },
  {
   "cell_type": "code",
   "execution_count": 19,
   "id": "4a8df609-e1cb-4ac9-b162-2a5f5f4d82ba",
   "metadata": {},
   "outputs": [],
   "source": [
    "EARLY_BRONZE = {\n",
    "    'Old Akkadian', 'Ur III',\n",
    "    'ED IIIb', 'Uruk III',\n",
    "    'Proto-Elamite', 'Lagash II',\n",
    "    'Ebla', 'ED IIIa', 'ED I-II',\n",
    "    'Uruk IV', 'Linear Elamite',\n",
    "    'Harappan'\n",
    "    \n",
    "}\n",
    "MID_LATE_BRONZE = {\n",
    "    'Early Old Babylonian',\n",
    "    'Old Babylonian', 'Old Assyrian',\n",
    "    'Middle Babylonian', 'Middle Assyrian',\n",
    "    'Middle Elamite', 'Hittite'\n",
    "}\n",
    "IRON = {\n",
    "    'Neo-Babylonian', 'Neo-Assyrian',\n",
    "    'Achaemenid', 'Hellenistic',\n",
    "    'Neo-Elamite'\n",
    "}\n",
    "ERA_MAP = {\n",
    "    **{K: 'EB' for K in EARLY_BRONZE},\n",
    "    **{K: 'MLB' for K in MID_LATE_BRONZE},\n",
    "    **{K: 'I' for K in IRON},\n",
    "}"
   ]
  },
  {
   "cell_type": "code",
   "execution_count": 20,
   "id": "088adc4a-4156-42c1-8e5f-c653fea81103",
   "metadata": {},
   "outputs": [],
   "source": [
    "def explain(period):\n",
    "    return f'{period} ({ERA_MAP.get(period, \"?\")})'"
   ]
  },
  {
   "cell_type": "code",
   "execution_count": 21,
   "id": "bf3489b1-91c9-4226-a844-d540daf238f8",
   "metadata": {},
   "outputs": [],
   "source": [
    "idx2period = {v: k for k, v in TabletPeriodDataset.PERIOD_INDICES.items()}\n",
    "idx2period[0] = 'other'"
   ]
  },
  {
   "cell_type": "code",
   "execution_count": 22,
   "id": "273af3cb-8fdf-4531-9bc4-9d7be27fb5f5",
   "metadata": {},
   "outputs": [
    {
     "name": "stdout",
     "output_type": "stream",
     "text": [
      "Common labels: (14)\n"
     ]
    },
    {
     "data": {
      "text/plain": [
       "[(0, 'other (?)'),\n",
       " (1, 'Ur III (EB)'),\n",
       " (2, 'Neo-Assyrian (I)'),\n",
       " (3, 'Old Babylonian (MLB)'),\n",
       " (4, 'Middle Babylonian (MLB)'),\n",
       " (5, 'Neo-Babylonian (I)'),\n",
       " (6, 'Old Akkadian (EB)'),\n",
       " (7, 'Achaemenid (I)'),\n",
       " (8, 'Early Old Babylonian (MLB)'),\n",
       " (9, 'ED IIIb (EB)'),\n",
       " (10, 'Middle Assyrian (MLB)'),\n",
       " (11, 'Old Assyrian (MLB)'),\n",
       " (14, 'Lagash II (EB)'),\n",
       " (15, 'Ebla (EB)')]"
      ]
     },
     "execution_count": 22,
     "metadata": {},
     "output_type": "execute_result"
    }
   ],
   "source": [
    "# let's just use classes with support >=10, everything else goes to 0: other\n",
    "COMMON_LABELS = list({k for k, v in Counter(y_true).items() if v >= 40})\n",
    "print(f'Common labels: ({len(COMMON_LABELS)})')\n",
    "[(i, explain(idx2period[i])) for i in COMMON_LABELS]"
   ]
  },
  {
   "cell_type": "code",
   "execution_count": 23,
   "id": "d809cf76-d513-4294-92f7-b3ce6c383347",
   "metadata": {},
   "outputs": [
    {
     "name": "stdout",
     "output_type": "stream",
     "text": [
      "0.012070266192477638 changed to \"other\"\n"
     ]
    }
   ],
   "source": [
    "y_true_c = y_true.copy()\n",
    "y_true_c[~np.isin(y_true, COMMON_LABELS)] = 0\n",
    "print((~np.isin(y_true, COMMON_LABELS)).mean(), 'changed to \"other\"')"
   ]
  },
  {
   "cell_type": "code",
   "execution_count": 24,
   "id": "6fa95a63-b213-4e78-8c8b-02c182045030",
   "metadata": {},
   "outputs": [
    {
     "name": "stdout",
     "output_type": "stream",
     "text": [
      "0.005388511693070374 changed to \"other\"\n"
     ]
    }
   ],
   "source": [
    "y_pred_c = y_pred.copy()\n",
    "y_pred_c[~np.isin(y_pred, COMMON_LABELS)] = 0\n",
    "print((~np.isin(y_pred, COMMON_LABELS)).mean(), 'changed to \"other\"')"
   ]
  },
  {
   "cell_type": "code",
   "execution_count": 25,
   "id": "6fb3524c-3385-45c3-971a-a8cd19fa069b",
   "metadata": {
    "scrolled": true
   },
   "outputs": [
    {
     "name": "stdout",
     "output_type": "stream",
     "text": [
      "14\n",
      "[0, 1, 2, 3, 4, 5, 6, 7, 8, 9, 10, 11, 14, 15]\n",
      "['other (?)', 'Ur III (EB)', 'Neo-Assyrian (I)', 'Old Babylonian (MLB)', 'Middle Babylonian (MLB)', 'Neo-Babylonian (I)', 'Old Akkadian (EB)', 'Achaemenid (I)', 'Early Old Babylonian (MLB)', 'ED IIIb (EB)', 'Middle Assyrian (MLB)', 'Old Assyrian (MLB)', 'Lagash II (EB)', 'Ebla (EB)']\n"
     ]
    }
   ],
   "source": [
    "indices_c = list(set(y_true_c) | set(y_pred_c))\n",
    "print(len(indices_c))\n",
    "print(indices_c)\n",
    "PERIOD_LABELS_C = [explain(idx2period[i]) for i in indices_c]\n",
    "print(PERIOD_LABELS_C)"
   ]
  },
  {
   "cell_type": "code",
   "execution_count": 26,
   "id": "9537af8d-90b6-492d-9105-1cd7aa4213ff",
   "metadata": {
    "scrolled": true
   },
   "outputs": [
    {
     "name": "stdout",
     "output_type": "stream",
     "text": [
      "                            precision    recall  f1-score   support\n",
      "\n",
      "                 other (?)       0.51      0.16      0.24       169\n",
      "               Ur III (EB)       0.82      0.86      0.84      2740\n",
      "          Neo-Assyrian (I)       0.89      0.96      0.92      2328\n",
      "      Old Babylonian (MLB)       0.51      0.74      0.60      1705\n",
      "   Middle Babylonian (MLB)       0.47      0.29      0.35       632\n",
      "        Neo-Babylonian (I)       0.48      0.33      0.39       479\n",
      "         Old Akkadian (EB)       0.62      0.40      0.48       302\n",
      "            Achaemenid (I)       0.57      0.33      0.42       173\n",
      "Early Old Babylonian (MLB)       0.59      0.14      0.22       200\n",
      "              ED IIIb (EB)       0.73      0.51      0.60       145\n",
      "     Middle Assyrian (MLB)       0.45      0.18      0.26       150\n",
      "        Old Assyrian (MLB)       0.85      0.47      0.60       166\n",
      "            Lagash II (EB)       0.67      0.46      0.54        48\n",
      "                 Ebla (EB)       0.42      0.31      0.36        42\n",
      "\n",
      "                  accuracy                           0.71      9279\n",
      "                 macro avg       0.61      0.44      0.49      9279\n",
      "              weighted avg       0.71      0.71      0.70      9279\n",
      "\n"
     ]
    }
   ],
   "source": [
    "print(classification_report(y_true_c, y_pred_c, target_names=PERIOD_LABELS_C))"
   ]
  },
  {
   "cell_type": "code",
   "execution_count": 27,
   "id": "7f197578-a861-4dac-9698-47b3f568c68c",
   "metadata": {},
   "outputs": [
    {
     "name": "stdout",
     "output_type": "stream",
     "text": [
      "Macro-OvR-AUC: 0.8836004991593627\n"
     ]
    }
   ],
   "source": [
    "Y = label_binarize(y_true, classes=np.unique(y_true))\n",
    "n_classes = Y.shape[1]\n",
    "\n",
    "auc_scores = []\n",
    "for i in range(n_classes):\n",
    "    auc = roc_auc_score(Y[:, i], y_prob[:, i])\n",
    "    auc_scores.append(auc)\n",
    "\n",
    "macro_ovr_auc = np.mean(auc_scores)\n",
    "print(f\"Macro-OvR-AUC: {macro_ovr_auc}\")"
   ]
  },
  {
   "cell_type": "code",
   "execution_count": null,
   "id": "f275b966-5624-4d98-b09b-8fa659ed16e9",
   "metadata": {},
   "outputs": [],
   "source": []
  }
 ],
 "metadata": {
  "kernelspec": {
   "display_name": "dani_torch",
   "language": "python",
   "name": "dani_torch"
  },
  "language_info": {
   "codemirror_mode": {
    "name": "ipython",
    "version": 3
   },
   "file_extension": ".py",
   "mimetype": "text/x-python",
   "name": "python",
   "nbconvert_exporter": "python",
   "pygments_lexer": "ipython3",
   "version": "3.11.5"
  }
 },
 "nbformat": 4,
 "nbformat_minor": 5
}
