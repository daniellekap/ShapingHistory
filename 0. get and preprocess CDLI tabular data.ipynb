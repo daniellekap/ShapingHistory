{
 "cells": [
  {
   "cell_type": "code",
   "execution_count": 2,
   "id": "e082c7ec",
   "metadata": {},
   "outputs": [
    {
     "name": "stdout",
     "output_type": "stream",
     "text": [
      "Cloning into 'data'...\n",
      "remote: Enumerating objects: 7153, done.\u001b[K\n",
      "remote: Counting objects: 100% (467/467), done.\u001b[K\n",
      "remote: Compressing objects: 100% (338/338), done.\u001b[K\n",
      "remote: Total 7153 (delta 138), reused 452 (delta 129), pack-reused 6686\u001b[K\n",
      "Receiving objects: 100% (7153/7153), 5.90 GiB | 31.87 MiB/s, done.\n",
      "Resolving deltas: 100% (4106/4106), done.\n"
     ]
    }
   ],
   "source": [
    "! cd cdli; git clone https://github.com/cdli-gh/data"
   ]
  },
  {
   "cell_type": "code",
   "execution_count": 3,
   "id": "8b61ebdb",
   "metadata": {},
   "outputs": [
    {
     "name": "stdout",
     "output_type": "stream",
     "text": [
      "git: 'lfs' is not a git command. See 'git --help'.\n",
      "\n",
      "Did you mean this?\n",
      "\tlog\n"
     ]
    }
   ],
   "source": [
    "! cd data; git lfs status"
   ]
  },
  {
   "cell_type": "code",
   "execution_count": 38,
   "id": "3ed42d0f",
   "metadata": {},
   "outputs": [],
   "source": [
    "import pandas as pd\n",
    "import re"
   ]
  },
  {
   "cell_type": "code",
   "execution_count": 12,
   "id": "151724e4",
   "metadata": {},
   "outputs": [],
   "source": [
    "COLS = [\n",
    "    'id_text',\n",
    "    'genre',\n",
    "    'subgenre',\n",
    "    'period',\n",
    "    'provenience',\n",
    "    'id',\n",
    "    'photo_up'\n",
    "]"
   ]
  },
  {
   "cell_type": "code",
   "execution_count": 9,
   "id": "fa5232a0-a139-4bcd-8afd-64f23936a99d",
   "metadata": {},
   "outputs": [
    {
     "name": "stderr",
     "output_type": "stream",
     "text": [
      "/tmp/ipykernel_3189/3012391959.py:1: DtypeWarning: Columns (46) have mixed types. Specify dtype option on import or set low_memory=False.\n",
      "  df = pd.read_csv(\"https://media.githubusercontent.com/media/cdli-gh/data/master/cdli_cat.csv\", usecols=COLS)\n"
     ]
    }
   ],
   "source": [
    "df = pd.read_csv(\"https://media.githubusercontent.com/media/cdli-gh/data/master/cdli_cat.csv\", usecols=COLS)"
   ]
  },
  {
   "cell_type": "code",
   "execution_count": 10,
   "id": "119b84bb-9671-4dda-b6da-53407e30e7b7",
   "metadata": {},
   "outputs": [
    {
     "data": {
      "text/plain": [
       "(353283, 7)"
      ]
     },
     "execution_count": 10,
     "metadata": {},
     "output_type": "execute_result"
    }
   ],
   "source": [
    "df.shape"
   ]
  },
  {
   "cell_type": "code",
   "execution_count": 17,
   "id": "5b690237-08fc-47d7-a511-a71456ab6491",
   "metadata": {},
   "outputs": [
    {
     "data": {
      "text/html": [
       "<div>\n",
       "<style scoped>\n",
       "    .dataframe tbody tr th:only-of-type {\n",
       "        vertical-align: middle;\n",
       "    }\n",
       "\n",
       "    .dataframe tbody tr th {\n",
       "        vertical-align: top;\n",
       "    }\n",
       "\n",
       "    .dataframe thead th {\n",
       "        text-align: right;\n",
       "    }\n",
       "</style>\n",
       "<table border=\"1\" class=\"dataframe\">\n",
       "  <thead>\n",
       "    <tr style=\"text-align: right;\">\n",
       "      <th></th>\n",
       "      <th>genre</th>\n",
       "      <th>id</th>\n",
       "      <th>id_text</th>\n",
       "      <th>period</th>\n",
       "      <th>photo_up</th>\n",
       "      <th>provenience</th>\n",
       "      <th>subgenre</th>\n",
       "    </tr>\n",
       "  </thead>\n",
       "  <tbody>\n",
       "    <tr>\n",
       "      <th>176918</th>\n",
       "      <td>Administrative</td>\n",
       "      <td>176956</td>\n",
       "      <td>339756</td>\n",
       "      <td>Ur III (ca. 2100-2000 BC)</td>\n",
       "      <td>NaN</td>\n",
       "      <td>Umma (mod. Tell Jokha) ?</td>\n",
       "      <td>pisan-dub-ba</td>\n",
       "    </tr>\n",
       "    <tr>\n",
       "      <th>229885</th>\n",
       "      <td>Omen</td>\n",
       "      <td>229934</td>\n",
       "      <td>395172</td>\n",
       "      <td>Neo-Assyrian (ca. 911-612 BC)</td>\n",
       "      <td>NaN</td>\n",
       "      <td>Nineveh (mod. Kuyunjik)</td>\n",
       "      <td>extispicy</td>\n",
       "    </tr>\n",
       "    <tr>\n",
       "      <th>324974</th>\n",
       "      <td>Letter</td>\n",
       "      <td>333808</td>\n",
       "      <td>503284</td>\n",
       "      <td>Middle Babylonian (ca. 1400-1100 BC)</td>\n",
       "      <td>NaN</td>\n",
       "      <td>Ugarit (mod. Ras Shamra)</td>\n",
       "      <td>NaN</td>\n",
       "    </tr>\n",
       "    <tr>\n",
       "      <th>48011</th>\n",
       "      <td>Administrative</td>\n",
       "      <td>48012</td>\n",
       "      <td>139664</td>\n",
       "      <td>Ur III (ca. 2100-2000 BC)</td>\n",
       "      <td>NaN</td>\n",
       "      <td>Umma (mod. Tell Jokha)</td>\n",
       "      <td>NaN</td>\n",
       "    </tr>\n",
       "    <tr>\n",
       "      <th>275791</th>\n",
       "      <td>NaN</td>\n",
       "      <td>275841</td>\n",
       "      <td>443458</td>\n",
       "      <td>Middle Hittite (ca. 1500-1100 BC)</td>\n",
       "      <td>NaN</td>\n",
       "      <td>Ḫattusa (mod. Boğazkale)</td>\n",
       "      <td>NaN</td>\n",
       "    </tr>\n",
       "  </tbody>\n",
       "</table>\n",
       "</div>"
      ],
      "text/plain": [
       "                 genre      id  id_text                                period  \\\n",
       "176918  Administrative  176956   339756             Ur III (ca. 2100-2000 BC)   \n",
       "229885            Omen  229934   395172         Neo-Assyrian (ca. 911-612 BC)   \n",
       "324974          Letter  333808   503284  Middle Babylonian (ca. 1400-1100 BC)   \n",
       "48011   Administrative   48012   139664             Ur III (ca. 2100-2000 BC)   \n",
       "275791             NaN  275841   443458     Middle Hittite (ca. 1500-1100 BC)   \n",
       "\n",
       "       photo_up               provenience      subgenre  \n",
       "176918      NaN  Umma (mod. Tell Jokha) ?  pisan-dub-ba  \n",
       "229885      NaN   Nineveh (mod. Kuyunjik)     extispicy  \n",
       "324974      NaN  Ugarit (mod. Ras Shamra)           NaN  \n",
       "48011       NaN    Umma (mod. Tell Jokha)           NaN  \n",
       "275791      NaN  Ḫattusa (mod. Boğazkale)           NaN  "
      ]
     },
     "execution_count": 17,
     "metadata": {},
     "output_type": "execute_result"
    }
   ],
   "source": [
    "df.sample(5)"
   ]
  },
  {
   "cell_type": "code",
   "execution_count": 18,
   "id": "a1390f3f-e84f-4a9d-8c55-2e66f9bdfb75",
   "metadata": {},
   "outputs": [],
   "source": [
    "df.to_csv('cdli/data/cdli_cat.csv', index=False)"
   ]
  },
  {
   "cell_type": "code",
   "execution_count": 19,
   "id": "ab8a277b",
   "metadata": {},
   "outputs": [],
   "source": [
    "df = pd.read_csv('cdli/data/cdli_cat.csv', keep_default_na=False, usecols=COLS)"
   ]
  },
  {
   "cell_type": "code",
   "execution_count": 20,
   "id": "0fa8af49",
   "metadata": {},
   "outputs": [
    {
     "data": {
      "text/plain": [
       "(353283, 7)"
      ]
     },
     "execution_count": 20,
     "metadata": {},
     "output_type": "execute_result"
    }
   ],
   "source": [
    "df.shape"
   ]
  },
  {
   "cell_type": "code",
   "execution_count": 21,
   "id": "ed8bca75",
   "metadata": {},
   "outputs": [],
   "source": [
    "df = df[df.photo_up.notna()].copy()"
   ]
  },
  {
   "cell_type": "code",
   "execution_count": 22,
   "id": "a60c8aa5",
   "metadata": {},
   "outputs": [
    {
     "data": {
      "text/plain": [
       "(353283, 7)"
      ]
     },
     "execution_count": 22,
     "metadata": {},
     "output_type": "execute_result"
    }
   ],
   "source": [
    "df.shape"
   ]
  },
  {
   "cell_type": "code",
   "execution_count": 23,
   "id": "a745821d",
   "metadata": {},
   "outputs": [
    {
     "data": {
      "text/html": [
       "<div>\n",
       "<style scoped>\n",
       "    .dataframe tbody tr th:only-of-type {\n",
       "        vertical-align: middle;\n",
       "    }\n",
       "\n",
       "    .dataframe tbody tr th {\n",
       "        vertical-align: top;\n",
       "    }\n",
       "\n",
       "    .dataframe thead th {\n",
       "        text-align: right;\n",
       "    }\n",
       "</style>\n",
       "<table border=\"1\" class=\"dataframe\">\n",
       "  <thead>\n",
       "    <tr style=\"text-align: right;\">\n",
       "      <th></th>\n",
       "      <th>genre</th>\n",
       "      <th>id</th>\n",
       "      <th>id_text</th>\n",
       "      <th>period</th>\n",
       "      <th>photo_up</th>\n",
       "      <th>provenience</th>\n",
       "      <th>subgenre</th>\n",
       "    </tr>\n",
       "  </thead>\n",
       "  <tbody>\n",
       "    <tr>\n",
       "      <th>0</th>\n",
       "      <td>Lexical</td>\n",
       "      <td>1</td>\n",
       "      <td>1</td>\n",
       "      <td>Uruk III (ca. 3200-3000 BC)</td>\n",
       "      <td></td>\n",
       "      <td>Uruk (mod. Warka)</td>\n",
       "      <td>Archaic Lu2 A (witness)</td>\n",
       "    </tr>\n",
       "    <tr>\n",
       "      <th>1</th>\n",
       "      <td>Lexical</td>\n",
       "      <td>2</td>\n",
       "      <td>2</td>\n",
       "      <td>Uruk III (ca. 3200-3000 BC)</td>\n",
       "      <td></td>\n",
       "      <td>Uruk (mod. Warka)</td>\n",
       "      <td>Archaic Lu2 A (witness)</td>\n",
       "    </tr>\n",
       "    <tr>\n",
       "      <th>2</th>\n",
       "      <td>Lexical</td>\n",
       "      <td>3</td>\n",
       "      <td>3</td>\n",
       "      <td>Uruk IV (ca. 3350-3200 BC)</td>\n",
       "      <td></td>\n",
       "      <td>Uruk (mod. Warka)</td>\n",
       "      <td>Archaic Vocabulary (witness)</td>\n",
       "    </tr>\n",
       "    <tr>\n",
       "      <th>3</th>\n",
       "      <td>Lexical</td>\n",
       "      <td>4</td>\n",
       "      <td>4</td>\n",
       "      <td>Uruk IV (ca. 3350-3200 BC)</td>\n",
       "      <td></td>\n",
       "      <td>Uruk (mod. Warka)</td>\n",
       "      <td>Archaic Lu2 A (witness)</td>\n",
       "    </tr>\n",
       "    <tr>\n",
       "      <th>4</th>\n",
       "      <td>Lexical</td>\n",
       "      <td>5</td>\n",
       "      <td>5</td>\n",
       "      <td>Uruk IV (ca. 3350-3200 BC)</td>\n",
       "      <td></td>\n",
       "      <td>Uruk (mod. Warka)</td>\n",
       "      <td>Archaic Lu2 A (witness)</td>\n",
       "    </tr>\n",
       "  </tbody>\n",
       "</table>\n",
       "</div>"
      ],
      "text/plain": [
       "     genre  id  id_text                       period photo_up  \\\n",
       "0  Lexical   1        1  Uruk III (ca. 3200-3000 BC)            \n",
       "1  Lexical   2        2  Uruk III (ca. 3200-3000 BC)            \n",
       "2  Lexical   3        3   Uruk IV (ca. 3350-3200 BC)            \n",
       "3  Lexical   4        4   Uruk IV (ca. 3350-3200 BC)            \n",
       "4  Lexical   5        5   Uruk IV (ca. 3350-3200 BC)            \n",
       "\n",
       "         provenience                      subgenre  \n",
       "0  Uruk (mod. Warka)       Archaic Lu2 A (witness)  \n",
       "1  Uruk (mod. Warka)       Archaic Lu2 A (witness)  \n",
       "2  Uruk (mod. Warka)  Archaic Vocabulary (witness)  \n",
       "3  Uruk (mod. Warka)       Archaic Lu2 A (witness)  \n",
       "4  Uruk (mod. Warka)       Archaic Lu2 A (witness)  "
      ]
     },
     "execution_count": 23,
     "metadata": {},
     "output_type": "execute_result"
    }
   ],
   "source": [
    "df.head()"
   ]
  },
  {
   "cell_type": "code",
   "execution_count": 42,
   "id": "d34c17b1",
   "metadata": {},
   "outputs": [],
   "source": [
    "df['period_normed'] = df['period'].str.replace(r'\\s+', ' ', regex=True) \\\n",
    "                                  .str.replace(r'\\?', '', regex=True) \\\n",
    "                                  .apply(lambda x: re.sub(\"[\\(\\[].*?[\\)\\]]\", \"\", x))\\\n",
    "                                   .str.strip() "
   ]
  },
  {
   "cell_type": "code",
   "execution_count": 44,
   "id": "a8a0b178",
   "metadata": {},
   "outputs": [],
   "source": [
    "df = df[df.period_normed != ''].copy()"
   ]
  },
  {
   "cell_type": "code",
   "execution_count": 45,
   "id": "c78d0a6c",
   "metadata": {},
   "outputs": [
    {
     "data": {
      "text/plain": [
       "(331173, 9)"
      ]
     },
     "execution_count": 45,
     "metadata": {},
     "output_type": "execute_result"
    }
   ],
   "source": [
    "df.shape"
   ]
  },
  {
   "cell_type": "code",
   "execution_count": 46,
   "id": "35387b08",
   "metadata": {},
   "outputs": [
    {
     "data": {
      "text/html": [
       "<div>\n",
       "<style scoped>\n",
       "    .dataframe tbody tr th:only-of-type {\n",
       "        vertical-align: middle;\n",
       "    }\n",
       "\n",
       "    .dataframe tbody tr th {\n",
       "        vertical-align: top;\n",
       "    }\n",
       "\n",
       "    .dataframe thead th {\n",
       "        text-align: right;\n",
       "    }\n",
       "</style>\n",
       "<table border=\"1\" class=\"dataframe\">\n",
       "  <thead>\n",
       "    <tr style=\"text-align: right;\">\n",
       "      <th></th>\n",
       "      <th>genre</th>\n",
       "      <th>id</th>\n",
       "      <th>id_text</th>\n",
       "      <th>period</th>\n",
       "      <th>photo_up</th>\n",
       "      <th>provenience</th>\n",
       "      <th>subgenre</th>\n",
       "      <th>period_normed</th>\n",
       "      <th>era</th>\n",
       "    </tr>\n",
       "  </thead>\n",
       "  <tbody>\n",
       "    <tr>\n",
       "      <th>43473</th>\n",
       "      <td>Administrative</td>\n",
       "      <td>43474</td>\n",
       "      <td>135154</td>\n",
       "      <td>Ur III (ca. 2100-2000 BC)</td>\n",
       "      <td>600ppi 20160630</td>\n",
       "      <td>Puzriš-Dagan (mod. Drehem)</td>\n",
       "      <td></td>\n",
       "      <td>Ur III</td>\n",
       "      <td></td>\n",
       "    </tr>\n",
       "    <tr>\n",
       "      <th>208538</th>\n",
       "      <td>Letter</td>\n",
       "      <td>208585</td>\n",
       "      <td>373027</td>\n",
       "      <td>Old Babylonian (ca. 1900-1600 BC)</td>\n",
       "      <td></td>\n",
       "      <td>uncertain (mod. Babylonia)</td>\n",
       "      <td></td>\n",
       "      <td>Old Babylonian</td>\n",
       "      <td></td>\n",
       "    </tr>\n",
       "    <tr>\n",
       "      <th>260319</th>\n",
       "      <td>Royal/Monumental</td>\n",
       "      <td>260368</td>\n",
       "      <td>427722</td>\n",
       "      <td>Neo-Babylonian (ca. 626-539 BC)</td>\n",
       "      <td></td>\n",
       "      <td></td>\n",
       "      <td>witness</td>\n",
       "      <td>Neo-Babylonian</td>\n",
       "      <td></td>\n",
       "    </tr>\n",
       "    <tr>\n",
       "      <th>252381</th>\n",
       "      <td></td>\n",
       "      <td>252430</td>\n",
       "      <td>418649</td>\n",
       "      <td>Neo-Assyrian (ca. 911-612 BC)</td>\n",
       "      <td>600ppi 20160630</td>\n",
       "      <td>Nineveh (mod. Kuyunjik)</td>\n",
       "      <td></td>\n",
       "      <td>Neo-Assyrian</td>\n",
       "      <td></td>\n",
       "    </tr>\n",
       "    <tr>\n",
       "      <th>83339</th>\n",
       "      <td>Administrative</td>\n",
       "      <td>83340</td>\n",
       "      <td>236064</td>\n",
       "      <td>Early Old Babylonian (ca. 2000-1900 BC)</td>\n",
       "      <td></td>\n",
       "      <td>Isin (mod. Bahriyat) ?</td>\n",
       "      <td></td>\n",
       "      <td>Early Old Babylonian</td>\n",
       "      <td></td>\n",
       "    </tr>\n",
       "  </tbody>\n",
       "</table>\n",
       "</div>"
      ],
      "text/plain": [
       "                   genre      id  id_text  \\\n",
       "43473     Administrative   43474   135154   \n",
       "208538            Letter  208585   373027   \n",
       "260319  Royal/Monumental  260368   427722   \n",
       "252381                    252430   418649   \n",
       "83339     Administrative   83340   236064   \n",
       "\n",
       "                                         period         photo_up  \\\n",
       "43473                 Ur III (ca. 2100-2000 BC)  600ppi 20160630   \n",
       "208538        Old Babylonian (ca. 1900-1600 BC)                    \n",
       "260319          Neo-Babylonian (ca. 626-539 BC)                    \n",
       "252381            Neo-Assyrian (ca. 911-612 BC)  600ppi 20160630   \n",
       "83339   Early Old Babylonian (ca. 2000-1900 BC)                    \n",
       "\n",
       "                       provenience subgenre         period_normed era  \n",
       "43473   Puzriš-Dagan (mod. Drehem)                         Ur III      \n",
       "208538  uncertain (mod. Babylonia)                 Old Babylonian      \n",
       "260319                              witness        Neo-Babylonian      \n",
       "252381     Nineveh (mod. Kuyunjik)                   Neo-Assyrian      \n",
       "83339       Isin (mod. Bahriyat) ?           Early Old Babylonian      "
      ]
     },
     "execution_count": 46,
     "metadata": {},
     "output_type": "execute_result"
    }
   ],
   "source": [
    "df.sample(5)"
   ]
  },
  {
   "cell_type": "code",
   "execution_count": 47,
   "id": "998421cc",
   "metadata": {},
   "outputs": [],
   "source": [
    "EARLY_BRONZE = {\n",
    "    'Old Akkadian', 'Ur III',\n",
    "    'ED IIIb', 'Uruk III',\n",
    "    'Proto-Elamite', 'Lagash II',\n",
    "    'Ebla', 'ED IIIa', 'ED I-II',\n",
    "    'Uruk IV', 'Linear Elamite',\n",
    "    'Harappan'\n",
    "    \n",
    "}\n",
    "MID_LATE_BRONZE = {\n",
    "    'Early Old Babylonian',\n",
    "    'Old Babylonian', 'Old Assyrian',\n",
    "    'Middle Babylonian', 'Middle Assyrian',\n",
    "    'Middle Elamite', 'Middle Hittite'\n",
    "}\n",
    "IRON = {\n",
    "    'Neo-Babylonian', 'Neo-Assyrian',\n",
    "    'Achaemenid', 'Hellenistic',\n",
    "    'Neo-Elamite'\n",
    "}"
   ]
  },
  {
   "cell_type": "code",
   "execution_count": 48,
   "id": "5745050d",
   "metadata": {},
   "outputs": [],
   "source": [
    "ERA_MAP = {\n",
    "    **{K: 'early_bronze' for K in EARLY_BRONZE},\n",
    "    **{K: 'mid_late_bronze' for K in MID_LATE_BRONZE},\n",
    "    **{K: 'iron' for K in IRON},\n",
    "}"
   ]
  },
  {
   "cell_type": "code",
   "execution_count": 49,
   "id": "ad6786c7",
   "metadata": {},
   "outputs": [],
   "source": [
    "df['era'] = df.period_normed.map(ERA_MAP).fillna('')"
   ]
  },
  {
   "cell_type": "code",
   "execution_count": 50,
   "id": "e066abc5",
   "metadata": {},
   "outputs": [
    {
     "data": {
      "text/html": [
       "<div>\n",
       "<style scoped>\n",
       "    .dataframe tbody tr th:only-of-type {\n",
       "        vertical-align: middle;\n",
       "    }\n",
       "\n",
       "    .dataframe tbody tr th {\n",
       "        vertical-align: top;\n",
       "    }\n",
       "\n",
       "    .dataframe thead th {\n",
       "        text-align: right;\n",
       "    }\n",
       "</style>\n",
       "<table border=\"1\" class=\"dataframe\">\n",
       "  <thead>\n",
       "    <tr style=\"text-align: right;\">\n",
       "      <th></th>\n",
       "      <th>genre</th>\n",
       "      <th>id</th>\n",
       "      <th>id_text</th>\n",
       "      <th>period</th>\n",
       "      <th>photo_up</th>\n",
       "      <th>provenience</th>\n",
       "      <th>subgenre</th>\n",
       "      <th>period_normed</th>\n",
       "      <th>era</th>\n",
       "    </tr>\n",
       "  </thead>\n",
       "  <tbody>\n",
       "    <tr>\n",
       "      <th>45824</th>\n",
       "      <td>Administrative</td>\n",
       "      <td>45825</td>\n",
       "      <td>137467</td>\n",
       "      <td>Ur III (ca. 2100-2000 BC)</td>\n",
       "      <td></td>\n",
       "      <td>Ur (mod. Tell Muqayyar)</td>\n",
       "      <td></td>\n",
       "      <td>Ur III</td>\n",
       "      <td>early_bronze</td>\n",
       "    </tr>\n",
       "    <tr>\n",
       "      <th>129623</th>\n",
       "      <td></td>\n",
       "      <td>129661</td>\n",
       "      <td>283463</td>\n",
       "      <td>Middle Assyrian (ca. 1400-1000 BC)</td>\n",
       "      <td></td>\n",
       "      <td></td>\n",
       "      <td></td>\n",
       "      <td>Middle Assyrian</td>\n",
       "      <td>mid_late_bronze</td>\n",
       "    </tr>\n",
       "    <tr>\n",
       "      <th>269996</th>\n",
       "      <td></td>\n",
       "      <td>270046</td>\n",
       "      <td>437658</td>\n",
       "      <td>Middle Hittite (ca. 1500-1100 BC)</td>\n",
       "      <td></td>\n",
       "      <td>Ḫattusa (mod. Boğazkale)</td>\n",
       "      <td></td>\n",
       "      <td>Middle Hittite</td>\n",
       "      <td>mid_late_bronze</td>\n",
       "    </tr>\n",
       "    <tr>\n",
       "      <th>229029</th>\n",
       "      <td></td>\n",
       "      <td>229078</td>\n",
       "      <td>394284</td>\n",
       "      <td>Neo-Assyrian (ca. 911-612 BC)</td>\n",
       "      <td>600ppi 20160630</td>\n",
       "      <td>Nineveh (mod. Kuyunjik)</td>\n",
       "      <td></td>\n",
       "      <td>Neo-Assyrian</td>\n",
       "      <td>iron</td>\n",
       "    </tr>\n",
       "    <tr>\n",
       "      <th>322400</th>\n",
       "      <td>Literary</td>\n",
       "      <td>331233</td>\n",
       "      <td>500687</td>\n",
       "      <td>Middle Babylonian (ca. 1400-1100 BC)</td>\n",
       "      <td></td>\n",
       "      <td>Nippur (mod. Nuffar)</td>\n",
       "      <td>Papnigara</td>\n",
       "      <td>Middle Babylonian</td>\n",
       "      <td>mid_late_bronze</td>\n",
       "    </tr>\n",
       "    <tr>\n",
       "      <th>125901</th>\n",
       "      <td>Administrative</td>\n",
       "      <td>125939</td>\n",
       "      <td>279284</td>\n",
       "      <td>Neo-Babylonian (ca. 626-539 BC)</td>\n",
       "      <td>600ppi 20160630</td>\n",
       "      <td>Nippur (mod. Nuffar)</td>\n",
       "      <td></td>\n",
       "      <td>Neo-Babylonian</td>\n",
       "      <td>iron</td>\n",
       "    </tr>\n",
       "    <tr>\n",
       "      <th>59516</th>\n",
       "      <td>Administrative</td>\n",
       "      <td>59517</td>\n",
       "      <td>206592</td>\n",
       "      <td>Ur III (ca. 2100-2000 BC)</td>\n",
       "      <td></td>\n",
       "      <td>Girsu (mod. Tello)</td>\n",
       "      <td></td>\n",
       "      <td>Ur III</td>\n",
       "      <td>early_bronze</td>\n",
       "    </tr>\n",
       "    <tr>\n",
       "      <th>130696</th>\n",
       "      <td>Administrative</td>\n",
       "      <td>130734</td>\n",
       "      <td>285734</td>\n",
       "      <td>Old Babylonian (ca. 1900-1600 BC)</td>\n",
       "      <td></td>\n",
       "      <td>Sippar-Yahrurum (mod. Tell Abu Habbah)</td>\n",
       "      <td>tabular account</td>\n",
       "      <td>Old Babylonian</td>\n",
       "      <td>mid_late_bronze</td>\n",
       "    </tr>\n",
       "    <tr>\n",
       "      <th>28411</th>\n",
       "      <td>Administrative</td>\n",
       "      <td>28412</td>\n",
       "      <td>119759</td>\n",
       "      <td>Ur III (ca. 2100-2000 BC)</td>\n",
       "      <td>600ppi 20160630</td>\n",
       "      <td>Umma (mod. Tell Jokha) ?</td>\n",
       "      <td></td>\n",
       "      <td>Ur III</td>\n",
       "      <td>early_bronze</td>\n",
       "    </tr>\n",
       "    <tr>\n",
       "      <th>329851</th>\n",
       "      <td>Administrative</td>\n",
       "      <td>338685</td>\n",
       "      <td>508177</td>\n",
       "      <td>Old Babylonian (ca. 1900-1600 BC)</td>\n",
       "      <td></td>\n",
       "      <td>Me-Turan (mod. Tell Haddad)</td>\n",
       "      <td></td>\n",
       "      <td>Old Babylonian</td>\n",
       "      <td>mid_late_bronze</td>\n",
       "    </tr>\n",
       "  </tbody>\n",
       "</table>\n",
       "</div>"
      ],
      "text/plain": [
       "                 genre      id  id_text                                period  \\\n",
       "45824   Administrative   45825   137467             Ur III (ca. 2100-2000 BC)   \n",
       "129623                  129661   283463    Middle Assyrian (ca. 1400-1000 BC)   \n",
       "269996                  270046   437658     Middle Hittite (ca. 1500-1100 BC)   \n",
       "229029                  229078   394284         Neo-Assyrian (ca. 911-612 BC)   \n",
       "322400        Literary  331233   500687  Middle Babylonian (ca. 1400-1100 BC)   \n",
       "125901  Administrative  125939   279284       Neo-Babylonian (ca. 626-539 BC)   \n",
       "59516   Administrative   59517   206592             Ur III (ca. 2100-2000 BC)   \n",
       "130696  Administrative  130734   285734     Old Babylonian (ca. 1900-1600 BC)   \n",
       "28411   Administrative   28412   119759             Ur III (ca. 2100-2000 BC)   \n",
       "329851  Administrative  338685   508177     Old Babylonian (ca. 1900-1600 BC)   \n",
       "\n",
       "               photo_up                             provenience  \\\n",
       "45824                                   Ur (mod. Tell Muqayyar)   \n",
       "129623                                                            \n",
       "269996                                 Ḫattusa (mod. Boğazkale)   \n",
       "229029  600ppi 20160630                 Nineveh (mod. Kuyunjik)   \n",
       "322400                                     Nippur (mod. Nuffar)   \n",
       "125901  600ppi 20160630                    Nippur (mod. Nuffar)   \n",
       "59516                                        Girsu (mod. Tello)   \n",
       "130696                   Sippar-Yahrurum (mod. Tell Abu Habbah)   \n",
       "28411   600ppi 20160630                Umma (mod. Tell Jokha) ?   \n",
       "329851                              Me-Turan (mod. Tell Haddad)   \n",
       "\n",
       "               subgenre      period_normed              era  \n",
       "45824                               Ur III     early_bronze  \n",
       "129623                     Middle Assyrian  mid_late_bronze  \n",
       "269996                      Middle Hittite  mid_late_bronze  \n",
       "229029                        Neo-Assyrian             iron  \n",
       "322400        Papnigara  Middle Babylonian  mid_late_bronze  \n",
       "125901                      Neo-Babylonian             iron  \n",
       "59516                               Ur III     early_bronze  \n",
       "130696  tabular account     Old Babylonian  mid_late_bronze  \n",
       "28411                               Ur III     early_bronze  \n",
       "329851                      Old Babylonian  mid_late_bronze  "
      ]
     },
     "execution_count": 50,
     "metadata": {},
     "output_type": "execute_result"
    }
   ],
   "source": [
    "df.sample(10)"
   ]
  },
  {
   "cell_type": "code",
   "execution_count": 51,
   "id": "0e16cefb",
   "metadata": {},
   "outputs": [
    {
     "data": {
      "text/plain": [
       "era\n",
       "early_bronze       150007\n",
       "mid_late_bronze    115104\n",
       "iron                63830\n",
       "                     2232\n",
       "Name: count, dtype: int64"
      ]
     },
     "execution_count": 51,
     "metadata": {},
     "output_type": "execute_result"
    }
   ],
   "source": [
    "df.era.value_counts()"
   ]
  },
  {
   "cell_type": "code",
   "execution_count": 52,
   "id": "c1fd996f",
   "metadata": {},
   "outputs": [
    {
     "data": {
      "text/plain": [
       "49"
      ]
     },
     "execution_count": 52,
     "metadata": {},
     "output_type": "execute_result"
    }
   ],
   "source": [
    "df.period_normed.nunique()"
   ]
  },
  {
   "cell_type": "code",
   "execution_count": 53,
   "id": "3afb4cb1",
   "metadata": {},
   "outputs": [
    {
     "data": {
      "text/plain": [
       "25"
      ]
     },
     "execution_count": 53,
     "metadata": {},
     "output_type": "execute_result"
    }
   ],
   "source": [
    "df.period_normed[df.era == ''].nunique()"
   ]
  },
  {
   "cell_type": "code",
   "execution_count": 54,
   "id": "7ecc84dc",
   "metadata": {},
   "outputs": [
    {
     "data": {
      "text/plain": [
       "period_normed\n",
       "Neo-Babylonian .                     1\n",
       "1200-700 BC                          1\n",
       "Uruk III  - Early Dynastic I-II      1\n",
       "Early Dynastic IIIA                  1\n",
       "ED IIIb  or Old Babylonian           1\n",
       "ED IIIa ; Old Babylonian             1\n",
       "Old Akkadian ; Middle Elamite        1\n",
       "Old Elamite                          1\n",
       "copy                                 1\n",
       "ED IIIb ; Old Akkadian               1\n",
       "ED IIIb ; Ur III                     1\n",
       "Middle Babylonian )                  1\n",
       "Ur III ; Early Old Babylonian        2\n",
       "modern                               8\n",
       "Old Akkadian ; Ur III               14\n",
       "Neo-Babylonian  or Achaemenid       14\n",
       "ED I-II , Old Babylonian            15\n",
       "Parthian                            21\n",
       "Sassanian                           61\n",
       "fake                               184\n",
       "Egyptian 0                         186\n",
       "Pre-Uruk V                         219\n",
       "Early Neo-Babylonian               231\n",
       "Uruk V                             418\n",
       "uncertain                          847\n",
       "Name: count, dtype: int64"
      ]
     },
     "execution_count": 54,
     "metadata": {},
     "output_type": "execute_result"
    }
   ],
   "source": [
    "df.period_normed[df.era == ''].value_counts().sort_values()"
   ]
  },
  {
   "cell_type": "code",
   "execution_count": 65,
   "id": "1b9af636-73f8-469e-8848-d65078909900",
   "metadata": {},
   "outputs": [
    {
     "name": "stderr",
     "output_type": "stream",
     "text": [
      "/home/kapond/.conda/envs/dani_torch/lib/python3.11/site-packages/seaborn/_oldcore.py:1498: FutureWarning: is_categorical_dtype is deprecated and will be removed in a future version. Use isinstance(dtype, CategoricalDtype) instead\n",
      "  if pd.api.types.is_categorical_dtype(vector):\n",
      "/home/kapond/.conda/envs/dani_torch/lib/python3.11/site-packages/seaborn/_oldcore.py:1498: FutureWarning: is_categorical_dtype is deprecated and will be removed in a future version. Use isinstance(dtype, CategoricalDtype) instead\n",
      "  if pd.api.types.is_categorical_dtype(vector):\n",
      "/home/kapond/.conda/envs/dani_torch/lib/python3.11/site-packages/seaborn/_oldcore.py:1498: FutureWarning: is_categorical_dtype is deprecated and will be removed in a future version. Use isinstance(dtype, CategoricalDtype) instead\n",
      "  if pd.api.types.is_categorical_dtype(vector):\n"
     ]
    },
    {
     "data": {
      "image/png": "[encoded data removed]",
      "text/plain": [
       "<Figure size 1000x1000 with 1 Axes>"
      ]
     },
     "metadata": {},
     "output_type": "display_data"
    }
   ],
   "source": [
    "import seaborn as sns\n",
    "import matplotlib.pyplot as plt\n",
    "\n",
    "plt.figure(figsize=(10,10))\n",
    "sns.countplot(y = df.period_normed);"
   ]
  },
  {
   "cell_type": "code",
   "execution_count": 64,
   "id": "ea9151ca",
   "metadata": {},
   "outputs": [],
   "source": [
    "df[df.period_normed != ''].to_csv('output/cdli_catalogue_data_w_provenience.csv', index=False)"
   ]
  },
  {
   "cell_type": "code",
   "execution_count": 1,
   "id": "cb763f64-8e61-4892-92ed-6a3d688c2081",
   "metadata": {},
   "outputs": [
    {
     "name": "stderr",
     "output_type": "stream",
     "text": [
      "/tmp/ipykernel_15462/3017430593.py:2: DtypeWarning: Columns (4) have mixed types. Specify dtype option on import or set low_memory=False.\n",
      "  df = pd.read_csv(\"output/cdli_catalogue_data_w_provenience.csv\")\n"
     ]
    }
   ],
   "source": [
    "df = pd.read_csv(\"output/cdli_catalogue_data_w_provenience.csv\")"
   ]
  },
  {
   "cell_type": "code",
   "execution_count": 3,
   "id": "d9045a49-0eca-471b-b49d-c25c95fbf06d",
   "metadata": {},
   "outputs": [],
   "source": [
    "df_orig = pd.read_csv(\"output/cdli_catalogue_data.csv\")"
   ]
  },
  {
   "cell_type": "code",
   "execution_count": 4,
   "id": "869f2d91-b4c3-44a2-83e1-fc7aae45f0ca",
   "metadata": {},
   "outputs": [
    {
     "data": {
      "text/html": [
       "<div>\n",
       "<style scoped>\n",
       "    .dataframe tbody tr th:only-of-type {\n",
       "        vertical-align: middle;\n",
       "    }\n",
       "\n",
       "    .dataframe tbody tr th {\n",
       "        vertical-align: top;\n",
       "    }\n",
       "\n",
       "    .dataframe thead th {\n",
       "        text-align: right;\n",
       "    }\n",
       "</style>\n",
       "<table border=\"1\" class=\"dataframe\">\n",
       "  <thead>\n",
       "    <tr style=\"text-align: right;\">\n",
       "      <th></th>\n",
       "      <th>genre</th>\n",
       "      <th>id</th>\n",
       "      <th>id_text</th>\n",
       "      <th>period</th>\n",
       "      <th>photo_up</th>\n",
       "      <th>subgenre</th>\n",
       "      <th>period_normed</th>\n",
       "      <th>era</th>\n",
       "    </tr>\n",
       "  </thead>\n",
       "  <tbody>\n",
       "    <tr>\n",
       "      <th>0</th>\n",
       "      <td>Lexical</td>\n",
       "      <td>661</td>\n",
       "      <td>713</td>\n",
       "      <td>Uruk III (ca. 3200-3000 BC)</td>\n",
       "      <td>600ppi 20160630</td>\n",
       "      <td>Archaic Vessels and Garments (witness)</td>\n",
       "      <td>Uruk III</td>\n",
       "      <td>early_bronze</td>\n",
       "    </tr>\n",
       "    <tr>\n",
       "      <th>1</th>\n",
       "      <td>Lexical</td>\n",
       "      <td>662</td>\n",
       "      <td>714</td>\n",
       "      <td>Uruk III (ca. 3200-3000 BC)</td>\n",
       "      <td>600ppi 20160630</td>\n",
       "      <td>Archaic Geography (witness)</td>\n",
       "      <td>Uruk III</td>\n",
       "      <td>early_bronze</td>\n",
       "    </tr>\n",
       "    <tr>\n",
       "      <th>2</th>\n",
       "      <td>Lexical</td>\n",
       "      <td>663</td>\n",
       "      <td>723</td>\n",
       "      <td>ED I-II (ca. 2900-2700 BC)</td>\n",
       "      <td>600ppi 20160630</td>\n",
       "      <td>ED Lu2 A (witness)</td>\n",
       "      <td>ED I-II</td>\n",
       "      <td>early_bronze</td>\n",
       "    </tr>\n",
       "    <tr>\n",
       "      <th>3</th>\n",
       "      <td>Lexical</td>\n",
       "      <td>664</td>\n",
       "      <td>724</td>\n",
       "      <td>ED I-II (ca. 2900-2700 BC)</td>\n",
       "      <td>600ppi 20160913</td>\n",
       "      <td>Archaic Fish (witness)</td>\n",
       "      <td>ED I-II</td>\n",
       "      <td>early_bronze</td>\n",
       "    </tr>\n",
       "    <tr>\n",
       "      <th>4</th>\n",
       "      <td>Lexical</td>\n",
       "      <td>668</td>\n",
       "      <td>728</td>\n",
       "      <td>ED I-II (ca. 2900-2700 BC)</td>\n",
       "      <td>600ppi 20160630</td>\n",
       "      <td>ED Lu2 A (witness)</td>\n",
       "      <td>ED I-II</td>\n",
       "      <td>early_bronze</td>\n",
       "    </tr>\n",
       "    <tr>\n",
       "      <th>...</th>\n",
       "      <td>...</td>\n",
       "      <td>...</td>\n",
       "      <td>...</td>\n",
       "      <td>...</td>\n",
       "      <td>...</td>\n",
       "      <td>...</td>\n",
       "      <td>...</td>\n",
       "      <td>...</td>\n",
       "    </tr>\n",
       "    <tr>\n",
       "      <th>97711</th>\n",
       "      <td>Literary</td>\n",
       "      <td>350226</td>\n",
       "      <td>520348</td>\n",
       "      <td>Old Babylonian (ca. 1900-1600 BC)</td>\n",
       "      <td>600ppi 20160913</td>\n",
       "      <td>ETCSL 5.04.05 Dialogue between Two Women B (wi...</td>\n",
       "      <td>Old Babylonian</td>\n",
       "      <td>mid_late_bronze</td>\n",
       "    </tr>\n",
       "    <tr>\n",
       "      <th>97712</th>\n",
       "      <td>Literary ?</td>\n",
       "      <td>351577</td>\n",
       "      <td>521702</td>\n",
       "      <td>Early Old Babylonian (ca. 2000-1900 BC)</td>\n",
       "      <td>600ppi 20160630</td>\n",
       "      <td>ETCSL 5.04.03 Enkimanšum and Girniisag (witnes...</td>\n",
       "      <td>Early Old Babylonian</td>\n",
       "      <td>mid_late_bronze</td>\n",
       "    </tr>\n",
       "    <tr>\n",
       "      <th>97713</th>\n",
       "      <td>Literary</td>\n",
       "      <td>351578</td>\n",
       "      <td>521703</td>\n",
       "      <td>Old Babylonian (ca. 1900-1600 BC)</td>\n",
       "      <td>600ppi 20160630</td>\n",
       "      <td>ETCSL 5.03.06 Debate between Copper and Silver...</td>\n",
       "      <td>Old Babylonian</td>\n",
       "      <td>mid_late_bronze</td>\n",
       "    </tr>\n",
       "    <tr>\n",
       "      <th>97714</th>\n",
       "      <td>NaN</td>\n",
       "      <td>351692</td>\n",
       "      <td>521818</td>\n",
       "      <td>Middle Assyrian (ca. 1400-1000 BC)</td>\n",
       "      <td>600ppi 20160913</td>\n",
       "      <td>NaN</td>\n",
       "      <td>Middle Assyrian</td>\n",
       "      <td>mid_late_bronze</td>\n",
       "    </tr>\n",
       "    <tr>\n",
       "      <th>97715</th>\n",
       "      <td>Administrative</td>\n",
       "      <td>353591</td>\n",
       "      <td>523758</td>\n",
       "      <td>Ur III (ca. 2100-2000 BC)</td>\n",
       "      <td>600ppi 20160630</td>\n",
       "      <td>NaN</td>\n",
       "      <td>Ur III</td>\n",
       "      <td>early_bronze</td>\n",
       "    </tr>\n",
       "  </tbody>\n",
       "</table>\n",
       "<p>97716 rows × 8 columns</p>\n",
       "</div>"
      ],
      "text/plain": [
       "                genre      id  id_text  \\\n",
       "0             Lexical     661      713   \n",
       "1             Lexical     662      714   \n",
       "2             Lexical     663      723   \n",
       "3             Lexical     664      724   \n",
       "4             Lexical     668      728   \n",
       "...               ...     ...      ...   \n",
       "97711        Literary  350226   520348   \n",
       "97712      Literary ?  351577   521702   \n",
       "97713        Literary  351578   521703   \n",
       "97714             NaN  351692   521818   \n",
       "97715  Administrative  353591   523758   \n",
       "\n",
       "                                        period         photo_up  \\\n",
       "0                  Uruk III (ca. 3200-3000 BC)  600ppi 20160630   \n",
       "1                  Uruk III (ca. 3200-3000 BC)  600ppi 20160630   \n",
       "2                   ED I-II (ca. 2900-2700 BC)  600ppi 20160630   \n",
       "3                   ED I-II (ca. 2900-2700 BC)  600ppi 20160913   \n",
       "4                   ED I-II (ca. 2900-2700 BC)  600ppi 20160630   \n",
       "...                                        ...              ...   \n",
       "97711        Old Babylonian (ca. 1900-1600 BC)  600ppi 20160913   \n",
       "97712  Early Old Babylonian (ca. 2000-1900 BC)  600ppi 20160630   \n",
       "97713        Old Babylonian (ca. 1900-1600 BC)  600ppi 20160630   \n",
       "97714       Middle Assyrian (ca. 1400-1000 BC)  600ppi 20160913   \n",
       "97715                Ur III (ca. 2100-2000 BC)  600ppi 20160630   \n",
       "\n",
       "                                                subgenre  \\\n",
       "0                 Archaic Vessels and Garments (witness)   \n",
       "1                            Archaic Geography (witness)   \n",
       "2                                     ED Lu2 A (witness)   \n",
       "3                                 Archaic Fish (witness)   \n",
       "4                                     ED Lu2 A (witness)   \n",
       "...                                                  ...   \n",
       "97711  ETCSL 5.04.05 Dialogue between Two Women B (wi...   \n",
       "97712  ETCSL 5.04.03 Enkimanšum and Girniisag (witnes...   \n",
       "97713  ETCSL 5.03.06 Debate between Copper and Silver...   \n",
       "97714                                                NaN   \n",
       "97715                                                NaN   \n",
       "\n",
       "              period_normed              era  \n",
       "0                  Uruk III     early_bronze  \n",
       "1                  Uruk III     early_bronze  \n",
       "2                   ED I-II     early_bronze  \n",
       "3                   ED I-II     early_bronze  \n",
       "4                   ED I-II     early_bronze  \n",
       "...                     ...              ...  \n",
       "97711        Old Babylonian  mid_late_bronze  \n",
       "97712  Early Old Babylonian  mid_late_bronze  \n",
       "97713        Old Babylonian  mid_late_bronze  \n",
       "97714       Middle Assyrian  mid_late_bronze  \n",
       "97715                Ur III     early_bronze  \n",
       "\n",
       "[97716 rows x 8 columns]"
      ]
     },
     "execution_count": 4,
     "metadata": {},
     "output_type": "execute_result"
    }
   ],
   "source": [
    "df_orig"
   ]
  },
  {
   "cell_type": "code",
   "execution_count": 5,
   "id": "d9d0b97d-e64c-4297-957a-35131fb46f5f",
   "metadata": {},
   "outputs": [],
   "source": [
    "df_merged_w_prov = df_orig.merge(df[['id_text', 'provenience']], how = 'left', on = \"id_text\")"
   ]
  },
  {
   "cell_type": "code",
   "execution_count": 7,
   "id": "9ccc548e-ad17-430f-a338-7b41a9b6bd7d",
   "metadata": {},
   "outputs": [],
   "source": [
    "import re\n",
    "import unicodedata\n",
    "\n",
    "def normalize_special_characters(text):\n",
    "    text = unicodedata.normalize('NFKD', text)\n",
    "    return ''.join([c for c in text if not unicodedata.combining(c)])\n",
    "\n",
    "df_merged_w_prov['provenience_normed'] = df_merged_w_prov['provenience'].fillna('unknown').str.replace(r'\\s+', ' ', regex=True) \\\n",
    "                                  .str.replace(r'\\?', '', regex=True) \\\n",
    "                                  .str.strip() \\\n",
    "                                  .str.replace(r'\\s+\\)', ')', regex=True) \\\n",
    "                                  .apply(normalize_special_characters)"
   ]
  },
  {
   "cell_type": "code",
   "execution_count": 8,
   "id": "50ad689f-5560-4bd4-a880-7b39c3a7b55e",
   "metadata": {},
   "outputs": [],
   "source": [
    "def extract_relevant_prov(text):\n",
    "    if text.startswith('uncertain'):\n",
    "        # Extracts text within parentheses.\n",
    "        match = re.search(r'\\((.*?)\\)', text)\n",
    "        return match.group(1) if match else text\n",
    "    else:\n",
    "        # Extracts text outside parentheses.\n",
    "        return re.sub(r'\\s*\\(.+?\\)', '', text)\n",
    "\n",
    "df_merged_w_prov['provenience_normed'] = df_merged_w_prov['provenience_normed'].apply(extract_relevant_prov)"
   ]
  },
  {
   "cell_type": "code",
   "execution_count": 22,
   "id": "b57365ec-2a87-4b59-97ab-804deb344f37",
   "metadata": {},
   "outputs": [
    {
     "data": {
      "text/plain": [
       "provenience_normed\n",
       "Nineveh                    22519\n",
       "Nippur                     16883\n",
       "unknown                    15673\n",
       "Umma                       10688\n",
       "Puzris-Dagan                8514\n",
       "Girsu                       4809\n",
       "Ur                          2458\n",
       "Uruk                        1545\n",
       "Kanesh                      1476\n",
       "Assur                       1180\n",
       "Adab                        1092\n",
       "Garsana                      954\n",
       "Gasur/Nuzi                   892\n",
       "Susa                         871\n",
       "Sippar-Yahrurum              719\n",
       "Larsa                        703\n",
       "Nerebtum                     697\n",
       "mod. Babylonia               675\n",
       "Parsa                        627\n",
       "Kish                         580\n",
       "Kalhu                        492\n",
       "Tuttul                       375\n",
       "Suruppak                     363\n",
       "Babili                       274\n",
       "Ebla                         243\n",
       "mod. Beydar                  214\n",
       "Akhetaten                    198\n",
       "Esnunna                      155\n",
       "Borsippa                     148\n",
       "Kar-Tukulti-Ninurta          137\n",
       "mod. Jemdet Nasr             137\n",
       "mod. northern Babylonia      124\n",
       "Alalakh                      120\n",
       "Hattusa                      117\n",
       "Isin                         115\n",
       "Elbonia                       98\n",
       "Sibaniba                      88\n",
       "Tutub                         84\n",
       "Pi-Kasi                       75\n",
       "Irisagrig                     69\n",
       "Ansan                         65\n",
       "Dilbat                        56\n",
       "Zabalam                       54\n",
       "mod. Mugdan/ Umm al-Jir       34\n",
       "Marad                         25\n",
       "Eridu                         25\n",
       "Seleucia                      24\n",
       "mod. Abu Halawa               21\n",
       "Dur-Untas                     19\n",
       "Nagar                         18\n",
       "Lagaba                        15\n",
       "Asnakkum                      14\n",
       "Dur-Kurigalzu                 14\n",
       "mod. Tell Sabaa               12\n",
       "mod. Abu Jawan                11\n",
       "mod. Tell Fakhariyah          10\n",
       "Dur-Abi-esuh                   9\n",
       "Ugarit                         8\n",
       "mod. Diqdiqqah                 6\n",
       "Tarbisu                        6\n",
       "Lagash                         6\n",
       "Kisurra                        4\n",
       "Elammu                         4\n",
       "Du-Enlila                      3\n",
       "Kutha                          3\n",
       "mod. Umm el-Hafriyat           3\n",
       "Dur-Sarrukin                   3\n",
       "Bad-Tibira                     3\n",
       "Bit-zerija                     2\n",
       "Kilizu                         2\n",
       "mod. Pasargadae                2\n",
       "Abdju                          2\n",
       "Surmes                         2\n",
       "mod. Qatibat                   2\n",
       "Tigunanum                      2\n",
       "mod. Tell al-Lahm              2\n",
       "mod. Mesopotamia               2\n",
       "Subat-Enlil                    2\n",
       "mod. Konar Sandal              1\n",
       "Gissi                          1\n",
       "Agamatanu                      1\n",
       "Aqa                            1\n",
       "Kapri-sa-naqidati              1\n",
       "Esura                          1\n",
       "Nahalla                        1\n",
       "Bit-Sahtu                      1\n",
       "mod. Sepphoris                 1\n",
       "Dusabar                        1\n",
       "mod. Tell Sifr                 1\n",
       "Nasir                          1\n",
       "Kumu                           1\n",
       "Kazallu                        1\n",
       "Kapru                          1\n",
       "Hurruba                        1\n",
       "mod. Deh-e-no, Iran            1\n",
       "mod. Za'aleh                   1\n",
       "mod. Tepe Farukhabad           1\n",
       "Hursagkalama                   1\n",
       "Carchemish                     1\n",
       "mod. Ben Shemen, Israel        1\n",
       "Kutalla                        1\n",
       "Der                            1\n",
       "Imgur-Enlil                    1\n",
       "mod. Hillah                    1\n",
       "mod. Uhudu                     1\n",
       "mod. Mahmudiyah                1\n",
       "Terqa                          1\n",
       "Arrapha                        1\n",
       "mod. Tell en-Nasbeh            1\n",
       "mod. Kalah Shergat             1\n",
       "Kar-Nabu                       1\n",
       "Harran                         1\n",
       "mod. Til-Buri                  1\n",
       "Shuruppak                      1\n",
       "mod. Abu Salabikh              1\n",
       "Ma'allanate                    1\n",
       "Kar-Mullissu                   1\n",
       "mod. Naqs-i-Rustam             1\n",
       "Name: count, dtype: int64"
      ]
     },
     "execution_count": 22,
     "metadata": {},
     "output_type": "execute_result"
    }
   ],
   "source": [
    "pd.set_option('display.max_rows', len(df_merged_w_prov))\n",
    "\n",
    "df_merged_w_prov['provenience_normed'].value_counts()"
   ]
  },
  {
   "cell_type": "code",
   "execution_count": 19,
   "id": "e3af6362-f3f6-40d8-bd0c-db0f4f11e7fd",
   "metadata": {},
   "outputs": [],
   "source": [
    "df_merged_w_prov.loc[df_merged_w_prov['provenience_normed']==\"mod. uncertain\",\"provenience_normed\"]=\"unknown\""
   ]
  },
  {
   "cell_type": "code",
   "execution_count": 21,
   "id": "31d4c54c-d4a3-4923-a663-456c54d8ef1c",
   "metadata": {},
   "outputs": [],
   "source": [
    "df_merged_w_prov.to_csv(\"output/cdli_catalogue_data.csv\", index = False)"
   ]
  }
 ],
 "metadata": {
  "kernelspec": {
   "display_name": "Python 3 (ipykernel)",
   "language": "python",
   "name": "python3"
  },
  "language_info": {
   "codemirror_mode": {
    "name": "ipython",
    "version": 3
   },
   "file_extension": ".py",
   "mimetype": "text/x-python",
   "name": "python",
   "nbconvert_exporter": "python",
   "pygments_lexer": "ipython3",
   "version": "3.11.5"
  },
  "latex_envs": {
   "LaTeX_envs_menu_present": true,
   "autoclose": false,
   "autocomplete": true,
   "bibliofile": "biblio.bib",
   "cite_by": "apalike",
   "current_citInitial": 1,
   "eqLabelWithNumbers": true,
   "eqNumInitial": 1,
   "hotkeys": {
    "equation": "Ctrl-E",
    "itemize": "Ctrl-I"
   },
   "labels_anchors": false,
   "latex_user_defs": false,
   "report_style_numbering": false,
   "user_envs_cfg": false
  },
  "toc": {
   "base_numbering": 1,
   "nav_menu": {},
   "number_sections": true,
   "sideBar": true,
   "skip_h1_title": false,
   "title_cell": "Table of Contents",
   "title_sidebar": "Contents",
   "toc_cell": false,
   "toc_position": {},
   "toc_section_display": true,
   "toc_window_display": false
  }
 },
 "nbformat": 4,
 "nbformat_minor": 5
}
