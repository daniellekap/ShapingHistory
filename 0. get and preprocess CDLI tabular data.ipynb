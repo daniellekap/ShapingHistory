{
 "cells": [
  {
   "cell_type": "code",
   "execution_count": 77,
   "id": "e082c7ec",
   "metadata": {},
   "outputs": [],
   "source": [
    "# ! cd cdli; git clone https://github.com/cdli-gh/data"
   ]
  },
  {
   "cell_type": "code",
   "execution_count": 78,
   "id": "8b61ebdb",
   "metadata": {},
   "outputs": [],
   "source": [
    "# ! cd data; git lfs status"
   ]
  },
  {
   "cell_type": "code",
   "execution_count": 79,
   "id": "3ed42d0f",
   "metadata": {},
   "outputs": [],
   "source": [
    "import re\n",
    "import unicodedata\n",
    "\n",
    "import matplotlib.pyplot as plt\n",
    "import pandas as pd\n",
    "import seaborn as sns"
   ]
  },
  {
   "cell_type": "markdown",
   "id": "2ebf0eaf-8699-4351-88e0-fa85bee962d5",
   "metadata": {},
   "source": [
    "# Import Dataset From CDLI and Save it - Run the first time ONLY"
   ]
  },
  {
   "cell_type": "code",
   "execution_count": 80,
   "id": "151724e4",
   "metadata": {},
   "outputs": [],
   "source": [
    "COLS = [\n",
    "    'id_text',\n",
    "    'genre',\n",
    "    'subgenre',\n",
    "    'period',\n",
    "    'provenience',\n",
    "    'id',\n",
    "    'photo_up',\n",
    "    'height',\n",
    "    'width',\n",
    "    'thickness',\n",
    "]"
   ]
  },
  {
   "cell_type": "code",
   "execution_count": 81,
   "id": "fa5232a0-a139-4bcd-8afd-64f23936a99d",
   "metadata": {},
   "outputs": [
    {
     "name": "stderr",
     "output_type": "stream",
     "text": [
      "/tmp/ipykernel_25761/3012391959.py:1: DtypeWarning: Columns (33,46,60,62) have mixed types. Specify dtype option on import or set low_memory=False.\n",
      "  df = pd.read_csv(\"https://media.githubusercontent.com/media/cdli-gh/data/master/cdli_cat.csv\", usecols=COLS)\n"
     ]
    }
   ],
   "source": [
    "df = pd.read_csv(\"https://media.githubusercontent.com/media/cdli-gh/data/master/cdli_cat.csv\", usecols=COLS)"
   ]
  },
  {
   "cell_type": "markdown",
   "id": "455e4317-d6b4-4b20-82b1-f56fca15fb40",
   "metadata": {},
   "source": [
    "## Remove samples with no image"
   ]
  },
  {
   "cell_type": "code",
   "execution_count": 87,
   "id": "ed8bca75",
   "metadata": {},
   "outputs": [],
   "source": [
    "df = df[df.photo_up.notnull()].copy()"
   ]
  },
  {
   "cell_type": "code",
   "execution_count": 84,
   "id": "a1390f3f-e84f-4a9d-8c55-2e66f9bdfb75",
   "metadata": {},
   "outputs": [],
   "source": [
    "df.to_csv('cdli/data/cdli_cat.csv', index=False)"
   ]
  },
  {
   "cell_type": "markdown",
   "id": "78821860-7449-4907-b626-f0d4a88feaa6",
   "metadata": {},
   "source": [
    "# Initial Data Exploration"
   ]
  },
  {
   "cell_type": "code",
   "execution_count": 85,
   "id": "ab8a277b",
   "metadata": {},
   "outputs": [],
   "source": [
    "df = pd.read_csv('cdli/data/cdli_cat.csv', keep_default_na=False, usecols=COLS)"
   ]
  },
  {
   "cell_type": "code",
   "execution_count": 82,
   "id": "119b84bb-9671-4dda-b6da-53407e30e7b7",
   "metadata": {},
   "outputs": [
    {
     "data": {
      "text/plain": [
       "(353283, 10)"
      ]
     },
     "execution_count": 82,
     "metadata": {},
     "output_type": "execute_result"
    }
   ],
   "source": [
    "df.shape"
   ]
  },
  {
   "cell_type": "code",
   "execution_count": 83,
   "id": "5b690237-08fc-47d7-a511-a71456ab6491",
   "metadata": {},
   "outputs": [
    {
     "data": {
      "text/html": [
       "<div>\n",
       "<style scoped>\n",
       "    .dataframe tbody tr th:only-of-type {\n",
       "        vertical-align: middle;\n",
       "    }\n",
       "\n",
       "    .dataframe tbody tr th {\n",
       "        vertical-align: top;\n",
       "    }\n",
       "\n",
       "    .dataframe thead th {\n",
       "        text-align: right;\n",
       "    }\n",
       "</style>\n",
       "<table border=\"1\" class=\"dataframe\">\n",
       "  <thead>\n",
       "    <tr style=\"text-align: right;\">\n",
       "      <th></th>\n",
       "      <th>genre</th>\n",
       "      <th>height</th>\n",
       "      <th>id</th>\n",
       "      <th>id_text</th>\n",
       "      <th>period</th>\n",
       "      <th>photo_up</th>\n",
       "      <th>provenience</th>\n",
       "      <th>subgenre</th>\n",
       "      <th>thickness</th>\n",
       "      <th>width</th>\n",
       "    </tr>\n",
       "  </thead>\n",
       "  <tbody>\n",
       "    <tr>\n",
       "      <th>21428</th>\n",
       "      <td>Administrative</td>\n",
       "      <td>?</td>\n",
       "      <td>21429</td>\n",
       "      <td>112709</td>\n",
       "      <td>Ur III (ca. 2100-2000 BC)</td>\n",
       "      <td>NaN</td>\n",
       "      <td>Umma (mod. Tell Jokha)</td>\n",
       "      <td>NaN</td>\n",
       "      <td>?</td>\n",
       "      <td>?</td>\n",
       "    </tr>\n",
       "    <tr>\n",
       "      <th>232470</th>\n",
       "      <td>NaN</td>\n",
       "      <td>NaN</td>\n",
       "      <td>232519</td>\n",
       "      <td>397859</td>\n",
       "      <td>Neo-Assyrian (ca. 911-612 BC)</td>\n",
       "      <td>600ppi 20160630</td>\n",
       "      <td>Nineveh (mod. Kuyunjik)</td>\n",
       "      <td>NaN</td>\n",
       "      <td>NaN</td>\n",
       "      <td>NaN</td>\n",
       "    </tr>\n",
       "    <tr>\n",
       "      <th>27567</th>\n",
       "      <td>Administrative</td>\n",
       "      <td>?</td>\n",
       "      <td>27568</td>\n",
       "      <td>118911</td>\n",
       "      <td>Ur III (ca. 2100-2000 BC)</td>\n",
       "      <td>NaN</td>\n",
       "      <td>Umma (mod. Tell Jokha)</td>\n",
       "      <td>NaN</td>\n",
       "      <td>?</td>\n",
       "      <td>?</td>\n",
       "    </tr>\n",
       "    <tr>\n",
       "      <th>309374</th>\n",
       "      <td>Administrative</td>\n",
       "      <td>NaN</td>\n",
       "      <td>309431</td>\n",
       "      <td>478239</td>\n",
       "      <td>Old Akkadian (ca. 2340-2200 BC)</td>\n",
       "      <td>NaN</td>\n",
       "      <td>uncertain (mod. uncertain)</td>\n",
       "      <td>physical cylinder seal</td>\n",
       "      <td>NaN</td>\n",
       "      <td>NaN</td>\n",
       "    </tr>\n",
       "    <tr>\n",
       "      <th>137082</th>\n",
       "      <td>Administrative</td>\n",
       "      <td>NaN</td>\n",
       "      <td>137120</td>\n",
       "      <td>294944</td>\n",
       "      <td>Ur III (ca. 2100-2000 BC)</td>\n",
       "      <td>NaN</td>\n",
       "      <td>Umma (mod. Tell Jokha)</td>\n",
       "      <td>NaN</td>\n",
       "      <td>NaN</td>\n",
       "      <td>NaN</td>\n",
       "    </tr>\n",
       "  </tbody>\n",
       "</table>\n",
       "</div>"
      ],
      "text/plain": [
       "                 genre height      id  id_text  \\\n",
       "21428   Administrative      ?   21429   112709   \n",
       "232470             NaN    NaN  232519   397859   \n",
       "27567   Administrative      ?   27568   118911   \n",
       "309374  Administrative    NaN  309431   478239   \n",
       "137082  Administrative    NaN  137120   294944   \n",
       "\n",
       "                                 period         photo_up  \\\n",
       "21428         Ur III (ca. 2100-2000 BC)              NaN   \n",
       "232470    Neo-Assyrian (ca. 911-612 BC)  600ppi 20160630   \n",
       "27567         Ur III (ca. 2100-2000 BC)              NaN   \n",
       "309374  Old Akkadian (ca. 2340-2200 BC)              NaN   \n",
       "137082        Ur III (ca. 2100-2000 BC)              NaN   \n",
       "\n",
       "                       provenience                subgenre thickness width  \n",
       "21428       Umma (mod. Tell Jokha)                     NaN         ?     ?  \n",
       "232470     Nineveh (mod. Kuyunjik)                     NaN       NaN   NaN  \n",
       "27567       Umma (mod. Tell Jokha)                     NaN         ?     ?  \n",
       "309374  uncertain (mod. uncertain)  physical cylinder seal       NaN   NaN  \n",
       "137082      Umma (mod. Tell Jokha)                     NaN       NaN   NaN  "
      ]
     },
     "execution_count": 83,
     "metadata": {},
     "output_type": "execute_result"
    }
   ],
   "source": [
    "df.sample(5)"
   ]
  },
  {
   "cell_type": "markdown",
   "id": "0f4ed031-2c52-40e3-bd16-f27db472f962",
   "metadata": {},
   "source": [
    "# Preprocessing"
   ]
  },
  {
   "cell_type": "markdown",
   "id": "1df5fdaf-59a0-42a6-a544-af5779d51d33",
   "metadata": {},
   "source": [
    "## Preprocess the `period` column and extract the period name and the year range "
   ]
  },
  {
   "cell_type": "code",
   "execution_count": 90,
   "id": "d34c17b1",
   "metadata": {},
   "outputs": [],
   "source": [
    "df[['period_normed', 'year_range']] = df['period'].str.extract(r'([^\\(]+)\\s*\\(ca\\.\\s*([0-9]+-[0-9]+\\s*BC)\\)')\n",
    "df['period_normed'] = df['period_normed'].str.strip()\n",
    "df['year_range'] = df['year_range'].str.strip()\n",
    "\n",
    "df.loc[df['period_normed']=='Middle Hittite', 'period_normed'] = 'Hittite'"
   ]
  },
  {
   "cell_type": "code",
   "execution_count": 91,
   "id": "0aff47b0-030c-449f-a3d4-45a1e4652eaa",
   "metadata": {},
   "outputs": [
    {
     "data": {
      "text/html": [
       "<div>\n",
       "<style scoped>\n",
       "    .dataframe tbody tr th:only-of-type {\n",
       "        vertical-align: middle;\n",
       "    }\n",
       "\n",
       "    .dataframe tbody tr th {\n",
       "        vertical-align: top;\n",
       "    }\n",
       "\n",
       "    .dataframe thead th {\n",
       "        text-align: right;\n",
       "    }\n",
       "</style>\n",
       "<table border=\"1\" class=\"dataframe\">\n",
       "  <thead>\n",
       "    <tr style=\"text-align: right;\">\n",
       "      <th></th>\n",
       "      <th>genre</th>\n",
       "      <th>height</th>\n",
       "      <th>id</th>\n",
       "      <th>id_text</th>\n",
       "      <th>period</th>\n",
       "      <th>photo_up</th>\n",
       "      <th>provenience</th>\n",
       "      <th>subgenre</th>\n",
       "      <th>thickness</th>\n",
       "      <th>width</th>\n",
       "      <th>period_normed</th>\n",
       "      <th>year_range</th>\n",
       "    </tr>\n",
       "  </thead>\n",
       "  <tbody>\n",
       "    <tr>\n",
       "      <th>186738</th>\n",
       "      <td>Lexical</td>\n",
       "      <td></td>\n",
       "      <td>186776</td>\n",
       "      <td>349908</td>\n",
       "      <td></td>\n",
       "      <td></td>\n",
       "      <td>Assur (mod. Qalat Sherqat)</td>\n",
       "      <td>god list</td>\n",
       "      <td></td>\n",
       "      <td></td>\n",
       "      <td>NaN</td>\n",
       "      <td>NaN</td>\n",
       "    </tr>\n",
       "    <tr>\n",
       "      <th>278290</th>\n",
       "      <td></td>\n",
       "      <td></td>\n",
       "      <td>278340</td>\n",
       "      <td>445957</td>\n",
       "      <td>Middle Hittite (ca. 1500-1100 BC)</td>\n",
       "      <td></td>\n",
       "      <td>Ḫattusa (mod. Boğazkale)</td>\n",
       "      <td></td>\n",
       "      <td></td>\n",
       "      <td></td>\n",
       "      <td>Middle Hittite</td>\n",
       "      <td>1500-1100 BC</td>\n",
       "    </tr>\n",
       "    <tr>\n",
       "      <th>298051</th>\n",
       "      <td>Royal/Monumental</td>\n",
       "      <td></td>\n",
       "      <td>298108</td>\n",
       "      <td>466206</td>\n",
       "      <td>Middle Assyrian (ca. 1400-1000 BC)</td>\n",
       "      <td></td>\n",
       "      <td>Assur (mod. Qalat Sherqat)</td>\n",
       "      <td>witness</td>\n",
       "      <td></td>\n",
       "      <td></td>\n",
       "      <td>Middle Assyrian</td>\n",
       "      <td>1400-1000 BC</td>\n",
       "    </tr>\n",
       "    <tr>\n",
       "      <th>125953</th>\n",
       "      <td>Legal</td>\n",
       "      <td>?</td>\n",
       "      <td>125991</td>\n",
       "      <td>279336</td>\n",
       "      <td>Neo-Babylonian (ca. 626-539 BC) ?</td>\n",
       "      <td>600ppi 20160630</td>\n",
       "      <td>Nippur (mod. Nuffar)</td>\n",
       "      <td></td>\n",
       "      <td>?</td>\n",
       "      <td>?</td>\n",
       "      <td>Neo-Babylonian</td>\n",
       "      <td>626-539 BC</td>\n",
       "    </tr>\n",
       "    <tr>\n",
       "      <th>346979</th>\n",
       "      <td>Letter</td>\n",
       "      <td></td>\n",
       "      <td>355814</td>\n",
       "      <td>526019</td>\n",
       "      <td>Old Babylonian (ca. 1900-1600 BC)</td>\n",
       "      <td></td>\n",
       "      <td>Mari (mod. Tell Hariri)</td>\n",
       "      <td></td>\n",
       "      <td></td>\n",
       "      <td></td>\n",
       "      <td>Old Babylonian</td>\n",
       "      <td>1900-1600 BC</td>\n",
       "    </tr>\n",
       "  </tbody>\n",
       "</table>\n",
       "</div>"
      ],
      "text/plain": [
       "                   genre height      id  id_text  \\\n",
       "186738           Lexical         186776   349908   \n",
       "278290                           278340   445957   \n",
       "298051  Royal/Monumental         298108   466206   \n",
       "125953             Legal      ?  125991   279336   \n",
       "346979            Letter         355814   526019   \n",
       "\n",
       "                                    period         photo_up  \\\n",
       "186738                                                        \n",
       "278290   Middle Hittite (ca. 1500-1100 BC)                    \n",
       "298051  Middle Assyrian (ca. 1400-1000 BC)                    \n",
       "125953   Neo-Babylonian (ca. 626-539 BC) ?  600ppi 20160630   \n",
       "346979   Old Babylonian (ca. 1900-1600 BC)                    \n",
       "\n",
       "                       provenience  subgenre thickness width    period_normed  \\\n",
       "186738  Assur (mod. Qalat Sherqat)  god list                              NaN   \n",
       "278290    Ḫattusa (mod. Boğazkale)                             Middle Hittite   \n",
       "298051  Assur (mod. Qalat Sherqat)   witness                  Middle Assyrian   \n",
       "125953        Nippur (mod. Nuffar)                   ?     ?   Neo-Babylonian   \n",
       "346979     Mari (mod. Tell Hariri)                             Old Babylonian   \n",
       "\n",
       "          year_range  \n",
       "186738           NaN  \n",
       "278290  1500-1100 BC  \n",
       "298051  1400-1000 BC  \n",
       "125953    626-539 BC  \n",
       "346979  1900-1600 BC  "
      ]
     },
     "execution_count": 91,
     "metadata": {},
     "output_type": "execute_result"
    }
   ],
   "source": [
    "df.sample(5)"
   ]
  },
  {
   "cell_type": "markdown",
   "id": "acdd6da3-ce7e-4873-8abc-1d857c09d5a1",
   "metadata": {},
   "source": [
    "### Remove samples with no period specified"
   ]
  },
  {
   "cell_type": "code",
   "execution_count": 92,
   "id": "a8a0b178",
   "metadata": {},
   "outputs": [],
   "source": [
    "df = df[df.period_normed.notnull()].copy()"
   ]
  },
  {
   "cell_type": "code",
   "execution_count": 93,
   "id": "c78d0a6c",
   "metadata": {},
   "outputs": [
    {
     "data": {
      "text/plain": [
       "(320368, 12)"
      ]
     },
     "execution_count": 93,
     "metadata": {},
     "output_type": "execute_result"
    }
   ],
   "source": [
    "df.shape"
   ]
  },
  {
   "cell_type": "code",
   "execution_count": 94,
   "id": "35387b08",
   "metadata": {},
   "outputs": [
    {
     "data": {
      "text/html": [
       "<div>\n",
       "<style scoped>\n",
       "    .dataframe tbody tr th:only-of-type {\n",
       "        vertical-align: middle;\n",
       "    }\n",
       "\n",
       "    .dataframe tbody tr th {\n",
       "        vertical-align: top;\n",
       "    }\n",
       "\n",
       "    .dataframe thead th {\n",
       "        text-align: right;\n",
       "    }\n",
       "</style>\n",
       "<table border=\"1\" class=\"dataframe\">\n",
       "  <thead>\n",
       "    <tr style=\"text-align: right;\">\n",
       "      <th></th>\n",
       "      <th>genre</th>\n",
       "      <th>height</th>\n",
       "      <th>id</th>\n",
       "      <th>id_text</th>\n",
       "      <th>period</th>\n",
       "      <th>photo_up</th>\n",
       "      <th>provenience</th>\n",
       "      <th>subgenre</th>\n",
       "      <th>thickness</th>\n",
       "      <th>width</th>\n",
       "      <th>period_normed</th>\n",
       "      <th>year_range</th>\n",
       "    </tr>\n",
       "  </thead>\n",
       "  <tbody>\n",
       "    <tr>\n",
       "      <th>332971</th>\n",
       "      <td>Legal</td>\n",
       "      <td></td>\n",
       "      <td>341806</td>\n",
       "      <td>511312</td>\n",
       "      <td>Old Babylonian (ca. 1900-1600 BC)</td>\n",
       "      <td></td>\n",
       "      <td>Tutub (mod. Khafaje)</td>\n",
       "      <td></td>\n",
       "      <td></td>\n",
       "      <td></td>\n",
       "      <td>Old Babylonian</td>\n",
       "      <td>1900-1600 BC</td>\n",
       "    </tr>\n",
       "    <tr>\n",
       "      <th>320614</th>\n",
       "      <td>Legal</td>\n",
       "      <td></td>\n",
       "      <td>329424</td>\n",
       "      <td>498846</td>\n",
       "      <td>Old Assyrian (ca. 1950-1850 BC)</td>\n",
       "      <td></td>\n",
       "      <td>Kanesh (mod. Kültepe)</td>\n",
       "      <td></td>\n",
       "      <td></td>\n",
       "      <td></td>\n",
       "      <td>Old Assyrian</td>\n",
       "      <td>1950-1850 BC</td>\n",
       "    </tr>\n",
       "    <tr>\n",
       "      <th>335110</th>\n",
       "      <td>Royal/Monumental</td>\n",
       "      <td>128</td>\n",
       "      <td>343945</td>\n",
       "      <td>513484</td>\n",
       "      <td>Lagash II (ca. 2200-2100 BC)</td>\n",
       "      <td></td>\n",
       "      <td>uncertain (mod. uncertain)</td>\n",
       "      <td>witness</td>\n",
       "      <td>81</td>\n",
       "      <td>171</td>\n",
       "      <td>Lagash II</td>\n",
       "      <td>2200-2100 BC</td>\n",
       "    </tr>\n",
       "    <tr>\n",
       "      <th>207377</th>\n",
       "      <td></td>\n",
       "      <td></td>\n",
       "      <td>207424</td>\n",
       "      <td>371811</td>\n",
       "      <td>Neo-Babylonian (ca. 626-539 BC)</td>\n",
       "      <td></td>\n",
       "      <td></td>\n",
       "      <td></td>\n",
       "      <td></td>\n",
       "      <td></td>\n",
       "      <td>Neo-Babylonian</td>\n",
       "      <td>626-539 BC</td>\n",
       "    </tr>\n",
       "    <tr>\n",
       "      <th>275916</th>\n",
       "      <td></td>\n",
       "      <td></td>\n",
       "      <td>275966</td>\n",
       "      <td>443583</td>\n",
       "      <td>Middle Hittite (ca. 1500-1100 BC)</td>\n",
       "      <td></td>\n",
       "      <td>Ḫattusa (mod. Boğazkale)</td>\n",
       "      <td></td>\n",
       "      <td></td>\n",
       "      <td></td>\n",
       "      <td>Middle Hittite</td>\n",
       "      <td>1500-1100 BC</td>\n",
       "    </tr>\n",
       "  </tbody>\n",
       "</table>\n",
       "</div>"
      ],
      "text/plain": [
       "                   genre height      id  id_text  \\\n",
       "332971             Legal         341806   511312   \n",
       "320614             Legal         329424   498846   \n",
       "335110  Royal/Monumental    128  343945   513484   \n",
       "207377                           207424   371811   \n",
       "275916                           275966   443583   \n",
       "\n",
       "                                   period photo_up  \\\n",
       "332971  Old Babylonian (ca. 1900-1600 BC)            \n",
       "320614    Old Assyrian (ca. 1950-1850 BC)            \n",
       "335110       Lagash II (ca. 2200-2100 BC)            \n",
       "207377    Neo-Babylonian (ca. 626-539 BC)            \n",
       "275916  Middle Hittite (ca. 1500-1100 BC)            \n",
       "\n",
       "                       provenience subgenre thickness width   period_normed  \\\n",
       "332971        Tutub (mod. Khafaje)                           Old Babylonian   \n",
       "320614       Kanesh (mod. Kültepe)                             Old Assyrian   \n",
       "335110  uncertain (mod. uncertain)  witness        81   171       Lagash II   \n",
       "207377                                                       Neo-Babylonian   \n",
       "275916    Ḫattusa (mod. Boğazkale)                           Middle Hittite   \n",
       "\n",
       "          year_range  \n",
       "332971  1900-1600 BC  \n",
       "320614  1950-1850 BC  \n",
       "335110  2200-2100 BC  \n",
       "207377    626-539 BC  \n",
       "275916  1500-1100 BC  "
      ]
     },
     "execution_count": 94,
     "metadata": {},
     "output_type": "execute_result"
    }
   ],
   "source": [
    "df.sample(5)"
   ]
  },
  {
   "cell_type": "code",
   "execution_count": 103,
   "id": "1b9af636-73f8-469e-8848-d65078909900",
   "metadata": {},
   "outputs": [
    {
     "name": "stderr",
     "output_type": "stream",
     "text": [
      "/home/kapond/.conda/envs/dani_torch/lib/python3.11/site-packages/seaborn/_oldcore.py:1498: FutureWarning: is_categorical_dtype is deprecated and will be removed in a future version. Use isinstance(dtype, CategoricalDtype) instead\n",
      "  if pd.api.types.is_categorical_dtype(vector):\n",
      "/home/kapond/.conda/envs/dani_torch/lib/python3.11/site-packages/seaborn/_oldcore.py:1498: FutureWarning: is_categorical_dtype is deprecated and will be removed in a future version. Use isinstance(dtype, CategoricalDtype) instead\n",
      "  if pd.api.types.is_categorical_dtype(vector):\n",
      "/home/kapond/.conda/envs/dani_torch/lib/python3.11/site-packages/seaborn/_oldcore.py:1498: FutureWarning: is_categorical_dtype is deprecated and will be removed in a future version. Use isinstance(dtype, CategoricalDtype) instead\n",
      "  if pd.api.types.is_categorical_dtype(vector):\n"
     ]
    },
    {
     "data": {
      "image/png": "[encoded data removed]",
      "text/plain": [
       "<Figure size 1000x1000 with 1 Axes>"
      ]
     },
     "metadata": {},
     "output_type": "display_data"
    }
   ],
   "source": [
    "plt.figure(figsize=(10,10))\n",
    "sns.countplot(y = df.period_normed);"
   ]
  },
  {
   "cell_type": "markdown",
   "id": "ba5e475a-315b-47c9-9e33-98586fc9077c",
   "metadata": {},
   "source": [
    "## Map periods to eras"
   ]
  },
  {
   "cell_type": "code",
   "execution_count": 95,
   "id": "998421cc",
   "metadata": {},
   "outputs": [],
   "source": [
    "EARLY_BRONZE = {\n",
    "    'Old Akkadian', 'Ur III',\n",
    "    'ED IIIb', 'Uruk III',\n",
    "    'Proto-Elamite', 'Lagash II',\n",
    "    'Ebla', 'ED IIIa', 'ED I-II',\n",
    "    'Uruk IV', 'Linear Elamite',\n",
    "    'Harappan'\n",
    "    \n",
    "}\n",
    "MID_LATE_BRONZE = {\n",
    "    'Early Old Babylonian',\n",
    "    'Old Babylonian', 'Old Assyrian',\n",
    "    'Middle Babylonian', 'Middle Assyrian',\n",
    "    'Middle Elamite', 'Hittite'\n",
    "}\n",
    "IRON = {\n",
    "    'Neo-Babylonian', 'Neo-Assyrian',\n",
    "    'Achaemenid', 'Hellenistic',\n",
    "    'Neo-Elamite'\n",
    "}"
   ]
  },
  {
   "cell_type": "code",
   "execution_count": 96,
   "id": "5745050d",
   "metadata": {},
   "outputs": [],
   "source": [
    "ERA_MAP = {\n",
    "    **{K: 'early_bronze' for K in EARLY_BRONZE},\n",
    "    **{K: 'mid_late_bronze' for K in MID_LATE_BRONZE},\n",
    "    **{K: 'iron' for K in IRON},\n",
    "}"
   ]
  },
  {
   "cell_type": "markdown",
   "id": "54cb553b-9302-47c9-9479-f5b78141c22a",
   "metadata": {},
   "source": [
    "### Explore the `era` column"
   ]
  },
  {
   "cell_type": "code",
   "execution_count": 97,
   "id": "ad6786c7",
   "metadata": {},
   "outputs": [],
   "source": [
    "df['era'] = df.period_normed.map(ERA_MAP).fillna('')"
   ]
  },
  {
   "cell_type": "code",
   "execution_count": 98,
   "id": "e066abc5",
   "metadata": {},
   "outputs": [
    {
     "data": {
      "text/html": [
       "<div>\n",
       "<style scoped>\n",
       "    .dataframe tbody tr th:only-of-type {\n",
       "        vertical-align: middle;\n",
       "    }\n",
       "\n",
       "    .dataframe tbody tr th {\n",
       "        vertical-align: top;\n",
       "    }\n",
       "\n",
       "    .dataframe thead th {\n",
       "        text-align: right;\n",
       "    }\n",
       "</style>\n",
       "<table border=\"1\" class=\"dataframe\">\n",
       "  <thead>\n",
       "    <tr style=\"text-align: right;\">\n",
       "      <th></th>\n",
       "      <th>genre</th>\n",
       "      <th>height</th>\n",
       "      <th>id</th>\n",
       "      <th>id_text</th>\n",
       "      <th>period</th>\n",
       "      <th>photo_up</th>\n",
       "      <th>provenience</th>\n",
       "      <th>subgenre</th>\n",
       "      <th>thickness</th>\n",
       "      <th>width</th>\n",
       "      <th>period_normed</th>\n",
       "      <th>year_range</th>\n",
       "      <th>era</th>\n",
       "    </tr>\n",
       "  </thead>\n",
       "  <tbody>\n",
       "    <tr>\n",
       "      <th>277708</th>\n",
       "      <td></td>\n",
       "      <td></td>\n",
       "      <td>277758</td>\n",
       "      <td>445375</td>\n",
       "      <td>Middle Hittite (ca. 1500-1100 BC)</td>\n",
       "      <td></td>\n",
       "      <td>Ḫattusa (mod. Boğazkale)</td>\n",
       "      <td></td>\n",
       "      <td></td>\n",
       "      <td></td>\n",
       "      <td>Middle Hittite</td>\n",
       "      <td>1500-1100 BC</td>\n",
       "      <td>mid_late_bronze</td>\n",
       "    </tr>\n",
       "    <tr>\n",
       "      <th>199757</th>\n",
       "      <td>uncertain</td>\n",
       "      <td></td>\n",
       "      <td>199795</td>\n",
       "      <td>363483</td>\n",
       "      <td>Neo-Assyrian (ca. 911-612 BC)</td>\n",
       "      <td></td>\n",
       "      <td>Kalhu (mod. Nimrud)</td>\n",
       "      <td></td>\n",
       "      <td></td>\n",
       "      <td></td>\n",
       "      <td>Neo-Assyrian</td>\n",
       "      <td>911-612 BC</td>\n",
       "      <td>iron</td>\n",
       "    </tr>\n",
       "    <tr>\n",
       "      <th>196814</th>\n",
       "      <td></td>\n",
       "      <td></td>\n",
       "      <td>196852</td>\n",
       "      <td>360459</td>\n",
       "      <td>Old Assyrian (ca. 1950-1850 BC)</td>\n",
       "      <td></td>\n",
       "      <td>Kanesh (mod. Kültepe)</td>\n",
       "      <td></td>\n",
       "      <td></td>\n",
       "      <td></td>\n",
       "      <td>Old Assyrian</td>\n",
       "      <td>1950-1850 BC</td>\n",
       "      <td>mid_late_bronze</td>\n",
       "    </tr>\n",
       "    <tr>\n",
       "      <th>275788</th>\n",
       "      <td></td>\n",
       "      <td></td>\n",
       "      <td>275838</td>\n",
       "      <td>443455</td>\n",
       "      <td>Middle Hittite (ca. 1500-1100 BC)</td>\n",
       "      <td></td>\n",
       "      <td>Ḫattusa (mod. Boğazkale)</td>\n",
       "      <td></td>\n",
       "      <td></td>\n",
       "      <td></td>\n",
       "      <td>Middle Hittite</td>\n",
       "      <td>1500-1100 BC</td>\n",
       "      <td>mid_late_bronze</td>\n",
       "    </tr>\n",
       "    <tr>\n",
       "      <th>104780</th>\n",
       "      <td>Legal</td>\n",
       "      <td>?</td>\n",
       "      <td>104782</td>\n",
       "      <td>255218</td>\n",
       "      <td>Old Babylonian (ca. 1900-1600 BC)</td>\n",
       "      <td>600ppi 20160630</td>\n",
       "      <td>Nippur (mod. Nuffar)</td>\n",
       "      <td></td>\n",
       "      <td>?</td>\n",
       "      <td>?</td>\n",
       "      <td>Old Babylonian</td>\n",
       "      <td>1900-1600 BC</td>\n",
       "      <td>mid_late_bronze</td>\n",
       "    </tr>\n",
       "    <tr>\n",
       "      <th>270094</th>\n",
       "      <td></td>\n",
       "      <td></td>\n",
       "      <td>270144</td>\n",
       "      <td>437756</td>\n",
       "      <td>Middle Hittite (ca. 1500-1100 BC)</td>\n",
       "      <td></td>\n",
       "      <td>Ḫattusa (mod. Boğazkale)</td>\n",
       "      <td></td>\n",
       "      <td></td>\n",
       "      <td></td>\n",
       "      <td>Middle Hittite</td>\n",
       "      <td>1500-1100 BC</td>\n",
       "      <td>mid_late_bronze</td>\n",
       "    </tr>\n",
       "    <tr>\n",
       "      <th>97717</th>\n",
       "      <td>Administrative</td>\n",
       "      <td>34</td>\n",
       "      <td>97719</td>\n",
       "      <td>247918</td>\n",
       "      <td>Old Babylonian (ca. 1900-1600 BC)</td>\n",
       "      <td>600ppi 20160630</td>\n",
       "      <td>Tutub (mod. Khafaje)</td>\n",
       "      <td></td>\n",
       "      <td>17</td>\n",
       "      <td>33</td>\n",
       "      <td>Old Babylonian</td>\n",
       "      <td>1900-1600 BC</td>\n",
       "      <td>mid_late_bronze</td>\n",
       "    </tr>\n",
       "    <tr>\n",
       "      <th>138958</th>\n",
       "      <td>Administrative</td>\n",
       "      <td>36</td>\n",
       "      <td>138996</td>\n",
       "      <td>296859</td>\n",
       "      <td>Old Babylonian (ca. 1900-1600 BC)</td>\n",
       "      <td></td>\n",
       "      <td></td>\n",
       "      <td></td>\n",
       "      <td>24</td>\n",
       "      <td>34</td>\n",
       "      <td>Old Babylonian</td>\n",
       "      <td>1900-1600 BC</td>\n",
       "      <td>mid_late_bronze</td>\n",
       "    </tr>\n",
       "    <tr>\n",
       "      <th>14729</th>\n",
       "      <td>Administrative</td>\n",
       "      <td>?</td>\n",
       "      <td>14730</td>\n",
       "      <td>105863</td>\n",
       "      <td>Ur III (ca. 2100-2000 BC)</td>\n",
       "      <td></td>\n",
       "      <td>Puzriš-Dagan (mod. Drehem)</td>\n",
       "      <td></td>\n",
       "      <td>?</td>\n",
       "      <td>?</td>\n",
       "      <td>Ur III</td>\n",
       "      <td>2100-2000 BC</td>\n",
       "      <td>early_bronze</td>\n",
       "    </tr>\n",
       "    <tr>\n",
       "      <th>26365</th>\n",
       "      <td>Letter</td>\n",
       "      <td>?</td>\n",
       "      <td>26366</td>\n",
       "      <td>117704</td>\n",
       "      <td>Ur III (ca. 2100-2000 BC)</td>\n",
       "      <td></td>\n",
       "      <td>Umma (mod. Tell Jokha)</td>\n",
       "      <td></td>\n",
       "      <td>?</td>\n",
       "      <td>?</td>\n",
       "      <td>Ur III</td>\n",
       "      <td>2100-2000 BC</td>\n",
       "      <td>early_bronze</td>\n",
       "    </tr>\n",
       "  </tbody>\n",
       "</table>\n",
       "</div>"
      ],
      "text/plain": [
       "                 genre height      id  id_text  \\\n",
       "277708                         277758   445375   \n",
       "199757       uncertain         199795   363483   \n",
       "196814                         196852   360459   \n",
       "275788                         275838   443455   \n",
       "104780           Legal      ?  104782   255218   \n",
       "270094                         270144   437756   \n",
       "97717   Administrative     34   97719   247918   \n",
       "138958  Administrative     36  138996   296859   \n",
       "14729   Administrative      ?   14730   105863   \n",
       "26365           Letter      ?   26366   117704   \n",
       "\n",
       "                                   period         photo_up  \\\n",
       "277708  Middle Hittite (ca. 1500-1100 BC)                    \n",
       "199757      Neo-Assyrian (ca. 911-612 BC)                    \n",
       "196814    Old Assyrian (ca. 1950-1850 BC)                    \n",
       "275788  Middle Hittite (ca. 1500-1100 BC)                    \n",
       "104780  Old Babylonian (ca. 1900-1600 BC)  600ppi 20160630   \n",
       "270094  Middle Hittite (ca. 1500-1100 BC)                    \n",
       "97717   Old Babylonian (ca. 1900-1600 BC)  600ppi 20160630   \n",
       "138958  Old Babylonian (ca. 1900-1600 BC)                    \n",
       "14729           Ur III (ca. 2100-2000 BC)                    \n",
       "26365           Ur III (ca. 2100-2000 BC)                    \n",
       "\n",
       "                       provenience subgenre thickness width   period_normed  \\\n",
       "277708    Ḫattusa (mod. Boğazkale)                           Middle Hittite   \n",
       "199757         Kalhu (mod. Nimrud)                             Neo-Assyrian   \n",
       "196814       Kanesh (mod. Kültepe)                             Old Assyrian   \n",
       "275788    Ḫattusa (mod. Boğazkale)                           Middle Hittite   \n",
       "104780        Nippur (mod. Nuffar)                  ?     ?  Old Babylonian   \n",
       "270094    Ḫattusa (mod. Boğazkale)                           Middle Hittite   \n",
       "97717         Tutub (mod. Khafaje)                 17    33  Old Babylonian   \n",
       "138958                                             24    34  Old Babylonian   \n",
       "14729   Puzriš-Dagan (mod. Drehem)                  ?     ?          Ur III   \n",
       "26365       Umma (mod. Tell Jokha)                  ?     ?          Ur III   \n",
       "\n",
       "          year_range              era  \n",
       "277708  1500-1100 BC  mid_late_bronze  \n",
       "199757    911-612 BC             iron  \n",
       "196814  1950-1850 BC  mid_late_bronze  \n",
       "275788  1500-1100 BC  mid_late_bronze  \n",
       "104780  1900-1600 BC  mid_late_bronze  \n",
       "270094  1500-1100 BC  mid_late_bronze  \n",
       "97717   1900-1600 BC  mid_late_bronze  \n",
       "138958  1900-1600 BC  mid_late_bronze  \n",
       "14729   2100-2000 BC     early_bronze  \n",
       "26365   2100-2000 BC     early_bronze  "
      ]
     },
     "execution_count": 98,
     "metadata": {},
     "output_type": "execute_result"
    }
   ],
   "source": [
    "df.sample(10)"
   ]
  },
  {
   "cell_type": "code",
   "execution_count": 99,
   "id": "0e16cefb",
   "metadata": {},
   "outputs": [
    {
     "data": {
      "text/plain": [
       "era\n",
       "early_bronze       150003\n",
       "mid_late_bronze    115099\n",
       "iron                54211\n",
       "                     1055\n",
       "Name: count, dtype: int64"
      ]
     },
     "execution_count": 99,
     "metadata": {},
     "output_type": "execute_result"
    }
   ],
   "source": [
    "df.era.value_counts(dropna=False)"
   ]
  },
  {
   "cell_type": "code",
   "execution_count": 100,
   "id": "c1fd996f",
   "metadata": {},
   "outputs": [
    {
     "data": {
      "text/plain": [
       "26"
      ]
     },
     "execution_count": 100,
     "metadata": {},
     "output_type": "execute_result"
    }
   ],
   "source": [
    "df.period_normed.nunique()"
   ]
  },
  {
   "cell_type": "code",
   "execution_count": 101,
   "id": "3afb4cb1",
   "metadata": {},
   "outputs": [
    {
     "data": {
      "text/plain": [
       "5"
      ]
     },
     "execution_count": 101,
     "metadata": {},
     "output_type": "execute_result"
    }
   ],
   "source": [
    "df.period_normed[df.era == ''].nunique()"
   ]
  },
  {
   "cell_type": "code",
   "execution_count": 102,
   "id": "7ecc84dc",
   "metadata": {},
   "outputs": [
    {
     "data": {
      "text/plain": [
       "period_normed\n",
       "Old Elamite               1\n",
       "Egyptian 0              186\n",
       "Pre-Uruk V              219\n",
       "Early Neo-Babylonian    231\n",
       "Uruk V                  418\n",
       "Name: count, dtype: int64"
      ]
     },
     "execution_count": 102,
     "metadata": {},
     "output_type": "execute_result"
    }
   ],
   "source": [
    "df.period_normed[df.era == ''].value_counts().sort_values()"
   ]
  },
  {
   "cell_type": "markdown",
   "id": "9d621573-1723-4f4a-85d6-ad72f76cda10",
   "metadata": {},
   "source": [
    "## Remove samples with no era or period"
   ]
  },
  {
   "cell_type": "code",
   "execution_count": 104,
   "id": "ea9151ca",
   "metadata": {},
   "outputs": [],
   "source": [
    "df = df[(df.era != '')&(df.period_normed != '')&(df.period_normed.notnull())]"
   ]
  },
  {
   "cell_type": "markdown",
   "id": "1df73ee8-dc04-4c9c-9a61-2c9672f9d8c7",
   "metadata": {},
   "source": [
    "## Preprocess the provenience column"
   ]
  },
  {
   "cell_type": "code",
   "execution_count": 115,
   "id": "9ccc548e-ad17-430f-a338-7b41a9b6bd7d",
   "metadata": {},
   "outputs": [],
   "source": [
    "def normalize_special_characters(text):\n",
    "    text = unicodedata.normalize('NFKD', text)\n",
    "    return ''.join([c for c in text if not unicodedata.combining(c)])\n",
    "\n",
    "df['provenience_normed'] = df['provenience'].fillna('unknown').str.replace(r'\\s+', ' ', regex=True) \\\n",
    "                                  .str.replace(r'\\?', '', regex=True) \\\n",
    "                                  .str.strip() \\\n",
    "                                  .str.replace(r'\\s+\\)', ')', regex=True) \\\n",
    "                                  .apply(normalize_special_characters)"
   ]
  },
  {
   "cell_type": "code",
   "execution_count": 116,
   "id": "50ad689f-5560-4bd4-a880-7b39c3a7b55e",
   "metadata": {},
   "outputs": [],
   "source": [
    "def extract_relevant_prov(text):\n",
    "    if text.startswith('uncertain'):\n",
    "        # Extracts text within parentheses.\n",
    "        match = re.search(r'\\((.*?)\\)', text)\n",
    "        return match.group(1) if match else text\n",
    "    else:\n",
    "        # Extracts text outside parentheses.\n",
    "        return re.sub(r'\\s*\\(.+?\\)', '', text)\n",
    "\n",
    "df['provenience_normed'] = df['provenience_normed'].apply(extract_relevant_prov)"
   ]
  },
  {
   "cell_type": "code",
   "execution_count": 118,
   "id": "639eb2b5-0c44-47fd-af65-555bf5384f33",
   "metadata": {},
   "outputs": [
    {
     "data": {
      "text/html": [
       "<div>\n",
       "<style scoped>\n",
       "    .dataframe tbody tr th:only-of-type {\n",
       "        vertical-align: middle;\n",
       "    }\n",
       "\n",
       "    .dataframe tbody tr th {\n",
       "        vertical-align: top;\n",
       "    }\n",
       "\n",
       "    .dataframe thead th {\n",
       "        text-align: right;\n",
       "    }\n",
       "</style>\n",
       "<table border=\"1\" class=\"dataframe\">\n",
       "  <thead>\n",
       "    <tr style=\"text-align: right;\">\n",
       "      <th></th>\n",
       "      <th>genre</th>\n",
       "      <th>id</th>\n",
       "      <th>id_text</th>\n",
       "      <th>period</th>\n",
       "      <th>photo_up</th>\n",
       "      <th>subgenre</th>\n",
       "      <th>period_normed</th>\n",
       "      <th>era</th>\n",
       "      <th>provenience_normed</th>\n",
       "      <th>height</th>\n",
       "      <th>width</th>\n",
       "      <th>thickness</th>\n",
       "      <th>year_range</th>\n",
       "      <th>provenience</th>\n",
       "    </tr>\n",
       "  </thead>\n",
       "  <tbody>\n",
       "    <tr>\n",
       "      <th>58133</th>\n",
       "      <td>Omen</td>\n",
       "      <td>173770</td>\n",
       "      <td>336484</td>\n",
       "      <td>Neo-Assyrian (ca. 911-612 BC)</td>\n",
       "      <td>600ppi 20160630</td>\n",
       "      <td>NaN</td>\n",
       "      <td>Neo-Assyrian</td>\n",
       "      <td>iron</td>\n",
       "      <td>Nineveh</td>\n",
       "      <td>NaN</td>\n",
       "      <td>NaN</td>\n",
       "      <td>NaN</td>\n",
       "      <td>911-612 BC</td>\n",
       "      <td>Nineveh (mod. Kuyunjik)</td>\n",
       "    </tr>\n",
       "    <tr>\n",
       "      <th>23292</th>\n",
       "      <td>Administrative</td>\n",
       "      <td>70675</td>\n",
       "      <td>221948</td>\n",
       "      <td>ED IIIb (ca. 2500-2340 BC)</td>\n",
       "      <td>600ppi 20160630</td>\n",
       "      <td>NaN</td>\n",
       "      <td>ED IIIb</td>\n",
       "      <td>early_bronze</td>\n",
       "      <td>Girsu</td>\n",
       "      <td>?</td>\n",
       "      <td>?</td>\n",
       "      <td>?</td>\n",
       "      <td>2500-2340 BC</td>\n",
       "      <td>Girsu (mod. Tello)</td>\n",
       "    </tr>\n",
       "    <tr>\n",
       "      <th>37338</th>\n",
       "      <td>Administrative</td>\n",
       "      <td>105487</td>\n",
       "      <td>255944</td>\n",
       "      <td>Middle Babylonian (ca. 1400-1100 BC)</td>\n",
       "      <td>600ppi 20160630</td>\n",
       "      <td>NaN</td>\n",
       "      <td>Middle Babylonian</td>\n",
       "      <td>mid_late_bronze</td>\n",
       "      <td>Nippur</td>\n",
       "      <td>?</td>\n",
       "      <td>?</td>\n",
       "      <td>?</td>\n",
       "      <td>1400-1100 BC</td>\n",
       "      <td>Nippur (mod. Nuffar)</td>\n",
       "    </tr>\n",
       "    <tr>\n",
       "      <th>81903</th>\n",
       "      <td>Omen</td>\n",
       "      <td>248530</td>\n",
       "      <td>414242</td>\n",
       "      <td>Neo-Babylonian (ca. 626-539 BC) ?</td>\n",
       "      <td>600ppi 20160630</td>\n",
       "      <td>EAE Venus F</td>\n",
       "      <td>Neo-Babylonian</td>\n",
       "      <td>iron</td>\n",
       "      <td>Uruk</td>\n",
       "      <td>NaN</td>\n",
       "      <td>NaN</td>\n",
       "      <td>NaN</td>\n",
       "      <td>626-539 BC</td>\n",
       "      <td>Uruk (mod. Warka)</td>\n",
       "    </tr>\n",
       "    <tr>\n",
       "      <th>64621</th>\n",
       "      <td>Administrative</td>\n",
       "      <td>217786</td>\n",
       "      <td>382399</td>\n",
       "      <td>Old Akkadian (ca. 2340-2200 BC)</td>\n",
       "      <td>600ppi 20160630</td>\n",
       "      <td>NaN</td>\n",
       "      <td>Old Akkadian</td>\n",
       "      <td>early_bronze</td>\n",
       "      <td>Adab</td>\n",
       "      <td>NaN</td>\n",
       "      <td>NaN</td>\n",
       "      <td>NaN</td>\n",
       "      <td>2340-2200 BC</td>\n",
       "      <td>Adab (mod. Bismaya)</td>\n",
       "    </tr>\n",
       "  </tbody>\n",
       "</table>\n",
       "</div>"
      ],
      "text/plain": [
       "                genre      id  id_text                                period  \\\n",
       "58133            Omen  173770   336484         Neo-Assyrian (ca. 911-612 BC)   \n",
       "23292  Administrative   70675   221948            ED IIIb (ca. 2500-2340 BC)   \n",
       "37338  Administrative  105487   255944  Middle Babylonian (ca. 1400-1100 BC)   \n",
       "81903            Omen  248530   414242     Neo-Babylonian (ca. 626-539 BC) ?   \n",
       "64621  Administrative  217786   382399       Old Akkadian (ca. 2340-2200 BC)   \n",
       "\n",
       "              photo_up     subgenre      period_normed              era  \\\n",
       "58133  600ppi 20160630          NaN       Neo-Assyrian             iron   \n",
       "23292  600ppi 20160630          NaN            ED IIIb     early_bronze   \n",
       "37338  600ppi 20160630          NaN  Middle Babylonian  mid_late_bronze   \n",
       "81903  600ppi 20160630  EAE Venus F     Neo-Babylonian             iron   \n",
       "64621  600ppi 20160630          NaN       Old Akkadian     early_bronze   \n",
       "\n",
       "      provenience_normed height width thickness    year_range  \\\n",
       "58133            Nineveh    NaN   NaN       NaN    911-612 BC   \n",
       "23292              Girsu      ?     ?         ?  2500-2340 BC   \n",
       "37338             Nippur      ?     ?         ?  1400-1100 BC   \n",
       "81903               Uruk    NaN   NaN       NaN    626-539 BC   \n",
       "64621               Adab    NaN   NaN       NaN  2340-2200 BC   \n",
       "\n",
       "                   provenience  \n",
       "58133  Nineveh (mod. Kuyunjik)  \n",
       "23292       Girsu (mod. Tello)  \n",
       "37338     Nippur (mod. Nuffar)  \n",
       "81903        Uruk (mod. Warka)  \n",
       "64621      Adab (mod. Bismaya)  "
      ]
     },
     "execution_count": 118,
     "metadata": {},
     "output_type": "execute_result"
    }
   ],
   "source": [
    "df.sample(5)"
   ]
  },
  {
   "cell_type": "code",
   "execution_count": 119,
   "id": "b57365ec-2a87-4b59-97ab-804deb344f37",
   "metadata": {},
   "outputs": [
    {
     "data": {
      "text/plain": [
       "provenience_normed\n",
       "Nineveh                    22472\n",
       "Nippur                     16136\n",
       "unknown                    13369\n",
       "Umma                       10673\n",
       "Puzris-Dagan                8514\n",
       "Girsu                       4809\n",
       "mod. uncertain              4297\n",
       "Ur                          2430\n",
       "Kanesh                      1476\n",
       "Uruk                        1318\n",
       "Assur                       1179\n",
       "Adab                        1092\n",
       "Garsana                      954\n",
       "Gasur/Nuzi                   892\n",
       "Susa                         845\n",
       "Larsa                        698\n",
       "Nerebtum                     697\n",
       "Sippar-Yahrurum              682\n",
       "mod. Babylonia               675\n",
       "Kish                         572\n",
       "Kalhu                        492\n",
       "Tuttul                       369\n",
       "Suruppak                     363\n",
       "Ebla                         243\n",
       "Babili                       223\n",
       "mod. Beydar                  214\n",
       "Akhetaten                    198\n",
       "Esnunna                      155\n",
       "Kar-Tukulti-Ninurta          137\n",
       "mod. Jemdet Nasr             136\n",
       "mod. northern Babylonia      124\n",
       "Alalakh                      120\n",
       "Hattusa                      117\n",
       "Isin                         115\n",
       "Borsippa                     100\n",
       "Sibaniba                      88\n",
       "Tutub                         83\n",
       "Pi-Kasi                       75\n",
       "Irisagrig                     69\n",
       "Ansan                         65\n",
       "Dilbat                        56\n",
       "Zabalam                       54\n",
       "mod. Mugdan/ Umm al-Jir       34\n",
       "Eridu                         25\n",
       "Seleucia                      24\n",
       "Marad                         23\n",
       "mod. Abu Halawa               21\n",
       "Dur-Untas                     19\n",
       "Nagar                         18\n",
       "Lagaba                        15\n",
       "Dur-Kurigalzu                 14\n",
       "Asnakkum                      14\n",
       "mod. Tell Sabaa               12\n",
       "mod. Abu Jawan                11\n",
       "mod. Tell Fakhariyah          10\n",
       "Dur-Abi-esuh                   9\n",
       "Ugarit                         8\n",
       "Lagash                         6\n",
       "mod. Diqdiqqah                 6\n",
       "Tarbisu                        6\n",
       "Elbonia                        4\n",
       "Kisurra                        4\n",
       "Elammu                         4\n",
       "mod. Umm el-Hafriyat           3\n",
       "Du-Enlila                      3\n",
       "Dur-Sarrukin                   3\n",
       "Bad-Tibira                     3\n",
       "Kutha                          3\n",
       "Kilizu                         2\n",
       "Surmes                         2\n",
       "mod. Mesopotamia               2\n",
       "Subat-Enlil                    2\n",
       "Tigunanum                      2\n",
       "mod. Tell al-Lahm              2\n",
       "Ma'allanate                    1\n",
       "mod. Deh-e-no, Iran            1\n",
       "Hurruba                        1\n",
       "Kumu                           1\n",
       "Nasir                          1\n",
       "Kazallu                        1\n",
       "mod. Tell Sifr                 1\n",
       "Hursagkalama                   1\n",
       "mod. Sepphoris                 1\n",
       "mod. Ben Shemen, Israel        1\n",
       "Dusabar                        1\n",
       "Carchemish                     1\n",
       "mod. Kalah Shergat             1\n",
       "Kar-Mullissu                   1\n",
       "mod. Abu Salabikh              1\n",
       "Shuruppak                      1\n",
       "Harran                         1\n",
       "mod. Tell en-Nasbeh            1\n",
       "Kutalla                        1\n",
       "Arrapha                        1\n",
       "Terqa                          1\n",
       "mod. Mahmudiyah                1\n",
       "mod. Uhudu                     1\n",
       "mod. Hillah                    1\n",
       "Imgur-Enlil                    1\n",
       "mod. Tepe Farukhabad           1\n",
       "Name: count, dtype: int64"
      ]
     },
     "execution_count": 119,
     "metadata": {},
     "output_type": "execute_result"
    }
   ],
   "source": [
    "pd.set_option('display.max_rows', len(df))\n",
    "\n",
    "df['provenience_normed'].value_counts()"
   ]
  },
  {
   "cell_type": "code",
   "execution_count": 120,
   "id": "e3af6362-f3f6-40d8-bd0c-db0f4f11e7fd",
   "metadata": {},
   "outputs": [],
   "source": [
    "df.loc[df['provenience_normed']==\"mod. uncertain\",\"provenience_normed\"]=\"unknown\""
   ]
  },
  {
   "cell_type": "code",
   "execution_count": 121,
   "id": "b99d5f75-1f72-4a5e-a859-f3b34c6252c1",
   "metadata": {},
   "outputs": [
    {
     "data": {
      "text/plain": [
       "97716"
      ]
     },
     "execution_count": 121,
     "metadata": {},
     "output_type": "execute_result"
    }
   ],
   "source": [
    "len(df)"
   ]
  },
  {
   "cell_type": "markdown",
   "id": "a9a64621-7d08-4844-99f5-88ac7301c6d6",
   "metadata": {},
   "source": [
    "## Save df after merge"
   ]
  },
  {
   "cell_type": "code",
   "execution_count": 123,
   "id": "31d4c54c-d4a3-4923-a663-456c54d8ef1c",
   "metadata": {},
   "outputs": [],
   "source": [
    "df.to_csv(\"output/cdli_catalogue_data.csv\", index = False)"
   ]
  }
 ],
 "metadata": {
  "kernelspec": {
   "display_name": "dani_torch",
   "language": "python",
   "name": "dani_torch"
  },
  "language_info": {
   "codemirror_mode": {
    "name": "ipython",
    "version": 3
   },
   "file_extension": ".py",
   "mimetype": "text/x-python",
   "name": "python",
   "nbconvert_exporter": "python",
   "pygments_lexer": "ipython3",
   "version": "3.11.5"
  },
  "latex_envs": {
   "LaTeX_envs_menu_present": true,
   "autoclose": false,
   "autocomplete": true,
   "bibliofile": "biblio.bib",
   "cite_by": "apalike",
   "current_citInitial": 1,
   "eqLabelWithNumbers": true,
   "eqNumInitial": 1,
   "hotkeys": {
    "equation": "Ctrl-E",
    "itemize": "Ctrl-I"
   },
   "labels_anchors": false,
   "latex_user_defs": false,
   "report_style_numbering": false,
   "user_envs_cfg": false
  },
  "toc": {
   "base_numbering": 1,
   "nav_menu": {},
   "number_sections": true,
   "sideBar": true,
   "skip_h1_title": false,
   "title_cell": "Table of Contents",
   "title_sidebar": "Contents",
   "toc_cell": false,
   "toc_position": {},
   "toc_section_display": true,
   "toc_window_display": false
  }
 },
 "nbformat": 4,
 "nbformat_minor": 5
}
