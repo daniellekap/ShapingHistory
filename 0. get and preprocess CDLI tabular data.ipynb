{
 "cells": [
  {
   "cell_type": "code",
   "execution_count": 19,
   "id": "e082c7ec",
   "metadata": {},
   "outputs": [
    {
     "name": "stdout",
     "output_type": "stream",
     "text": [
      "Cloning into 'data'...\n",
      "remote: Enumerating objects: 7150, done.\u001b[K\n",
      "remote: Counting objects: 100% (464/464), done.\u001b[K\n",
      "remote: Compressing objects: 100% (335/335), done.\u001b[K\n",
      "remote: Total 7150 (delta 136), reused 452 (delta 129), pack-reused 6686\u001b[K\n",
      "Receiving objects: 100% (7150/7150), 5.90 GiB | 22.07 MiB/s, done.\n",
      "Resolving deltas: 100% (4104/4104), done.\n"
     ]
    }
   ],
   "source": [
    "! git clone https://github.com/cdli-gh/data"
   ]
  },
  {
   "cell_type": "code",
   "execution_count": 11,
   "id": "8b61ebdb",
   "metadata": {},
   "outputs": [
    {
     "name": "stdout",
     "output_type": "stream",
     "text": [
      "On branch master\n",
      "Objects to be pushed to origin/master:\n",
      "\n",
      "\n",
      "Objects to be committed:\n",
      "\n",
      "\n",
      "Objects not staged for commit:\n",
      "\n",
      "\n"
     ]
    }
   ],
   "source": [
    "! cd data; git lfs status"
   ]
  },
  {
   "cell_type": "code",
   "execution_count": 12,
   "id": "3ed42d0f",
   "metadata": {},
   "outputs": [],
   "source": [
    "import pandas as pd"
   ]
  },
  {
   "cell_type": "code",
   "execution_count": 13,
   "id": "151724e4",
   "metadata": {},
   "outputs": [
    {
     "data": {
      "text/plain": [
       "['id', 'genre', 'period', 'subgenre', 'photo_up', 'id_text']"
      ]
     },
     "execution_count": 13,
     "metadata": {},
     "output_type": "execute_result"
    }
   ],
   "source": [
    "COLS = [\n",
    "#     'ark_number',\n",
    "    'id_text',\n",
    "#     'id_text2',\n",
    "#     'author',\n",
    "    'genre',\n",
    "    'subgenre',\n",
    "    'period',\n",
    "#     'composite_id',\n",
    "#     'external_id',\n",
    "    'id',\n",
    "    'photo_up'\n",
    "]\n",
    "\n",
    "['id', 'genre', 'period', 'subgenre', 'photo_up', 'id_text']"
   ]
  },
  {
   "cell_type": "code",
   "execution_count": 18,
   "id": "fa5232a0-a139-4bcd-8afd-64f23936a99d",
   "metadata": {},
   "outputs": [
    {
     "name": "stderr",
     "output_type": "stream",
     "text": [
      "/storage/modules/packages/anaconda3/lib/python3.7/site-packages/IPython/core/interactiveshell.py:3457: DtypeWarning: Columns (46) have mixed types.Specify dtype option on import or set low_memory=False.\n",
      "  exec(code_obj, self.user_global_ns, self.user_ns)\n"
     ]
    }
   ],
   "source": [
    "df = pd.read_csv(\"https://media.githubusercontent.com/media/cdli-gh/data/master/cdli_cat.csv\", usecols=COLS)"
   ]
  },
  {
   "cell_type": "code",
   "execution_count": 19,
   "id": "119b84bb-9671-4dda-b6da-53407e30e7b7",
   "metadata": {},
   "outputs": [
    {
     "data": {
      "text/plain": [
       "(353283, 6)"
      ]
     },
     "execution_count": 19,
     "metadata": {},
     "output_type": "execute_result"
    }
   ],
   "source": [
    "df.shape"
   ]
  },
  {
   "cell_type": "code",
   "execution_count": 20,
   "id": "5b690237-08fc-47d7-a511-a71456ab6491",
   "metadata": {},
   "outputs": [
    {
     "data": {
      "text/html": [
       "<div>\n",
       "<style scoped>\n",
       "    .dataframe tbody tr th:only-of-type {\n",
       "        vertical-align: middle;\n",
       "    }\n",
       "\n",
       "    .dataframe tbody tr th {\n",
       "        vertical-align: top;\n",
       "    }\n",
       "\n",
       "    .dataframe thead th {\n",
       "        text-align: right;\n",
       "    }\n",
       "</style>\n",
       "<table border=\"1\" class=\"dataframe\">\n",
       "  <thead>\n",
       "    <tr style=\"text-align: right;\">\n",
       "      <th></th>\n",
       "      <th>genre</th>\n",
       "      <th>id</th>\n",
       "      <th>id_text</th>\n",
       "      <th>period</th>\n",
       "      <th>photo_up</th>\n",
       "      <th>subgenre</th>\n",
       "    </tr>\n",
       "  </thead>\n",
       "  <tbody>\n",
       "    <tr>\n",
       "      <th>82032</th>\n",
       "      <td>Royal/Monumental</td>\n",
       "      <td>82033</td>\n",
       "      <td>233985</td>\n",
       "      <td>Lagash II (ca. 2200-2100 BC)</td>\n",
       "      <td>NaN</td>\n",
       "      <td>witness</td>\n",
       "    </tr>\n",
       "    <tr>\n",
       "      <th>52007</th>\n",
       "      <td>Administrative</td>\n",
       "      <td>52008</td>\n",
       "      <td>144224</td>\n",
       "      <td>Ur III (ca. 2100-2000 BC)</td>\n",
       "      <td>NaN</td>\n",
       "      <td>NaN</td>\n",
       "    </tr>\n",
       "    <tr>\n",
       "      <th>320746</th>\n",
       "      <td>Letter</td>\n",
       "      <td>329556</td>\n",
       "      <td>498979</td>\n",
       "      <td>Old Assyrian (ca. 1950-1850 BC)</td>\n",
       "      <td>NaN</td>\n",
       "      <td>NaN</td>\n",
       "    </tr>\n",
       "    <tr>\n",
       "      <th>216697</th>\n",
       "      <td>Administrative</td>\n",
       "      <td>216744</td>\n",
       "      <td>381273</td>\n",
       "      <td>Ur III (ca. 2100-2000 BC)</td>\n",
       "      <td>NaN</td>\n",
       "      <td>NaN</td>\n",
       "    </tr>\n",
       "    <tr>\n",
       "      <th>100664</th>\n",
       "      <td>Literary</td>\n",
       "      <td>100666</td>\n",
       "      <td>250888</td>\n",
       "      <td>Old Babylonian (ca. 1900-1600 BC)</td>\n",
       "      <td>600ppi 20160630</td>\n",
       "      <td>ETCSL 2.04.02.01 Šulgi A ('Decad no. 01') (wit...</td>\n",
       "    </tr>\n",
       "  </tbody>\n",
       "</table>\n",
       "</div>"
      ],
      "text/plain": [
       "                   genre      id  id_text                             period  \\\n",
       "82032   Royal/Monumental   82033   233985       Lagash II (ca. 2200-2100 BC)   \n",
       "52007     Administrative   52008   144224          Ur III (ca. 2100-2000 BC)   \n",
       "320746            Letter  329556   498979    Old Assyrian (ca. 1950-1850 BC)   \n",
       "216697    Administrative  216744   381273          Ur III (ca. 2100-2000 BC)   \n",
       "100664          Literary  100666   250888  Old Babylonian (ca. 1900-1600 BC)   \n",
       "\n",
       "               photo_up                                           subgenre  \n",
       "82032               NaN                                            witness  \n",
       "52007               NaN                                                NaN  \n",
       "320746              NaN                                                NaN  \n",
       "216697              NaN                                                NaN  \n",
       "100664  600ppi 20160630  ETCSL 2.04.02.01 Šulgi A ('Decad no. 01') (wit...  "
      ]
     },
     "execution_count": 20,
     "metadata": {},
     "output_type": "execute_result"
    }
   ],
   "source": [
    "df.sample(5)"
   ]
  },
  {
   "cell_type": "code",
   "execution_count": 14,
   "id": "ab8a277b",
   "metadata": {},
   "outputs": [
    {
     "ename": "ValueError",
     "evalue": "Usecols do not match columns, columns expected but not found: ['id', 'photo_up', 'period', 'genre', 'subgenre', 'id_text']",
     "output_type": "error",
     "traceback": [
      "\u001b[0;31m---------------------------------------------------------------------------\u001b[0m",
      "\u001b[0;31mValueError\u001b[0m                                Traceback (most recent call last)",
      "\u001b[0;32m/tmp/ipykernel_15920/447381276.py\u001b[0m in \u001b[0;36m<module>\u001b[0;34m\u001b[0m\n\u001b[0;32m----> 1\u001b[0;31m \u001b[0mdf\u001b[0m \u001b[0;34m=\u001b[0m \u001b[0mpd\u001b[0m\u001b[0;34m.\u001b[0m\u001b[0mread_csv\u001b[0m\u001b[0;34m(\u001b[0m\u001b[0;34m'data/cdli_cat.csv'\u001b[0m\u001b[0;34m,\u001b[0m \u001b[0mkeep_default_na\u001b[0m\u001b[0;34m=\u001b[0m\u001b[0;32mFalse\u001b[0m\u001b[0;34m,\u001b[0m \u001b[0musecols\u001b[0m\u001b[0;34m=\u001b[0m\u001b[0mCOLS\u001b[0m\u001b[0;34m)\u001b[0m\u001b[0;34m\u001b[0m\u001b[0;34m\u001b[0m\u001b[0m\n\u001b[0m",
      "\u001b[0;32m/storage/modules/packages/anaconda3/lib/python3.7/site-packages/pandas/util/_decorators.py\u001b[0m in \u001b[0;36mwrapper\u001b[0;34m(*args, **kwargs)\u001b[0m\n\u001b[1;32m    309\u001b[0m                     \u001b[0mstacklevel\u001b[0m\u001b[0;34m=\u001b[0m\u001b[0mstacklevel\u001b[0m\u001b[0;34m,\u001b[0m\u001b[0;34m\u001b[0m\u001b[0;34m\u001b[0m\u001b[0m\n\u001b[1;32m    310\u001b[0m                 )\n\u001b[0;32m--> 311\u001b[0;31m             \u001b[0;32mreturn\u001b[0m \u001b[0mfunc\u001b[0m\u001b[0;34m(\u001b[0m\u001b[0;34m*\u001b[0m\u001b[0margs\u001b[0m\u001b[0;34m,\u001b[0m \u001b[0;34m**\u001b[0m\u001b[0mkwargs\u001b[0m\u001b[0;34m)\u001b[0m\u001b[0;34m\u001b[0m\u001b[0;34m\u001b[0m\u001b[0m\n\u001b[0m\u001b[1;32m    312\u001b[0m \u001b[0;34m\u001b[0m\u001b[0m\n\u001b[1;32m    313\u001b[0m         \u001b[0;32mreturn\u001b[0m \u001b[0mwrapper\u001b[0m\u001b[0;34m\u001b[0m\u001b[0;34m\u001b[0m\u001b[0m\n",
      "\u001b[0;32m/storage/modules/packages/anaconda3/lib/python3.7/site-packages/pandas/io/parsers/readers.py\u001b[0m in \u001b[0;36mread_csv\u001b[0;34m(filepath_or_buffer, sep, delimiter, header, names, index_col, usecols, squeeze, prefix, mangle_dupe_cols, dtype, engine, converters, true_values, false_values, skipinitialspace, skiprows, skipfooter, nrows, na_values, keep_default_na, na_filter, verbose, skip_blank_lines, parse_dates, infer_datetime_format, keep_date_col, date_parser, dayfirst, cache_dates, iterator, chunksize, compression, thousands, decimal, lineterminator, quotechar, quoting, doublequote, escapechar, comment, encoding, encoding_errors, dialect, error_bad_lines, warn_bad_lines, on_bad_lines, delim_whitespace, low_memory, memory_map, float_precision, storage_options)\u001b[0m\n\u001b[1;32m    584\u001b[0m     \u001b[0mkwds\u001b[0m\u001b[0;34m.\u001b[0m\u001b[0mupdate\u001b[0m\u001b[0;34m(\u001b[0m\u001b[0mkwds_defaults\u001b[0m\u001b[0;34m)\u001b[0m\u001b[0;34m\u001b[0m\u001b[0;34m\u001b[0m\u001b[0m\n\u001b[1;32m    585\u001b[0m \u001b[0;34m\u001b[0m\u001b[0m\n\u001b[0;32m--> 586\u001b[0;31m     \u001b[0;32mreturn\u001b[0m \u001b[0m_read\u001b[0m\u001b[0;34m(\u001b[0m\u001b[0mfilepath_or_buffer\u001b[0m\u001b[0;34m,\u001b[0m \u001b[0mkwds\u001b[0m\u001b[0;34m)\u001b[0m\u001b[0;34m\u001b[0m\u001b[0;34m\u001b[0m\u001b[0m\n\u001b[0m\u001b[1;32m    587\u001b[0m \u001b[0;34m\u001b[0m\u001b[0m\n\u001b[1;32m    588\u001b[0m \u001b[0;34m\u001b[0m\u001b[0m\n",
      "\u001b[0;32m/storage/modules/packages/anaconda3/lib/python3.7/site-packages/pandas/io/parsers/readers.py\u001b[0m in \u001b[0;36m_read\u001b[0;34m(filepath_or_buffer, kwds)\u001b[0m\n\u001b[1;32m    480\u001b[0m \u001b[0;34m\u001b[0m\u001b[0m\n\u001b[1;32m    481\u001b[0m     \u001b[0;31m# Create the parser.\u001b[0m\u001b[0;34m\u001b[0m\u001b[0;34m\u001b[0m\u001b[0;34m\u001b[0m\u001b[0m\n\u001b[0;32m--> 482\u001b[0;31m     \u001b[0mparser\u001b[0m \u001b[0;34m=\u001b[0m \u001b[0mTextFileReader\u001b[0m\u001b[0;34m(\u001b[0m\u001b[0mfilepath_or_buffer\u001b[0m\u001b[0;34m,\u001b[0m \u001b[0;34m**\u001b[0m\u001b[0mkwds\u001b[0m\u001b[0;34m)\u001b[0m\u001b[0;34m\u001b[0m\u001b[0;34m\u001b[0m\u001b[0m\n\u001b[0m\u001b[1;32m    483\u001b[0m \u001b[0;34m\u001b[0m\u001b[0m\n\u001b[1;32m    484\u001b[0m     \u001b[0;32mif\u001b[0m \u001b[0mchunksize\u001b[0m \u001b[0;32mor\u001b[0m \u001b[0miterator\u001b[0m\u001b[0;34m:\u001b[0m\u001b[0;34m\u001b[0m\u001b[0;34m\u001b[0m\u001b[0m\n",
      "\u001b[0;32m/storage/modules/packages/anaconda3/lib/python3.7/site-packages/pandas/io/parsers/readers.py\u001b[0m in \u001b[0;36m__init__\u001b[0;34m(self, f, engine, **kwds)\u001b[0m\n\u001b[1;32m    809\u001b[0m             \u001b[0mself\u001b[0m\u001b[0;34m.\u001b[0m\u001b[0moptions\u001b[0m\u001b[0;34m[\u001b[0m\u001b[0;34m\"has_index_names\"\u001b[0m\u001b[0;34m]\u001b[0m \u001b[0;34m=\u001b[0m \u001b[0mkwds\u001b[0m\u001b[0;34m[\u001b[0m\u001b[0;34m\"has_index_names\"\u001b[0m\u001b[0;34m]\u001b[0m\u001b[0;34m\u001b[0m\u001b[0;34m\u001b[0m\u001b[0m\n\u001b[1;32m    810\u001b[0m \u001b[0;34m\u001b[0m\u001b[0m\n\u001b[0;32m--> 811\u001b[0;31m         \u001b[0mself\u001b[0m\u001b[0;34m.\u001b[0m\u001b[0m_engine\u001b[0m \u001b[0;34m=\u001b[0m \u001b[0mself\u001b[0m\u001b[0;34m.\u001b[0m\u001b[0m_make_engine\u001b[0m\u001b[0;34m(\u001b[0m\u001b[0mself\u001b[0m\u001b[0;34m.\u001b[0m\u001b[0mengine\u001b[0m\u001b[0;34m)\u001b[0m\u001b[0;34m\u001b[0m\u001b[0;34m\u001b[0m\u001b[0m\n\u001b[0m\u001b[1;32m    812\u001b[0m \u001b[0;34m\u001b[0m\u001b[0m\n\u001b[1;32m    813\u001b[0m     \u001b[0;32mdef\u001b[0m \u001b[0mclose\u001b[0m\u001b[0;34m(\u001b[0m\u001b[0mself\u001b[0m\u001b[0;34m)\u001b[0m\u001b[0;34m:\u001b[0m\u001b[0;34m\u001b[0m\u001b[0;34m\u001b[0m\u001b[0m\n",
      "\u001b[0;32m/storage/modules/packages/anaconda3/lib/python3.7/site-packages/pandas/io/parsers/readers.py\u001b[0m in \u001b[0;36m_make_engine\u001b[0;34m(self, engine)\u001b[0m\n\u001b[1;32m   1038\u001b[0m             )\n\u001b[1;32m   1039\u001b[0m         \u001b[0;31m# error: Too many arguments for \"ParserBase\"\u001b[0m\u001b[0;34m\u001b[0m\u001b[0;34m\u001b[0m\u001b[0;34m\u001b[0m\u001b[0m\n\u001b[0;32m-> 1040\u001b[0;31m         \u001b[0;32mreturn\u001b[0m \u001b[0mmapping\u001b[0m\u001b[0;34m[\u001b[0m\u001b[0mengine\u001b[0m\u001b[0;34m]\u001b[0m\u001b[0;34m(\u001b[0m\u001b[0mself\u001b[0m\u001b[0;34m.\u001b[0m\u001b[0mf\u001b[0m\u001b[0;34m,\u001b[0m \u001b[0;34m**\u001b[0m\u001b[0mself\u001b[0m\u001b[0;34m.\u001b[0m\u001b[0moptions\u001b[0m\u001b[0;34m)\u001b[0m  \u001b[0;31m# type: ignore[call-arg]\u001b[0m\u001b[0;34m\u001b[0m\u001b[0;34m\u001b[0m\u001b[0m\n\u001b[0m\u001b[1;32m   1041\u001b[0m \u001b[0;34m\u001b[0m\u001b[0m\n\u001b[1;32m   1042\u001b[0m     \u001b[0;32mdef\u001b[0m \u001b[0m_failover_to_python\u001b[0m\u001b[0;34m(\u001b[0m\u001b[0mself\u001b[0m\u001b[0;34m)\u001b[0m\u001b[0;34m:\u001b[0m\u001b[0;34m\u001b[0m\u001b[0;34m\u001b[0m\u001b[0m\n",
      "\u001b[0;32m/storage/modules/packages/anaconda3/lib/python3.7/site-packages/pandas/io/parsers/c_parser_wrapper.py\u001b[0m in \u001b[0;36m__init__\u001b[0;34m(self, src, **kwds)\u001b[0m\n\u001b[1;32m    133\u001b[0m                 \u001b[0mself\u001b[0m\u001b[0;34m.\u001b[0m\u001b[0morig_names\u001b[0m\u001b[0;34m\u001b[0m\u001b[0;34m\u001b[0m\u001b[0m\n\u001b[1;32m    134\u001b[0m             ):\n\u001b[0;32m--> 135\u001b[0;31m                 \u001b[0mself\u001b[0m\u001b[0;34m.\u001b[0m\u001b[0m_validate_usecols_names\u001b[0m\u001b[0;34m(\u001b[0m\u001b[0musecols\u001b[0m\u001b[0;34m,\u001b[0m \u001b[0mself\u001b[0m\u001b[0;34m.\u001b[0m\u001b[0morig_names\u001b[0m\u001b[0;34m)\u001b[0m\u001b[0;34m\u001b[0m\u001b[0;34m\u001b[0m\u001b[0m\n\u001b[0m\u001b[1;32m    136\u001b[0m \u001b[0;34m\u001b[0m\u001b[0m\n\u001b[1;32m    137\u001b[0m             \u001b[0;31m# error: Cannot determine type of 'names'\u001b[0m\u001b[0;34m\u001b[0m\u001b[0;34m\u001b[0m\u001b[0;34m\u001b[0m\u001b[0m\n",
      "\u001b[0;32m/storage/modules/packages/anaconda3/lib/python3.7/site-packages/pandas/io/parsers/base_parser.py\u001b[0m in \u001b[0;36m_validate_usecols_names\u001b[0;34m(self, usecols, names)\u001b[0m\n\u001b[1;32m    865\u001b[0m         \u001b[0;32mif\u001b[0m \u001b[0mlen\u001b[0m\u001b[0;34m(\u001b[0m\u001b[0mmissing\u001b[0m\u001b[0;34m)\u001b[0m \u001b[0;34m>\u001b[0m \u001b[0;36m0\u001b[0m\u001b[0;34m:\u001b[0m\u001b[0;34m\u001b[0m\u001b[0;34m\u001b[0m\u001b[0m\n\u001b[1;32m    866\u001b[0m             raise ValueError(\n\u001b[0;32m--> 867\u001b[0;31m                 \u001b[0;34mf\"Usecols do not match columns, columns expected but not found: \"\u001b[0m\u001b[0;34m\u001b[0m\u001b[0;34m\u001b[0m\u001b[0m\n\u001b[0m\u001b[1;32m    868\u001b[0m                 \u001b[0;34mf\"{missing}\"\u001b[0m\u001b[0;34m\u001b[0m\u001b[0;34m\u001b[0m\u001b[0m\n\u001b[1;32m    869\u001b[0m             )\n",
      "\u001b[0;31mValueError\u001b[0m: Usecols do not match columns, columns expected but not found: ['id', 'photo_up', 'period', 'genre', 'subgenre', 'id_text']"
     ]
    }
   ],
   "source": [
    "df = pd.read_csv('data/cdli_cat.csv', keep_default_na=False, usecols=COLS)"
   ]
  },
  {
   "cell_type": "code",
   "execution_count": 21,
   "id": "0fa8af49",
   "metadata": {},
   "outputs": [
    {
     "data": {
      "text/plain": [
       "(353283, 6)"
      ]
     },
     "execution_count": 21,
     "metadata": {},
     "output_type": "execute_result"
    }
   ],
   "source": [
    "df.shape"
   ]
  },
  {
   "cell_type": "code",
   "execution_count": 37,
   "id": "ed8bca75",
   "metadata": {},
   "outputs": [],
   "source": [
    "df = df[df.photo_up.notna()].copy()"
   ]
  },
  {
   "cell_type": "code",
   "execution_count": 38,
   "id": "a60c8aa5",
   "metadata": {},
   "outputs": [
    {
     "data": {
      "text/plain": [
       "(103498, 8)"
      ]
     },
     "execution_count": 38,
     "metadata": {},
     "output_type": "execute_result"
    }
   ],
   "source": [
    "df.shape"
   ]
  },
  {
   "cell_type": "code",
   "execution_count": 39,
   "id": "a745821d",
   "metadata": {},
   "outputs": [
    {
     "data": {
      "text/html": [
       "<div>\n",
       "<style scoped>\n",
       "    .dataframe tbody tr th:only-of-type {\n",
       "        vertical-align: middle;\n",
       "    }\n",
       "\n",
       "    .dataframe tbody tr th {\n",
       "        vertical-align: top;\n",
       "    }\n",
       "\n",
       "    .dataframe thead th {\n",
       "        text-align: right;\n",
       "    }\n",
       "</style>\n",
       "<table border=\"1\" class=\"dataframe\">\n",
       "  <thead>\n",
       "    <tr style=\"text-align: right;\">\n",
       "      <th></th>\n",
       "      <th>genre</th>\n",
       "      <th>id</th>\n",
       "      <th>id_text</th>\n",
       "      <th>period</th>\n",
       "      <th>photo_up</th>\n",
       "      <th>subgenre</th>\n",
       "      <th>period_normed</th>\n",
       "      <th>era</th>\n",
       "    </tr>\n",
       "  </thead>\n",
       "  <tbody>\n",
       "    <tr>\n",
       "      <th>660</th>\n",
       "      <td>Lexical</td>\n",
       "      <td>661</td>\n",
       "      <td>713</td>\n",
       "      <td>Uruk III (ca. 3200-3000 BC)</td>\n",
       "      <td>600ppi 20160630</td>\n",
       "      <td>Archaic Vessels and Garments (witness)</td>\n",
       "      <td>Uruk III</td>\n",
       "      <td>early_bronze</td>\n",
       "    </tr>\n",
       "    <tr>\n",
       "      <th>661</th>\n",
       "      <td>Lexical</td>\n",
       "      <td>662</td>\n",
       "      <td>714</td>\n",
       "      <td>Uruk III (ca. 3200-3000 BC)</td>\n",
       "      <td>600ppi 20160630</td>\n",
       "      <td>Archaic Geography (witness)</td>\n",
       "      <td>Uruk III</td>\n",
       "      <td>early_bronze</td>\n",
       "    </tr>\n",
       "    <tr>\n",
       "      <th>662</th>\n",
       "      <td>Lexical</td>\n",
       "      <td>663</td>\n",
       "      <td>723</td>\n",
       "      <td>ED I-II (ca. 2900-2700 BC)</td>\n",
       "      <td>600ppi 20160630</td>\n",
       "      <td>ED Lu2 A (witness)</td>\n",
       "      <td>ED I-II</td>\n",
       "      <td>early_bronze</td>\n",
       "    </tr>\n",
       "    <tr>\n",
       "      <th>663</th>\n",
       "      <td>Lexical</td>\n",
       "      <td>664</td>\n",
       "      <td>724</td>\n",
       "      <td>ED I-II (ca. 2900-2700 BC)</td>\n",
       "      <td>600ppi 20160913</td>\n",
       "      <td>Archaic Fish (witness)</td>\n",
       "      <td>ED I-II</td>\n",
       "      <td>early_bronze</td>\n",
       "    </tr>\n",
       "    <tr>\n",
       "      <th>667</th>\n",
       "      <td>Lexical</td>\n",
       "      <td>668</td>\n",
       "      <td>728</td>\n",
       "      <td>ED I-II (ca. 2900-2700 BC)</td>\n",
       "      <td>600ppi 20160630</td>\n",
       "      <td>ED Lu2 A (witness)</td>\n",
       "      <td>ED I-II</td>\n",
       "      <td>early_bronze</td>\n",
       "    </tr>\n",
       "  </tbody>\n",
       "</table>\n",
       "</div>"
      ],
      "text/plain": [
       "       genre   id  id_text                       period         photo_up  \\\n",
       "660  Lexical  661      713  Uruk III (ca. 3200-3000 BC)  600ppi 20160630   \n",
       "661  Lexical  662      714  Uruk III (ca. 3200-3000 BC)  600ppi 20160630   \n",
       "662  Lexical  663      723   ED I-II (ca. 2900-2700 BC)  600ppi 20160630   \n",
       "663  Lexical  664      724   ED I-II (ca. 2900-2700 BC)  600ppi 20160913   \n",
       "667  Lexical  668      728   ED I-II (ca. 2900-2700 BC)  600ppi 20160630   \n",
       "\n",
       "                                   subgenre period_normed           era  \n",
       "660  Archaic Vessels and Garments (witness)      Uruk III  early_bronze  \n",
       "661             Archaic Geography (witness)      Uruk III  early_bronze  \n",
       "662                      ED Lu2 A (witness)       ED I-II  early_bronze  \n",
       "663                  Archaic Fish (witness)       ED I-II  early_bronze  \n",
       "667                      ED Lu2 A (witness)       ED I-II  early_bronze  "
      ]
     },
     "execution_count": 39,
     "metadata": {},
     "output_type": "execute_result"
    }
   ],
   "source": [
    "df.head()"
   ]
  },
  {
   "cell_type": "code",
   "execution_count": 40,
   "id": "d34c17b1",
   "metadata": {},
   "outputs": [
    {
     "name": "stderr",
     "output_type": "stream",
     "text": [
      "/storage/modules/packages/anaconda3/lib/python3.7/site-packages/ipykernel_launcher.py:3: FutureWarning: The default value of regex will change from True to False in a future version.\n",
      "  This is separate from the ipykernel package so we can avoid doing imports until\n",
      "/storage/modules/packages/anaconda3/lib/python3.7/site-packages/ipykernel_launcher.py:4: FutureWarning: The default value of regex will change from True to False in a future version.\n",
      "  after removing the cwd from sys.path.\n",
      "/storage/modules/packages/anaconda3/lib/python3.7/site-packages/ipykernel_launcher.py:5: FutureWarning: The default value of regex will change from True to False in a future version.\n",
      "  \"\"\"\n"
     ]
    }
   ],
   "source": [
    "df['period_normed'] = (\n",
    "    df.period.str.replace(\n",
    "        r'\\?', '').str.replace(\n",
    "        r'\\(.*\\)', '').str.replace(\n",
    "        ' +', ' ').str.strip()\n",
    ")"
   ]
  },
  {
   "cell_type": "code",
   "execution_count": 26,
   "id": "a8a0b178",
   "metadata": {},
   "outputs": [],
   "source": [
    "df = df[df.period_normed != ''].copy()"
   ]
  },
  {
   "cell_type": "code",
   "execution_count": 27,
   "id": "c78d0a6c",
   "metadata": {},
   "outputs": [
    {
     "data": {
      "text/plain": [
       "(353283, 7)"
      ]
     },
     "execution_count": 27,
     "metadata": {},
     "output_type": "execute_result"
    }
   ],
   "source": [
    "df.shape"
   ]
  },
  {
   "cell_type": "code",
   "execution_count": 41,
   "id": "35387b08",
   "metadata": {},
   "outputs": [
    {
     "data": {
      "text/html": [
       "<div>\n",
       "<style scoped>\n",
       "    .dataframe tbody tr th:only-of-type {\n",
       "        vertical-align: middle;\n",
       "    }\n",
       "\n",
       "    .dataframe tbody tr th {\n",
       "        vertical-align: top;\n",
       "    }\n",
       "\n",
       "    .dataframe thead th {\n",
       "        text-align: right;\n",
       "    }\n",
       "</style>\n",
       "<table border=\"1\" class=\"dataframe\">\n",
       "  <thead>\n",
       "    <tr style=\"text-align: right;\">\n",
       "      <th></th>\n",
       "      <th>genre</th>\n",
       "      <th>id</th>\n",
       "      <th>id_text</th>\n",
       "      <th>period</th>\n",
       "      <th>photo_up</th>\n",
       "      <th>subgenre</th>\n",
       "      <th>period_normed</th>\n",
       "      <th>era</th>\n",
       "    </tr>\n",
       "  </thead>\n",
       "  <tbody>\n",
       "    <tr>\n",
       "      <th>12709</th>\n",
       "      <td>Administrative</td>\n",
       "      <td>12710</td>\n",
       "      <td>103813</td>\n",
       "      <td>Ur III (ca. 2100-2000 BC)</td>\n",
       "      <td>600ppi 20160630</td>\n",
       "      <td>NaN</td>\n",
       "      <td>Ur III</td>\n",
       "      <td>early_bronze</td>\n",
       "    </tr>\n",
       "    <tr>\n",
       "      <th>69965</th>\n",
       "      <td>Administrative ?</td>\n",
       "      <td>69966</td>\n",
       "      <td>221224</td>\n",
       "      <td>ED IIIb (ca. 2500-2340 BC)</td>\n",
       "      <td>600ppi 20160913</td>\n",
       "      <td>NaN</td>\n",
       "      <td>ED IIIb</td>\n",
       "      <td>early_bronze</td>\n",
       "    </tr>\n",
       "    <tr>\n",
       "      <th>130232</th>\n",
       "      <td>Scientific</td>\n",
       "      <td>130270</td>\n",
       "      <td>285267</td>\n",
       "      <td>NaN</td>\n",
       "      <td>600ppi 20160630</td>\n",
       "      <td>medical</td>\n",
       "      <td>NaN</td>\n",
       "      <td></td>\n",
       "    </tr>\n",
       "    <tr>\n",
       "      <th>75610</th>\n",
       "      <td>Administrative</td>\n",
       "      <td>75611</td>\n",
       "      <td>227208</td>\n",
       "      <td>Ebla (ca. 2350-2250 BC)</td>\n",
       "      <td>600ppi 20160630</td>\n",
       "      <td>NaN</td>\n",
       "      <td>Ebla</td>\n",
       "      <td>early_bronze</td>\n",
       "    </tr>\n",
       "    <tr>\n",
       "      <th>248323</th>\n",
       "      <td>Literary</td>\n",
       "      <td>248372</td>\n",
       "      <td>414073</td>\n",
       "      <td>Neo-Assyrian (ca. 911-612 BC)</td>\n",
       "      <td>600ppi 20160913</td>\n",
       "      <td>NaN</td>\n",
       "      <td>Neo-Assyrian</td>\n",
       "      <td>iron</td>\n",
       "    </tr>\n",
       "  </tbody>\n",
       "</table>\n",
       "</div>"
      ],
      "text/plain": [
       "                   genre      id  id_text                         period  \\\n",
       "12709     Administrative   12710   103813      Ur III (ca. 2100-2000 BC)   \n",
       "69965   Administrative ?   69966   221224     ED IIIb (ca. 2500-2340 BC)   \n",
       "130232        Scientific  130270   285267                            NaN   \n",
       "75610     Administrative   75611   227208        Ebla (ca. 2350-2250 BC)   \n",
       "248323          Literary  248372   414073  Neo-Assyrian (ca. 911-612 BC)   \n",
       "\n",
       "               photo_up subgenre period_normed           era  \n",
       "12709   600ppi 20160630      NaN        Ur III  early_bronze  \n",
       "69965   600ppi 20160913      NaN       ED IIIb  early_bronze  \n",
       "130232  600ppi 20160630  medical           NaN                \n",
       "75610   600ppi 20160630      NaN          Ebla  early_bronze  \n",
       "248323  600ppi 20160913      NaN  Neo-Assyrian          iron  "
      ]
     },
     "execution_count": 41,
     "metadata": {},
     "output_type": "execute_result"
    }
   ],
   "source": [
    "df.sample(5)"
   ]
  },
  {
   "cell_type": "code",
   "execution_count": 42,
   "id": "998421cc",
   "metadata": {},
   "outputs": [],
   "source": [
    "EARLY_BRONZE = {\n",
    "    'Old Akkadian', 'Ur III',\n",
    "    'ED IIIb', 'Uruk III',\n",
    "    'Proto-Elamite', 'Lagash II',\n",
    "    'Ebla', 'ED IIIa', 'ED I-II',\n",
    "    'Uruk IV', 'Linear Elamite',\n",
    "    'Harappan'\n",
    "    \n",
    "}\n",
    "MID_LATE_BRONZE = {\n",
    "    'Early Old Babylonian',\n",
    "    'Old Babylonian', 'Old Assyrian',\n",
    "    'Middle Babylonian', 'Middle Assyrian',\n",
    "    'Middle Elamite', 'Middle Hittite'\n",
    "}\n",
    "IRON = {\n",
    "    'Neo-Babylonian', 'Neo-Assyrian',\n",
    "    'Achaemenid', 'Hellenistic',\n",
    "    'Neo-Elamite'\n",
    "}"
   ]
  },
  {
   "cell_type": "code",
   "execution_count": 30,
   "id": "5745050d",
   "metadata": {},
   "outputs": [],
   "source": [
    "ERA_MAP = {\n",
    "    **{K: 'early_bronze' for K in EARLY_BRONZE},\n",
    "    **{K: 'mid_late_bronze' for K in MID_LATE_BRONZE},\n",
    "    **{K: 'iron' for K in IRON},\n",
    "}"
   ]
  },
  {
   "cell_type": "code",
   "execution_count": 31,
   "id": "ad6786c7",
   "metadata": {},
   "outputs": [],
   "source": [
    "df['era'] = df.period_normed.map(ERA_MAP).fillna('')"
   ]
  },
  {
   "cell_type": "code",
   "execution_count": 32,
   "id": "e066abc5",
   "metadata": {},
   "outputs": [
    {
     "data": {
      "text/html": [
       "<div>\n",
       "<style scoped>\n",
       "    .dataframe tbody tr th:only-of-type {\n",
       "        vertical-align: middle;\n",
       "    }\n",
       "\n",
       "    .dataframe tbody tr th {\n",
       "        vertical-align: top;\n",
       "    }\n",
       "\n",
       "    .dataframe thead th {\n",
       "        text-align: right;\n",
       "    }\n",
       "</style>\n",
       "<table border=\"1\" class=\"dataframe\">\n",
       "  <thead>\n",
       "    <tr style=\"text-align: right;\">\n",
       "      <th></th>\n",
       "      <th>genre</th>\n",
       "      <th>id</th>\n",
       "      <th>id_text</th>\n",
       "      <th>period</th>\n",
       "      <th>photo_up</th>\n",
       "      <th>subgenre</th>\n",
       "      <th>period_normed</th>\n",
       "      <th>era</th>\n",
       "    </tr>\n",
       "  </thead>\n",
       "  <tbody>\n",
       "    <tr>\n",
       "      <th>265166</th>\n",
       "      <td>NaN</td>\n",
       "      <td>265216</td>\n",
       "      <td>432814</td>\n",
       "      <td>NaN</td>\n",
       "      <td>NaN</td>\n",
       "      <td>NaN</td>\n",
       "      <td>NaN</td>\n",
       "      <td></td>\n",
       "    </tr>\n",
       "    <tr>\n",
       "      <th>175943</th>\n",
       "      <td>Letter</td>\n",
       "      <td>175981</td>\n",
       "      <td>338779</td>\n",
       "      <td>Old Babylonian (ca. 1900-1600 BC)</td>\n",
       "      <td>NaN</td>\n",
       "      <td>NaN</td>\n",
       "      <td>Old Babylonian</td>\n",
       "      <td>mid_late_bronze</td>\n",
       "    </tr>\n",
       "    <tr>\n",
       "      <th>30202</th>\n",
       "      <td>Administrative</td>\n",
       "      <td>30203</td>\n",
       "      <td>121363</td>\n",
       "      <td>Ur III (ca. 2100-2000 BC)</td>\n",
       "      <td>600ppi 20160913</td>\n",
       "      <td>NaN</td>\n",
       "      <td>Ur III</td>\n",
       "      <td>early_bronze</td>\n",
       "    </tr>\n",
       "    <tr>\n",
       "      <th>118450</th>\n",
       "      <td>NaN</td>\n",
       "      <td>118452</td>\n",
       "      <td>270443</td>\n",
       "      <td>NaN</td>\n",
       "      <td>NaN</td>\n",
       "      <td>NaN</td>\n",
       "      <td>NaN</td>\n",
       "      <td></td>\n",
       "    </tr>\n",
       "    <tr>\n",
       "      <th>203477</th>\n",
       "      <td>Administrative</td>\n",
       "      <td>203515</td>\n",
       "      <td>367485</td>\n",
       "      <td>Neo-Babylonian (ca. 626-539 BC)</td>\n",
       "      <td>NaN</td>\n",
       "      <td>NaN</td>\n",
       "      <td>Neo-Babylonian</td>\n",
       "      <td>iron</td>\n",
       "    </tr>\n",
       "    <tr>\n",
       "      <th>344737</th>\n",
       "      <td>Prayer/Incantation</td>\n",
       "      <td>353572</td>\n",
       "      <td>523735</td>\n",
       "      <td>Old Babylonian (ca. 1900-1600 BC)</td>\n",
       "      <td>NaN</td>\n",
       "      <td>NaN</td>\n",
       "      <td>Old Babylonian</td>\n",
       "      <td>mid_late_bronze</td>\n",
       "    </tr>\n",
       "    <tr>\n",
       "      <th>109788</th>\n",
       "      <td>Administrative</td>\n",
       "      <td>109790</td>\n",
       "      <td>260536</td>\n",
       "      <td>Neo-Babylonian (ca. 626-539 BC)</td>\n",
       "      <td>600ppi 20160630</td>\n",
       "      <td>NaN</td>\n",
       "      <td>Neo-Babylonian</td>\n",
       "      <td>iron</td>\n",
       "    </tr>\n",
       "    <tr>\n",
       "      <th>185892</th>\n",
       "      <td>Administrative</td>\n",
       "      <td>185930</td>\n",
       "      <td>349041</td>\n",
       "      <td>Old Babylonian (ca. 1900-1600 BC)</td>\n",
       "      <td>NaN</td>\n",
       "      <td>NaN</td>\n",
       "      <td>Old Babylonian</td>\n",
       "      <td>mid_late_bronze</td>\n",
       "    </tr>\n",
       "    <tr>\n",
       "      <th>299928</th>\n",
       "      <td>NaN</td>\n",
       "      <td>299985</td>\n",
       "      <td>468177</td>\n",
       "      <td>NaN</td>\n",
       "      <td>NaN</td>\n",
       "      <td>NaN</td>\n",
       "      <td>NaN</td>\n",
       "      <td></td>\n",
       "    </tr>\n",
       "    <tr>\n",
       "      <th>250823</th>\n",
       "      <td>NaN</td>\n",
       "      <td>250872</td>\n",
       "      <td>416636</td>\n",
       "      <td>Middle Babylonian (ca. 1400-1100 BC)</td>\n",
       "      <td>NaN</td>\n",
       "      <td>NaN</td>\n",
       "      <td>Middle Babylonian</td>\n",
       "      <td>mid_late_bronze</td>\n",
       "    </tr>\n",
       "  </tbody>\n",
       "</table>\n",
       "</div>"
      ],
      "text/plain": [
       "                     genre      id  id_text  \\\n",
       "265166                 NaN  265216   432814   \n",
       "175943              Letter  175981   338779   \n",
       "30202       Administrative   30203   121363   \n",
       "118450                 NaN  118452   270443   \n",
       "203477      Administrative  203515   367485   \n",
       "344737  Prayer/Incantation  353572   523735   \n",
       "109788      Administrative  109790   260536   \n",
       "185892      Administrative  185930   349041   \n",
       "299928                 NaN  299985   468177   \n",
       "250823                 NaN  250872   416636   \n",
       "\n",
       "                                      period         photo_up subgenre  \\\n",
       "265166                                   NaN              NaN      NaN   \n",
       "175943     Old Babylonian (ca. 1900-1600 BC)              NaN      NaN   \n",
       "30202              Ur III (ca. 2100-2000 BC)  600ppi 20160913      NaN   \n",
       "118450                                   NaN              NaN      NaN   \n",
       "203477       Neo-Babylonian (ca. 626-539 BC)              NaN      NaN   \n",
       "344737     Old Babylonian (ca. 1900-1600 BC)              NaN      NaN   \n",
       "109788       Neo-Babylonian (ca. 626-539 BC)  600ppi 20160630      NaN   \n",
       "185892     Old Babylonian (ca. 1900-1600 BC)              NaN      NaN   \n",
       "299928                                   NaN              NaN      NaN   \n",
       "250823  Middle Babylonian (ca. 1400-1100 BC)              NaN      NaN   \n",
       "\n",
       "            period_normed              era  \n",
       "265166                NaN                   \n",
       "175943     Old Babylonian  mid_late_bronze  \n",
       "30202              Ur III     early_bronze  \n",
       "118450                NaN                   \n",
       "203477     Neo-Babylonian             iron  \n",
       "344737     Old Babylonian  mid_late_bronze  \n",
       "109788     Neo-Babylonian             iron  \n",
       "185892     Old Babylonian  mid_late_bronze  \n",
       "299928                NaN                   \n",
       "250823  Middle Babylonian  mid_late_bronze  "
      ]
     },
     "execution_count": 32,
     "metadata": {},
     "output_type": "execute_result"
    }
   ],
   "source": [
    "df.sample(10)"
   ]
  },
  {
   "cell_type": "code",
   "execution_count": 43,
   "id": "0e16cefb",
   "metadata": {},
   "outputs": [
    {
     "data": {
      "text/plain": [
       "early_bronze       36634\n",
       "iron               30800\n",
       "mid_late_bronze    29689\n",
       "                    6375\n",
       "Name: era, dtype: int64"
      ]
     },
     "execution_count": 43,
     "metadata": {},
     "output_type": "execute_result"
    }
   ],
   "source": [
    "df.era.value_counts()"
   ]
  },
  {
   "cell_type": "code",
   "execution_count": 44,
   "id": "c1fd996f",
   "metadata": {},
   "outputs": [
    {
     "data": {
      "text/plain": [
       "32"
      ]
     },
     "execution_count": 44,
     "metadata": {},
     "output_type": "execute_result"
    }
   ],
   "source": [
    "df.period_normed.nunique()"
   ]
  },
  {
   "cell_type": "code",
   "execution_count": 45,
   "id": "3afb4cb1",
   "metadata": {},
   "outputs": [
    {
     "data": {
      "text/plain": [
       "8"
      ]
     },
     "execution_count": 45,
     "metadata": {},
     "output_type": "execute_result"
    }
   ],
   "source": [
    "df.period_normed[df.era == ''].nunique()"
   ]
  },
  {
   "cell_type": "code",
   "execution_count": 46,
   "id": "7ecc84dc",
   "metadata": {},
   "outputs": [
    {
     "data": {
      "text/plain": [
       "uncertain               355\n",
       "fake                     99\n",
       "Pre-Uruk V               78\n",
       "Uruk V                   46\n",
       "Early Neo-Babylonian     11\n",
       "Egyptian 0                2\n",
       "Sassanian                 1\n",
       "copy                      1\n",
       "Name: period_normed, dtype: int64"
      ]
     },
     "execution_count": 46,
     "metadata": {},
     "output_type": "execute_result"
    }
   ],
   "source": [
    "df.period_normed[df.era == ''].value_counts()"
   ]
  },
  {
   "cell_type": "code",
   "execution_count": 50,
   "id": "ea9151ca",
   "metadata": {},
   "outputs": [],
   "source": [
    "df[df.period_normed != ''].to_csv('cdli_catalogue_data.csv', index=False)"
   ]
  },
  {
   "cell_type": "code",
   "execution_count": null,
   "id": "cfe4bd69-dba7-41bf-8041-6737abfd0f62",
   "metadata": {},
   "outputs": [],
   "source": []
  }
 ],
 "metadata": {
  "kernelspec": {
   "display_name": "Python 3 (ipykernel)",
   "language": "python",
   "name": "python3"
  },
  "language_info": {
   "codemirror_mode": {
    "name": "ipython",
    "version": 3
   },
   "file_extension": ".py",
   "mimetype": "text/x-python",
   "name": "python",
   "nbconvert_exporter": "python",
   "pygments_lexer": "ipython3",
   "version": "3.7.11"
  },
  "latex_envs": {
   "LaTeX_envs_menu_present": true,
   "autoclose": false,
   "autocomplete": true,
   "bibliofile": "biblio.bib",
   "cite_by": "apalike",
   "current_citInitial": 1,
   "eqLabelWithNumbers": true,
   "eqNumInitial": 1,
   "hotkeys": {
    "equation": "Ctrl-E",
    "itemize": "Ctrl-I"
   },
   "labels_anchors": false,
   "latex_user_defs": false,
   "report_style_numbering": false,
   "user_envs_cfg": false
  },
  "toc": {
   "base_numbering": 1,
   "nav_menu": {},
   "number_sections": true,
   "sideBar": true,
   "skip_h1_title": false,
   "title_cell": "Table of Contents",
   "title_sidebar": "Contents",
   "toc_cell": false,
   "toc_position": {},
   "toc_section_display": true,
   "toc_window_display": false
  }
 },
 "nbformat": 4,
 "nbformat_minor": 5
}
