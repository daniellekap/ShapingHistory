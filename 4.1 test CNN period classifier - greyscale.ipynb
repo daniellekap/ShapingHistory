{
 "cells": [
  {
   "cell_type": "code",
   "execution_count": 1,
   "id": "b4aa5777-e805-4b0e-b56f-1cfa2fb3f4bb",
   "metadata": {},
   "outputs": [
    {
     "name": "stdout",
     "output_type": "stream",
     "text": [
      "env: CUDA_VISIBLE_DEVICES=0\n"
     ]
    }
   ],
   "source": [
    "%env CUDA_VISIBLE_DEVICES=0"
   ]
  },
  {
   "cell_type": "code",
   "execution_count": 1,
   "id": "c9e1e007-dae2-4849-92ef-aa2fe798acdb",
   "metadata": {},
   "outputs": [],
   "source": [
    "from collections import Counter\n",
    "from itertools import islice\n",
    "\n",
    "import pandas as pd\n",
    "import scipy\n",
    "import torch\n",
    "from sklearn.metrics import classification_report\n",
    "from torch.utils.data import DataLoader\n",
    "from tqdm import tqdm\n",
    "\n",
    "from era_data import TabletPeriodDataset\n",
    "from era_model import SimpleCNN"
   ]
  },
  {
   "cell_type": "code",
   "execution_count": 2,
   "id": "12ee9796-7969-4986-a706-57facaf751fc",
   "metadata": {},
   "outputs": [
    {
     "data": {
      "text/plain": [
       "'cuda'"
      ]
     },
     "execution_count": 2,
     "metadata": {},
     "output_type": "execute_result"
    }
   ],
   "source": [
    "device = 'cuda' if torch.cuda.is_available() else 'cpu'\n",
    "device"
   ]
  },
  {
   "cell_type": "markdown",
   "id": "dd376014-cc55-456f-a320-fa837a89e336",
   "metadata": {},
   "source": [
    "# Hyperparameters"
   ]
  },
  {
   "cell_type": "code",
   "execution_count": 8,
   "id": "9a476cff-cfbd-42cc-9ad8-c948c04049b4",
   "metadata": {},
   "outputs": [],
   "source": [
    "IMG_DIR = 'output/images_preprocessed'\n",
    "VERSION_NAME = 'period_clf_bs16_lr5e-05_5epochs-vanillaCNN-94936_samples-preprocessed-March28_1000test'\n",
    "CKPT_FN = glob(f'lightning_logs/{VERSION_NAME}/checkpoints/*')[0]\n",
    "CKPT_FN"
   ]
  },
  {
   "cell_type": "markdown",
   "id": "9de98b67-ee0f-4833-9bec-4061124252c0",
   "metadata": {},
   "source": [
    "# Load data and model"
   ]
  },
  {
   "cell_type": "code",
   "execution_count": null,
   "id": "411e64b0-07d1-4a89-84f5-a3267dc18ac8",
   "metadata": {},
   "outputs": [],
   "source": [
    "train_ids = pd.read_csv(f'output/clf_ids/period-train-{VERSION_NAME}.csv', header=None)[0].astype(str)\n",
    "test_ids = pd.read_csv(f'output/clf_ids/period-test-{VERSION_NAME}.csv', header=None)[0].astype(str)"
   ]
  },
  {
   "cell_type": "code",
   "execution_count": null,
   "id": "325c60af-124d-4973-959b-b37593f77d74",
   "metadata": {},
   "outputs": [],
   "source": [
    "ds_train = TabletPeriodDataset(IDS=train_ids, IMG_DIR=IMG_DIR)\n",
    "ds_test = TabletPeriodDataset(IDS=test_ids, IMG_DIR=IMG_DIR)"
   ]
  },
  {
   "cell_type": "code",
   "execution_count": null,
   "id": "b8f66c2d-61d5-4749-93aa-be80e4b14e7c",
   "metadata": {},
   "outputs": [],
   "source": [
    "def collate_fn(batch):\n",
    "    \n",
    "    data = torch.stack([torch.from_numpy(sample[0]) for sample in batch])\n",
    "    labels = torch.tensor([sample[1] for sample in batch])\n",
    "\n",
    "    return data, labels"
   ]
  },
  {
   "cell_type": "code",
   "execution_count": 37,
   "id": "3ea25644-ad8f-4ef9-aba6-501d5bf0df32",
   "metadata": {},
   "outputs": [],
   "source": [
    "dl_test = DataLoader(ds_test, batch_size=BATCH_SIZE, collate_fn=collate_fn, shuffle=False, num_workers=4)"
   ]
  },
  {
   "cell_type": "code",
   "execution_count": 39,
   "id": "e4576f69-0f93-4da4-b497-7109a2f6d464",
   "metadata": {},
   "outputs": [
    {
     "data": {
      "text/plain": [
       "24"
      ]
     },
     "execution_count": 39,
     "metadata": {},
     "output_type": "execute_result"
    }
   ],
   "source": [
    "num_classes = len(TabletPeriodDataset.PERIOD_INDICES) + 2\n",
    "num_classes"
   ]
  },
  {
   "cell_type": "code",
   "execution_count": null,
   "id": "59042a30-e09c-4324-8e9c-bf35ac811ccb",
   "metadata": {},
   "outputs": [],
   "source": [
    "%time model = SimpleCNN.load_from_checkpoint(CKPT_FN, num_classes=num_classes)"
   ]
  },
  {
   "cell_type": "code",
   "execution_count": 45,
   "id": "67f52e35-f29f-469c-9856-ba01c9fc0d71",
   "metadata": {},
   "outputs": [],
   "source": [
    "model.to(device);"
   ]
  },
  {
   "cell_type": "code",
   "execution_count": null,
   "id": "5c96f4b2-0c1f-4ce6-8df3-9bac631feada",
   "metadata": {},
   "outputs": [],
   "source": [
    "model.eval();"
   ]
  },
  {
   "cell_type": "markdown",
   "id": "d6e524fb-e79d-42b2-a120-f2732dc9a264",
   "metadata": {},
   "source": [
    "# Calculate Predictions"
   ]
  },
  {
   "cell_type": "code",
   "execution_count": 46,
   "id": "addaf5d2-4317-4d4a-986b-9ec6b2887622",
   "metadata": {},
   "outputs": [],
   "source": [
    "def dl2data(dl, MAX_N=None, device='cuda'):\n",
    "    logits = []\n",
    "    y_true = []  # This will hold the period indices\n",
    "    model.eval()  # Set the model to evaluation mode\n",
    "\n",
    "    with torch.no_grad():\n",
    "        gen = tqdm(islice(dl, MAX_N), total=(MAX_N if MAX_N is not None else len(dl)))\n",
    "        for img, period_index in gen:\n",
    "            try:\n",
    "                y_true.append(period_index.cpu().numpy())  # Append period indices\n",
    "                logits.append(model(img.to(device)).cpu().numpy())  # Process the image through the model\n",
    "            except Exception as e:\n",
    "                print(f\"Error processing batch: {e}\")\n",
    "    y_true = np.hstack(y_true)\n",
    "    logits = np.vstack(logits)\n",
    "\n",
    "    return logits, y_true"
   ]
  },
  {
   "cell_type": "code",
   "execution_count": 47,
   "id": "f950d48e",
   "metadata": {},
   "outputs": [
    {
     "name": "stderr",
     "output_type": "stream",
     "text": [
      "\n",
      "  0%|          | 0/32 [00:00<?, ?it/s]\u001b[A\n",
      "  3%|▎         | 1/32 [00:00<00:04,  6.84it/s]\u001b[A\n",
      " 16%|█▌        | 5/32 [00:00<00:02,  9.10it/s]\u001b[A\n",
      " 28%|██▊       | 9/32 [00:01<00:02,  8.97it/s]\u001b[A\n",
      " 41%|████      | 13/32 [00:01<00:01, 12.36it/s]\u001b[A\n",
      " 50%|█████     | 16/32 [00:01<00:01, 14.32it/s]\u001b[A\n",
      " 56%|█████▋    | 18/32 [00:01<00:01, 11.82it/s]\u001b[A\n",
      " 62%|██████▎   | 20/32 [00:01<00:00, 12.52it/s]\u001b[A\n",
      " 75%|███████▌  | 24/32 [00:02<00:00, 11.37it/s]\u001b[A\n",
      "100%|██████████| 32/32 [00:02<00:00, 12.87it/s]\u001b[A\n"
     ]
    }
   ],
   "source": [
    "logits, y_true = dl2data(dl_test)"
   ]
  },
  {
   "cell_type": "code",
   "execution_count": 48,
   "id": "d95ae64c",
   "metadata": {},
   "outputs": [
    {
     "data": {
      "text/plain": [
       "((500,), (500, 24))"
      ]
     },
     "execution_count": 48,
     "metadata": {},
     "output_type": "execute_result"
    }
   ],
   "source": [
    "y_true.shape, logits.shape"
   ]
  },
  {
   "cell_type": "code",
   "execution_count": 49,
   "id": "266e0f5a",
   "metadata": {},
   "outputs": [],
   "source": [
    "y_pred = logits.argmax(axis=-1)\n",
    "y_prob = scipy.special.softmax(logits, axis=-1)"
   ]
  },
  {
   "cell_type": "code",
   "execution_count": 50,
   "id": "3bfcd9a0",
   "metadata": {},
   "outputs": [
    {
     "data": {
      "text/plain": [
       "((500,), (500, 24))"
      ]
     },
     "execution_count": 50,
     "metadata": {},
     "output_type": "execute_result"
    }
   ],
   "source": [
    "y_pred.shape, y_prob.shape"
   ]
  },
  {
   "cell_type": "code",
   "execution_count": 51,
   "id": "5fef70ef-3471-4eb9-8fdf-3e027f3b4f39",
   "metadata": {},
   "outputs": [
    {
     "name": "stdout",
     "output_type": "stream",
     "text": [
      "              precision    recall  f1-score   support\n",
      "\n",
      "           0       0.00      0.00      0.00         3\n",
      "           1       0.44      0.78      0.56       140\n",
      "           2       0.68      0.70      0.69       109\n",
      "           3       0.35      0.40      0.37        91\n",
      "           4       0.00      0.00      0.00        35\n",
      "           5       0.25      0.04      0.07        23\n",
      "           6       0.50      0.05      0.10        19\n",
      "           7       0.00      0.00      0.00        10\n",
      "           8       1.00      0.11      0.20         9\n",
      "           9       0.00      0.00      0.00        15\n",
      "          10       0.00      0.00      0.00         8\n",
      "          11       0.00      0.00      0.00        12\n",
      "          12       0.00      0.00      0.00         7\n",
      "          13       0.50      0.17      0.25         6\n",
      "          14       1.00      0.20      0.33         5\n",
      "          15       0.00      0.00      0.00         3\n",
      "          16       0.00      0.00      0.00         2\n",
      "          17       0.00      0.00      0.00         1\n",
      "          18       0.00      0.00      0.00         0\n",
      "          19       0.00      0.00      0.00         1\n",
      "          20       0.00      0.00      0.00         1\n",
      "\n",
      "    accuracy                           0.45       500\n",
      "   macro avg       0.22      0.12      0.12       500\n",
      "weighted avg       0.40      0.45      0.39       500\n",
      "\n"
     ]
    },
    {
     "name": "stderr",
     "output_type": "stream",
     "text": [
      "/home/kapond/.conda/envs/dani_torch/lib/python3.11/site-packages/sklearn/metrics/_classification.py:1469: UndefinedMetricWarning: Precision and F-score are ill-defined and being set to 0.0 in labels with no predicted samples. Use `zero_division` parameter to control this behavior.\n",
      "  _warn_prf(average, modifier, msg_start, len(result))\n",
      "/home/kapond/.conda/envs/dani_torch/lib/python3.11/site-packages/sklearn/metrics/_classification.py:1469: UndefinedMetricWarning: Recall and F-score are ill-defined and being set to 0.0 in labels with no true samples. Use `zero_division` parameter to control this behavior.\n",
      "  _warn_prf(average, modifier, msg_start, len(result))\n",
      "/home/kapond/.conda/envs/dani_torch/lib/python3.11/site-packages/sklearn/metrics/_classification.py:1469: UndefinedMetricWarning: Precision and F-score are ill-defined and being set to 0.0 in labels with no predicted samples. Use `zero_division` parameter to control this behavior.\n",
      "  _warn_prf(average, modifier, msg_start, len(result))\n",
      "/home/kapond/.conda/envs/dani_torch/lib/python3.11/site-packages/sklearn/metrics/_classification.py:1469: UndefinedMetricWarning: Recall and F-score are ill-defined and being set to 0.0 in labels with no true samples. Use `zero_division` parameter to control this behavior.\n",
      "  _warn_prf(average, modifier, msg_start, len(result))\n",
      "/home/kapond/.conda/envs/dani_torch/lib/python3.11/site-packages/sklearn/metrics/_classification.py:1469: UndefinedMetricWarning: Precision and F-score are ill-defined and being set to 0.0 in labels with no predicted samples. Use `zero_division` parameter to control this behavior.\n",
      "  _warn_prf(average, modifier, msg_start, len(result))\n",
      "/home/kapond/.conda/envs/dani_torch/lib/python3.11/site-packages/sklearn/metrics/_classification.py:1469: UndefinedMetricWarning: Recall and F-score are ill-defined and being set to 0.0 in labels with no true samples. Use `zero_division` parameter to control this behavior.\n",
      "  _warn_prf(average, modifier, msg_start, len(result))\n"
     ]
    }
   ],
   "source": [
    "print(classification_report(y_true, y_pred))"
   ]
  },
  {
   "cell_type": "markdown",
   "id": "5e5a0f79-8d24-41cc-8da2-079d5f140675",
   "metadata": {},
   "source": [
    "# Check Metrics"
   ]
  },
  {
   "cell_type": "code",
   "execution_count": 52,
   "id": "55de57f5-ea49-4a38-96af-f55846238ce5",
   "metadata": {},
   "outputs": [],
   "source": [
    "EARLY_BRONZE = {\n",
    "    'Old Akkadian', 'Ur III',\n",
    "    'ED IIIb', 'Uruk III',\n",
    "    'Proto-Elamite', 'Lagash II',\n",
    "    'Ebla', 'ED IIIa', 'ED I-II',\n",
    "    'Uruk IV', 'Linear Elamite',\n",
    "    'Harappan'\n",
    "    \n",
    "}\n",
    "MID_LATE_BRONZE = {\n",
    "    'Early Old Babylonian',\n",
    "    'Old Babylonian', 'Old Assyrian',\n",
    "    'Middle Babylonian', 'Middle Assyrian',\n",
    "    'Middle Elamite', 'Middle Hittite'\n",
    "}\n",
    "IRON = {\n",
    "    'Neo-Babylonian', 'Neo-Assyrian',\n",
    "    'Achaemenid', 'Hellenistic',\n",
    "    'Neo-Elamite'\n",
    "}\n",
    "ERA_MAP = {\n",
    "    **{K: 'EB' for K in EARLY_BRONZE},\n",
    "    **{K: 'MLB' for K in MID_LATE_BRONZE},\n",
    "    **{K: 'I' for K in IRON},\n",
    "}"
   ]
  },
  {
   "cell_type": "code",
   "execution_count": 53,
   "id": "f9348ded-4f7d-41fb-9093-cec6059eea3e",
   "metadata": {},
   "outputs": [],
   "source": [
    "def explain(period):\n",
    "    return f'{period} ({ERA_MAP.get(period, \"?\")})'"
   ]
  },
  {
   "cell_type": "code",
   "execution_count": 54,
   "id": "f5ef2f22-f998-4d41-84c6-52b9db3da15c",
   "metadata": {},
   "outputs": [],
   "source": [
    "idx2period = {v: k for k, v in TabletPeriodDataset.PERIOD_INDICES.items()}\n",
    "idx2period[0] = 'other'"
   ]
  },
  {
   "cell_type": "code",
   "execution_count": 55,
   "id": "9f2964b0",
   "metadata": {},
   "outputs": [
    {
     "name": "stdout",
     "output_type": "stream",
     "text": [
      "Common labels: (9)\n"
     ]
    },
    {
     "data": {
      "text/plain": [
       "[(1, 'Ur III (EB)'),\n",
       " (2, 'Neo-Assyrian (I)'),\n",
       " (3, 'Old Babylonian (MLB)'),\n",
       " (4, 'Middle Babylonian (MLB)'),\n",
       " (5, 'Neo-Babylonian (I)'),\n",
       " (6, 'Old Akkadian (EB)'),\n",
       " (7, 'Achaemenid (I)'),\n",
       " (9, 'ED IIIb (EB)'),\n",
       " (11, 'Old Assyrian (MLB)')]"
      ]
     },
     "execution_count": 55,
     "metadata": {},
     "output_type": "execute_result"
    }
   ],
   "source": [
    "# let's just use classes with support >=10, everything else goes to 0: other\n",
    "COMMON_LABELS = list({k for k, v in Counter(y_true).items() if v >= 10})\n",
    "print(f'Common labels: ({len(COMMON_LABELS)})')\n",
    "[(i, explain(idx2period[i])) for i in COMMON_LABELS]"
   ]
  },
  {
   "cell_type": "code",
   "execution_count": 56,
   "id": "950685c8",
   "metadata": {},
   "outputs": [
    {
     "name": "stdout",
     "output_type": "stream",
     "text": [
      "0.092 changed to \"other\"\n"
     ]
    }
   ],
   "source": [
    "y_true_c = y_true.copy()\n",
    "y_true_c[~np.isin(y_true, COMMON_LABELS)] = 0\n",
    "print((~np.isin(y_true, COMMON_LABELS)).mean(), 'changed to \"other\"')"
   ]
  },
  {
   "cell_type": "code",
   "execution_count": 57,
   "id": "50b1e78e",
   "metadata": {},
   "outputs": [
    {
     "name": "stdout",
     "output_type": "stream",
     "text": [
      "0.028 changed to \"other\"\n"
     ]
    }
   ],
   "source": [
    "y_pred_c = y_pred.copy()\n",
    "y_pred_c[~np.isin(y_pred, COMMON_LABELS)] = 0\n",
    "print((~np.isin(y_pred, COMMON_LABELS)).mean(), 'changed to \"other\"')"
   ]
  },
  {
   "cell_type": "code",
   "execution_count": 58,
   "id": "f93f3532",
   "metadata": {
    "scrolled": true
   },
   "outputs": [
    {
     "name": "stdout",
     "output_type": "stream",
     "text": [
      "10\n",
      "[0, 1, 2, 3, 4, 5, 6, 7, 9, 11]\n",
      "['other (?)', 'Ur III (EB)', 'Neo-Assyrian (I)', 'Old Babylonian (MLB)', 'Middle Babylonian (MLB)', 'Neo-Babylonian (I)', 'Old Akkadian (EB)', 'Achaemenid (I)', 'ED IIIb (EB)', 'Old Assyrian (MLB)']\n"
     ]
    }
   ],
   "source": [
    "indices_c = list(set(y_true_c) | set(y_pred_c))\n",
    "print(len(indices_c))\n",
    "print(indices_c)\n",
    "PERIOD_LABELS_C = [explain(idx2period[i]) for i in indices_c]\n",
    "print(PERIOD_LABELS_C)"
   ]
  },
  {
   "cell_type": "code",
   "execution_count": 59,
   "id": "807b7258",
   "metadata": {
    "scrolled": true
   },
   "outputs": [
    {
     "name": "stdout",
     "output_type": "stream",
     "text": [
      "                         precision    recall  f1-score   support\n",
      "\n",
      "              other (?)       0.29      0.09      0.13        46\n",
      "            Ur III (EB)       0.44      0.78      0.56       140\n",
      "       Neo-Assyrian (I)       0.68      0.70      0.69       109\n",
      "   Old Babylonian (MLB)       0.35      0.40      0.37        91\n",
      "Middle Babylonian (MLB)       0.00      0.00      0.00        35\n",
      "     Neo-Babylonian (I)       0.25      0.04      0.07        23\n",
      "      Old Akkadian (EB)       0.50      0.05      0.10        19\n",
      "         Achaemenid (I)       0.00      0.00      0.00        10\n",
      "           ED IIIb (EB)       0.00      0.00      0.00        15\n",
      "     Old Assyrian (MLB)       0.00      0.00      0.00        12\n",
      "\n",
      "               accuracy                           0.45       500\n",
      "              macro avg       0.25      0.21      0.19       500\n",
      "           weighted avg       0.39      0.45      0.39       500\n",
      "\n"
     ]
    }
   ],
   "source": [
    "print(classification_report(y_true_c, y_pred_c, target_names=PERIOD_LABELS_C))"
   ]
  },
  {
   "cell_type": "code",
   "execution_count": null,
   "id": "7564f18e-1cc0-4ab4-86ce-a6d2d1f6138d",
   "metadata": {},
   "outputs": [],
   "source": []
  }
 ],
 "metadata": {
  "kernelspec": {
   "display_name": "dani_torch",
   "language": "python",
   "name": "dani_torch"
  },
  "language_info": {
   "codemirror_mode": {
    "name": "ipython",
    "version": 3
   },
   "file_extension": ".py",
   "mimetype": "text/x-python",
   "name": "python",
   "nbconvert_exporter": "python",
   "pygments_lexer": "ipython3",
   "version": "3.11.5"
  }
 },
 "nbformat": 4,
 "nbformat_minor": 5
}
