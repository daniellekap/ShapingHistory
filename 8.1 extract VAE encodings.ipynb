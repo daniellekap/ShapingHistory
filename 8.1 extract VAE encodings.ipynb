{
 "cells": [
  {
   "cell_type": "code",
   "execution_count": 1,
   "id": "fa3873ca-0e46-4b03-9af4-7e294a23e8f7",
   "metadata": {},
   "outputs": [],
   "source": [
    "import torch\n",
    "import pandas as pd\n",
    "from tqdm import tqdm\n",
    "from era_data import TabletPeriodDataset, get_IDS\n",
    "from VAE_model_tablets_class import VAE\n",
    "import numpy as np\n",
    "from PIL import Image\n",
    "from torchvision import transforms"
   ]
  },
  {
   "cell_type": "code",
   "execution_count": 2,
   "id": "5ee5c6af-e853-44bd-84c6-8f49bd788a51",
   "metadata": {},
   "outputs": [],
   "source": [
    "# IMG_DIR = 'output/images'\n",
    "RUN_NAME_SUFFIX = '-masked_w_classification_loss' # ''\n",
    "IMG_DIR = 'output/images_preprocessed'\n",
    "LR = 5e-5\n",
    "EPOCHS = 30\n",
    "BATCH_SIZE = 16\n",
    "SUFFIX = '-resnet50'\n",
    "DATE = 'Oct2-v3'"
   ]
  },
  {
   "cell_type": "code",
   "execution_count": 3,
   "id": "8a77f7cf-9de6-4788-abe9-829e4d1113a6",
   "metadata": {},
   "outputs": [
    {
     "data": {
      "text/plain": [
       "'cuda'"
      ]
     },
     "execution_count": 3,
     "metadata": {},
     "output_type": "execute_result"
    }
   ],
   "source": [
    "device = 'cuda' if torch.cuda.is_available() else 'cpu'\n",
    "device"
   ]
  },
  {
   "cell_type": "code",
   "execution_count": 4,
   "id": "9145fbdd-810d-488d-ba8b-83b2d1d20174",
   "metadata": {},
   "outputs": [
    {
     "data": {
      "text/plain": [
       "97640"
      ]
     },
     "execution_count": 4,
     "metadata": {},
     "output_type": "execute_result"
    }
   ],
   "source": [
    "IDS = get_IDS(IMG_DIR=IMG_DIR)\n",
    "len(IDS)"
   ]
  },
  {
   "cell_type": "code",
   "execution_count": 3,
   "id": "3ef50b95-c41e-4512-8370-794938a3ba78",
   "metadata": {},
   "outputs": [
    {
     "ename": "NameError",
     "evalue": "name 'IDS' is not defined",
     "output_type": "error",
     "traceback": [
      "\u001b[0;31m---------------------------------------------------------------------------\u001b[0m",
      "\u001b[0;31mNameError\u001b[0m                                 Traceback (most recent call last)",
      "Cell \u001b[0;32mIn[3], line 1\u001b[0m\n\u001b[0;32m----> 1\u001b[0m VERSION_NAME \u001b[38;5;241m=\u001b[39m \u001b[38;5;124mf\u001b[39m\u001b[38;5;124m'\u001b[39m\u001b[38;5;124mperiod_clf_bs\u001b[39m\u001b[38;5;132;01m{\u001b[39;00mBATCH_SIZE\u001b[38;5;132;01m}\u001b[39;00m\u001b[38;5;124m_lr\u001b[39m\u001b[38;5;132;01m{\u001b[39;00mLR\u001b[38;5;132;01m}\u001b[39;00m\u001b[38;5;124m_\u001b[39m\u001b[38;5;132;01m{\u001b[39;00mEPOCHS\u001b[38;5;132;01m}\u001b[39;00m\u001b[38;5;124mepochs\u001b[39m\u001b[38;5;132;01m{\u001b[39;00mSUFFIX\u001b[38;5;132;01m}\u001b[39;00m\u001b[38;5;124m-\u001b[39m\u001b[38;5;132;01m{\u001b[39;00m\u001b[38;5;28mlen\u001b[39m(\u001b[43mIDS\u001b[49m)\u001b[38;5;132;01m}\u001b[39;00m\u001b[38;5;124m_samples\u001b[39m\u001b[38;5;132;01m{\u001b[39;00mRUN_NAME_SUFFIX\u001b[38;5;132;01m}\u001b[39;00m\u001b[38;5;124m_blurvae-conv-\u001b[39m\u001b[38;5;132;01m{\u001b[39;00mDATE\u001b[38;5;132;01m}\u001b[39;00m\u001b[38;5;124m'\u001b[39m\n\u001b[1;32m      2\u001b[0m VERSION_NAME\n",
      "\u001b[0;31mNameError\u001b[0m: name 'IDS' is not defined"
     ]
    }
   ],
   "source": [
    "VERSION_NAME = f'period_clf_bs{BATCH_SIZE}_lr{LR}_{EPOCHS}epochs{SUFFIX}-{len(IDS)}_samples{RUN_NAME_SUFFIX}_blurvae-conv-{DATE}'\n",
    "VERSION_NAME"
   ]
  },
  {
   "cell_type": "code",
   "execution_count": 6,
   "id": "6fe2f524-dab7-48c9-b4e0-5c4efe2ded07",
   "metadata": {},
   "outputs": [],
   "source": [
    "VERNAME = 'period_clf_bs16_lr5e-05_15epochs-resnet50-97640_samples-masked-Sept_19_blur-early_stopping-1'\n",
    "\n",
    "train_ids = pd.read_csv(f'output/clf_ids/period-train-{VERNAME}.csv', header=None)[0].astype(str)\n",
    "test_ids = pd.read_csv(f'output/clf_ids/period-test-{VERNAME}.csv', header=None)[0].astype(str)"
   ]
  },
  {
   "cell_type": "code",
   "execution_count": 7,
   "id": "895f1f09-56d5-4b15-9be1-5fe8225f0e31",
   "metadata": {},
   "outputs": [
    {
     "name": "stdout",
     "output_type": "stream",
     "text": [
      "Filtering 97640 IDS down to provided 97140...\n",
      "Filtering 97640 IDS down to provided 500...\n"
     ]
    }
   ],
   "source": [
    "ds_train = TabletPeriodDataset(IDS=train_ids, IMG_DIR=IMG_DIR, mask=True)\n",
    "ds_test = TabletPeriodDataset(IDS=test_ids, IMG_DIR=IMG_DIR, mask=True)"
   ]
  },
  {
   "cell_type": "code",
   "execution_count": 8,
   "id": "7437bfc9-1414-4481-b118-db20a88f87c3",
   "metadata": {},
   "outputs": [
    {
     "data": {
      "text/plain": [
       "22"
      ]
     },
     "execution_count": 8,
     "metadata": {},
     "output_type": "execute_result"
    }
   ],
   "source": [
    "num_classes = len(TabletPeriodDataset.PERIOD_INDICES)\n",
    "num_classes"
   ]
  },
  {
   "cell_type": "code",
   "execution_count": 9,
   "id": "4fa11e04-1546-4e53-8afb-d4b41e39b671",
   "metadata": {},
   "outputs": [],
   "source": [
    "class_weights = torch.load(\"data/class_weights_period.pt\")"
   ]
  },
  {
   "cell_type": "code",
   "execution_count": 10,
   "id": "1e0da105-ed67-4c93-aec7-b7300c68956b",
   "metadata": {},
   "outputs": [
    {
     "name": "stderr",
     "output_type": "stream",
     "text": [
      "/sise/mickyfi-group/kapond/AnalysisBySynthesis/VAE_model_tablets_class.py:95: UserWarning: To copy construct from a tensor, it is recommended to use sourceTensor.clone().detach() or sourceTensor.clone().detach().requires_grad_(True), rather than torch.tensor(sourceTensor).\n",
      "  self.class_weights = torch.tensor(class_weights).to(device)\n"
     ]
    }
   ],
   "source": [
    "chekpoint_path = f'lightning_logs/{VERSION_NAME}/checkpoints/epoch=29-step=407516.ckpt'\n",
    "vae_model = VAE.load_from_checkpoint(chekpoint_path,image_channels=1,z_dim=16, lr =1e-5, use_classification_loss=True, num_classes=num_classes,\n",
    "            loss_type=\"weighted\", class_weights=class_weights, device = device)"
   ]
  },
  {
   "cell_type": "code",
   "execution_count": 11,
   "id": "bf7e44ee-99a6-4e70-8a36-2d5dfcd8f022",
   "metadata": {},
   "outputs": [],
   "source": [
    "# Function to preprocess an image\n",
    "def preprocess_image(img, label, genre, prov):\n",
    "    img = np.array(Image.fromarray(img).resize((178, 218), Image.NEAREST))  # Resize the image\n",
    "    return img, label, genre, prov\n",
    "\n",
    "def process_batch(batch, vae_model, device):\n",
    "    # Preprocess each image in the batch\n",
    "    preprocessed_batch = [preprocess_image(img, label, genre, prov) for img, label, genre, prov in batch]\n",
    "    imgs, periods, genres, provs = zip(*preprocessed_batch)\n",
    "\n",
    "    # Convert list of images to torch tensor and move to the device\n",
    "    img_tensors = torch.stack([transforms.ToTensor()(img) for img in imgs]).to(device)\n",
    "\n",
    "    with torch.no_grad():\n",
    "        encodings = vae_model.representation(img_tensors)\n",
    "    encodings = encodings.cpu().numpy()\n",
    "\n",
    "    return encodings, periods, genres, provs"
   ]
  },
  {
   "cell_type": "code",
   "execution_count": 12,
   "id": "c3048546-7a3c-412c-a2ea-2d1bdebb13b2",
   "metadata": {},
   "outputs": [],
   "source": [
    "def get_encodings_and_labels(dataset, vae_model, device='cuda', batch_size=32):\n",
    "    vae_model.to(device)\n",
    "    vae_model.eval()\n",
    "\n",
    "    all_encodings = []\n",
    "    all_periods = []\n",
    "    all_genres = []\n",
    "    all_provs = []\n",
    "    \n",
    "    num_batches = (len(dataset) + batch_size - 1) // batch_size\n",
    "\n",
    "    for i in tqdm(range(num_batches)):\n",
    "        start_idx = i * batch_size\n",
    "        end_idx = min(start_idx + batch_size, len(dataset))\n",
    "        batch = [dataset[j] for j in range(start_idx, end_idx)]\n",
    "        encodings, periods, genres, provs = process_batch(batch, vae_model, device)\n",
    "        all_encodings.extend(encodings)\n",
    "        all_periods.extend(periods)\n",
    "        all_genres.extend(genres)\n",
    "        all_provs.extend(provs)\n",
    "\n",
    "    return np.array(all_encodings), np.array(all_periods), np.array(all_genres), np.array(all_provs)"
   ]
  },
  {
   "cell_type": "code",
   "execution_count": 13,
   "id": "ed181c43-d761-4a72-b4ad-23a231750001",
   "metadata": {},
   "outputs": [
    {
     "name": "stderr",
     "output_type": "stream",
     "text": [
      "100%|██████████| 2972/2972 [12:20<00:00,  4.01it/s]\n"
     ]
    }
   ],
   "source": [
    "# Main execution\n",
    "encodings, periods, genres, provs = get_encodings_and_labels(ds_train, vae_model)"
   ]
  },
  {
   "cell_type": "code",
   "execution_count": 14,
   "id": "6a7619cd-b805-4e12-9d46-b65f7c1b3d5a",
   "metadata": {},
   "outputs": [],
   "source": [
    "# Create dataframe\n",
    "df = pd.DataFrame(encodings, columns=[f\"X{i}\" for i in range(1, encodings.shape[1] + 1)])\n",
    "df['Period'] = periods\n",
    "df['Genre'] = genres\n",
    "df['Provenience'] = provs"
   ]
  },
  {
   "cell_type": "code",
   "execution_count": 16,
   "id": "32c32e19-7544-4e0a-8b85-ca2c7a6d4fd7",
   "metadata": {},
   "outputs": [],
   "source": [
    "PERIOD_INDICES = {\n",
    "\n",
    "    0: 'other',\n",
    "    1: 'Ur III',\n",
    "    2: 'Neo-Assyrian',\n",
    "    3: 'Old Babylonian',\n",
    "    4: 'Middle Babylonian',\n",
    "    5: 'Neo-Babylonian',\n",
    "    6: 'Old Akkadian',\n",
    "    7: 'Achaemenid',\n",
    "    8: 'Early Old Babylonian',\n",
    "    9: 'ED IIIb',\n",
    "    10: 'Middle Assyrian',\n",
    "    11: 'Old Assyrian',\n",
    "    12: 'Uruk III',\n",
    "    13: 'Proto-Elamite',\n",
    "    14: 'Lagash II',\n",
    "    15: 'Ebla',\n",
    "    16: 'ED IIIa',\n",
    "    17: 'Hellenistic',\n",
    "    18: 'ED I-II',\n",
    "    19: 'Middle Elamite',\n",
    "    20: 'Middle Hittite',\n",
    "    21: 'Uruk IV'\n",
    "}"
   ]
  },
  {
   "cell_type": "code",
   "execution_count": 17,
   "id": "29e99baa-736f-4dac-b2ca-ea542de7bf65",
   "metadata": {},
   "outputs": [],
   "source": [
    "PROVENIENCE_INDICES = {\n",
    "    1: 'Nineveh',\n",
    "    2: 'Nippur',\n",
    "    3: 'unknown',\n",
    "    4: 'Umma',\n",
    "    5: 'Puzris-Dagan',\n",
    "    6: 'Girsu',\n",
    "    7: 'Ur',\n",
    "    8: 'Uruk',\n",
    "    9: 'Kanesh',\n",
    "    10: 'Assur',\n",
    "    11: 'Adab',\n",
    "    12: 'Garsana',\n",
    "    13: 'Gasur/Nuzi',\n",
    "    14: 'Susa',\n",
    "    15: 'Sippar-Yahrurum',\n",
    "    16: 'Larsa',\n",
    "    17: 'Nerebtum',\n",
    "    18: 'mod. Babylonia',\n",
    "    19: 'Parsa',\n",
    "    20: 'Kish',\n",
    "    21: 'Kalhu',\n",
    "    22: 'Tuttul',\n",
    "    23: 'Suruppak',\n",
    "    24: 'Babili',\n",
    "    25: 'Ebla',\n",
    "    26: 'mod. Beydar',\n",
    "    27: 'Akhetaten',\n",
    "    28: 'Esnunna',\n",
    "    29: 'Borsippa',\n",
    "    30: 'Kar-Tukulti-Ninurta',\n",
    "    31: 'mod. Jemdet Nasr',\n",
    "    32: 'mod. northern Babylonia',\n",
    "    33: 'Alalakh',\n",
    "    34: 'Hattusa',\n",
    "    35: 'Isin',\n",
    "    36: 'Elbonia',\n",
    "    37: 'Sibaniba',\n",
    "    38: 'Tutub',\n",
    "    39: 'Pi-Kasi',\n",
    "    40: 'Irisagrig',\n",
    "    41: 'Ansan',\n",
    "    42: 'Dilbat',\n",
    "    43: 'Zabalam',\n",
    "    44: 'mod. Mugdan/ Umm al-Jir',\n",
    "    45: 'Marad',\n",
    "    46: 'Eridu',\n",
    "    47: 'Seleucia',\n",
    "    48: 'mod. Abu Halawa',\n",
    "    49: 'Dur-Untas',\n",
    "    50: 'Nagar',\n",
    "    51: 'Lagaba',\n",
    "    52: 'Asnakkum',\n",
    "    53: 'Dur-Kurigalzu',\n",
    "    54: 'mod. Tell Sabaa',\n",
    "    55: 'mod. Abu Jawan',\n",
    "    56: 'mod. Tell Fakhariyah',\n",
    "    57: 'Dur-Abi-esuh',\n",
    "    58: 'Ugarit',\n",
    "    59: 'mod. Diqdiqqah',\n",
    "    60: 'Tarbisu',\n",
    "    61: 'Lagash',\n",
    "    62: 'Kisurra',\n",
    "    63: 'Elammu',\n",
    "    64: 'Du-Enlila',\n",
    "    65: 'Kutha',\n",
    "    66: 'mod. Umm el-Hafriyat',\n",
    "    67: 'Dur-Sarrukin',\n",
    "    68: 'Bad-Tibira',\n",
    "    69: 'Bit-zerija',\n",
    "    70: 'Kilizu',\n",
    "    71: 'mod. Pasargadae',\n",
    "    72: 'Abdju',\n",
    "    73: 'Surmes',\n",
    "    74: 'mod. Qatibat',\n",
    "    75: 'Tigunanum',\n",
    "    76: 'mod. Tell al-Lahm',\n",
    "    77: 'mod. Mesopotamia',\n",
    "    78: 'Subat-Enlil',\n",
    "    79: 'mod. Konar Sandal',\n",
    "    80: 'Gissi',\n",
    "    81: 'Agamatanu',\n",
    "    82: 'Aqa',\n",
    "    83: 'Kapri-sa-naqidati',\n",
    "    84: 'Esura',\n",
    "    85: 'Nahalla',\n",
    "    86: 'Bit-Sahtu',\n",
    "    87: 'mod. Sepphoris',\n",
    "    88: 'Dusabar',\n",
    "    89: 'mod. Tell Sifr',\n",
    "    90: 'Nasir',\n",
    "    91: 'Kumu',\n",
    "    92: 'Kazallu',\n",
    "    93: 'Kapru',\n",
    "    94: 'Hurruba',\n",
    "    95: 'mod. Deh-e-no, Iran',\n",
    "    96: \"mod. Za'aleh\",\n",
    "    97: 'mod. Tepe Farukhabad',\n",
    "    98: 'Hursagkalama',\n",
    "    99: 'Carchemish',\n",
    "    100: 'mod. Ben Shemen, Israel',\n",
    "    101: 'Kutalla',\n",
    "     102: 'Der',\n",
    "    103: 'Imgur-Enlil',\n",
    "    104: 'mod. Hillah',\n",
    "    105: 'mod. Uhudu',\n",
    "    106: 'mod. Mahmudiyah',\n",
    "    107: 'Terqa',\n",
    "    108: 'Arrapha',\n",
    "    109: 'mod. Tell en-Nasbeh',\n",
    "    110: 'mod. Kalah Shergat',\n",
    "    111: 'Kar-Nabu',\n",
    "    112: 'Harran',\n",
    "    113: 'mod. Til-Buri',\n",
    "    114: 'Shuruppak',\n",
    "    115: 'mod. Abu Salabikh',\n",
    "    116: \"Ma'allanate\",\n",
    "    117: 'Kar-Mullissu',\n",
    "    118: 'mod. Naqs-i-Rustam'\n",
    "}\n"
   ]
  },
  {
   "cell_type": "code",
   "execution_count": 18,
   "id": "8e785a34-f7bc-4e45-99a2-bf1a55cce0ac",
   "metadata": {},
   "outputs": [],
   "source": [
    "GENRE_INDICES = {\n",
    "        \n",
    "        1: 'Administrative',\n",
    "        2: 'Letter',\n",
    "        3: 'Legal',\n",
    "        4: 'Royal/Monumental',\n",
    "        5: 'Literary',\n",
    "        6: 'Lexical',\n",
    "        7: 'Omen',\n",
    "        8: 'uncertain',\n",
    "        9: 'School',\n",
    "        10: 'Mathematical',\n",
    "        11: 'Prayer/Incantation',\n",
    "        12: 'Scientific',\n",
    "        13: 'Ritual',\n",
    "        14: 'fake (modern)',\n",
    "        15: 'Astronomical',\n",
    "        16: 'Private/Votive',\n",
    "    }"
   ]
  },
  {
   "cell_type": "code",
   "execution_count": 19,
   "id": "c48249c4-0b05-49ea-8c83-d712c8eebfff",
   "metadata": {},
   "outputs": [],
   "source": [
    "df['Period_Name'] = df['Period'].map(PERIOD_INDICES)"
   ]
  },
  {
   "cell_type": "code",
   "execution_count": 20,
   "id": "87679d9d-8c7a-4c34-b723-680ceb995792",
   "metadata": {},
   "outputs": [],
   "source": [
    "df['Genre_Name'] = df['Genre'].map(GENRE_INDICES)"
   ]
  },
  {
   "cell_type": "code",
   "execution_count": 21,
   "id": "6fd69a9b-7b66-4143-bb74-843083d905bd",
   "metadata": {},
   "outputs": [],
   "source": [
    "df['Provenience_Name'] = df['Provenience'].map(PROVENIENCE_INDICES)"
   ]
  },
  {
   "cell_type": "code",
   "execution_count": 24,
   "id": "7a9e7093-bf9f-4fb8-ba4b-338af0b86f5c",
   "metadata": {},
   "outputs": [],
   "source": [
    "df.to_csv(f\"vae_encodings_and_data/vae_encoding_df_{DATE}_w_class_train_w_prov.csv\", index=False)"
   ]
  },
  {
   "cell_type": "markdown",
   "id": "2e7fc915-c34f-472d-aa82-1593052746bd",
   "metadata": {},
   "source": [
    "I will now repeat the process for the test set:"
   ]
  },
  {
   "cell_type": "code",
   "execution_count": 26,
   "id": "defe907b-9773-4b27-b78a-2cb3a4c332ec",
   "metadata": {},
   "outputs": [
    {
     "name": "stderr",
     "output_type": "stream",
     "text": [
      "100%|██████████| 16/16 [00:03<00:00,  4.30it/s]\n"
     ]
    }
   ],
   "source": [
    "# Main execution\n",
    "encodings, periods, genres, provs = get_encodings_and_labels(ds_test, vae_model)\n",
    "\n",
    "# Create dataframe\n",
    "df_test = pd.DataFrame(encodings, columns=[f\"X{i}\" for i in range(1, encodings.shape[1] + 1)])\n",
    "df_test['Period'] = periods\n",
    "df_test['Genre'] = genres\n",
    "df_test['Provenience'] = provs"
   ]
  },
  {
   "cell_type": "code",
   "execution_count": 27,
   "id": "cc6de4b4-c5df-4363-93fb-62db86d5cd62",
   "metadata": {},
   "outputs": [],
   "source": [
    "df_test['Period_Name'] = df_test['Period'].map(PERIOD_INDICES)\n",
    "df_test['Genre_Name'] = df_test['Genre'].map(GENRE_INDICES)\n",
    "df_test['Provenience_Name'] = df_test['Genre'].map(PROVENIENCE_INDICES)"
   ]
  },
  {
   "cell_type": "code",
   "execution_count": 28,
   "id": "f3d742ea-220b-42ea-9140-e17c0dd7e95b",
   "metadata": {},
   "outputs": [],
   "source": [
    "df_test.to_csv(f\"vae_encodings_and_data/vae_encoding_df_{DATE}_w_class_test_w_provs.csv\", index=False)"
   ]
  }
 ],
 "metadata": {
  "kernelspec": {
   "display_name": "dani_torch",
   "language": "python",
   "name": "dani_torch"
  },
  "language_info": {
   "codemirror_mode": {
    "name": "ipython",
    "version": 3
   },
   "file_extension": ".py",
   "mimetype": "text/x-python",
   "name": "python",
   "nbconvert_exporter": "python",
   "pygments_lexer": "ipython3",
   "version": "3.11.5"
  }
 },
 "nbformat": 4,
 "nbformat_minor": 5
}
