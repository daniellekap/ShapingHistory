{
 "cells": [
  {
   "cell_type": "code",
   "execution_count": 1,
   "id": "6c3f6970-38f1-47bf-839a-6b916a1a8dc6",
   "metadata": {},
   "outputs": [],
   "source": [
    "import io\n",
    "\n",
    "from IPython.display import display\n",
    "import ipywidgets as widgets\n",
    "import numpy as np\n",
    "import pandas as pd\n",
    "from PIL import Image as PILImage\n",
    "import torch\n",
    "\n",
    "from era_data import TabletPeriodDataset, get_IDS\n",
    "from VAE_model_tablets_class import VAE"
   ]
  },
  {
   "cell_type": "markdown",
   "id": "9038f2ee-50a3-49ea-ac8f-5727dd7e37cf",
   "metadata": {},
   "source": [
    "# Hyperparameter"
   ]
  },
  {
   "cell_type": "code",
   "execution_count": 2,
   "id": "0120fc3a-66dc-491e-92a1-940e3d76b336",
   "metadata": {},
   "outputs": [
    {
     "name": "stdout",
     "output_type": "stream",
     "text": [
      "94936\n"
     ]
    }
   ],
   "source": [
    "IMG_DIR = 'output/images_preprocessed'\n",
    "BATCH_SIZE = 16\n",
    "VERSION_NAME = 'period_clf_bs16_lr5e-05_beta_1_epochs_30-VAE-94936_samples-masked_w_classification_loss-equalpartsloss-March29'\n",
    "IDS = get_IDS(IMG_DIR=IMG_DIR)\n",
    "print(len(IDS))"
   ]
  },
  {
   "cell_type": "code",
   "execution_count": 3,
   "id": "2426ad09-484e-44bc-aa4c-a93f4e5f3e8e",
   "metadata": {},
   "outputs": [],
   "source": [
    "num_classes = len(TabletPeriodDataset.PERIOD_INDICES)\n",
    "\n",
    "class_weights = torch.load(\"data/class_weights_period.pt\")"
   ]
  },
  {
   "cell_type": "markdown",
   "id": "a1fb1ff9-0f9f-4648-98cc-5269c7d7c27f",
   "metadata": {},
   "source": [
    "# Load model"
   ]
  },
  {
   "cell_type": "code",
   "execution_count": 4,
   "id": "5776ac46-452e-4341-b7dc-3969a35b40f8",
   "metadata": {},
   "outputs": [],
   "source": [
    "device = 'cuda' if torch.cuda.is_available() else 'cpu'"
   ]
  },
  {
   "cell_type": "code",
   "execution_count": 5,
   "id": "41188a14-83d3-4a6f-a9de-23e08aefcb21",
   "metadata": {},
   "outputs": [
    {
     "name": "stderr",
     "output_type": "stream",
     "text": [
      "/sise/mickyfi-group/kapond/AnalysisBySynthesis/VAE_model_tablets_class.py:75: UserWarning: To copy construct from a tensor, it is recommended to use sourceTensor.clone().detach() or sourceTensor.clone().detach().requires_grad_(True), rather than torch.tensor(sourceTensor).\n",
      "  self.class_weights = torch.tensor(class_weights).to(device)\n"
     ]
    }
   ],
   "source": [
    "checkpoint_path = f'lightning_logs/{VERSION_NAME}/checkpoints/epoch=29-step=170458.ckpt'\n",
    "vae_model = VAE.load_from_checkpoint(checkpoint_path,image_channels=1,z_dim=12, lr =5e-5, use_classification_loss=True, num_classes=num_classes,\n",
    "            loss_type=\"weighted\", class_weights=class_weights, device = device)"
   ]
  },
  {
   "cell_type": "markdown",
   "id": "d9dfb008-7216-4b9f-bc8b-bfb9fb850c31",
   "metadata": {},
   "source": [
    "# Load data"
   ]
  },
  {
   "cell_type": "code",
   "execution_count": 6,
   "id": "4cfb81c1-3143-4b22-964b-4265b3508fba",
   "metadata": {},
   "outputs": [],
   "source": [
    "df_encodings_train = pd.read_csv(f'vae_encodings_and_data/vae_encoding_df_March30_w_class_train.csv')\n",
    "df_encodings_test = pd.read_csv(f'vae_encodings_and_data/vae_encoding_df_March30_w_class_test.csv')"
   ]
  },
  {
   "cell_type": "code",
   "execution_count": 7,
   "id": "446f38ed-ccdd-46ef-8010-39c4adf94198",
   "metadata": {},
   "outputs": [],
   "source": [
    "df_means = df_encodings_train.drop([\"Period\", \"Genre\", \"Genre_Name\", \"CDLI_id\"], axis = 1).groupby(\"Period_Name\").mean().reset_index()"
   ]
  },
  {
   "cell_type": "markdown",
   "id": "dd248535-e884-4d47-ab40-da6bcdb6ad68",
   "metadata": {},
   "source": [
    "# Interpulation Widget"
   ]
  },
  {
   "cell_type": "code",
   "execution_count": 11,
   "id": "6a79f0f6-67b6-4b9b-ba34-d44d38a9f1df",
   "metadata": {},
   "outputs": [
    {
     "data": {
      "application/vnd.jupyter.widget-view+json": {
       "model_id": "58175a1a743945e1aea1050b795c8169",
       "version_major": 2,
       "version_minor": 0
      },
      "text/plain": [
       "VBox(children=(HBox(children=(Dropdown(description='Period 1', layout=Layout(width='60%'), options=('Achaemeni…"
      ]
     },
     "metadata": {},
     "output_type": "display_data"
    }
   ],
   "source": [
    "period_names = df_means['Period_Name'].unique()\n",
    "\n",
    "image_widget = widgets.Image(layout=widgets.Layout(height='200px', width='200px', border='2px solid black'))\n",
    "slider = widgets.FloatSlider(value=0, min=0, max=1, step=0.1, description='Interpolation')\n",
    "dropdown1 = widgets.Dropdown(options=period_names, description='Period 1', layout=widgets.Layout(width='60%'))\n",
    "dropdown2 = widgets.Dropdown(options=period_names, description='Period 2', layout=widgets.Layout(width='60%'))\n",
    "interpolate_button = widgets.Button(description=\"Interpolate\")\n",
    "\n",
    "def get_image_from_period(period_name):\n",
    "    period_data = torch.from_numpy(df_means[df_means[\"Period_Name\"] == period_name].drop([\"Period_Name\"], axis=1).values[0].astype('float32'))\n",
    "    return period_data\n",
    "\n",
    "def generate_image(*args):\n",
    "    image1 = get_image_from_period(dropdown1.value)\n",
    "    image2 = get_image_from_period(dropdown2.value)\n",
    "\n",
    "    i = slider.value\n",
    "    new_tablet = (1-i) * image1 + i * image2\n",
    "    new_tab_long = vae_model.fc3(new_tablet).unsqueeze(0)\n",
    "    \n",
    "    with torch.no_grad():\n",
    "        generated_image = vae_model.decoder(new_tab_long)\n",
    "    generated_image = generated_image[0][0].detach().cpu().numpy()\n",
    "    generated_image = (generated_image * 255).astype(np.uint8)\n",
    "    pil_img = PILImage.fromarray(generated_image)\n",
    "    img_byte_arr = io.BytesIO()\n",
    "    pil_img.save(img_byte_arr, format='PNG')\n",
    "    image_widget.value = img_byte_arr.getvalue()\n",
    "\n",
    "def reset_slider(*args):\n",
    "    slider.value = 0\n",
    "    \n",
    "def interpolate_and_display(*args):\n",
    "    reset_slider()\n",
    "    generate_image()\n",
    "\n",
    "slider.observe(generate_image, names='value')\n",
    "\n",
    "interpolate_button.on_click(interpolate_and_display)\n",
    "\n",
    "dropdowns = widgets.HBox([dropdown1, dropdown2], layout=widgets.Layout(justify_content='center'))\n",
    "\n",
    "image_container = widgets.HBox([image_widget], layout=widgets.Layout(justify_content='center'))\n",
    "\n",
    "controls_and_display = widgets.VBox([dropdowns, interpolate_button, slider, image_container], layout=widgets.Layout(align_items='center'))\n",
    "\n",
    "display(controls_and_display)"
   ]
  },
  {
   "cell_type": "code",
   "execution_count": null,
   "id": "1e2c7b63-f486-4623-9120-a3d8a3d39fca",
   "metadata": {},
   "outputs": [],
   "source": []
  }
 ],
 "metadata": {
  "kernelspec": {
   "display_name": "Python 3 (ipykernel)",
   "language": "python",
   "name": "python3"
  },
  "language_info": {
   "codemirror_mode": {
    "name": "ipython",
    "version": 3
   },
   "file_extension": ".py",
   "mimetype": "text/x-python",
   "name": "python",
   "nbconvert_exporter": "python",
   "pygments_lexer": "ipython3",
   "version": "3.11.5"
  }
 },
 "nbformat": 4,
 "nbformat_minor": 5
}
