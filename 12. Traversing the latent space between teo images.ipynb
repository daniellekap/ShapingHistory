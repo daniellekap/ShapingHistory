{
 "cells": [
  {
   "cell_type": "code",
   "execution_count": null,
   "id": "e3011dba-0628-40b9-a693-098e6fb0617a",
   "metadata": {},
   "outputs": [],
   "source": [
    "# # Create a list to store generated images\n",
    "# generated_images = []\n",
    "# vae_model.eval()\n",
    "# image1 = torch.from_numpy(np.array(Image.fromarray(ds_train[15340][0]).resize((178, 218), Image.NEAREST))).unsqueeze(0)  # Old Babylonian\n",
    "# image2 = torch.from_numpy(np.array(Image.fromarray(ds_train[3500][0]).resize((178, 218), Image.NEAREST))).unsqueeze(0)  # Middle Babylonian\n",
    "# with torch.no_grad():\n",
    "#     latent_vector1 = model_resume.representation(image1.unsqueeze(0))\n",
    "#     latent_vector2 = model_resume.representation(image2.unsqueeze(0))\n",
    "\n",
    "# for i in [0, 0.1, 0.2, 0.3, 0.4, 0.5, 0.6, 0.7, 0.8, 0.9, 1]:\n",
    "#     new_tablet = i * latent_vector1 + (1 - i) * latent_vector2\n",
    "#     new_tab_long = model_resume.fc3(new_tablet)\n",
    "#     with torch.no_grad():\n",
    "#         generated_image = model_resume.decoder(new_tab_long)\n",
    "#     generated_image = generated_image[0][0].detach().cpu().numpy()  # Assuming generated image is in channel-last format (C, H, W)\n",
    "#     generated_images.append((generated_image * 255).astype('uint8'))  # Convert image to uint8 and scale to 0-255\n",
    "\n",
    "# # Save the generated images as GIF\n",
    "# imageio.mimsave('generated_images.gif', generated_images, duration=0.5)"
   ]
  },
  {
   "cell_type": "code",
   "execution_count": 11,
   "id": "6c3f6970-38f1-47bf-839a-6b916a1a8dc6",
   "metadata": {},
   "outputs": [],
   "source": [
    "import numpy as np\n",
    "import ipywidgets as widgets\n",
    "from IPython.display import display, clear_output\n",
    "from ipywidgets import widgets, Output\n",
    "import torch\n",
    "from PIL import Image\n",
    "from era_data import TabletPeriodDataset, get_IDS\n",
    "from VAE_model_tablets_class import VAE\n",
    "import pandas as pd\n",
    "from visualization_funcs import generate_image_from_VAE\n",
    "import plotly.graph_objs as go\n",
    "from ipywidgets import Image, Layout, HBox, VBox, Label\n",
    "from sklearn.cluster import KMeans\n",
    "from PIL import Image as PILImage\n",
    "import io\n",
    "from sklearn.decomposition import PCA\n",
    "from sklearn.preprocessing import StandardScaler"
   ]
  },
  {
   "cell_type": "code",
   "execution_count": 12,
   "id": "0120fc3a-66dc-491e-92a1-940e3d76b336",
   "metadata": {},
   "outputs": [],
   "source": [
    "device = 'cuda' if torch.cuda.is_available() else 'cpu'\n",
    "\n",
    "# IMG_DIR = 'output/images'\n",
    "RUN_NAME_SUFFIX = '-masked_w_classification_loss' # ''\n",
    "IMG_DIR = 'output/images_preprocessed'\n",
    "LR = 5e-5\n",
    "EPOCHS = 30\n",
    "BATCH_SIZE = 16\n",
    "SUFFIX = '-resnet50'\n",
    "DATE = 'Oct2-v3'"
   ]
  },
  {
   "cell_type": "code",
   "execution_count": 13,
   "id": "2426ad09-484e-44bc-aa4c-a93f4e5f3e8e",
   "metadata": {},
   "outputs": [],
   "source": [
    "IDS = get_IDS(IMG_DIR=IMG_DIR)\n",
    "len(IDS)\n",
    "\n",
    "VERSION_NAME = f'period_clf_bs{BATCH_SIZE}_lr{LR}_{EPOCHS}epochs{SUFFIX}-{len(IDS)}_samples{RUN_NAME_SUFFIX}_blurvae-conv-{DATE}'\n",
    "\n",
    "num_classes = len(TabletPeriodDataset.PERIOD_INDICES)\n",
    "\n",
    "class_weights = torch.load(\"data/class_weights_period.pt\")"
   ]
  },
  {
   "cell_type": "code",
   "execution_count": 14,
   "id": "41188a14-83d3-4a6f-a9de-23e08aefcb21",
   "metadata": {},
   "outputs": [],
   "source": [
    "chekpoint_path = f'lightning_logs/{VERSION_NAME}/checkpoints/epoch=29-step=407516.ckpt'"
   ]
  },
  {
   "cell_type": "code",
   "execution_count": 15,
   "id": "b8e6336a-1390-4283-99e5-6fd3195b2642",
   "metadata": {},
   "outputs": [
    {
     "name": "stderr",
     "output_type": "stream",
     "text": [
      "/sise/mickyfi-group/kapond/AnalysisBySynthesis/VAE_model_tablets_class.py:95: UserWarning: To copy construct from a tensor, it is recommended to use sourceTensor.clone().detach() or sourceTensor.clone().detach().requires_grad_(True), rather than torch.tensor(sourceTensor).\n",
      "  self.class_weights = torch.tensor(class_weights).to(device)\n"
     ]
    }
   ],
   "source": [
    "vae_model = VAE.load_from_checkpoint(chekpoint_path,image_channels=1,z_dim=16, lr =1e-5, use_classification_loss=True, num_classes=num_classes,\n",
    "            loss_type=\"weighted\", class_weights=class_weights, device = device)"
   ]
  },
  {
   "cell_type": "code",
   "execution_count": 16,
   "id": "4cfb81c1-3143-4b22-964b-4265b3508fba",
   "metadata": {},
   "outputs": [],
   "source": [
    "df_encodings_train = pd.read_csv('vae_encodings_and_data/vae_encoding_df_Oct2-v3_w_class_train.csv')\n",
    "df_encodings_test = pd.read_csv('vae_encodings_and_data/vae_encoding_df_Oct2-v3_w_class_test.csv')"
   ]
  },
  {
   "cell_type": "code",
   "execution_count": 17,
   "id": "446f38ed-ccdd-46ef-8010-39c4adf94198",
   "metadata": {},
   "outputs": [],
   "source": [
    "# Filter the dataframe for the current primary value\n",
    "df_means = df_encodings_train.drop([\"Period\", \"Genre\", \"Genre_Name\"], axis = 1).groupby(\"Period_Name\").mean().reset_index()"
   ]
  },
  {
   "cell_type": "code",
   "execution_count": 20,
   "id": "f6eccc10-b7fb-4d96-9dff-c5c0d99ef1a6",
   "metadata": {},
   "outputs": [
    {
     "data": {
      "application/vnd.jupyter.widget-view+json": {
       "model_id": "5b8fbccd63f24315b5322d642831241e",
       "version_major": 2,
       "version_minor": 0
      },
      "text/plain": [
       "VBox(children=(HBox(children=(Dropdown(description='Period 1', layout=Layout(width='20%'), options=('Achaemeni…"
      ]
     },
     "metadata": {},
     "output_type": "display_data"
    }
   ],
   "source": [
    "import ipywidgets as widgets\n",
    "from IPython.display import display\n",
    "import torch\n",
    "import numpy as np\n",
    "from PIL import Image\n",
    "import io\n",
    "from ipywidgets import Layout, HBox\n",
    "\n",
    "# Assuming df_means is a DataFrame with Period_Name and other columns\n",
    "period_names = df_means['Period_Name'].unique()\n",
    "\n",
    "# Prepare the widgets\n",
    "image_widget = widgets.Image(layout=Layout(height='200px', width='200px', border='2px solid black'))\n",
    "slider = widgets.FloatSlider(value=0, min=0, max=1, step=0.1, description='Interpolation')\n",
    "dropdown1 = widgets.Dropdown(options=period_names, description='Period 1', layout=Layout(width='20%'))\n",
    "dropdown2 = widgets.Dropdown(options=period_names, description='Period 2', layout=Layout(width='20%'))\n",
    "\n",
    "def get_image_from_period(period_name):\n",
    "    period_data = torch.from_numpy(df_means[df_means[\"Period_Name\"] == period_name].drop([\"Period_Name\"], axis=1).values[0].astype('float32'))\n",
    "    return period_data\n",
    "\n",
    "def interpolate_and_display(change):\n",
    "    image1 = get_image_from_period(dropdown1.value)\n",
    "    image2 = get_image_from_period(dropdown2.value)\n",
    "\n",
    "    i = slider.value\n",
    "    new_tablet = i * image1 + (1 - i) * image2\n",
    "    new_tab_long = vae_model.fc3(new_tablet).unsqueeze(0)\n",
    "    \n",
    "    with torch.no_grad():\n",
    "        generated_image = vae_model.decoder(new_tab_long)\n",
    "    generated_image = generated_image[0][0].detach().cpu().numpy()  # Assuming generated image is in channel-last format (C, H, W)\n",
    "    # Normalize and convert to uint8\n",
    "    generated_image = (generated_image * 255).astype(np.uint8)\n",
    "    # Convert to PIL image for display\n",
    "    pil_img = Image.fromarray(generated_image)\n",
    "    # Update the image widget\n",
    "    img_byte_arr = io.BytesIO()\n",
    "    pil_img.save(img_byte_arr, format='PNG')\n",
    "    image_widget.value = img_byte_arr.getvalue()\n",
    "\n",
    "# def reset_slider(*args):\n",
    "#     slider.value = 0\n",
    "#     update_period_images()\n",
    "    \n",
    "# Set initial images\n",
    "interpolate_and_display({'new': 0})\n",
    "\n",
    "# Observe changes\n",
    "slider.observe(interpolate_and_display, names='value')\n",
    "dropdown1.observe(interpolate_and_display, names='value')\n",
    "dropdown2.observe(interpolate_and_display, names='value')\n",
    "\n",
    "# Arrange the dropdowns horizontally\n",
    "dropdowns = HBox([dropdown1, dropdown2])\n",
    "\n",
    "# Display the widgets\n",
    "display(widgets.VBox([dropdowns, slider, image_widget]))\n"
   ]
  },
  {
   "cell_type": "code",
   "execution_count": 34,
   "id": "6a5c2868-2e04-4e46-999b-882ef23733fd",
   "metadata": {},
   "outputs": [
    {
     "data": {
      "application/vnd.jupyter.widget-view+json": {
       "model_id": "bf33737e131f4f7089bce67aa66a7db6",
       "version_major": 2,
       "version_minor": 0
      },
      "text/plain": [
       "VBox(children=(HBox(children=(Dropdown(description='Period 1', layout=Layout(width='60%'), options=('Achaemeni…"
      ]
     },
     "metadata": {},
     "output_type": "display_data"
    }
   ],
   "source": [
    "import ipywidgets as widgets\n",
    "from IPython.display import display\n",
    "import torch\n",
    "import numpy as np\n",
    "from PIL import Image\n",
    "import io\n",
    "from ipywidgets import Layout, HBox, VBox, Button\n",
    "\n",
    "period_names = df_means['Period_Name'].unique()\n",
    "\n",
    "# Prepare the widgets\n",
    "image_widget = widgets.Image(layout=Layout(height='200px', width='200px', border='2px solid black'))\n",
    "slider = widgets.FloatSlider(value=0, min=0, max=1, step=0.1, description='Interpolation')\n",
    "dropdown1 = widgets.Dropdown(options=period_names, description='Period 1', layout=Layout(width='60%'))\n",
    "dropdown2 = widgets.Dropdown(options=period_names, description='Period 2', layout=Layout(width='60%'))\n",
    "interpolate_button = Button(description=\"Interpolate\")\n",
    "\n",
    "def get_image_from_period(period_name):\n",
    "    period_data = torch.from_numpy(df_means[df_means[\"Period_Name\"] == period_name].drop([\"Period_Name\"], axis=1).values[0].astype('float32'))\n",
    "    return period_data\n",
    "\n",
    "def generate_image(*args):\n",
    "    image1 = get_image_from_period(dropdown1.value)\n",
    "    image2 = get_image_from_period(dropdown2.value)\n",
    "\n",
    "    i = slider.value\n",
    "    new_tablet = (1-i) * image1 + i * image2\n",
    "    new_tab_long = vae_model.fc3(new_tablet).unsqueeze(0)\n",
    "    \n",
    "    with torch.no_grad():\n",
    "        generated_image = vae_model.decoder(new_tab_long)\n",
    "    generated_image = generated_image[0][0].detach().cpu().numpy()\n",
    "    generated_image = (generated_image * 255).astype(np.uint8)\n",
    "    pil_img = Image.fromarray(generated_image)\n",
    "    img_byte_arr = io.BytesIO()\n",
    "    pil_img.save(img_byte_arr, format='PNG')\n",
    "    image_widget.value = img_byte_arr.getvalue()\n",
    "\n",
    "def reset_slider(*args):\n",
    "    slider.value = 0\n",
    "    \n",
    "# The interpolate_and_display function is now solely for the button click action\n",
    "def interpolate_and_display(*args):\n",
    "    reset_slider()\n",
    "    generate_image()\n",
    "\n",
    "# Connect the slider movement to regenerate the image without resetting\n",
    "slider.observe(generate_image, names='value')\n",
    "\n",
    "# Connect the button click event to the interpolate_and_display function without resetting the slider\n",
    "interpolate_button.on_click(interpolate_and_display)\n",
    "\n",
    "dropdowns = HBox([dropdown1, dropdown2], layout=Layout(justify_content='center'))\n",
    "\n",
    "# Arrange the image widget to be centered\n",
    "image_container = HBox([image_widget], layout=Layout(justify_content='center'))\n",
    "\n",
    "# Combine all components into a single vertical box, keeping everything centered\n",
    "controls_and_display = VBox([dropdowns, interpolate_button, slider, image_container], layout=Layout(align_items='center'))\n",
    "\n",
    "# Display the combined layout\n",
    "display(controls_and_display)\n"
   ]
  }
 ],
 "metadata": {
  "kernelspec": {
   "display_name": "Python 3 (ipykernel)",
   "language": "python",
   "name": "python3"
  },
  "language_info": {
   "codemirror_mode": {
    "name": "ipython",
    "version": 3
   },
   "file_extension": ".py",
   "mimetype": "text/x-python",
   "name": "python",
   "nbconvert_exporter": "python",
   "pygments_lexer": "ipython3",
   "version": "3.11.5"
  }
 },
 "nbformat": 4,
 "nbformat_minor": 5
}
