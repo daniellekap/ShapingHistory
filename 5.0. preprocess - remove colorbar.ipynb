{
 "cells": [
  {
   "cell_type": "code",
   "execution_count": 1,
   "id": "2f6a7534",
   "metadata": {},
   "outputs": [],
   "source": [
    "from glob import glob\n",
    "import os\n",
    "from PIL import Image\n",
    "import numpy as np\n",
    "from matplotlib import pyplot as plt\n",
    "from colorbar import ColorbarTemplate\n",
    "from tqdm.auto import tqdm\n",
    "import multiprocessing\n"
   ]
  },
  {
   "cell_type": "code",
   "execution_count": 4,
   "id": "65545818",
   "metadata": {},
   "outputs": [],
   "source": [
    "#! mkdir output/images_preprocessed_bkp"
   ]
  },
  {
   "cell_type": "code",
   "execution_count": 6,
   "id": "c3504dcb",
   "metadata": {},
   "outputs": [
    {
     "name": "stdout",
     "output_type": "stream",
     "text": [
      "/bin/bash: /usr/bin/cp: Argument list too long\n"
     ]
    }
   ],
   "source": [
    "#! cp output/images_preprocessed/* output/images_preprocessed_bkp"
   ]
  },
  {
   "cell_type": "code",
   "execution_count": 8,
   "id": "802fe528-e569-4d76-91ea-bfb062b0e237",
   "metadata": {},
   "outputs": [],
   "source": [
    "colorbar = ColorbarTemplate()\n",
    "colorbar_short = ColorbarTemplate(fn='data/colorbar_short.png')\n",
    "colorbar_vertical_short = ColorbarTemplate(fn='data/colorbar_vertical_short.png')\n",
    "colorbar_short_flat = ColorbarTemplate(fn='data/colorbar_short_flat.png')\n",
    "colorbar_colorbar = ColorbarTemplate(fn='data/colorbar.png')\n",
    "colorbar_colorbar_2 = ColorbarTemplate(fn='data/colorbar_2.png')\n",
    "colorbar_colorbar_3 = ColorbarTemplate(fn='data/colorbar_3.png')\n",
    "colorbar_light = ColorbarTemplate(fn='data/colorbar_light.png')\n",
    "colorbar_long = ColorbarTemplate(fn='data/colorbar_long.png')\n",
    "colorbar_ruler = ColorbarTemplate(fn='data/colorbar_ruler.png')\n",
    "colorbar_1cm = ColorbarTemplate(fn='data/colorbar_1cm.png')\n",
    "colorbar_2cm = ColorbarTemplate(fn='data/colorbar_2cm.png')\n",
    "colorbar_none2 = ColorbarTemplate(fn='data/colorbar_none2.png')\n",
    "colorbar_none = ColorbarTemplate(fn='data/colorbar_none.png')\n",
    "colorbar_grey = ColorbarTemplate(fn='data/colorbar_grey.png')"
   ]
  },
  {
   "cell_type": "code",
   "execution_count": 9,
   "id": "42c50e8a",
   "metadata": {},
   "outputs": [],
   "source": [
    "def process_fn(fn):\n",
    "    out_fn = fn.replace('/images/', '/images_preprocessed/')\n",
    "    if not os.path.exists(out_fn):\n",
    "        img = np.asarray(Image.open(fn))\n",
    "        out_img = colorbar.erase_from_image(img)\n",
    "        out_img = colorbar_short.erase_from_image(out_img)\n",
    "        out_img = colorbar_vertical_short.erase_from_image(out_img)\n",
    "        out_img = colorbar_short_flat.erase_from_image(out_img)\n",
    "        out_img = colorbar_colorbar.erase_from_image(out_img)\n",
    "        out_img = colorbar_colorbar_2.erase_from_image(out_img)\n",
    "        out_img = colorbar_colorbar_3.erase_from_image(out_img)\n",
    "        out_img = colorbar_light.erase_from_image(out_img)\n",
    "        out_img = colorbar_long.erase_from_image(out_img)\n",
    "        out_img = colorbar_ruler.erase_from_image(out_img)\n",
    "        out_img = colorbar_1cm.erase_from_image(out_img)\n",
    "        out_img = colorbar_2cm.erase_from_image(out_img)\n",
    "        out_img = colorbar_none2.erase_from_image(out_img)\n",
    "        out_img = colorbar_none.erase_from_image(out_img)\n",
    "        out_img = colorbar_grey.erase_from_image(out_img)\n",
    "        out_img_pil = Image.fromarray(out_img)\n",
    "        out_img_pil.save(out_fn)"
   ]
  },
  {
   "cell_type": "code",
   "execution_count": 10,
   "id": "50a7df1c",
   "metadata": {},
   "outputs": [],
   "source": [
    "FNS = glob('output/images/*.png')"
   ]
  },
  {
   "cell_type": "code",
   "execution_count": 11,
   "id": "7b5706d2",
   "metadata": {},
   "outputs": [
    {
     "data": {
      "application/vnd.jupyter.widget-view+json": {
       "model_id": "506b2ffacb3149b3a124fd38633abf25",
       "version_major": 2,
       "version_minor": 0
      },
      "text/plain": [
       "  0%|          | 0/97640 [00:00<?, ?it/s]"
      ]
     },
     "metadata": {},
     "output_type": "display_data"
    }
   ],
   "source": [
    "with multiprocessing.Pool(16) as p:\n",
    "    it = p.imap(process_fn, FNS)\n",
    "    for _ in tqdm(it, total=len(FNS)):\n",
    "        ..."
   ]
  }
 ],
 "metadata": {
  "kernelspec": {
   "display_name": "Python 3 (ipykernel)",
   "language": "python",
   "name": "python3"
  },
  "language_info": {
   "codemirror_mode": {
    "name": "ipython",
    "version": 3
   },
   "file_extension": ".py",
   "mimetype": "text/x-python",
   "name": "python",
   "nbconvert_exporter": "python",
   "pygments_lexer": "ipython3",
   "version": "3.11.5"
  }
 },
 "nbformat": 4,
 "nbformat_minor": 5
}
