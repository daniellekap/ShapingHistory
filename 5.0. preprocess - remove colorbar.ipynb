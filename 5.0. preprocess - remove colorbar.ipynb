{
 "cells": [
  {
   "cell_type": "code",
   "execution_count": 1,
   "id": "2f6a7534",
   "metadata": {},
   "outputs": [
    {
     "name": "stderr",
     "output_type": "stream",
     "text": [
      "/home/kapond/.conda/envs/dkapon/lib/python3.9/site-packages/tqdm/auto.py:21: TqdmWarning: IProgress not found. Please update jupyter and ipywidgets. See https://ipywidgets.readthedocs.io/en/stable/user_install.html\n",
      "  from .autonotebook import tqdm as notebook_tqdm\n"
     ]
    }
   ],
   "source": [
    "from glob import glob\n",
    "import os\n",
    "from PIL import Image\n",
    "import numpy as np\n",
    "from matplotlib import pyplot as plt\n",
    "from colorbar import ColorbarTemplate\n",
    "from tqdm.auto import tqdm\n",
    "import multiprocessing\n"
   ]
  },
  {
   "cell_type": "code",
   "execution_count": 2,
   "id": "65545818",
   "metadata": {},
   "outputs": [],
   "source": [
    "# ! mkdir output/images_preprocessed"
   ]
  },
  {
   "cell_type": "code",
   "execution_count": 3,
   "id": "c3504dcb",
   "metadata": {},
   "outputs": [],
   "source": [
    "# ! mv output/images_preprocessed output/images_preprocessed_bkp"
   ]
  },
  {
   "cell_type": "code",
   "execution_count": 2,
   "id": "802fe528-e569-4d76-91ea-bfb062b0e237",
   "metadata": {},
   "outputs": [],
   "source": [
    "colorbar = ColorbarTemplate()\n",
    "colorbar_short = ColorbarTemplate(fn='data/colorbar_short.png')\n",
    "colorbar_vertical_short = ColorbarTemplate(fn='data/colorbar_vertical_short.png')"
   ]
  },
  {
   "cell_type": "code",
   "execution_count": 3,
   "id": "42c50e8a",
   "metadata": {},
   "outputs": [],
   "source": [
    "def process_fn(fn):\n",
    "    out_fn = fn.replace('/images/', '/images_preprocessed/')\n",
    "    if not os.path.exists(out_fn):\n",
    "        img = np.asarray(Image.open(fn))\n",
    "        out_img = colorbar.erase_from_image(img)\n",
    "        out_img = colorbar_short.erase_from_image(out_img)\n",
    "        out_img = colorbar_vertical_short.erase_from_image(out_img)\n",
    "        out_img_pil = Image.fromarray(out_img)\n",
    "        out_img_pil.save(out_fn)"
   ]
  },
  {
   "cell_type": "code",
   "execution_count": 4,
   "id": "50a7df1c",
   "metadata": {},
   "outputs": [],
   "source": [
    "FNS = glob('output/images/*.png')"
   ]
  },
  {
   "cell_type": "code",
   "execution_count": 5,
   "id": "7b5706d2",
   "metadata": {},
   "outputs": [
    {
     "name": "stderr",
     "output_type": "stream",
     "text": [
      "100%|██████████| 103384/103384 [2:59:52<00:00,  9.58it/s]  \n"
     ]
    }
   ],
   "source": [
    "with multiprocessing.Pool(16) as p:\n",
    "    it = p.imap(process_fn, FNS)\n",
    "    for _ in tqdm(it, total=len(FNS)):\n",
    "        ..."
   ]
  },
  {
   "cell_type": "code",
   "execution_count": null,
   "id": "e03ddf2d-31a3-4bdb-bf4f-d0e5940f2215",
   "metadata": {},
   "outputs": [],
   "source": []
  },
  {
   "cell_type": "code",
   "execution_count": null,
   "id": "ce86d734-a52b-4445-a7e1-bf7bea43e59e",
   "metadata": {},
   "outputs": [],
   "source": []
  }
 ],
 "metadata": {
  "kernelspec": {
   "display_name": "Python 3 (ipykernel)",
   "language": "python",
   "name": "python3"
  },
  "language_info": {
   "codemirror_mode": {
    "name": "ipython",
    "version": 3
   },
   "file_extension": ".py",
   "mimetype": "text/x-python",
   "name": "python",
   "nbconvert_exporter": "python",
   "pygments_lexer": "ipython3",
   "version": "3.7.11"
  }
 },
 "nbformat": 4,
 "nbformat_minor": 5
}
