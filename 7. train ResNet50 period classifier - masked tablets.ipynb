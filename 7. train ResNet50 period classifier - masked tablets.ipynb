{
 "cells": [
  {
   "cell_type": "code",
   "execution_count": 1,
   "id": "1fde9645",
   "metadata": {},
   "outputs": [],
   "source": [
    "#%env CUDA_VISIBLE_DEVICES=0"
   ]
  },
  {
   "cell_type": "code",
   "execution_count": 2,
   "id": "0f62cfd7",
   "metadata": {},
   "outputs": [],
   "source": [
    "from datetime import datetime\n",
    "\n",
    "import pandas as pd\n",
    "import pytorch_lightning as pl\n",
    "from pytorch_lightning.callbacks import Callback, LearningRateMonitor\n",
    "from pytorch_lightning.callbacks.early_stopping import EarlyStopping\n",
    "import torch\n",
    "from torch.utils.data import DataLoader\n",
    "from torchinfo import summary\n",
    "from sklearn.model_selection import train_test_split\n",
    "\n",
    "from era_data import TabletPeriodDataset, get_IDS\n",
    "from era_model import EraClassifier  # also used for periods"
   ]
  },
  {
   "cell_type": "code",
   "execution_count": 3,
   "id": "bd6dfb41",
   "metadata": {},
   "outputs": [
    {
     "data": {
      "text/plain": [
       "'cuda'"
      ]
     },
     "execution_count": 3,
     "metadata": {},
     "output_type": "execute_result"
    }
   ],
   "source": [
    "device = 'cuda' if torch.cuda.is_available() else 'cpu'\n",
    "device"
   ]
  },
  {
   "cell_type": "markdown",
   "id": "6e24be72",
   "metadata": {},
   "source": [
    "# Hyperparameters"
   ]
  },
  {
   "cell_type": "code",
   "execution_count": 4,
   "id": "cedb1fc8",
   "metadata": {},
   "outputs": [
    {
     "name": "stdout",
     "output_type": "stream",
     "text": [
      "94936\n",
      "period_clf_bs16_lr5e-05_15epochs-resnet50-94936_samples_preprocessed-masked_March29-1000_test_val\n"
     ]
    }
   ],
   "source": [
    "LR = 5e-5\n",
    "EPOCHS = 15\n",
    "BATCH_SIZE = 16\n",
    "SUFFIX = '-resnet50'\n",
    "DATE = datetime.now().strftime(\"%B%d\")\n",
    "RUN_NAME_SUFFIX = '_preprocessed-masked' # ''\n",
    "IMG_DIR = 'output/images_preprocessed'\n",
    "IDS = get_IDS(IMG_DIR=IMG_DIR)\n",
    "print(len(IDS))\n",
    "VERSION_NAME = f'period_clf_bs{BATCH_SIZE}_lr{LR}_{EPOCHS}epochs{SUFFIX}-{len(IDS)}_samples{RUN_NAME_SUFFIX}_{DATE}-1000_test_val'\n",
    "print(VERSION_NAME)"
   ]
  },
  {
   "cell_type": "markdown",
   "id": "946a98a5",
   "metadata": {},
   "source": [
    "# Load data"
   ]
  },
  {
   "cell_type": "code",
   "execution_count": 5,
   "id": "d8066563",
   "metadata": {},
   "outputs": [],
   "source": [
    "#! du -h {IMG_DIR}"
   ]
  },
  {
   "cell_type": "code",
   "execution_count": 6,
   "id": "a9811606",
   "metadata": {},
   "outputs": [
    {
     "data": {
      "text/plain": [
       "(93936, 1000)"
      ]
     },
     "execution_count": 6,
     "metadata": {},
     "output_type": "execute_result"
    }
   ],
   "source": [
    "train_ids, test_ids = train_test_split(IDS, test_size=1000, random_state=0)\n",
    "len(train_ids), len(test_ids)"
   ]
  },
  {
   "cell_type": "code",
   "execution_count": 7,
   "id": "a6bfbfbd-cc3b-4630-bf88-00849c6ff4d2",
   "metadata": {},
   "outputs": [
    {
     "data": {
      "text/plain": [
       "(92936, 1000)"
      ]
     },
     "execution_count": 7,
     "metadata": {},
     "output_type": "execute_result"
    }
   ],
   "source": [
    "train_ids, val_ids = train_test_split(train_ids, test_size=1000, random_state=0)\n",
    "len(train_ids), len(val_ids)"
   ]
  },
  {
   "cell_type": "code",
   "execution_count": 8,
   "id": "e40ecd16",
   "metadata": {},
   "outputs": [
    {
     "name": "stdout",
     "output_type": "stream",
     "text": [
      "Filtering 94936 IDS down to provided 92936...\n",
      "Filtering 94936 IDS down to provided 1000...\n",
      "Filtering 94936 IDS down to provided 1000...\n"
     ]
    }
   ],
   "source": [
    "ds_train = TabletPeriodDataset(IDS=train_ids, IMG_DIR=IMG_DIR, mask=True)\n",
    "ds_val = TabletPeriodDataset(IDS=val_ids, IMG_DIR=IMG_DIR, mask=True)\n",
    "ds_test = TabletPeriodDataset(IDS=test_ids, IMG_DIR=IMG_DIR, mask=True)"
   ]
  },
  {
   "cell_type": "code",
   "execution_count": 9,
   "id": "bc882333-8e70-4fab-8fe1-5f1987d1900a",
   "metadata": {},
   "outputs": [],
   "source": [
    "def collate_fn(batch):\n",
    "    data = torch.stack([torch.from_numpy(sample[1]) for sample in batch])\n",
    "    labels = torch.tensor([sample[2] for sample in batch])\n",
    "\n",
    "    return data, labels"
   ]
  },
  {
   "cell_type": "code",
   "execution_count": 10,
   "id": "cf0f0256",
   "metadata": {},
   "outputs": [],
   "source": [
    "dl_train = DataLoader(ds_train, batch_size=BATCH_SIZE, collate_fn=collate_fn, shuffle=True, num_workers=4)\n",
    "dl_val = DataLoader(ds_val, batch_size=BATCH_SIZE, collate_fn=collate_fn, shuffle=False, num_workers=4)\n",
    "dl_test = DataLoader(ds_test, batch_size=BATCH_SIZE, collate_fn=collate_fn, shuffle=False, num_workers=4)"
   ]
  },
  {
   "cell_type": "code",
   "execution_count": 11,
   "id": "b037aab2",
   "metadata": {},
   "outputs": [],
   "source": [
    "# save model IDs so we can keep track of what data it was trained on\n",
    "pd.Series(train_ids).to_csv(f'output/clf_ids/period-train-{VERSION_NAME}.csv', index=False, header=None)\n",
    "pd.Series(val_ids).to_csv(f'output/clf_ids/period-val-{VERSION_NAME}.csv', index=False, header=None)\n",
    "pd.Series(test_ids).to_csv(f'output/clf_ids/period-test-{VERSION_NAME}.csv', index=False, header=None)"
   ]
  },
  {
   "cell_type": "markdown",
   "id": "84e810d0",
   "metadata": {},
   "source": [
    "# Create Model"
   ]
  },
  {
   "cell_type": "code",
   "execution_count": 12,
   "id": "835cb014",
   "metadata": {},
   "outputs": [
    {
     "data": {
      "text/plain": [
       "24"
      ]
     },
     "execution_count": 12,
     "metadata": {},
     "output_type": "execute_result"
    }
   ],
   "source": [
    "num_classes = len(TabletPeriodDataset.PERIOD_INDICES) + 2\n",
    "num_classes"
   ]
  },
  {
   "cell_type": "code",
   "execution_count": 13,
   "id": "94600b31",
   "metadata": {},
   "outputs": [
    {
     "name": "stderr",
     "output_type": "stream",
     "text": [
      "/home/kapond/.conda/envs/dani_torch/lib/python3.11/site-packages/torchvision/models/_utils.py:208: UserWarning: The parameter 'pretrained' is deprecated since 0.13 and may be removed in the future, please use 'weights' instead.\n",
      "  warnings.warn(\n",
      "/home/kapond/.conda/envs/dani_torch/lib/python3.11/site-packages/torchvision/models/_utils.py:223: UserWarning: Arguments other than a weight enum or `None` for 'weights' are deprecated since 0.13 and may be removed in the future. The current behavior is equivalent to passing `weights=ResNet50_Weights.IMAGENET1K_V1`. You can also use `weights=ResNet50_Weights.DEFAULT` to get the most up-to-date weights.\n",
      "  warnings.warn(msg)\n"
     ]
    }
   ],
   "source": [
    "model = EraClassifier(LR=LR, num_classes=num_classes)"
   ]
  },
  {
   "cell_type": "code",
   "execution_count": 14,
   "id": "6f207759",
   "metadata": {},
   "outputs": [
    {
     "data": {
      "text/plain": [
       "===============================================================================================\n",
       "Layer (type:depth-idx)                        Output Shape              Param #\n",
       "===============================================================================================\n",
       "EraClassifier                                 [16, 24]                  --\n",
       "├─Conv2d: 1-1                                 [16, 3, 512, 512]         6\n",
       "├─ResNet: 1-2                                 [16, 24]                  --\n",
       "│    └─Conv2d: 2-1                            [16, 64, 256, 256]        9,408\n",
       "│    └─BatchNorm2d: 2-2                       [16, 64, 256, 256]        128\n",
       "│    └─ReLU: 2-3                              [16, 64, 256, 256]        --\n",
       "│    └─MaxPool2d: 2-4                         [16, 64, 128, 128]        --\n",
       "│    └─Sequential: 2-5                        [16, 256, 128, 128]       --\n",
       "│    │    └─Bottleneck: 3-1                   [16, 256, 128, 128]       75,008\n",
       "│    │    └─Bottleneck: 3-2                   [16, 256, 128, 128]       70,400\n",
       "│    │    └─Bottleneck: 3-3                   [16, 256, 128, 128]       70,400\n",
       "│    └─Sequential: 2-6                        [16, 512, 64, 64]         --\n",
       "│    │    └─Bottleneck: 3-4                   [16, 512, 64, 64]         379,392\n",
       "│    │    └─Bottleneck: 3-5                   [16, 512, 64, 64]         280,064\n",
       "│    │    └─Bottleneck: 3-6                   [16, 512, 64, 64]         280,064\n",
       "│    │    └─Bottleneck: 3-7                   [16, 512, 64, 64]         280,064\n",
       "│    └─Sequential: 2-7                        [16, 1024, 32, 32]        --\n",
       "│    │    └─Bottleneck: 3-8                   [16, 1024, 32, 32]        1,512,448\n",
       "│    │    └─Bottleneck: 3-9                   [16, 1024, 32, 32]        1,117,184\n",
       "│    │    └─Bottleneck: 3-10                  [16, 1024, 32, 32]        1,117,184\n",
       "│    │    └─Bottleneck: 3-11                  [16, 1024, 32, 32]        1,117,184\n",
       "│    │    └─Bottleneck: 3-12                  [16, 1024, 32, 32]        1,117,184\n",
       "│    │    └─Bottleneck: 3-13                  [16, 1024, 32, 32]        1,117,184\n",
       "│    └─Sequential: 2-8                        [16, 2048, 16, 16]        --\n",
       "│    │    └─Bottleneck: 3-14                  [16, 2048, 16, 16]        6,039,552\n",
       "│    │    └─Bottleneck: 3-15                  [16, 2048, 16, 16]        4,462,592\n",
       "│    │    └─Bottleneck: 3-16                  [16, 2048, 16, 16]        4,462,592\n",
       "│    └─AdaptiveAvgPool2d: 2-9                 [16, 2048, 1, 1]          --\n",
       "│    └─Linear: 2-10                           [16, 24]                  49,176\n",
       "===============================================================================================\n",
       "Total params: 23,557,214\n",
       "Trainable params: 23,557,214\n",
       "Non-trainable params: 0\n",
       "Total mult-adds (Units.GIGABYTES): 341.68\n",
       "===============================================================================================\n",
       "Input size (MB): 16.78\n",
       "Forward/backward pass size (MB): 14965.28\n",
       "Params size (MB): 94.23\n",
       "Estimated Total Size (MB): 15076.29\n",
       "==============================================================================================="
      ]
     },
     "execution_count": 14,
     "metadata": {},
     "output_type": "execute_result"
    }
   ],
   "source": [
    "summary(model, input_size=(BATCH_SIZE, 512, 512))"
   ]
  },
  {
   "cell_type": "markdown",
   "id": "4c2157f7",
   "metadata": {},
   "source": [
    "# Train Model"
   ]
  },
  {
   "cell_type": "code",
   "execution_count": 15,
   "id": "66fa9312",
   "metadata": {},
   "outputs": [],
   "source": [
    "lr_monitor = LearningRateMonitor(logging_interval='step')"
   ]
  },
  {
   "cell_type": "code",
   "execution_count": 16,
   "id": "f24fbe9c",
   "metadata": {},
   "outputs": [],
   "source": [
    "logger = pl.loggers.TensorBoardLogger(\n",
    "    save_dir='.',\n",
    "    name='lightning_logs',\n",
    "    version=VERSION_NAME\n",
    ")"
   ]
  },
  {
   "cell_type": "code",
   "execution_count": 17,
   "id": "0aba5c55-896f-4e69-993b-74331762bf05",
   "metadata": {},
   "outputs": [],
   "source": [
    "early_stop_callback = EarlyStopping(\n",
    "    monitor='val_loss',  \n",
    "    min_delta=0.00001,      \n",
    "    patience=3,          \n",
    "    verbose=10,       \n",
    "    mode='min',\n",
    "    check_on_train_epoch_end=True\n",
    ")"
   ]
  },
  {
   "cell_type": "code",
   "execution_count": 18,
   "id": "6becd0d0-4006-45f1-a73e-cb6e159235cb",
   "metadata": {},
   "outputs": [],
   "source": [
    "class PrintMetricsCallback(Callback):\n",
    "    def on_validation_epoch_end(self, trainer, pl_module):\n",
    "        metrics = trainer.callback_metrics\n",
    "        train_loss = metrics.get('train_loss', torch.tensor(0.0)).item()\n",
    "        val_loss = metrics.get('val_loss', torch.tensor(0.0)).item()\n",
    "        train_acc = metrics.get('train_acc', torch.tensor(0.0)).item()\n",
    "        val_acc = metrics.get('val_acc', torch.tensor(0.0)).item()\n",
    "\n",
    "        print(f\"\\nEpoch {trainer.current_epoch} Metrics:\")\n",
    "        print(f\"Train Loss: {train_loss:.4f}, Val Loss: {val_loss:.4f}, \"\n",
    "              f\"Train Acc: {train_acc * 100:.2f}%, Val Acc: {val_acc * 100:.2f}%\")"
   ]
  },
  {
   "cell_type": "code",
   "execution_count": 19,
   "id": "e1f4b28e",
   "metadata": {},
   "outputs": [
    {
     "name": "stderr",
     "output_type": "stream",
     "text": [
      "/home/kapond/.conda/envs/dani_torch/lib/python3.11/site-packages/lightning_fabric/plugins/environments/slurm.py:165: PossibleUserWarning: The `srun` command is available on your system but is not used. HINT: If your intention is to run Lightning on SLURM, prepend your python command with `srun` like so: srun python /home/kapond/.conda/envs/dani_torch/lib/python3.11/s ...\n",
      "  rank_zero_warn(\n",
      "GPU available: True (cuda), used: True\n",
      "TPU available: False, using: 0 TPU cores\n",
      "IPU available: False, using: 0 IPUs\n",
      "HPU available: False, using: 0 HPUs\n"
     ]
    }
   ],
   "source": [
    "trainer = pl.Trainer(\n",
    "    max_epochs=EPOCHS,\n",
    "    accelerator='gpu',\n",
    "    devices='auto',\n",
    "    val_check_interval=0.2,\n",
    "    callbacks=[lr_monitor, early_stop_callback, PrintMetricsCallback()],\n",
    "    logger=logger\n",
    ")    "
   ]
  },
  {
   "cell_type": "code",
   "execution_count": 20,
   "id": "c8962443",
   "metadata": {},
   "outputs": [
    {
     "name": "stdout",
     "output_type": "stream",
     "text": [
      "Logs to: period_clf_bs16_lr5e-05_15epochs-resnet50-94936_samples_preprocessed-masked_March29-1000_test_val\n"
     ]
    }
   ],
   "source": [
    "print('Logs to:', VERSION_NAME)"
   ]
  },
  {
   "cell_type": "code",
   "execution_count": 21,
   "id": "0ab16633",
   "metadata": {},
   "outputs": [
    {
     "name": "stderr",
     "output_type": "stream",
     "text": [
      "/home/kapond/.conda/envs/dani_torch/lib/python3.11/site-packages/lightning_fabric/plugins/environments/slurm.py:165: PossibleUserWarning: The `srun` command is available on your system but is not used. HINT: If your intention is to run Lightning on SLURM, prepend your python command with `srun` like so: srun python /home/kapond/.conda/envs/dani_torch/lib/python3.11/s ...\n",
      "  rank_zero_warn(\n",
      "LOCAL_RANK: 0 - CUDA_VISIBLE_DEVICES: [0]\n",
      "\n",
      "  | Name           | Type               | Params\n",
      "------------------------------------------------------\n",
      "0 | gray_to_triple | Conv2d             | 6     \n",
      "1 | core           | ResNet             | 23.6 M\n",
      "2 | objective      | CrossEntropyLoss   | 0     \n",
      "3 | train_acc      | MulticlassAccuracy | 0     \n",
      "4 | val_acc        | MulticlassAccuracy | 0     \n",
      "------------------------------------------------------\n",
      "23.6 M    Trainable params\n",
      "0         Non-trainable params\n",
      "23.6 M    Total params\n",
      "94.229    Total estimated model params size (MB)\n"
     ]
    },
    {
     "data": {
      "application/vnd.jupyter.widget-view+json": {
       "model_id": "",
       "version_major": 2,
       "version_minor": 0
      },
      "text/plain": [
       "Sanity Checking: 0it [00:00, ?it/s]"
      ]
     },
     "metadata": {},
     "output_type": "display_data"
    },
    {
     "name": "stdout",
     "output_type": "stream",
     "text": [
      "\n",
      "Epoch 0 Metrics:\n",
      "Train Loss: 0.0000, Val Loss: 3.2530, Train Acc: 0.00%, Val Acc: 0.00%\n"
     ]
    },
    {
     "data": {
      "application/vnd.jupyter.widget-view+json": {
       "model_id": "ca8f9590b0264705b7de849ba3472b36",
       "version_major": 2,
       "version_minor": 0
      },
      "text/plain": [
       "Training: 0it [00:00, ?it/s]"
      ]
     },
     "metadata": {},
     "output_type": "display_data"
    },
    {
     "data": {
      "application/vnd.jupyter.widget-view+json": {
       "model_id": "",
       "version_major": 2,
       "version_minor": 0
      },
      "text/plain": [
       "Validation: 0it [00:00, ?it/s]"
      ]
     },
     "metadata": {},
     "output_type": "display_data"
    },
    {
     "name": "stdout",
     "output_type": "stream",
     "text": [
      "\n",
      "Epoch 0 Metrics:\n",
      "Train Loss: 0.0000, Val Loss: 1.0626, Train Acc: 0.00%, Val Acc: 42.53%\n"
     ]
    },
    {
     "data": {
      "application/vnd.jupyter.widget-view+json": {
       "model_id": "",
       "version_major": 2,
       "version_minor": 0
      },
      "text/plain": [
       "Validation: 0it [00:00, ?it/s]"
      ]
     },
     "metadata": {},
     "output_type": "display_data"
    },
    {
     "name": "stdout",
     "output_type": "stream",
     "text": [
      "\n",
      "Epoch 0 Metrics:\n",
      "Train Loss: 0.0000, Val Loss: 0.9562, Train Acc: 0.00%, Val Acc: 46.27%\n"
     ]
    },
    {
     "data": {
      "application/vnd.jupyter.widget-view+json": {
       "model_id": "",
       "version_major": 2,
       "version_minor": 0
      },
      "text/plain": [
       "Validation: 0it [00:00, ?it/s]"
      ]
     },
     "metadata": {},
     "output_type": "display_data"
    },
    {
     "name": "stdout",
     "output_type": "stream",
     "text": [
      "\n",
      "Epoch 0 Metrics:\n",
      "Train Loss: 0.0000, Val Loss: 0.9596, Train Acc: 0.00%, Val Acc: 46.24%\n"
     ]
    },
    {
     "data": {
      "application/vnd.jupyter.widget-view+json": {
       "model_id": "",
       "version_major": 2,
       "version_minor": 0
      },
      "text/plain": [
       "Validation: 0it [00:00, ?it/s]"
      ]
     },
     "metadata": {},
     "output_type": "display_data"
    },
    {
     "name": "stdout",
     "output_type": "stream",
     "text": [
      "\n",
      "Epoch 0 Metrics:\n",
      "Train Loss: 0.0000, Val Loss: 0.9207, Train Acc: 0.00%, Val Acc: 49.99%\n"
     ]
    },
    {
     "data": {
      "application/vnd.jupyter.widget-view+json": {
       "model_id": "",
       "version_major": 2,
       "version_minor": 0
      },
      "text/plain": [
       "Validation: 0it [00:00, ?it/s]"
      ]
     },
     "metadata": {},
     "output_type": "display_data"
    },
    {
     "name": "stdout",
     "output_type": "stream",
     "text": [
      "\n",
      "Epoch 0 Metrics:\n",
      "Train Loss: 0.0000, Val Loss: 0.8845, Train Acc: 0.00%, Val Acc: 50.04%\n"
     ]
    },
    {
     "name": "stderr",
     "output_type": "stream",
     "text": [
      "Metric val_loss improved. New best score: 0.885\n"
     ]
    },
    {
     "data": {
      "application/vnd.jupyter.widget-view+json": {
       "model_id": "",
       "version_major": 2,
       "version_minor": 0
      },
      "text/plain": [
       "Validation: 0it [00:00, ?it/s]"
      ]
     },
     "metadata": {},
     "output_type": "display_data"
    },
    {
     "name": "stdout",
     "output_type": "stream",
     "text": [
      "\n",
      "Epoch 1 Metrics:\n",
      "Train Loss: 1.0464, Val Loss: 0.9060, Train Acc: 50.25%, Val Acc: 47.51%\n"
     ]
    },
    {
     "data": {
      "application/vnd.jupyter.widget-view+json": {
       "model_id": "",
       "version_major": 2,
       "version_minor": 0
      },
      "text/plain": [
       "Validation: 0it [00:00, ?it/s]"
      ]
     },
     "metadata": {},
     "output_type": "display_data"
    },
    {
     "name": "stdout",
     "output_type": "stream",
     "text": [
      "\n",
      "Epoch 1 Metrics:\n",
      "Train Loss: 1.0464, Val Loss: 0.8821, Train Acc: 50.25%, Val Acc: 49.23%\n"
     ]
    },
    {
     "data": {
      "application/vnd.jupyter.widget-view+json": {
       "model_id": "",
       "version_major": 2,
       "version_minor": 0
      },
      "text/plain": [
       "Validation: 0it [00:00, ?it/s]"
      ]
     },
     "metadata": {},
     "output_type": "display_data"
    },
    {
     "name": "stdout",
     "output_type": "stream",
     "text": [
      "\n",
      "Epoch 1 Metrics:\n",
      "Train Loss: 1.0464, Val Loss: 0.8344, Train Acc: 50.25%, Val Acc: 51.58%\n"
     ]
    },
    {
     "data": {
      "application/vnd.jupyter.widget-view+json": {
       "model_id": "",
       "version_major": 2,
       "version_minor": 0
      },
      "text/plain": [
       "Validation: 0it [00:00, ?it/s]"
      ]
     },
     "metadata": {},
     "output_type": "display_data"
    },
    {
     "name": "stdout",
     "output_type": "stream",
     "text": [
      "\n",
      "Epoch 1 Metrics:\n",
      "Train Loss: 1.0464, Val Loss: 0.8132, Train Acc: 50.25%, Val Acc: 54.68%\n"
     ]
    },
    {
     "data": {
      "application/vnd.jupyter.widget-view+json": {
       "model_id": "",
       "version_major": 2,
       "version_minor": 0
      },
      "text/plain": [
       "Validation: 0it [00:00, ?it/s]"
      ]
     },
     "metadata": {},
     "output_type": "display_data"
    },
    {
     "name": "stdout",
     "output_type": "stream",
     "text": [
      "\n",
      "Epoch 1 Metrics:\n",
      "Train Loss: 1.0464, Val Loss: 0.7966, Train Acc: 50.25%, Val Acc: 55.29%\n"
     ]
    },
    {
     "name": "stderr",
     "output_type": "stream",
     "text": [
      "Metric val_loss improved by 0.088 >= min_delta = 1e-05. New best score: 0.797\n"
     ]
    },
    {
     "data": {
      "application/vnd.jupyter.widget-view+json": {
       "model_id": "",
       "version_major": 2,
       "version_minor": 0
      },
      "text/plain": [
       "Validation: 0it [00:00, ?it/s]"
      ]
     },
     "metadata": {},
     "output_type": "display_data"
    },
    {
     "name": "stdout",
     "output_type": "stream",
     "text": [
      "\n",
      "Epoch 2 Metrics:\n",
      "Train Loss: 0.8342, Val Loss: 0.8607, Train Acc: 57.58%, Val Acc: 49.66%\n"
     ]
    },
    {
     "data": {
      "application/vnd.jupyter.widget-view+json": {
       "model_id": "",
       "version_major": 2,
       "version_minor": 0
      },
      "text/plain": [
       "Validation: 0it [00:00, ?it/s]"
      ]
     },
     "metadata": {},
     "output_type": "display_data"
    },
    {
     "name": "stdout",
     "output_type": "stream",
     "text": [
      "\n",
      "Epoch 2 Metrics:\n",
      "Train Loss: 0.8342, Val Loss: 0.8303, Train Acc: 57.58%, Val Acc: 52.43%\n"
     ]
    },
    {
     "data": {
      "application/vnd.jupyter.widget-view+json": {
       "model_id": "",
       "version_major": 2,
       "version_minor": 0
      },
      "text/plain": [
       "Validation: 0it [00:00, ?it/s]"
      ]
     },
     "metadata": {},
     "output_type": "display_data"
    },
    {
     "name": "stdout",
     "output_type": "stream",
     "text": [
      "\n",
      "Epoch 2 Metrics:\n",
      "Train Loss: 0.8342, Val Loss: 0.8675, Train Acc: 57.58%, Val Acc: 47.18%\n"
     ]
    },
    {
     "data": {
      "application/vnd.jupyter.widget-view+json": {
       "model_id": "",
       "version_major": 2,
       "version_minor": 0
      },
      "text/plain": [
       "Validation: 0it [00:00, ?it/s]"
      ]
     },
     "metadata": {},
     "output_type": "display_data"
    },
    {
     "name": "stdout",
     "output_type": "stream",
     "text": [
      "\n",
      "Epoch 2 Metrics:\n",
      "Train Loss: 0.8342, Val Loss: 0.8278, Train Acc: 57.58%, Val Acc: 52.06%\n"
     ]
    },
    {
     "data": {
      "application/vnd.jupyter.widget-view+json": {
       "model_id": "",
       "version_major": 2,
       "version_minor": 0
      },
      "text/plain": [
       "Validation: 0it [00:00, ?it/s]"
      ]
     },
     "metadata": {},
     "output_type": "display_data"
    },
    {
     "name": "stdout",
     "output_type": "stream",
     "text": [
      "\n",
      "Epoch 2 Metrics:\n",
      "Train Loss: 0.8342, Val Loss: 0.8063, Train Acc: 57.58%, Val Acc: 51.32%\n"
     ]
    },
    {
     "data": {
      "application/vnd.jupyter.widget-view+json": {
       "model_id": "",
       "version_major": 2,
       "version_minor": 0
      },
      "text/plain": [
       "Validation: 0it [00:00, ?it/s]"
      ]
     },
     "metadata": {},
     "output_type": "display_data"
    },
    {
     "name": "stdout",
     "output_type": "stream",
     "text": [
      "\n",
      "Epoch 3 Metrics:\n",
      "Train Loss: 0.7286, Val Loss: 0.8253, Train Acc: 61.61%, Val Acc: 56.06%\n"
     ]
    },
    {
     "data": {
      "application/vnd.jupyter.widget-view+json": {
       "model_id": "",
       "version_major": 2,
       "version_minor": 0
      },
      "text/plain": [
       "Validation: 0it [00:00, ?it/s]"
      ]
     },
     "metadata": {},
     "output_type": "display_data"
    },
    {
     "name": "stdout",
     "output_type": "stream",
     "text": [
      "\n",
      "Epoch 3 Metrics:\n",
      "Train Loss: 0.7286, Val Loss: 0.8741, Train Acc: 61.61%, Val Acc: 55.46%\n"
     ]
    },
    {
     "data": {
      "application/vnd.jupyter.widget-view+json": {
       "model_id": "",
       "version_major": 2,
       "version_minor": 0
      },
      "text/plain": [
       "Validation: 0it [00:00, ?it/s]"
      ]
     },
     "metadata": {},
     "output_type": "display_data"
    },
    {
     "name": "stdout",
     "output_type": "stream",
     "text": [
      "\n",
      "Epoch 3 Metrics:\n",
      "Train Loss: 0.7286, Val Loss: 0.8150, Train Acc: 61.61%, Val Acc: 57.45%\n"
     ]
    },
    {
     "data": {
      "application/vnd.jupyter.widget-view+json": {
       "model_id": "",
       "version_major": 2,
       "version_minor": 0
      },
      "text/plain": [
       "Validation: 0it [00:00, ?it/s]"
      ]
     },
     "metadata": {},
     "output_type": "display_data"
    },
    {
     "name": "stdout",
     "output_type": "stream",
     "text": [
      "\n",
      "Epoch 3 Metrics:\n",
      "Train Loss: 0.7286, Val Loss: 0.7728, Train Acc: 61.61%, Val Acc: 51.75%\n"
     ]
    },
    {
     "data": {
      "application/vnd.jupyter.widget-view+json": {
       "model_id": "",
       "version_major": 2,
       "version_minor": 0
      },
      "text/plain": [
       "Validation: 0it [00:00, ?it/s]"
      ]
     },
     "metadata": {},
     "output_type": "display_data"
    },
    {
     "name": "stdout",
     "output_type": "stream",
     "text": [
      "\n",
      "Epoch 3 Metrics:\n",
      "Train Loss: 0.7286, Val Loss: 0.8699, Train Acc: 61.61%, Val Acc: 46.62%\n"
     ]
    },
    {
     "data": {
      "application/vnd.jupyter.widget-view+json": {
       "model_id": "",
       "version_major": 2,
       "version_minor": 0
      },
      "text/plain": [
       "Validation: 0it [00:00, ?it/s]"
      ]
     },
     "metadata": {},
     "output_type": "display_data"
    },
    {
     "name": "stdout",
     "output_type": "stream",
     "text": [
      "\n",
      "Epoch 4 Metrics:\n",
      "Train Loss: 0.6310, Val Loss: 0.8679, Train Acc: 65.51%, Val Acc: 49.75%\n"
     ]
    },
    {
     "data": {
      "application/vnd.jupyter.widget-view+json": {
       "model_id": "",
       "version_major": 2,
       "version_minor": 0
      },
      "text/plain": [
       "Validation: 0it [00:00, ?it/s]"
      ]
     },
     "metadata": {},
     "output_type": "display_data"
    },
    {
     "name": "stdout",
     "output_type": "stream",
     "text": [
      "\n",
      "Epoch 4 Metrics:\n",
      "Train Loss: 0.6310, Val Loss: 0.8088, Train Acc: 65.51%, Val Acc: 51.48%\n"
     ]
    },
    {
     "data": {
      "application/vnd.jupyter.widget-view+json": {
       "model_id": "c032cddf103240e1a15c5db9f49ef806",
       "version_major": 2,
       "version_minor": 0
      },
      "text/plain": [
       "Validation: 0it [00:00, ?it/s]"
      ]
     },
     "metadata": {},
     "output_type": "display_data"
    },
    {
     "name": "stdout",
     "output_type": "stream",
     "text": [
      "\n",
      "Epoch 4 Metrics:\n",
      "Train Loss: 0.6310, Val Loss: 0.8355, Train Acc: 65.51%, Val Acc: 52.22%\n"
     ]
    },
    {
     "data": {
      "application/vnd.jupyter.widget-view+json": {
       "model_id": "134da7d76256421c8850099f6a9397aa",
       "version_major": 2,
       "version_minor": 0
      },
      "text/plain": [
       "Validation: 0it [00:00, ?it/s]"
      ]
     },
     "metadata": {},
     "output_type": "display_data"
    },
    {
     "name": "stdout",
     "output_type": "stream",
     "text": [
      "\n",
      "Epoch 4 Metrics:\n",
      "Train Loss: 0.6310, Val Loss: 0.8237, Train Acc: 65.51%, Val Acc: 52.88%\n"
     ]
    },
    {
     "data": {
      "application/vnd.jupyter.widget-view+json": {
       "model_id": "9566b97bb6844919807432e8ce73569b",
       "version_major": 2,
       "version_minor": 0
      },
      "text/plain": [
       "Validation: 0it [00:00, ?it/s]"
      ]
     },
     "metadata": {},
     "output_type": "display_data"
    },
    {
     "name": "stdout",
     "output_type": "stream",
     "text": [
      "\n",
      "Epoch 4 Metrics:\n",
      "Train Loss: 0.6310, Val Loss: 0.8399, Train Acc: 65.51%, Val Acc: 58.32%\n"
     ]
    },
    {
     "name": "stderr",
     "output_type": "stream",
     "text": [
      "Monitored metric val_loss did not improve in the last 3 records. Best score: 0.797. Signaling Trainer to stop.\n"
     ]
    }
   ],
   "source": [
    "trainer.fit(model, dl_train, dl_val)"
   ]
  },
  {
   "cell_type": "code",
   "execution_count": null,
   "id": "a0a7d108-3c86-4e42-b425-2f81361db461",
   "metadata": {},
   "outputs": [],
   "source": []
  }
 ],
 "metadata": {
  "kernelspec": {
   "display_name": "dani_torch",
   "language": "python",
   "name": "dani_torch"
  },
  "language_info": {
   "codemirror_mode": {
    "name": "ipython",
    "version": 3
   },
   "file_extension": ".py",
   "mimetype": "text/x-python",
   "name": "python",
   "nbconvert_exporter": "python",
   "pygments_lexer": "ipython3",
   "version": "3.11.5"
  }
 },
 "nbformat": 4,
 "nbformat_minor": 5
}
