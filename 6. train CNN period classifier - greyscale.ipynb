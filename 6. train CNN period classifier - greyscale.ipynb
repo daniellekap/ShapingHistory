{
 "cells": [
  {
   "cell_type": "code",
   "execution_count": 1,
   "id": "b4aa5777-e805-4b0e-b56f-1cfa2fb3f4bb",
   "metadata": {},
   "outputs": [
    {
     "name": "stdout",
     "output_type": "stream",
     "text": [
      "env: CUDA_VISIBLE_DEVICES=0\n"
     ]
    }
   ],
   "source": [
    "#%env CUDA_VISIBLE_DEVICES=0"
   ]
  },
  {
   "cell_type": "code",
   "execution_count": 1,
   "id": "c9e1e007-dae2-4849-92ef-aa2fe798acdb",
   "metadata": {},
   "outputs": [],
   "source": [
    "from datetime import datetime\n",
    "\n",
    "import pandas as pd\n",
    "import pytorch_lightning as pl\n",
    "import torch\n",
    "from pytorch_lightning.callbacks import LearningRateMonitor, EarlyStopping\n",
    "from sklearn.model_selection import train_test_split\n",
    "from torch.utils.data import DataLoader\n",
    "\n",
    "from era_data import TabletPeriodDataset, get_IDS\n",
    "from era_model import SimpleCNN"
   ]
  },
  {
   "cell_type": "code",
   "execution_count": 2,
   "id": "12ee9796-7969-4986-a706-57facaf751fc",
   "metadata": {},
   "outputs": [
    {
     "data": {
      "text/plain": [
       "'cuda'"
      ]
     },
     "execution_count": 2,
     "metadata": {},
     "output_type": "execute_result"
    }
   ],
   "source": [
    "device = 'cuda' if torch.cuda.is_available() else 'cpu'\n",
    "device"
   ]
  },
  {
   "cell_type": "markdown",
   "id": "dd376014-cc55-456f-a320-fa837a89e336",
   "metadata": {},
   "source": [
    "# Hyperparameters"
   ]
  },
  {
   "cell_type": "code",
   "execution_count": 3,
   "id": "9a476cff-cfbd-42cc-9ad8-c948c04049b4",
   "metadata": {},
   "outputs": [
    {
     "name": "stdout",
     "output_type": "stream",
     "text": [
      "94936\n"
     ]
    },
    {
     "data": {
      "text/plain": [
       "'period_clf_bs16_lr1e-05_30epochs-vanillaCNN-94936_samples-preprocessed-April16-80-10-10_train-test-val'"
      ]
     },
     "execution_count": 3,
     "metadata": {},
     "output_type": "execute_result"
    }
   ],
   "source": [
    "LR = 1e-5\n",
    "EPOCHS = 30\n",
    "BATCH_SIZE = 16\n",
    "SUFFIX = '-vanillaCNN'\n",
    "DATE = datetime.now().strftime(\"%B%d\")\n",
    "RUN_NAME_SUFFIX = '-preprocessed' # ''\n",
    "IMG_DIR = 'output/images_preprocessed'\n",
    "IDS = get_IDS(IMG_DIR=IMG_DIR)\n",
    "print(len(IDS))\n",
    "VERSION_NAME = f'period_clf_bs{BATCH_SIZE}_lr{LR}_{EPOCHS}epochs{SUFFIX}-{len(IDS)}_samples{RUN_NAME_SUFFIX}-{DATE}-80-10-10_train-test-val'\n",
    "VERSION_NAME"
   ]
  },
  {
   "cell_type": "markdown",
   "id": "9de98b67-ee0f-4833-9bec-4061124252c0",
   "metadata": {},
   "source": [
    "# Load data"
   ]
  },
  {
   "cell_type": "code",
   "execution_count": 4,
   "id": "d120a693-65c9-4fae-b6c4-af192d6b1fca",
   "metadata": {},
   "outputs": [],
   "source": [
    "#! du -h {IMG_DIR}"
   ]
  },
  {
   "cell_type": "code",
   "execution_count": 5,
   "id": "b495d3f7-ebde-4107-926e-8da274a8b9d7",
   "metadata": {},
   "outputs": [
    {
     "data": {
      "text/plain": [
       "(75948, 18988)"
      ]
     },
     "execution_count": 5,
     "metadata": {},
     "output_type": "execute_result"
    }
   ],
   "source": [
    "train_ids, test_ids = train_test_split(IDS, test_size=.2, random_state=0)\n",
    "len(train_ids), len(test_ids)"
   ]
  },
  {
   "cell_type": "code",
   "execution_count": 6,
   "id": "cd3048b9-4cd0-467d-bd86-94eed0432bb6",
   "metadata": {},
   "outputs": [
    {
     "data": {
      "text/plain": [
       "(9494, 9494)"
      ]
     },
     "execution_count": 6,
     "metadata": {},
     "output_type": "execute_result"
    }
   ],
   "source": [
    "test_ids, val_ids = train_test_split(test_ids, test_size=.5, random_state=0)\n",
    "len(test_ids), len(val_ids)"
   ]
  },
  {
   "cell_type": "code",
   "execution_count": 7,
   "id": "93883080-580f-453c-8493-37956bf4d88d",
   "metadata": {},
   "outputs": [
    {
     "name": "stdout",
     "output_type": "stream",
     "text": [
      "Filtering 94936 IDS down to provided 75948...\n",
      "Filtering 94936 IDS down to provided 9494...\n",
      "Filtering 94936 IDS down to provided 9494...\n"
     ]
    }
   ],
   "source": [
    "ds_train = TabletPeriodDataset(IDS=train_ids, IMG_DIR=IMG_DIR)\n",
    "ds_val = TabletPeriodDataset(IDS=val_ids, IMG_DIR=IMG_DIR)\n",
    "ds_test = TabletPeriodDataset(IDS=test_ids, IMG_DIR=IMG_DIR)"
   ]
  },
  {
   "cell_type": "code",
   "execution_count": 8,
   "id": "be20d8da-554e-45d1-a333-99d1fead430c",
   "metadata": {},
   "outputs": [],
   "source": [
    "def collate_fn(batch):\n",
    "    data = torch.stack([torch.from_numpy(sample[1]).unsqueeze(0) for sample in batch])\n",
    "    labels = torch.tensor([sample[2] for sample in batch])\n",
    "\n",
    "    return data, labels"
   ]
  },
  {
   "cell_type": "code",
   "execution_count": 9,
   "id": "3ea25644-ad8f-4ef9-aba6-501d5bf0df32",
   "metadata": {},
   "outputs": [],
   "source": [
    "dl_train = DataLoader(ds_train, batch_size=BATCH_SIZE,collate_fn=collate_fn, shuffle=True, num_workers=4)\n",
    "dl_val = DataLoader(ds_val, batch_size=BATCH_SIZE, collate_fn=collate_fn, shuffle=False, num_workers=4)\n",
    "dl_test = DataLoader(ds_test, batch_size=BATCH_SIZE, collate_fn=collate_fn, shuffle=False, num_workers=4)"
   ]
  },
  {
   "cell_type": "code",
   "execution_count": 10,
   "id": "85719f9d-4eaa-4250-87b5-451d77c2d032",
   "metadata": {},
   "outputs": [],
   "source": [
    "# save model IDs so we can keep track of what data it was trained on\n",
    "pd.Series(train_ids).to_csv(f'output/clf_ids/period-train-{VERSION_NAME}.csv', index=False, header=None)\n",
    "pd.Series(val_ids).to_csv(f'output/clf_ids/period-val-{VERSION_NAME}.csv', index=False, header=None)\n",
    "pd.Series(test_ids).to_csv(f'output/clf_ids/period-test-{VERSION_NAME}.csv', index=False, header=None)"
   ]
  },
  {
   "cell_type": "code",
   "execution_count": 11,
   "id": "e4576f69-0f93-4da4-b497-7109a2f6d464",
   "metadata": {},
   "outputs": [
    {
     "data": {
      "text/plain": [
       "22"
      ]
     },
     "execution_count": 11,
     "metadata": {},
     "output_type": "execute_result"
    }
   ],
   "source": [
    "num_classes = len(TabletPeriodDataset.PERIOD_INDICES)\n",
    "num_classes"
   ]
  },
  {
   "cell_type": "code",
   "execution_count": 12,
   "id": "426d77a0-c22d-4ed8-88d2-09edcc58a4ab",
   "metadata": {},
   "outputs": [],
   "source": [
    "model = SimpleCNN(num_classes=num_classes, learning_rate=LR)"
   ]
  },
  {
   "cell_type": "code",
   "execution_count": 13,
   "id": "e8533841-7a7b-4cd4-b7b4-ed876628914f",
   "metadata": {},
   "outputs": [
    {
     "name": "stderr",
     "output_type": "stream",
     "text": [
      "/home/kapond/.conda/envs/dani_torch/lib/python3.11/site-packages/lightning_fabric/plugins/environments/slurm.py:165: PossibleUserWarning: The `srun` command is available on your system but is not used. HINT: If your intention is to run Lightning on SLURM, prepend your python command with `srun` like so: srun python /home/kapond/.conda/envs/dani_torch/lib/python3.11/s ...\n",
      "  rank_zero_warn(\n",
      "GPU available: True (cuda), used: True\n",
      "TPU available: False, using: 0 TPU cores\n",
      "IPU available: False, using: 0 IPUs\n",
      "HPU available: False, using: 0 HPUs\n"
     ]
    }
   ],
   "source": [
    "logger = pl.loggers.TensorBoardLogger(\n",
    "    save_dir='.',\n",
    "    name='lightning_logs',\n",
    "    version=VERSION_NAME\n",
    ")\n",
    "lr_monitor = LearningRateMonitor(logging_interval='step')\n",
    "\n",
    "early_stop_callback = EarlyStopping(\n",
    "    monitor='val_loss',  \n",
    "    min_delta=0.00001,      \n",
    "    patience=1,          \n",
    "    verbose=10,       \n",
    "    mode='min',\n",
    "    check_on_train_epoch_end=True\n",
    ")\n",
    "\n",
    "trainer = pl.Trainer(\n",
    "    max_epochs=EPOCHS,\n",
    "    accelerator='gpu',\n",
    "    devices='auto',\n",
    "    callbacks=[lr_monitor, early_stop_callback],\n",
    "    logger=logger\n",
    ")\n"
   ]
  },
  {
   "cell_type": "code",
   "execution_count": 14,
   "id": "94aeab05-eb14-426c-821b-d07cfc26b4d6",
   "metadata": {},
   "outputs": [
    {
     "name": "stdout",
     "output_type": "stream",
     "text": [
      "Logs to: period_clf_bs16_lr1e-05_30epochs-vanillaCNN-94936_samples-preprocessed-April16-80-10-10_train-test-val\n"
     ]
    }
   ],
   "source": [
    "print('Logs to:', VERSION_NAME)"
   ]
  },
  {
   "cell_type": "code",
   "execution_count": 15,
   "id": "fa017983-16b3-4074-a969-e028d1236807",
   "metadata": {},
   "outputs": [
    {
     "name": "stderr",
     "output_type": "stream",
     "text": [
      "/home/kapond/.conda/envs/dani_torch/lib/python3.11/site-packages/lightning_fabric/plugins/environments/slurm.py:165: PossibleUserWarning: The `srun` command is available on your system but is not used. HINT: If your intention is to run Lightning on SLURM, prepend your python command with `srun` like so: srun python /home/kapond/.conda/envs/dani_torch/lib/python3.11/s ...\n",
      "  rank_zero_warn(\n",
      "You are using a CUDA device ('NVIDIA GeForce RTX 3090') that has Tensor Cores. To properly utilize them, you should set `torch.set_float32_matmul_precision('medium' | 'high')` which will trade-off precision for performance. For more details, read https://pytorch.org/docs/stable/generated/torch.set_float32_matmul_precision.html#torch.set_float32_matmul_precision\n",
      "LOCAL_RANK: 0 - CUDA_VISIBLE_DEVICES: [0]\n",
      "\n",
      "   | Name    | Type        | Params\n",
      "-----------------------------------------\n",
      "0  | conv1   | Conv2d      | 320   \n",
      "1  | bn1     | BatchNorm2d | 64    \n",
      "2  | conv2   | Conv2d      | 18.5 K\n",
      "3  | bn2     | BatchNorm2d | 128   \n",
      "4  | conv3   | Conv2d      | 73.9 K\n",
      "5  | bn3     | BatchNorm2d | 256   \n",
      "6  | conv4   | Conv2d      | 295 K \n",
      "7  | bn4     | BatchNorm2d | 512   \n",
      "8  | pool    | MaxPool2d   | 0     \n",
      "9  | dropout | Dropout     | 0     \n",
      "10 | fc1     | Linear      | 268 M \n",
      "11 | fc2     | Linear      | 22.6 K\n",
      "-----------------------------------------\n",
      "268 M     Trainable params\n",
      "0         Non-trainable params\n",
      "268 M     Total params\n",
      "1,075.391 Total estimated model params size (MB)\n"
     ]
    },
    {
     "data": {
      "application/vnd.jupyter.widget-view+json": {
       "model_id": "",
       "version_major": 2,
       "version_minor": 0
      },
      "text/plain": [
       "Sanity Checking: 0it [00:00, ?it/s]"
      ]
     },
     "metadata": {},
     "output_type": "display_data"
    },
    {
     "data": {
      "application/vnd.jupyter.widget-view+json": {
       "model_id": "cfda3aa71b47415ca0d5e1d9ddd2529c",
       "version_major": 2,
       "version_minor": 0
      },
      "text/plain": [
       "Training: 0it [00:00, ?it/s]"
      ]
     },
     "metadata": {},
     "output_type": "display_data"
    },
    {
     "data": {
      "application/vnd.jupyter.widget-view+json": {
       "model_id": "",
       "version_major": 2,
       "version_minor": 0
      },
      "text/plain": [
       "Validation: 0it [00:00, ?it/s]"
      ]
     },
     "metadata": {},
     "output_type": "display_data"
    },
    {
     "name": "stderr",
     "output_type": "stream",
     "text": [
      "Metric val_loss improved. New best score: 1.036\n"
     ]
    },
    {
     "data": {
      "application/vnd.jupyter.widget-view+json": {
       "model_id": "",
       "version_major": 2,
       "version_minor": 0
      },
      "text/plain": [
       "Validation: 0it [00:00, ?it/s]"
      ]
     },
     "metadata": {},
     "output_type": "display_data"
    },
    {
     "name": "stderr",
     "output_type": "stream",
     "text": [
      "Metric val_loss improved by 0.102 >= min_delta = 1e-05. New best score: 0.934\n"
     ]
    },
    {
     "data": {
      "application/vnd.jupyter.widget-view+json": {
       "model_id": "",
       "version_major": 2,
       "version_minor": 0
      },
      "text/plain": [
       "Validation: 0it [00:00, ?it/s]"
      ]
     },
     "metadata": {},
     "output_type": "display_data"
    },
    {
     "name": "stderr",
     "output_type": "stream",
     "text": [
      "Metric val_loss improved by 0.049 >= min_delta = 1e-05. New best score: 0.885\n"
     ]
    },
    {
     "data": {
      "application/vnd.jupyter.widget-view+json": {
       "model_id": "",
       "version_major": 2,
       "version_minor": 0
      },
      "text/plain": [
       "Validation: 0it [00:00, ?it/s]"
      ]
     },
     "metadata": {},
     "output_type": "display_data"
    },
    {
     "name": "stderr",
     "output_type": "stream",
     "text": [
      "Metric val_loss improved by 0.034 >= min_delta = 1e-05. New best score: 0.851\n"
     ]
    },
    {
     "data": {
      "application/vnd.jupyter.widget-view+json": {
       "model_id": "",
       "version_major": 2,
       "version_minor": 0
      },
      "text/plain": [
       "Validation: 0it [00:00, ?it/s]"
      ]
     },
     "metadata": {},
     "output_type": "display_data"
    },
    {
     "name": "stderr",
     "output_type": "stream",
     "text": [
      "Metric val_loss improved by 0.034 >= min_delta = 1e-05. New best score: 0.817\n"
     ]
    },
    {
     "data": {
      "application/vnd.jupyter.widget-view+json": {
       "model_id": "",
       "version_major": 2,
       "version_minor": 0
      },
      "text/plain": [
       "Validation: 0it [00:00, ?it/s]"
      ]
     },
     "metadata": {},
     "output_type": "display_data"
    },
    {
     "name": "stderr",
     "output_type": "stream",
     "text": [
      "Metric val_loss improved by 0.027 >= min_delta = 1e-05. New best score: 0.789\n"
     ]
    },
    {
     "data": {
      "application/vnd.jupyter.widget-view+json": {
       "model_id": "",
       "version_major": 2,
       "version_minor": 0
      },
      "text/plain": [
       "Validation: 0it [00:00, ?it/s]"
      ]
     },
     "metadata": {},
     "output_type": "display_data"
    },
    {
     "name": "stderr",
     "output_type": "stream",
     "text": [
      "Metric val_loss improved by 0.029 >= min_delta = 1e-05. New best score: 0.760\n"
     ]
    },
    {
     "data": {
      "application/vnd.jupyter.widget-view+json": {
       "model_id": "",
       "version_major": 2,
       "version_minor": 0
      },
      "text/plain": [
       "Validation: 0it [00:00, ?it/s]"
      ]
     },
     "metadata": {},
     "output_type": "display_data"
    },
    {
     "name": "stderr",
     "output_type": "stream",
     "text": [
      "Monitored metric val_loss did not improve in the last 1 records. Best score: 0.760. Signaling Trainer to stop.\n"
     ]
    }
   ],
   "source": [
    "trainer.fit(model, dl_train, dl_val)"
   ]
  }
 ],
 "metadata": {
  "kernelspec": {
   "display_name": "dani_torch",
   "language": "python",
   "name": "dani_torch"
  },
  "language_info": {
   "codemirror_mode": {
    "name": "ipython",
    "version": 3
   },
   "file_extension": ".py",
   "mimetype": "text/x-python",
   "name": "python",
   "nbconvert_exporter": "python",
   "pygments_lexer": "ipython3",
   "version": "3.11.5"
  }
 },
 "nbformat": 4,
 "nbformat_minor": 5
}
