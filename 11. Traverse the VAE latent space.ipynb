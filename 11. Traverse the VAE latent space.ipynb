{
 "cells": [
  {
   "cell_type": "code",
   "execution_count": 57,
   "id": "d762a5de-7e90-4121-8d1f-e90b53ce7763",
   "metadata": {},
   "outputs": [],
   "source": [
    "import numpy as np\n",
    "import ipywidgets as widgets\n",
    "from IPython.display import display, clear_output\n",
    "from ipywidgets import widgets, Output\n",
    "import torch\n",
    "from PIL import Image\n",
    "from era_data import TabletPeriodDataset, get_IDS\n",
    "from VAE_model_tablets_class import VAE\n",
    "import pandas as pd"
   ]
  },
  {
   "cell_type": "code",
   "execution_count": 3,
   "id": "85260679-273f-4f47-b213-e698cfb88400",
   "metadata": {},
   "outputs": [],
   "source": [
    "device = 'cuda' if torch.cuda.is_available() else 'cpu'\n",
    "\n",
    "# IMG_DIR = 'output/images'\n",
    "RUN_NAME_SUFFIX = '-masked_w_classification_loss' # ''\n",
    "IMG_DIR = 'output/images_preprocessed'\n",
    "LR = 5e-5\n",
    "EPOCHS = 30\n",
    "BATCH_SIZE = 16\n",
    "SUFFIX = '-resnet50'\n",
    "DATE = 'Oct2-v3'"
   ]
  },
  {
   "cell_type": "code",
   "execution_count": 6,
   "id": "10a7e967-a628-4242-aa7f-22779fec2fbb",
   "metadata": {},
   "outputs": [],
   "source": [
    "IDS = get_IDS(IMG_DIR=IMG_DIR)\n",
    "len(IDS)\n",
    "\n",
    "VERSION_NAME = f'period_clf_bs{BATCH_SIZE}_lr{LR}_{EPOCHS}epochs{SUFFIX}-{len(IDS)}_samples{RUN_NAME_SUFFIX}_blurvae-conv-{DATE}'\n",
    "\n",
    "num_classes = len(TabletPeriodDataset.PERIOD_INDICES)\n",
    "\n",
    "class_weights = torch.load(\"data/class_weights_period.pt\")"
   ]
  },
  {
   "cell_type": "code",
   "execution_count": 7,
   "id": "1a84a2b4-0e60-43df-9ec6-cd5edc43e96c",
   "metadata": {},
   "outputs": [],
   "source": [
    "chekpoint_path = f'lightning_logs/{VERSION_NAME}/checkpoints/epoch=29-step=407516.ckpt'"
   ]
  },
  {
   "cell_type": "code",
   "execution_count": 10,
   "id": "105fd599-d113-4bc1-b530-9b1526d7bee9",
   "metadata": {},
   "outputs": [
    {
     "name": "stderr",
     "output_type": "stream",
     "text": [
      "/sise/mickyfi-group/kapond/AnalysisBySynthesis/VAE_model_tablets_class.py:95: UserWarning: To copy construct from a tensor, it is recommended to use sourceTensor.clone().detach() or sourceTensor.clone().detach().requires_grad_(True), rather than torch.tensor(sourceTensor).\n",
      "  self.class_weights = torch.tensor(class_weights).to(device)\n"
     ]
    }
   ],
   "source": [
    "vae_model = VAE.load_from_checkpoint(chekpoint_path,image_channels=1,z_dim=16, lr =1e-5, use_classification_loss=True, num_classes=num_classes,\n",
    "            loss_type=\"weighted\", class_weights=class_weights, device = device)"
   ]
  },
  {
   "cell_type": "code",
   "execution_count": 13,
   "id": "2a32a816-9b60-4772-a9b3-d7f43f169520",
   "metadata": {},
   "outputs": [],
   "source": [
    "df_encodings_train = pd.read_csv('vae_encodings_and_data/vae_encoding_df_Oct2-v3_w_class_train.csv')\n",
    "df_encodings_test = pd.read_csv('vae_encodings_and_data/vae_encoding_df_Oct2-v3_w_class_test.csv')"
   ]
  },
  {
   "cell_type": "code",
   "execution_count": 75,
   "id": "71e3d48f-ab0f-436d-ae43-67c3976fdf56",
   "metadata": {},
   "outputs": [],
   "source": [
    "def generate_image(*args):\n",
    "    # Clear the output widget\n",
    "    out.clear_output(wait=True)\n",
    "\n",
    "    # Fetch values from sliders\n",
    "    vector = np.array([slider.value for slider in sliders])\n",
    "    \n",
    "    # Convert to tensor and generate image using the model as you provided\n",
    "    input_tensor = torch.from_numpy(vector).unsqueeze(0).float()\n",
    "    new_tab_long = vae_model.fc3(input_tensor)\n",
    "\n",
    "    with torch.no_grad():\n",
    "        generated_image_tensor = vae_model.decoder(new_tab_long)\n",
    "        # Assuming the generated image is in the range [0, 1], so we multiply by 255\n",
    "        generated_image_np = (generated_image_tensor.squeeze(0).permute(1, 2, 0).numpy() * 255).astype(np.uint8)\n",
    "        generated_image_np = generated_image_np.squeeze(-1)\n",
    "    # Convert to PIL Image and display inside the output widget\n",
    "    image = Image.fromarray(generated_image_np)\n",
    "    with out:\n",
    "        display(image)"
   ]
  },
  {
   "cell_type": "code",
   "execution_count": 78,
   "id": "1689c493-650a-482a-9d23-a4ea71f63b90",
   "metadata": {},
   "outputs": [
    {
     "data": {
      "application/vnd.jupyter.widget-view+json": {
       "model_id": "bf9098d962614ac88126d0c2d9bc81f3",
       "version_major": 2,
       "version_minor": 0
      },
      "text/plain": [
       "FloatSlider(value=0.35628050565719604, description='Entry 1', max=3.0, min=-3.0, step=0.01)"
      ]
     },
     "metadata": {},
     "output_type": "display_data"
    },
    {
     "data": {
      "application/vnd.jupyter.widget-view+json": {
       "model_id": "81f35cff49504e3e98d41ab3635d97d9",
       "version_major": 2,
       "version_minor": 0
      },
      "text/plain": [
       "FloatSlider(value=0.1713632345199585, description='Entry 2', max=3.0, min=-3.0, step=0.01)"
      ]
     },
     "metadata": {},
     "output_type": "display_data"
    },
    {
     "data": {
      "application/vnd.jupyter.widget-view+json": {
       "model_id": "05a4968d66b14f20915909658d9629ab",
       "version_major": 2,
       "version_minor": 0
      },
      "text/plain": [
       "FloatSlider(value=0.24868468940258026, description='Entry 3', max=3.0, min=-3.0, step=0.01)"
      ]
     },
     "metadata": {},
     "output_type": "display_data"
    },
    {
     "data": {
      "application/vnd.jupyter.widget-view+json": {
       "model_id": "3cf3efe16f664a798f71c9c092bd2718",
       "version_major": 2,
       "version_minor": 0
      },
      "text/plain": [
       "FloatSlider(value=0.4406053125858307, description='Entry 4', max=3.0, min=-3.0, step=0.01)"
      ]
     },
     "metadata": {},
     "output_type": "display_data"
    },
    {
     "data": {
      "application/vnd.jupyter.widget-view+json": {
       "model_id": "d0f8eed5d219422abf88c86f9be76c64",
       "version_major": 2,
       "version_minor": 0
      },
      "text/plain": [
       "FloatSlider(value=-0.7359985709190369, description='Entry 5', max=3.0, min=-3.0, step=0.01)"
      ]
     },
     "metadata": {},
     "output_type": "display_data"
    },
    {
     "data": {
      "application/vnd.jupyter.widget-view+json": {
       "model_id": "aeab5cd5f17f4d7db6132b800e08c391",
       "version_major": 2,
       "version_minor": 0
      },
      "text/plain": [
       "FloatSlider(value=-1.511257290840149, description='Entry 6', max=3.0, min=-3.0, step=0.01)"
      ]
     },
     "metadata": {},
     "output_type": "display_data"
    },
    {
     "data": {
      "application/vnd.jupyter.widget-view+json": {
       "model_id": "595c41b2490742f4b71b47c94949045a",
       "version_major": 2,
       "version_minor": 0
      },
      "text/plain": [
       "FloatSlider(value=3.0, description='Entry 7', max=3.0, min=-3.0, step=0.01)"
      ]
     },
     "metadata": {},
     "output_type": "display_data"
    },
    {
     "data": {
      "application/vnd.jupyter.widget-view+json": {
       "model_id": "c517a69ceca94716953aa0265be6ec1a",
       "version_major": 2,
       "version_minor": 0
      },
      "text/plain": [
       "FloatSlider(value=1.7927883863449097, description='Entry 8', max=3.0, min=-3.0, step=0.01)"
      ]
     },
     "metadata": {},
     "output_type": "display_data"
    },
    {
     "data": {
      "application/vnd.jupyter.widget-view+json": {
       "model_id": "61a3c1dff7454733b9892c50d0c07420",
       "version_major": 2,
       "version_minor": 0
      },
      "text/plain": [
       "FloatSlider(value=-1.6779472827911377, description='Entry 9', max=3.0, min=-3.0, step=0.01)"
      ]
     },
     "metadata": {},
     "output_type": "display_data"
    },
    {
     "data": {
      "application/vnd.jupyter.widget-view+json": {
       "model_id": "dacc2df16e554220b8b42c32fb3676ee",
       "version_major": 2,
       "version_minor": 0
      },
      "text/plain": [
       "FloatSlider(value=-1.1771475076675415, description='Entry 10', max=3.0, min=-3.0, step=0.01)"
      ]
     },
     "metadata": {},
     "output_type": "display_data"
    },
    {
     "data": {
      "application/vnd.jupyter.widget-view+json": {
       "model_id": "04da60fdd94b43a691286986413078a0",
       "version_major": 2,
       "version_minor": 0
      },
      "text/plain": [
       "FloatSlider(value=-1.486824631690979, description='Entry 11', max=3.0, min=-3.0, step=0.01)"
      ]
     },
     "metadata": {},
     "output_type": "display_data"
    },
    {
     "data": {
      "application/vnd.jupyter.widget-view+json": {
       "model_id": "bca4cf8c32ff4dcbb9a409724e215ffc",
       "version_major": 2,
       "version_minor": 0
      },
      "text/plain": [
       "FloatSlider(value=1.8727010488510132, description='Entry 12', max=3.0, min=-3.0, step=0.01)"
      ]
     },
     "metadata": {},
     "output_type": "display_data"
    },
    {
     "data": {
      "application/vnd.jupyter.widget-view+json": {
       "model_id": "9b17bec0cfd840f2abdf0d537e969318",
       "version_major": 2,
       "version_minor": 0
      },
      "text/plain": [
       "FloatSlider(value=0.5334859490394592, description='Entry 13', max=3.0, min=-3.0, step=0.01)"
      ]
     },
     "metadata": {},
     "output_type": "display_data"
    },
    {
     "data": {
      "application/vnd.jupyter.widget-view+json": {
       "model_id": "d97f9162071545d3954c48425583a621",
       "version_major": 2,
       "version_minor": 0
      },
      "text/plain": [
       "FloatSlider(value=-0.918647289276123, description='Entry 14', max=3.0, min=-3.0, step=0.01)"
      ]
     },
     "metadata": {},
     "output_type": "display_data"
    },
    {
     "data": {
      "application/vnd.jupyter.widget-view+json": {
       "model_id": "67a13af500a34d2e9bbfba5e33e64dda",
       "version_major": 2,
       "version_minor": 0
      },
      "text/plain": [
       "FloatSlider(value=-0.7044676542282104, description='Entry 15', max=3.0, min=-3.0, step=0.01)"
      ]
     },
     "metadata": {},
     "output_type": "display_data"
    },
    {
     "data": {
      "application/vnd.jupyter.widget-view+json": {
       "model_id": "7069a1a92ad9461db49575a9e3e2fbae",
       "version_major": 2,
       "version_minor": 0
      },
      "text/plain": [
       "FloatSlider(value=0.9711862206459045, description='Entry 16', max=3.0, min=-3.0, step=0.01)"
      ]
     },
     "metadata": {},
     "output_type": "display_data"
    },
    {
     "data": {
      "application/vnd.jupyter.widget-view+json": {
       "model_id": "c3f20f4bf22840ae9d5695be3e634baa",
       "version_major": 2,
       "version_minor": 0
      },
      "text/plain": [
       "Output()"
      ]
     },
     "metadata": {},
     "output_type": "display_data"
    }
   ],
   "source": [
    "out = Output()  # Output widget to display the image\n",
    "\n",
    "sliders = []\n",
    "\n",
    "period = 'ED I-II' # can be None to include just genre\n",
    "genre = '' # can be None to include just period\n",
    "\n",
    "imgs_to_disp_df = df_encodings_train.drop(['Genre', 'Period'], axis = 1).copy()\n",
    "\n",
    "if period:\n",
    "     imgs_to_disp_df = imgs_to_disp_df[imgs_to_disp_df['Period_Name']==period]\n",
    "    \n",
    "if genre:\n",
    "     imgs_to_disp_df = imgs_to_disp_df[imgs_to_disp_df['Genre_Name']==genre]\n",
    "    \n",
    "initial_vector = imgs_to_disp_df.sample().drop(['Genre_Name', 'Period_Name'], axis = 1).iloc[0].values.astype('float32')\n",
    "\n",
    "for i, val in enumerate(initial_vector):\n",
    "    slider = widgets.FloatSlider(value=val, min=-3, max=3, step=0.01, description=f'Entry {i+1}')\n",
    "    slider.observe(generate_image, 'value')\n",
    "    sliders.append(slider)\n",
    "    \n",
    "# Show sliders\n",
    "for slider in sliders:\n",
    "    display(slider)\n",
    "\n",
    "# Show initial image\n",
    "display(out)\n",
    "generate_image()"
   ]
  }
 ],
 "metadata": {
  "kernelspec": {
   "display_name": "dani_torch",
   "language": "python",
   "name": "dani_torch"
  },
  "language_info": {
   "codemirror_mode": {
    "name": "ipython",
    "version": 3
   },
   "file_extension": ".py",
   "mimetype": "text/x-python",
   "name": "python",
   "nbconvert_exporter": "python",
   "pygments_lexer": "ipython3",
   "version": "3.11.5"
  }
 },
 "nbformat": 4,
 "nbformat_minor": 5
}
