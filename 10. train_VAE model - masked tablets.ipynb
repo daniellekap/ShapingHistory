{
 "cells": [
  {
   "cell_type": "code",
   "execution_count": 1,
   "id": "f7f3bdd3-5f5b-41cb-bbf4-891c44446908",
   "metadata": {},
   "outputs": [],
   "source": [
    "from datetime import datetime\n",
    "\n",
    "import pandas as pd\n",
    "import pytorch_lightning as pl\n",
    "import torch\n",
    "from pytorch_lightning.callbacks import LearningRateMonitor, EarlyStopping\n",
    "from torch.utils.data import DataLoader\n",
    "from tqdm.notebook import tqdm\n",
    "\n",
    "from era_data import TabletPeriodDataset, get_IDS\n",
    "from VAE_model_tablets_class import VAE"
   ]
  },
  {
   "cell_type": "markdown",
   "id": "43772357-5ae9-41e9-ab66-3ed17d6f5991",
   "metadata": {},
   "source": [
    "# Hyperparameters"
   ]
  },
  {
   "cell_type": "code",
   "execution_count": 2,
   "id": "5ee5c6af-e853-44bd-84c6-8f49bd788a51",
   "metadata": {},
   "outputs": [
    {
     "name": "stdout",
     "output_type": "stream",
     "text": [
      "94936\n",
      "period_clf_bs8_lr0.0001_beta_1_epochs_30-VAE-94936_samples-masked_w_classification_loss-equalpartsloss-April20_2\n"
     ]
    }
   ],
   "source": [
    "RUN_NAME_SUFFIX = '-masked_w_classification_loss-equalpartsloss' # ''\n",
    "IMG_DIR = 'output/images_preprocessed'\n",
    "LR = 0.0001\n",
    "EPOCHS = 30\n",
    "BATCH_SIZE = 8\n",
    "SUFFIX = '-VAE'\n",
    "DATE = datetime.now().strftime(\"%B%d\")\n",
    "BETA=1\n",
    "IDS = get_IDS(IMG_DIR=IMG_DIR)\n",
    "print(len(IDS))\n",
    "VERSION_NAME = f'period_clf_bs{BATCH_SIZE}_lr{LR}_beta_{BETA}_epochs_{EPOCHS}{SUFFIX}-{len(IDS)}_samples{RUN_NAME_SUFFIX}-{DATE}_2'\n",
    "print(VERSION_NAME)\n",
    "RESNET_VERNAME = 'period_clf_bs16_lr1e-05_20epochs-resnet50-94936_samples_preprocessed-masked_April16-80-10-10_train_test_val-2' #reading the same train set and test set as previous models"
   ]
  },
  {
   "cell_type": "markdown",
   "id": "88268ff4-f056-48d3-86b6-b09838cc35f0",
   "metadata": {},
   "source": [
    "# Load data"
   ]
  },
  {
   "cell_type": "code",
   "execution_count": 3,
   "id": "8a77f7cf-9de6-4788-abe9-829e4d1113a6",
   "metadata": {},
   "outputs": [
    {
     "data": {
      "text/plain": [
       "'cuda'"
      ]
     },
     "execution_count": 3,
     "metadata": {},
     "output_type": "execute_result"
    }
   ],
   "source": [
    "device = 'cuda' if torch.cuda.is_available() else 'cpu'\n",
    "device"
   ]
  },
  {
   "cell_type": "code",
   "execution_count": 4,
   "id": "6fe2f524-dab7-48c9-b4e0-5c4efe2ded07",
   "metadata": {},
   "outputs": [],
   "source": [
    "train_ids = pd.read_csv(f'output/clf_ids/period-train-{RESNET_VERNAME}.csv', header=None)[0].astype(str)\n",
    "val_ids = pd.read_csv(f'output/clf_ids/period-val-{RESNET_VERNAME}.csv', header=None)[0].astype(str)\n",
    "test_ids = pd.read_csv(f'output/clf_ids/period-test-{RESNET_VERNAME}.csv', header=None)[0].astype(str)"
   ]
  },
  {
   "cell_type": "code",
   "execution_count": 5,
   "id": "895f1f09-56d5-4b15-9be1-5fe8225f0e31",
   "metadata": {},
   "outputs": [
    {
     "name": "stdout",
     "output_type": "stream",
     "text": [
      "Filtering 94936 IDS down to provided 75948...\n",
      "Filtering 94936 IDS down to provided 9494...\n",
      "Filtering 94936 IDS down to provided 9494...\n"
     ]
    }
   ],
   "source": [
    "ds_train = TabletPeriodDataset(IDS=train_ids, IMG_DIR=IMG_DIR, mask=True)\n",
    "ds_val = TabletPeriodDataset(IDS=val_ids, IMG_DIR=IMG_DIR, mask=True)\n",
    "ds_test = TabletPeriodDataset(IDS=test_ids, IMG_DIR=IMG_DIR, mask=True)"
   ]
  },
  {
   "cell_type": "code",
   "execution_count": 6,
   "id": "9b2e2242-bd62-48ce-a66a-a3077e58f382",
   "metadata": {},
   "outputs": [],
   "source": [
    "def collate_fn(batch):\n",
    "    data = torch.stack([torch.from_numpy(sample[1]).unsqueeze(0) for sample in batch])\n",
    "    labels = torch.tensor([sample[2] for sample in batch])\n",
    "\n",
    "    return data, labels"
   ]
  },
  {
   "cell_type": "code",
   "execution_count": 7,
   "id": "07a1da92-e5db-4217-9ab5-827d7effbc42",
   "metadata": {},
   "outputs": [],
   "source": [
    "dl_train = DataLoader(ds_train, batch_size=BATCH_SIZE, shuffle=True, num_workers=4, collate_fn = collate_fn, pin_memory=True)\n",
    "dl_val = DataLoader(ds_val, batch_size=BATCH_SIZE, shuffle=False, num_workers=4, collate_fn = collate_fn, pin_memory=True)\n",
    "dl_test = DataLoader(ds_test, batch_size=BATCH_SIZE, shuffle=False, num_workers=4, collate_fn = collate_fn, pin_memory=True)"
   ]
  },
  {
   "cell_type": "code",
   "execution_count": 8,
   "id": "ce998521-7fbb-48d6-a2bc-4134f40af661",
   "metadata": {},
   "outputs": [
    {
     "name": "stdout",
     "output_type": "stream",
     "text": [
      "torch.Size([8, 1, 512, 512]) torch.Size([8])\n"
     ]
    }
   ],
   "source": [
    "for batch in dl_train:\n",
    "    x, y = batch\n",
    "    print(x.shape,y.shape)\n",
    "    break"
   ]
  },
  {
   "cell_type": "markdown",
   "id": "d405bd65-c7fb-403b-889f-8bfcf6d06019",
   "metadata": {},
   "source": [
    "# Create Model"
   ]
  },
  {
   "cell_type": "code",
   "execution_count": 9,
   "id": "6091f2fc-f47e-4e07-8fec-453f0ea35891",
   "metadata": {},
   "outputs": [],
   "source": [
    "logger = pl.loggers.TensorBoardLogger(\n",
    "    save_dir='.',\n",
    "    name='lightning_logs',\n",
    "    version=VERSION_NAME\n",
    ")"
   ]
  },
  {
   "cell_type": "code",
   "execution_count": 10,
   "id": "7931719a-3dbe-4873-8115-1510fe8d97a0",
   "metadata": {},
   "outputs": [],
   "source": [
    "lr_monitor = LearningRateMonitor(logging_interval='step')"
   ]
  },
  {
   "cell_type": "code",
   "execution_count": 11,
   "id": "37b5c664-bfce-454d-aaeb-7503ec71b52b",
   "metadata": {},
   "outputs": [],
   "source": [
    "early_stop_callback = EarlyStopping(\n",
    "    monitor='val_total_loss',  \n",
    "    min_delta=0.000001,      \n",
    "    patience=5,          \n",
    "    verbose=10,       \n",
    "    mode='min',\n",
    "    check_on_train_epoch_end = True\n",
    ")"
   ]
  },
  {
   "cell_type": "code",
   "execution_count": 12,
   "id": "85c6ad55-ae6d-46e2-80ca-a5c9609ae8be",
   "metadata": {},
   "outputs": [
    {
     "data": {
      "text/plain": [
       "22"
      ]
     },
     "execution_count": 12,
     "metadata": {},
     "output_type": "execute_result"
    }
   ],
   "source": [
    "num_classes = len(TabletPeriodDataset.PERIOD_INDICES)\n",
    "num_classes"
   ]
  },
  {
   "cell_type": "code",
   "execution_count": 13,
   "id": "63093485-06f5-45b0-bb51-713bdd1cd426",
   "metadata": {},
   "outputs": [],
   "source": [
    "def compute_class_weights(dataloader, num_classes, epsilon=1e-6):\n",
    "    class_counts = torch.zeros(num_classes)\n",
    "    for _, labels in tqdm(dataloader):\n",
    "        unique, counts = labels.unique(return_counts=True)\n",
    "        class_counts[unique] += counts\n",
    "        \n",
    "    # Compute class proportions\n",
    "    class_proportions = class_counts / len(dataloader.dataset)\n",
    "    \n",
    "    # Inverse the proportions to get class weights and add epsilon to avoid division by zero\n",
    "    class_weights = 1.0 / (class_proportions + epsilon)\n",
    "    \n",
    "    # Normalize the weights so they sum to num_classes\n",
    "    class_weights = class_weights / class_weights.sum() * num_classes\n",
    "    \n",
    "    return class_weights"
   ]
  },
  {
   "cell_type": "code",
   "execution_count": 14,
   "id": "11f46176-fde3-4496-a811-255f2c0d2d56",
   "metadata": {},
   "outputs": [],
   "source": [
    "# class_weights = compute_class_weights(dl_train, num_classes)\n",
    "# torch.save(class_weights, \"data/class_weights_period.pt\")"
   ]
  },
  {
   "cell_type": "code",
   "execution_count": 15,
   "id": "960bc9fd-fad0-499e-9dcc-88aa62c28689",
   "metadata": {},
   "outputs": [],
   "source": [
    "class_weights = torch.load(\"data/class_weights_period.pt\")"
   ]
  },
  {
   "cell_type": "code",
   "execution_count": 16,
   "id": "a290ba36-eb3a-4f12-9ac1-e1fa11590ebe",
   "metadata": {
    "scrolled": true
   },
   "outputs": [
    {
     "name": "stderr",
     "output_type": "stream",
     "text": [
      "/sise/mickyfi-group/kapond/AnalysisBySynthesis/VAE_model_tablets_class.py:75: UserWarning: To copy construct from a tensor, it is recommended to use sourceTensor.clone().detach() or sourceTensor.clone().detach().requires_grad_(True), rather than torch.tensor(sourceTensor).\n",
      "  self.class_weights = torch.tensor(class_weights).to(device)\n"
     ]
    }
   ],
   "source": [
    "model = VAE(image_channels=1, z_dim=12, lr =LR, beta=BETA, use_classification_loss=True, num_classes=num_classes,\n",
    "            loss_type=\"weighted\", class_weights=class_weights, device = device) # z_dim = size of embeddings bottleneck"
   ]
  },
  {
   "cell_type": "markdown",
   "id": "a8534d29-8ad7-4787-b34a-4a4ebeb3900b",
   "metadata": {},
   "source": [
    "# Train Model"
   ]
  },
  {
   "cell_type": "code",
   "execution_count": 17,
   "id": "bfa30198-0b45-4b19-8d10-f6e4960fe098",
   "metadata": {
    "scrolled": true
   },
   "outputs": [
    {
     "name": "stderr",
     "output_type": "stream",
     "text": [
      "/home/kapond/.conda/envs/dani_torch/lib/python3.11/site-packages/lightning_fabric/plugins/environments/slurm.py:165: PossibleUserWarning: The `srun` command is available on your system but is not used. HINT: If your intention is to run Lightning on SLURM, prepend your python command with `srun` like so: srun python /home/kapond/.conda/envs/dani_torch/lib/python3.11/s ...\n",
      "  rank_zero_warn(\n",
      "GPU available: True (cuda), used: True\n",
      "TPU available: False, using: 0 TPU cores\n",
      "IPU available: False, using: 0 IPUs\n",
      "HPU available: False, using: 0 HPUs\n"
     ]
    }
   ],
   "source": [
    "trainer = pl.Trainer(accelerator='gpu', \n",
    "                     callbacks=[lr_monitor, early_stop_callback], \n",
    "                     max_epochs = EPOCHS, devices='auto', \n",
    "                     val_check_interval=0.2, \n",
    "                     logger=logger,)  "
   ]
  },
  {
   "cell_type": "code",
   "execution_count": null,
   "id": "e787dfa8-2479-4647-b21f-b5f686e26671",
   "metadata": {
    "scrolled": true
   },
   "outputs": [
    {
     "name": "stderr",
     "output_type": "stream",
     "text": [
      "/home/kapond/.conda/envs/dani_torch/lib/python3.11/site-packages/lightning_fabric/plugins/environments/slurm.py:165: PossibleUserWarning: The `srun` command is available on your system but is not used. HINT: If your intention is to run Lightning on SLURM, prepend your python command with `srun` like so: srun python /home/kapond/.conda/envs/dani_torch/lib/python3.11/s ...\n",
      "  rank_zero_warn(\n",
      "You are using a CUDA device ('NVIDIA GeForce RTX 3090') that has Tensor Cores. To properly utilize them, you should set `torch.set_float32_matmul_precision('medium' | 'high')` which will trade-off precision for performance. For more details, read https://pytorch.org/docs/stable/generated/torch.set_float32_matmul_precision.html#torch.set_float32_matmul_precision\n",
      "LOCAL_RANK: 0 - CUDA_VISIBLE_DEVICES: [0]\n",
      "\n",
      "  | Name        | Type             | Params\n",
      "-------------------------------------------------\n",
      "0 | encoder     | Sequential       | 2.7 M \n",
      "1 | fc1         | Linear           | 786 K \n",
      "2 | fc2         | Linear           | 786 K \n",
      "3 | fc3         | Linear           | 851 K \n",
      "4 | decoder     | Sequential       | 2.7 M \n",
      "5 | criterion   | CrossEntropyLoss | 0     \n",
      "6 | fc_classify | Sequential       | 286   \n",
      "-------------------------------------------------\n",
      "7.9 M     Trainable params\n",
      "0         Non-trainable params\n",
      "7.9 M     Total params\n",
      "31.430    Total estimated model params size (MB)\n"
     ]
    },
    {
     "data": {
      "application/vnd.jupyter.widget-view+json": {
       "model_id": "",
       "version_major": 2,
       "version_minor": 0
      },
      "text/plain": [
       "Sanity Checking: 0it [00:00, ?it/s]"
      ]
     },
     "metadata": {},
     "output_type": "display_data"
    },
    {
     "data": {
      "application/vnd.jupyter.widget-view+json": {
       "model_id": "92a3fa90a77144e8b1e7800a6113c034",
       "version_major": 2,
       "version_minor": 0
      },
      "text/plain": [
       "Training: 0it [00:00, ?it/s]"
      ]
     },
     "metadata": {},
     "output_type": "display_data"
    },
    {
     "data": {
      "application/vnd.jupyter.widget-view+json": {
       "model_id": "",
       "version_major": 2,
       "version_minor": 0
      },
      "text/plain": [
       "Validation: 0it [00:00, ?it/s]"
      ]
     },
     "metadata": {},
     "output_type": "display_data"
    },
    {
     "data": {
      "application/vnd.jupyter.widget-view+json": {
       "model_id": "",
       "version_major": 2,
       "version_minor": 0
      },
      "text/plain": [
       "Validation: 0it [00:00, ?it/s]"
      ]
     },
     "metadata": {},
     "output_type": "display_data"
    },
    {
     "data": {
      "application/vnd.jupyter.widget-view+json": {
       "model_id": "",
       "version_major": 2,
       "version_minor": 0
      },
      "text/plain": [
       "Validation: 0it [00:00, ?it/s]"
      ]
     },
     "metadata": {},
     "output_type": "display_data"
    },
    {
     "data": {
      "application/vnd.jupyter.widget-view+json": {
       "model_id": "",
       "version_major": 2,
       "version_minor": 0
      },
      "text/plain": [
       "Validation: 0it [00:00, ?it/s]"
      ]
     },
     "metadata": {},
     "output_type": "display_data"
    },
    {
     "data": {
      "application/vnd.jupyter.widget-view+json": {
       "model_id": "a083613c4f80467089229683edbefdcd",
       "version_major": 2,
       "version_minor": 0
      },
      "text/plain": [
       "Validation: 0it [00:00, ?it/s]"
      ]
     },
     "metadata": {},
     "output_type": "display_data"
    }
   ],
   "source": [
    "trainer.fit(model, dl_train, dl_val) "
   ]
  },
  {
   "cell_type": "code",
   "execution_count": null,
   "id": "3b5cade7-c68e-4911-aad5-fd2a054c5b69",
   "metadata": {},
   "outputs": [],
   "source": []
  }
 ],
 "metadata": {
  "kernelspec": {
   "display_name": "dani_torch",
   "language": "python",
   "name": "dani_torch"
  },
  "language_info": {
   "codemirror_mode": {
    "name": "ipython",
    "version": 3
   },
   "file_extension": ".py",
   "mimetype": "text/x-python",
   "name": "python",
   "nbconvert_exporter": "python",
   "pygments_lexer": "ipython3",
   "version": "3.11.5"
  }
 },
 "nbformat": 4,
 "nbformat_minor": 5
}
