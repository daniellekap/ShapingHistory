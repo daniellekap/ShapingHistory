{
 "cells": [
  {
   "cell_type": "code",
   "execution_count": null,
   "id": "2f6a7534",
   "metadata": {},
   "outputs": [],
   "source": [
    "from concurrent.futures import ProcessPoolExecutor, as_completed\n",
    "from glob import glob\n",
    "from pathlib import Path\n",
    "\n",
    "import cv2\n",
    "from tqdm.notebook import tqdm\n",
    "from colorbar import ColorbarTemplate"
   ]
  },
  {
   "cell_type": "code",
   "execution_count": 3,
   "id": "4163933a-fda4-4f43-90fd-a99498334289",
   "metadata": {},
   "outputs": [],
   "source": [
    "def process_image_wrapper(args):\n",
    "    \"\"\"\n",
    "    Wrapper function for processing an image, to allow passing multiple arguments.\n",
    "    \"\"\"\n",
    "    image_path, colorbars = args\n",
    "    try:\n",
    "        filename = Path(image_path).name\n",
    "        output_path = output_dir / filename\n",
    "        \n",
    "        img = cv2.imread(str(image_path), cv2.IMREAD_GRAYSCALE)\n",
    "        if img is None:\n",
    "            print(f\"Skipping {image_path}, unable to read.\")\n",
    "            return\n",
    "        \n",
    "        for colorbar in colorbars:\n",
    "            img = colorbar.erase_from_image(img, threshold=0.8, crop_and_resize=False)\n",
    "        \n",
    "        cv2.imwrite(str(output_path), img)\n",
    "        return f\"Processed: {image_path}\"\n",
    "    except Exception as e:\n",
    "        return f\"Error processing {image_path}: {e}\""
   ]
  },
  {
   "cell_type": "code",
   "execution_count": 2,
   "id": "533a95c4-4dc2-4614-a0cc-cfbd6bc6ce8b",
   "metadata": {},
   "outputs": [],
   "source": [
    " colorbars = [#ColorbarTemplate(),\n",
    "# ColorbarTemplate(fn='data/colorbar_templates/colorbar_short.png'),\n",
    "# ColorbarTemplate(fn='data/colorbar_templates/colorbar_vertical_short.png'),\n",
    "# ColorbarTemplate(fn='data/colorbar_templates/colorbar_short_flat.png'),\n",
    "# ColorbarTemplate(fn='data/colorbar_templates/colorbar.png'),\n",
    "# ColorbarTemplate(fn='data/colorbar_templates/colorbar_2.png'),\n",
    "# ColorbarTemplate(fn='data/colorbar_templates/colorbar_3.png'),\n",
    "# ColorbarTemplate(fn='data/colorbar_templates/colorbar_light.png'),\n",
    "# ColorbarTemplate(fn='data/colorbar_templates/colorbar_long.png'),\n",
    "# ColorbarTemplate(fn='data/colorbar_templates/colorbar_ruler.png'),\n",
    "# ColorbarTemplate(fn='data/colorbar_templates/colorbar_1cm.png'),\n",
    "# ColorbarTemplate(fn='data/colorbar_templates/colorbar_2cm.png'),\n",
    "# ColorbarTemplate(fn='data/colorbar_templates/colorbar_none2.png'),\n",
    "# ColorbarTemplate(fn='data/colorbar_templates/colorbar_none.png'),\n",
    "# ColorbarTemplate(fn='data/colorbar_templates/colorbar_grey.png')\n",
    "# ColorbarTemplate(fn='data/colorbar_templates/colorbar_short_black-grey.png'),\n",
    "# ColorbarTemplate(fn='data/colorbar_templates/colorbar_vertical_short2.png'),\n",
    "# ColorbarTemplate(fn='data/colorbar_templates/colorbar_mini.png'),\n",
    "# ColorbarTemplate(fn='data/colorbar_templates/colorbar_empty.png'),\n",
    "# ColorbarTemplate(fn='data/colorbar_templates/colorbar_empty_big.png'),\n",
    "# ColorbarTemplate(fn='data/colorbar_templates/colorbar_3_5.png'),\n",
    "# ColorbarTemplate(fn='data/colorbar_templates/colorbar_long_mini.png'),\n",
    "# ColorbarTemplate(fn='data/colorbar_templates/colorbar_just_colors.png'),\n",
    "# ColorbarTemplate(fn='data/colorbar_templates/colorbar_partial_black.png'),\n",
    "# ColorbarTemplate(fn='data/colorbar_templates/colorbar_partial_black_small.png'),\n",
    "# ColorbarTemplate(fn='data/colorbar_templates/colorbar_partial_1_5.png'),\n",
    "# ColorbarTemplate(fn='data/colorbar_templates/colorbar_short_1_2_big.png'),\n",
    "# ColorbarTemplate(fn='data/colorbar_templates/colorbar_vertical_long.png'), \n",
    "ColorbarTemplate(fn='data/colorbar_templates/colorbar_just_colors_new.png'),\n",
    "ColorbarTemplate(fn='data/colorbar_templates/colorbar_1_2_3colors.png'),\n",
    "ColorbarTemplate(fn='data/colorbar_templates/colorbar_0_5_grey.png'),\n",
    "ColorbarTemplate(fn='data/colorbar_templates/colorbar_0_2_vertical.png')]"
   ]
  },
  {
   "cell_type": "code",
   "execution_count": 4,
   "id": "1db28464-4b2f-48ed-a889-ff74301f6f11",
   "metadata": {},
   "outputs": [],
   "source": [
    "def process_image(image_path):\n",
    "    # Extract the filename for saving the processed image\n",
    "    filename = Path(image_path).name\n",
    "    output_path = output_dir / filename\n",
    "\n",
    "    # Load the image directly in greyscale\n",
    "    img = cv2.imread(image_path, cv2.IMREAD_GRAYSCALE)\n",
    "    if img is None:\n",
    "        print(f\"Skipping {image_path}, unable to read.\")\n",
    "        return\n",
    "\n",
    "    for colorbar in colorbars:\n",
    "        img = colorbar.erase_from_image(img, threshold=0.8, crop_and_resize=False)\n",
    "\n",
    "    cv2.imwrite(str(output_path), img)\n",
    "    return str(output_path)\n",
    "\n",
    "def process_images_in_parallel(image_paths, max_workers=None):\n",
    "    with ProcessPoolExecutor(max_workers=max_workers) as executor:\n",
    "        futures = {executor.submit(process_image, path): path for path in image_paths}\n",
    "\n",
    "        progress = tqdm(as_completed(futures), total=len(image_paths), desc='Processing Images')\n",
    "\n",
    "        for future in progress:\n",
    "            result = future.result()  \n",
    "            progress.set_description(\"Processing Images\")"
   ]
  },
  {
   "cell_type": "code",
   "execution_count": 5,
   "id": "c258aa35-63d1-4d57-8b44-2b16374b4d6a",
   "metadata": {},
   "outputs": [
    {
     "name": "stderr",
     "output_type": "stream",
     "text": [
      "453it [00:00, 6765.99it/s]\n",
      "0it [00:00, ?it/s]\n"
     ]
    },
    {
     "data": {
      "text/plain": [
       "453"
      ]
     },
     "execution_count": 5,
     "metadata": {},
     "output_type": "execute_result"
    }
   ],
   "source": [
    "input_dir = Path('output/images')\n",
    "output_dir = Path('output/images_preprocessed')\n",
    "output_dir.mkdir(parents=True, exist_ok=True)  \n",
    "\n",
    "colorbar_images = {img.name for img in tqdm(input_dir.glob('*.png'))}\n",
    "\n",
    "colorbar_images_preprocessed = {img.name for img in tqdm(output_dir.glob('*.png'))}\n",
    "\n",
    "unique_to_colorbar_images = list(colorbar_images - colorbar_images_preprocessed)\n",
    "\n",
    "len(unique_to_colorbar_images)"
   ]
  },
  {
   "cell_type": "code",
   "execution_count": 6,
   "id": "57b1414f-5380-4238-bbcd-3d7ba39a8b1b",
   "metadata": {},
   "outputs": [],
   "source": [
    "images_paths=['output/colorbar_images/'+x for x in unique_to_colorbar_images]"
   ]
  },
  {
   "cell_type": "code",
   "execution_count": 7,
   "id": "60468509-90dd-43e1-9430-3c1228478b39",
   "metadata": {},
   "outputs": [
    {
     "name": "stderr",
     "output_type": "stream",
     "text": [
      "Processing Images: 100%|██████████| 453/453 [10:02<00:00,  1.33s/it]\n"
     ]
    }
   ],
   "source": [
    "process_images_in_parallel(images_paths)"
   ]
  }
 ],
 "metadata": {
  "kernelspec": {
   "display_name": "Python 3 (ipykernel)",
   "language": "python",
   "name": "python3"
  },
  "language_info": {
   "codemirror_mode": {
    "name": "ipython",
    "version": 3
   },
   "file_extension": ".py",
   "mimetype": "text/x-python",
   "name": "python",
   "nbconvert_exporter": "python",
   "pygments_lexer": "ipython3",
   "version": "3.11.5"
  }
 },
 "nbformat": 4,
 "nbformat_minor": 5
}
