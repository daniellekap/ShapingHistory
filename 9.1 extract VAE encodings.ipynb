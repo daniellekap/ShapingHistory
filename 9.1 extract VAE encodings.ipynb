{
 "cells": [
  {
   "cell_type": "code",
   "execution_count": 1,
   "id": "fa3873ca-0e46-4b03-9af4-7e294a23e8f7",
   "metadata": {},
   "outputs": [],
   "source": [
    "import torch\n",
    "import pandas as pd\n",
    "from tqdm import tqdm\n",
    "from multiprocessing import Pool\n",
    "from era_data import TabletPeriodDataset, get_IDS\n",
    "from VAE_model_tablets_class import VAE\n",
    "import numpy as np\n",
    "from PIL import Image\n",
    "from torchvision import transforms"
   ]
  },
  {
   "cell_type": "code",
   "execution_count": 2,
   "id": "5ee5c6af-e853-44bd-84c6-8f49bd788a51",
   "metadata": {},
   "outputs": [],
   "source": [
    "# IMG_DIR = 'output/images'\n",
    "RUN_NAME_SUFFIX = '-masked_w_classification_loss' # ''\n",
    "IMG_DIR = 'output/images_preprocessed'\n",
    "LR = 5e-5\n",
    "EPOCHS = 30\n",
    "BATCH_SIZE = 16\n",
    "SUFFIX = '-resnet50'\n",
    "DATE = 'Oct2-v3'"
   ]
  },
  {
   "cell_type": "code",
   "execution_count": 3,
   "id": "8a77f7cf-9de6-4788-abe9-829e4d1113a6",
   "metadata": {},
   "outputs": [
    {
     "data": {
      "text/plain": [
       "'cuda'"
      ]
     },
     "execution_count": 3,
     "metadata": {},
     "output_type": "execute_result"
    }
   ],
   "source": [
    "device = 'cuda' if torch.cuda.is_available() else 'cpu'\n",
    "device"
   ]
  },
  {
   "cell_type": "code",
   "execution_count": 4,
   "id": "9145fbdd-810d-488d-ba8b-83b2d1d20174",
   "metadata": {},
   "outputs": [
    {
     "data": {
      "text/plain": [
       "97640"
      ]
     },
     "execution_count": 4,
     "metadata": {},
     "output_type": "execute_result"
    }
   ],
   "source": [
    "IDS = get_IDS(IMG_DIR=IMG_DIR)\n",
    "len(IDS)"
   ]
  },
  {
   "cell_type": "code",
   "execution_count": 5,
   "id": "3ef50b95-c41e-4512-8370-794938a3ba78",
   "metadata": {},
   "outputs": [
    {
     "data": {
      "text/plain": [
       "'period_clf_bs16_lr5e-05_30epochs-resnet50-97640_samples-masked_w_classification_loss_blurvae-conv-Oct2-v3'"
      ]
     },
     "execution_count": 5,
     "metadata": {},
     "output_type": "execute_result"
    }
   ],
   "source": [
    "VERSION_NAME = f'period_clf_bs{BATCH_SIZE}_lr{LR}_{EPOCHS}epochs{SUFFIX}-{len(IDS)}_samples{RUN_NAME_SUFFIX}_blurvae-conv-{DATE}'\n",
    "VERSION_NAME"
   ]
  },
  {
   "cell_type": "code",
   "execution_count": 6,
   "id": "6fe2f524-dab7-48c9-b4e0-5c4efe2ded07",
   "metadata": {},
   "outputs": [],
   "source": [
    "VERNAME = 'period_clf_bs16_lr5e-05_15epochs-resnet50-97640_samples-masked-Sept_19_blur-early_stopping-1'\n",
    "\n",
    "train_ids = pd.read_csv(f'output/clf_ids/period-train-{VERNAME}.csv', header=None)[0].astype(str)\n",
    "test_ids = pd.read_csv(f'output/clf_ids/period-test-{VERNAME}.csv', header=None)[0].astype(str)"
   ]
  },
  {
   "cell_type": "code",
   "execution_count": 7,
   "id": "895f1f09-56d5-4b15-9be1-5fe8225f0e31",
   "metadata": {},
   "outputs": [
    {
     "name": "stdout",
     "output_type": "stream",
     "text": [
      "Filtering 97640 IDS down to provided 97140...\n",
      "Filtering 97640 IDS down to provided 500...\n"
     ]
    }
   ],
   "source": [
    "ds_train = TabletPeriodDataset(IDS=train_ids, IMG_DIR=IMG_DIR, mask=True)\n",
    "ds_test = TabletPeriodDataset(IDS=test_ids, IMG_DIR=IMG_DIR, mask=True)"
   ]
  },
  {
   "cell_type": "code",
   "execution_count": 8,
   "id": "7437bfc9-1414-4481-b118-db20a88f87c3",
   "metadata": {},
   "outputs": [
    {
     "data": {
      "text/plain": [
       "22"
      ]
     },
     "execution_count": 8,
     "metadata": {},
     "output_type": "execute_result"
    }
   ],
   "source": [
    "num_classes = len(TabletPeriodDataset.PERIOD_INDICES)\n",
    "num_classes"
   ]
  },
  {
   "cell_type": "code",
   "execution_count": 9,
   "id": "4fa11e04-1546-4e53-8afb-d4b41e39b671",
   "metadata": {},
   "outputs": [],
   "source": [
    "class_weights = torch.load(\"data/class_weights_period.pt\")"
   ]
  },
  {
   "cell_type": "code",
   "execution_count": 10,
   "id": "1e0da105-ed67-4c93-aec7-b7300c68956b",
   "metadata": {},
   "outputs": [
    {
     "name": "stderr",
     "output_type": "stream",
     "text": [
      "/sise/mickyfi-group/kapond/AnalysisBySynthesis/VAE_model_tablets_class.py:95: UserWarning: To copy construct from a tensor, it is recommended to use sourceTensor.clone().detach() or sourceTensor.clone().detach().requires_grad_(True), rather than torch.tensor(sourceTensor).\n",
      "  self.class_weights = torch.tensor(class_weights).to(device)\n"
     ]
    }
   ],
   "source": [
    "chekpoint_path = f'lightning_logs/{VERSION_NAME}/checkpoints/epoch=29-step=407516.ckpt'\n",
    "vae_model = VAE.load_from_checkpoint(chekpoint_path,image_channels=1,z_dim=16, lr =1e-5, use_classification_loss=True, num_classes=num_classes,\n",
    "            loss_type=\"weighted\", class_weights=class_weights, device = device)"
   ]
  },
  {
   "cell_type": "code",
   "execution_count": 11,
   "id": "bf7e44ee-99a6-4e70-8a36-2d5dfcd8f022",
   "metadata": {},
   "outputs": [],
   "source": [
    "# Function to preprocess an image\n",
    "def preprocess_image(img, label, genre):\n",
    "    img = np.array(Image.fromarray(img).resize((178, 218), Image.NEAREST))  # Resize the image\n",
    "    return img, label, genre\n",
    "\n",
    "def process_batch(batch, vae_model, device):\n",
    "    # Preprocess each image in the batch\n",
    "    preprocessed_batch = [preprocess_image(img, label, genre) for img, label, genre in batch]\n",
    "    imgs, periods, genres = zip(*preprocessed_batch)\n",
    "\n",
    "    # Convert list of images to torch tensor and move to the device\n",
    "    img_tensors = torch.stack([transforms.ToTensor()(img) for img in imgs]).to(device)\n",
    "\n",
    "    with torch.no_grad():\n",
    "        encodings = vae_model.representation(img_tensors)\n",
    "    encodings = encodings.cpu().numpy()\n",
    "\n",
    "    return encodings, periods, genres"
   ]
  },
  {
   "cell_type": "code",
   "execution_count": 12,
   "id": "c3048546-7a3c-412c-a2ea-2d1bdebb13b2",
   "metadata": {},
   "outputs": [],
   "source": [
    "def get_encodings_and_labels(dataset, vae_model, device='cuda', batch_size=32):\n",
    "    vae_model.to(device)\n",
    "    vae_model.eval()\n",
    "\n",
    "    all_encodings = []\n",
    "    all_periods = []\n",
    "    all_genres = []\n",
    "\n",
    "    num_batches = (len(dataset) + batch_size - 1) // batch_size\n",
    "\n",
    "    for i in tqdm(range(num_batches)):\n",
    "        start_idx = i * batch_size\n",
    "        end_idx = min(start_idx + batch_size, len(dataset))\n",
    "        batch = [dataset[j] for j in range(start_idx, end_idx)]\n",
    "        encodings, periods, genres = process_batch(batch, vae_model, device)\n",
    "        all_encodings.extend(encodings)\n",
    "        all_periods.extend(periods)\n",
    "        all_genres.extend(genres)\n",
    "\n",
    "    return np.array(all_encodings), np.array(all_periods), np.array(all_genres)"
   ]
  },
  {
   "cell_type": "code",
   "execution_count": 13,
   "id": "93385281-fe6f-4dac-b323-09a5332872cd",
   "metadata": {},
   "outputs": [
    {
     "name": "stderr",
     "output_type": "stream",
     "text": [
      "100%|██████████| 2972/2972 [09:27<00:00,  5.23it/s]\n"
     ]
    }
   ],
   "source": [
    "# Main execution\n",
    "encodings, periods, genres = get_encodings_and_labels(ds_train, vae_model)\n",
    "\n",
    "# Create dataframe\n",
    "df = pd.DataFrame(encodings, columns=[f\"X{i}\" for i in range(1, encodings.shape[1] + 1)])\n",
    "df['Period'] = periods\n",
    "df['Genre'] = genres"
   ]
  },
  {
   "cell_type": "code",
   "execution_count": 14,
   "id": "32c32e19-7544-4e0a-8b85-ca2c7a6d4fd7",
   "metadata": {},
   "outputs": [],
   "source": [
    "PERIOD_INDICES = {\n",
    "\n",
    "    0: 'other',\n",
    "    1: 'Ur III',\n",
    "    2: 'Neo-Assyrian',\n",
    "    3: 'Old Babylonian',\n",
    "    4: 'Middle Babylonian',\n",
    "    5: 'Neo-Babylonian',\n",
    "    6: 'Old Akkadian',\n",
    "    7: 'Achaemenid',\n",
    "    8: 'Early Old Babylonian',\n",
    "    9: 'ED IIIb',\n",
    "    10: 'Middle Assyrian',\n",
    "    11: 'Old Assyrian',\n",
    "    12: 'Uruk III',\n",
    "    13: 'Proto-Elamite',\n",
    "    14: 'Lagash II',\n",
    "    15: 'Ebla',\n",
    "    16: 'ED IIIa',\n",
    "    17: 'Hellenistic',\n",
    "    18: 'ED I-II',\n",
    "    19: 'Middle Elamite',\n",
    "    20: 'Middle Hittite',\n",
    "    21: 'Uruk IV'\n",
    "}"
   ]
  },
  {
   "cell_type": "code",
   "execution_count": 15,
   "id": "8e785a34-f7bc-4e45-99a2-bf1a55cce0ac",
   "metadata": {},
   "outputs": [],
   "source": [
    "GENRE_INDICES = {\n",
    "        \n",
    "        1: 'Administrative',\n",
    "        2: 'Letter',\n",
    "        3: 'Legal',\n",
    "        4: 'Royal/Monumental',\n",
    "        5: 'Literary',\n",
    "        6: 'Lexical',\n",
    "        7: 'Omen',\n",
    "        8: 'uncertain',\n",
    "        9: 'School',\n",
    "        10: 'Mathematical',\n",
    "        11: 'Prayer/Incantation',\n",
    "        12: 'Scientific',\n",
    "        13: 'Ritual',\n",
    "        14: 'fake (modern)',\n",
    "        15: 'Astronomical',\n",
    "        16: 'Private/Votive',\n",
    "    }"
   ]
  },
  {
   "cell_type": "code",
   "execution_count": 16,
   "id": "c48249c4-0b05-49ea-8c83-d712c8eebfff",
   "metadata": {},
   "outputs": [],
   "source": [
    "df['Period_Name'] = df['Period'].map(PERIOD_INDICES)"
   ]
  },
  {
   "cell_type": "code",
   "execution_count": 17,
   "id": "87679d9d-8c7a-4c34-b723-680ceb995792",
   "metadata": {},
   "outputs": [],
   "source": [
    "df['Genre_Name'] = df['Genre'].map(GENRE_INDICES)"
   ]
  },
  {
   "cell_type": "code",
   "execution_count": 18,
   "id": "6289c85e-b113-4626-8386-f9e86c374c11",
   "metadata": {},
   "outputs": [
    {
     "data": {
      "text/html": [
       "<div>\n",
       "<style scoped>\n",
       "    .dataframe tbody tr th:only-of-type {\n",
       "        vertical-align: middle;\n",
       "    }\n",
       "\n",
       "    .dataframe tbody tr th {\n",
       "        vertical-align: top;\n",
       "    }\n",
       "\n",
       "    .dataframe thead th {\n",
       "        text-align: right;\n",
       "    }\n",
       "</style>\n",
       "<table border=\"1\" class=\"dataframe\">\n",
       "  <thead>\n",
       "    <tr style=\"text-align: right;\">\n",
       "      <th></th>\n",
       "      <th>X1</th>\n",
       "      <th>X2</th>\n",
       "      <th>X3</th>\n",
       "      <th>X4</th>\n",
       "      <th>X5</th>\n",
       "      <th>X6</th>\n",
       "      <th>X7</th>\n",
       "      <th>X8</th>\n",
       "      <th>X9</th>\n",
       "      <th>X10</th>\n",
       "      <th>X11</th>\n",
       "      <th>X12</th>\n",
       "      <th>X13</th>\n",
       "      <th>X14</th>\n",
       "      <th>X15</th>\n",
       "      <th>X16</th>\n",
       "      <th>Period</th>\n",
       "      <th>Genre</th>\n",
       "      <th>Period_Name</th>\n",
       "      <th>Genre_Name</th>\n",
       "    </tr>\n",
       "  </thead>\n",
       "  <tbody>\n",
       "    <tr>\n",
       "      <th>0</th>\n",
       "      <td>0.695620</td>\n",
       "      <td>-0.326637</td>\n",
       "      <td>1.869451</td>\n",
       "      <td>1.120124</td>\n",
       "      <td>-3.230606</td>\n",
       "      <td>1.078223</td>\n",
       "      <td>-2.286818</td>\n",
       "      <td>-0.213600</td>\n",
       "      <td>-2.957026</td>\n",
       "      <td>0.395746</td>\n",
       "      <td>0.686147</td>\n",
       "      <td>2.156204</td>\n",
       "      <td>1.430726</td>\n",
       "      <td>-0.226425</td>\n",
       "      <td>0.980338</td>\n",
       "      <td>-1.268349</td>\n",
       "      <td>1</td>\n",
       "      <td>1</td>\n",
       "      <td>Ur III</td>\n",
       "      <td>Administrative</td>\n",
       "    </tr>\n",
       "    <tr>\n",
       "      <th>1</th>\n",
       "      <td>0.488771</td>\n",
       "      <td>-0.505401</td>\n",
       "      <td>2.806634</td>\n",
       "      <td>-0.011833</td>\n",
       "      <td>-3.098880</td>\n",
       "      <td>0.062783</td>\n",
       "      <td>-1.171744</td>\n",
       "      <td>0.740006</td>\n",
       "      <td>-3.654613</td>\n",
       "      <td>0.205812</td>\n",
       "      <td>1.805598</td>\n",
       "      <td>1.383725</td>\n",
       "      <td>0.076415</td>\n",
       "      <td>-0.259734</td>\n",
       "      <td>0.640475</td>\n",
       "      <td>-2.054135</td>\n",
       "      <td>1</td>\n",
       "      <td>1</td>\n",
       "      <td>Ur III</td>\n",
       "      <td>Administrative</td>\n",
       "    </tr>\n",
       "    <tr>\n",
       "      <th>2</th>\n",
       "      <td>-0.164733</td>\n",
       "      <td>-0.477150</td>\n",
       "      <td>0.875877</td>\n",
       "      <td>1.744388</td>\n",
       "      <td>-1.792805</td>\n",
       "      <td>1.181497</td>\n",
       "      <td>-1.963444</td>\n",
       "      <td>-1.465748</td>\n",
       "      <td>-3.112858</td>\n",
       "      <td>1.478121</td>\n",
       "      <td>0.527789</td>\n",
       "      <td>-0.672934</td>\n",
       "      <td>0.073764</td>\n",
       "      <td>-0.231725</td>\n",
       "      <td>1.831303</td>\n",
       "      <td>-1.136168</td>\n",
       "      <td>1</td>\n",
       "      <td>1</td>\n",
       "      <td>Ur III</td>\n",
       "      <td>Administrative</td>\n",
       "    </tr>\n",
       "    <tr>\n",
       "      <th>3</th>\n",
       "      <td>0.032329</td>\n",
       "      <td>0.733997</td>\n",
       "      <td>1.136432</td>\n",
       "      <td>0.980828</td>\n",
       "      <td>-0.611278</td>\n",
       "      <td>0.674751</td>\n",
       "      <td>-2.201123</td>\n",
       "      <td>-0.782052</td>\n",
       "      <td>-3.235670</td>\n",
       "      <td>-0.053801</td>\n",
       "      <td>2.460866</td>\n",
       "      <td>0.277234</td>\n",
       "      <td>1.209431</td>\n",
       "      <td>-0.855141</td>\n",
       "      <td>1.686832</td>\n",
       "      <td>-1.203823</td>\n",
       "      <td>1</td>\n",
       "      <td>1</td>\n",
       "      <td>Ur III</td>\n",
       "      <td>Administrative</td>\n",
       "    </tr>\n",
       "    <tr>\n",
       "      <th>4</th>\n",
       "      <td>-2.117302</td>\n",
       "      <td>0.836887</td>\n",
       "      <td>2.241112</td>\n",
       "      <td>-2.359340</td>\n",
       "      <td>-0.441417</td>\n",
       "      <td>0.800746</td>\n",
       "      <td>0.511654</td>\n",
       "      <td>-1.293421</td>\n",
       "      <td>-2.536816</td>\n",
       "      <td>-0.735655</td>\n",
       "      <td>1.384294</td>\n",
       "      <td>-0.431612</td>\n",
       "      <td>1.212609</td>\n",
       "      <td>2.165188</td>\n",
       "      <td>0.814998</td>\n",
       "      <td>-1.704666</td>\n",
       "      <td>1</td>\n",
       "      <td>1</td>\n",
       "      <td>Ur III</td>\n",
       "      <td>Administrative</td>\n",
       "    </tr>\n",
       "    <tr>\n",
       "      <th>...</th>\n",
       "      <td>...</td>\n",
       "      <td>...</td>\n",
       "      <td>...</td>\n",
       "      <td>...</td>\n",
       "      <td>...</td>\n",
       "      <td>...</td>\n",
       "      <td>...</td>\n",
       "      <td>...</td>\n",
       "      <td>...</td>\n",
       "      <td>...</td>\n",
       "      <td>...</td>\n",
       "      <td>...</td>\n",
       "      <td>...</td>\n",
       "      <td>...</td>\n",
       "      <td>...</td>\n",
       "      <td>...</td>\n",
       "      <td>...</td>\n",
       "      <td>...</td>\n",
       "      <td>...</td>\n",
       "      <td>...</td>\n",
       "    </tr>\n",
       "    <tr>\n",
       "      <th>95083</th>\n",
       "      <td>0.239176</td>\n",
       "      <td>-1.923309</td>\n",
       "      <td>-2.530270</td>\n",
       "      <td>-1.414568</td>\n",
       "      <td>-2.259939</td>\n",
       "      <td>3.442629</td>\n",
       "      <td>-1.488173</td>\n",
       "      <td>3.042659</td>\n",
       "      <td>-1.457338</td>\n",
       "      <td>2.377469</td>\n",
       "      <td>-1.447516</td>\n",
       "      <td>-0.033868</td>\n",
       "      <td>-5.858948</td>\n",
       "      <td>-0.102388</td>\n",
       "      <td>-0.006196</td>\n",
       "      <td>-2.442894</td>\n",
       "      <td>1</td>\n",
       "      <td>1</td>\n",
       "      <td>Ur III</td>\n",
       "      <td>Administrative</td>\n",
       "    </tr>\n",
       "    <tr>\n",
       "      <th>95084</th>\n",
       "      <td>1.455029</td>\n",
       "      <td>-2.804560</td>\n",
       "      <td>-1.519120</td>\n",
       "      <td>-0.844761</td>\n",
       "      <td>0.119485</td>\n",
       "      <td>4.548380</td>\n",
       "      <td>-3.053493</td>\n",
       "      <td>2.669134</td>\n",
       "      <td>-1.779485</td>\n",
       "      <td>3.313068</td>\n",
       "      <td>-4.855679</td>\n",
       "      <td>-0.840578</td>\n",
       "      <td>-1.970150</td>\n",
       "      <td>-2.371216</td>\n",
       "      <td>-2.190817</td>\n",
       "      <td>-2.478782</td>\n",
       "      <td>1</td>\n",
       "      <td>4</td>\n",
       "      <td>Ur III</td>\n",
       "      <td>Royal/Monumental</td>\n",
       "    </tr>\n",
       "    <tr>\n",
       "      <th>95085</th>\n",
       "      <td>-1.905614</td>\n",
       "      <td>2.131715</td>\n",
       "      <td>1.252587</td>\n",
       "      <td>-1.206944</td>\n",
       "      <td>-1.331858</td>\n",
       "      <td>-1.755407</td>\n",
       "      <td>0.406348</td>\n",
       "      <td>0.143557</td>\n",
       "      <td>1.187520</td>\n",
       "      <td>-2.829051</td>\n",
       "      <td>-0.125474</td>\n",
       "      <td>-1.720152</td>\n",
       "      <td>-1.169059</td>\n",
       "      <td>-2.028571</td>\n",
       "      <td>3.087566</td>\n",
       "      <td>-1.271153</td>\n",
       "      <td>3</td>\n",
       "      <td>9</td>\n",
       "      <td>Old Babylonian</td>\n",
       "      <td>School</td>\n",
       "    </tr>\n",
       "    <tr>\n",
       "      <th>95086</th>\n",
       "      <td>-0.179766</td>\n",
       "      <td>-0.862341</td>\n",
       "      <td>1.356933</td>\n",
       "      <td>-0.642790</td>\n",
       "      <td>0.994281</td>\n",
       "      <td>-0.645911</td>\n",
       "      <td>-0.318751</td>\n",
       "      <td>-1.104957</td>\n",
       "      <td>-0.800633</td>\n",
       "      <td>0.576582</td>\n",
       "      <td>-0.364576</td>\n",
       "      <td>1.692541</td>\n",
       "      <td>0.775255</td>\n",
       "      <td>-0.038733</td>\n",
       "      <td>4.185235</td>\n",
       "      <td>-1.850742</td>\n",
       "      <td>3</td>\n",
       "      <td>9</td>\n",
       "      <td>Old Babylonian</td>\n",
       "      <td>School</td>\n",
       "    </tr>\n",
       "    <tr>\n",
       "      <th>95087</th>\n",
       "      <td>1.833336</td>\n",
       "      <td>-0.608761</td>\n",
       "      <td>1.914346</td>\n",
       "      <td>-0.374015</td>\n",
       "      <td>-2.511945</td>\n",
       "      <td>-1.748878</td>\n",
       "      <td>-1.776708</td>\n",
       "      <td>-1.219683</td>\n",
       "      <td>-2.691700</td>\n",
       "      <td>1.999707</td>\n",
       "      <td>0.101118</td>\n",
       "      <td>1.789351</td>\n",
       "      <td>-2.537410</td>\n",
       "      <td>1.402363</td>\n",
       "      <td>3.332626</td>\n",
       "      <td>1.318864</td>\n",
       "      <td>10</td>\n",
       "      <td>8</td>\n",
       "      <td>Middle Assyrian</td>\n",
       "      <td>uncertain</td>\n",
       "    </tr>\n",
       "  </tbody>\n",
       "</table>\n",
       "<p>95088 rows × 20 columns</p>\n",
       "</div>"
      ],
      "text/plain": [
       "             X1        X2        X3        X4        X5        X6        X7  \\\n",
       "0      0.695620 -0.326637  1.869451  1.120124 -3.230606  1.078223 -2.286818   \n",
       "1      0.488771 -0.505401  2.806634 -0.011833 -3.098880  0.062783 -1.171744   \n",
       "2     -0.164733 -0.477150  0.875877  1.744388 -1.792805  1.181497 -1.963444   \n",
       "3      0.032329  0.733997  1.136432  0.980828 -0.611278  0.674751 -2.201123   \n",
       "4     -2.117302  0.836887  2.241112 -2.359340 -0.441417  0.800746  0.511654   \n",
       "...         ...       ...       ...       ...       ...       ...       ...   \n",
       "95083  0.239176 -1.923309 -2.530270 -1.414568 -2.259939  3.442629 -1.488173   \n",
       "95084  1.455029 -2.804560 -1.519120 -0.844761  0.119485  4.548380 -3.053493   \n",
       "95085 -1.905614  2.131715  1.252587 -1.206944 -1.331858 -1.755407  0.406348   \n",
       "95086 -0.179766 -0.862341  1.356933 -0.642790  0.994281 -0.645911 -0.318751   \n",
       "95087  1.833336 -0.608761  1.914346 -0.374015 -2.511945 -1.748878 -1.776708   \n",
       "\n",
       "             X8        X9       X10       X11       X12       X13       X14  \\\n",
       "0     -0.213600 -2.957026  0.395746  0.686147  2.156204  1.430726 -0.226425   \n",
       "1      0.740006 -3.654613  0.205812  1.805598  1.383725  0.076415 -0.259734   \n",
       "2     -1.465748 -3.112858  1.478121  0.527789 -0.672934  0.073764 -0.231725   \n",
       "3     -0.782052 -3.235670 -0.053801  2.460866  0.277234  1.209431 -0.855141   \n",
       "4     -1.293421 -2.536816 -0.735655  1.384294 -0.431612  1.212609  2.165188   \n",
       "...         ...       ...       ...       ...       ...       ...       ...   \n",
       "95083  3.042659 -1.457338  2.377469 -1.447516 -0.033868 -5.858948 -0.102388   \n",
       "95084  2.669134 -1.779485  3.313068 -4.855679 -0.840578 -1.970150 -2.371216   \n",
       "95085  0.143557  1.187520 -2.829051 -0.125474 -1.720152 -1.169059 -2.028571   \n",
       "95086 -1.104957 -0.800633  0.576582 -0.364576  1.692541  0.775255 -0.038733   \n",
       "95087 -1.219683 -2.691700  1.999707  0.101118  1.789351 -2.537410  1.402363   \n",
       "\n",
       "            X15       X16  Period  Genre      Period_Name        Genre_Name  \n",
       "0      0.980338 -1.268349       1      1           Ur III    Administrative  \n",
       "1      0.640475 -2.054135       1      1           Ur III    Administrative  \n",
       "2      1.831303 -1.136168       1      1           Ur III    Administrative  \n",
       "3      1.686832 -1.203823       1      1           Ur III    Administrative  \n",
       "4      0.814998 -1.704666       1      1           Ur III    Administrative  \n",
       "...         ...       ...     ...    ...              ...               ...  \n",
       "95083 -0.006196 -2.442894       1      1           Ur III    Administrative  \n",
       "95084 -2.190817 -2.478782       1      4           Ur III  Royal/Monumental  \n",
       "95085  3.087566 -1.271153       3      9   Old Babylonian            School  \n",
       "95086  4.185235 -1.850742       3      9   Old Babylonian            School  \n",
       "95087  3.332626  1.318864      10      8  Middle Assyrian         uncertain  \n",
       "\n",
       "[95088 rows x 20 columns]"
      ]
     },
     "execution_count": 18,
     "metadata": {},
     "output_type": "execute_result"
    }
   ],
   "source": [
    "df"
   ]
  },
  {
   "cell_type": "code",
   "execution_count": 19,
   "id": "7a9e7093-bf9f-4fb8-ba4b-338af0b86f5c",
   "metadata": {},
   "outputs": [],
   "source": [
    "df.to_csv(f\"vae_encodings_and_data/vae_encoding_df_{DATE}_w_class_train.csv\", index=False)"
   ]
  },
  {
   "cell_type": "markdown",
   "id": "2e7fc915-c34f-472d-aa82-1593052746bd",
   "metadata": {},
   "source": [
    "I will now repeat the process for the test set:"
   ]
  },
  {
   "cell_type": "code",
   "execution_count": 20,
   "id": "defe907b-9773-4b27-b78a-2cb3a4c332ec",
   "metadata": {},
   "outputs": [
    {
     "name": "stderr",
     "output_type": "stream",
     "text": [
      "100%|██████████| 16/16 [00:03<00:00,  5.25it/s]\n"
     ]
    }
   ],
   "source": [
    "# Main execution\n",
    "encodings, periods, genres = get_encodings_and_labels(ds_test, vae_model)\n",
    "\n",
    "# Create dataframe\n",
    "df_test = pd.DataFrame(encodings, columns=[f\"X{i}\" for i in range(1, encodings.shape[1] + 1)])\n",
    "df_test['Period'] = periods\n",
    "df_test['Genre'] = genres"
   ]
  },
  {
   "cell_type": "code",
   "execution_count": 21,
   "id": "cc6de4b4-c5df-4363-93fb-62db86d5cd62",
   "metadata": {},
   "outputs": [],
   "source": [
    "df_test['Period_Name'] = df_test['Period'].map(PERIOD_INDICES)\n",
    "df_test['Genre_Name'] = df_test['Genre'].map(GENRE_INDICES)"
   ]
  },
  {
   "cell_type": "code",
   "execution_count": 22,
   "id": "f3d742ea-220b-42ea-9140-e17c0dd7e95b",
   "metadata": {},
   "outputs": [],
   "source": [
    "df_test.to_csv(f\"vae_encodings_and_data/vae_encoding_df_{DATE}_w_class_test.csv\", index=False)"
   ]
  },
  {
   "cell_type": "code",
   "execution_count": null,
   "id": "490a540d-53aa-4390-ad9b-4fa677de2dfa",
   "metadata": {},
   "outputs": [],
   "source": []
  }
 ],
 "metadata": {
  "kernelspec": {
   "display_name": "dani_torch",
   "language": "python",
   "name": "dani_torch"
  },
  "language_info": {
   "codemirror_mode": {
    "name": "ipython",
    "version": 3
   },
   "file_extension": ".py",
   "mimetype": "text/x-python",
   "name": "python",
   "nbconvert_exporter": "python",
   "pygments_lexer": "ipython3",
   "version": "3.11.5"
  }
 },
 "nbformat": 4,
 "nbformat_minor": 5
}
