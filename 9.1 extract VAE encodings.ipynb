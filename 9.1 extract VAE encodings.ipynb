{
 "cells": [
  {
   "cell_type": "code",
   "execution_count": 1,
   "id": "fa3873ca-0e46-4b03-9af4-7e294a23e8f7",
   "metadata": {},
   "outputs": [],
   "source": [
    "import torch\n",
    "import pandas as pd\n",
    "from tqdm import tqdm\n",
    "from multiprocessing import Pool\n",
    "from era_data import TabletPeriodDataset, get_IDS\n",
    "from VAE_model_tablets_class import VAE\n",
    "import numpy as np\n",
    "from PIL import Image\n",
    "from torchvision import transforms"
   ]
  },
  {
   "cell_type": "code",
   "execution_count": 2,
   "id": "5ee5c6af-e853-44bd-84c6-8f49bd788a51",
   "metadata": {},
   "outputs": [],
   "source": [
    "# IMG_DIR = 'output/images'\n",
    "RUN_NAME_SUFFIX = '-masked_w_classification_loss' # ''\n",
    "IMG_DIR = 'output/images_preprocessed'\n",
    "LR = 5e-5\n",
    "EPOCHS = 15\n",
    "BATCH_SIZE = 16\n",
    "SUFFIX = '-resnet50'\n",
    "DATE = 'Oct2'"
   ]
  },
  {
   "cell_type": "code",
   "execution_count": 3,
   "id": "8a77f7cf-9de6-4788-abe9-829e4d1113a6",
   "metadata": {},
   "outputs": [
    {
     "data": {
      "text/plain": [
       "'cuda'"
      ]
     },
     "execution_count": 3,
     "metadata": {},
     "output_type": "execute_result"
    }
   ],
   "source": [
    "device = 'cuda' if torch.cuda.is_available() else 'cpu'\n",
    "device"
   ]
  },
  {
   "cell_type": "code",
   "execution_count": 4,
   "id": "9145fbdd-810d-488d-ba8b-83b2d1d20174",
   "metadata": {},
   "outputs": [
    {
     "data": {
      "text/plain": [
       "97640"
      ]
     },
     "execution_count": 4,
     "metadata": {},
     "output_type": "execute_result"
    }
   ],
   "source": [
    "IDS = get_IDS(IMG_DIR=IMG_DIR)\n",
    "len(IDS)"
   ]
  },
  {
   "cell_type": "code",
   "execution_count": 5,
   "id": "3ef50b95-c41e-4512-8370-794938a3ba78",
   "metadata": {},
   "outputs": [
    {
     "data": {
      "text/plain": [
       "'period_clf_bs16_lr5e-05_15epochs-resnet50-97640_samples-masked_w_classification_loss_blurvae-conv-Oct2'"
      ]
     },
     "execution_count": 5,
     "metadata": {},
     "output_type": "execute_result"
    }
   ],
   "source": [
    "VERSION_NAME = f'period_clf_bs{BATCH_SIZE}_lr{LR}_{EPOCHS}epochs{SUFFIX}-{len(IDS)}_samples{RUN_NAME_SUFFIX}_blurvae-conv-{DATE}'\n",
    "VERSION_NAME"
   ]
  },
  {
   "cell_type": "code",
   "execution_count": 6,
   "id": "6fe2f524-dab7-48c9-b4e0-5c4efe2ded07",
   "metadata": {},
   "outputs": [],
   "source": [
    "VERNAME = 'period_clf_bs16_lr5e-05_15epochs-resnet50-97640_samples-masked-Sept_19_blur-early_stopping-1'\n",
    "\n",
    "train_ids = pd.read_csv(f'output/clf_ids/period-train-{VERNAME}.csv', header=None)[0].astype(str)\n",
    "test_ids = pd.read_csv(f'output/clf_ids/period-test-{VERNAME}.csv', header=None)[0].astype(str)"
   ]
  },
  {
   "cell_type": "code",
   "execution_count": 7,
   "id": "895f1f09-56d5-4b15-9be1-5fe8225f0e31",
   "metadata": {},
   "outputs": [
    {
     "name": "stdout",
     "output_type": "stream",
     "text": [
      "Filtering 97640 IDS down to provided 97140...\n",
      "Filtering 97640 IDS down to provided 500...\n"
     ]
    }
   ],
   "source": [
    "ds_train = TabletPeriodDataset(IDS=train_ids, IMG_DIR=IMG_DIR, mask=True)\n",
    "ds_test = TabletPeriodDataset(IDS=test_ids, IMG_DIR=IMG_DIR, mask=True)"
   ]
  },
  {
   "cell_type": "code",
   "execution_count": 12,
   "id": "7437bfc9-1414-4481-b118-db20a88f87c3",
   "metadata": {},
   "outputs": [
    {
     "data": {
      "text/plain": [
       "22"
      ]
     },
     "execution_count": 12,
     "metadata": {},
     "output_type": "execute_result"
    }
   ],
   "source": [
    "num_classes = len(TabletPeriodDataset.PERIOD_INDICES)\n",
    "num_classes"
   ]
  },
  {
   "cell_type": "code",
   "execution_count": 13,
   "id": "4fa11e04-1546-4e53-8afb-d4b41e39b671",
   "metadata": {},
   "outputs": [],
   "source": [
    "class_weights = torch.load(\"data/class_weights_period.pt\")"
   ]
  },
  {
   "cell_type": "code",
   "execution_count": 29,
   "id": "1e0da105-ed67-4c93-aec7-b7300c68956b",
   "metadata": {},
   "outputs": [
    {
     "name": "stderr",
     "output_type": "stream",
     "text": [
      "/sise/mickyfi-group/kapond/AnalysisBySynthesis/VAE_model_tablets_class.py:95: UserWarning: To copy construct from a tensor, it is recommended to use sourceTensor.clone().detach() or sourceTensor.clone().detach().requires_grad_(True), rather than torch.tensor(sourceTensor).\n",
      "  self.class_weights = torch.tensor(class_weights).to(device)\n"
     ]
    }
   ],
   "source": [
    "chekpoint_path = f'lightning_logs/{VERSION_NAME}/checkpoints/epoch=14-step=203756.ckpt'\n",
    "vae_model = VAE.load_from_checkpoint(chekpoint_path,image_channels=1,z_dim=16, lr =1e-5, use_classification_loss=True, num_classes=num_classes,\n",
    "            loss_type=\"weighted\", class_weights=class_weights, device = device)"
   ]
  },
  {
   "cell_type": "code",
   "execution_count": 15,
   "id": "bf7e44ee-99a6-4e70-8a36-2d5dfcd8f022",
   "metadata": {},
   "outputs": [],
   "source": [
    "# Function to preprocess an image\n",
    "def preprocess_image(img, label, genre):\n",
    "    img = np.array(Image.fromarray(img).resize((178, 218), Image.NEAREST))  # Resize the image\n",
    "    return img, label, genre\n",
    "\n",
    "def process_batch(batch, vae_model, device):\n",
    "    # Preprocess each image in the batch\n",
    "    preprocessed_batch = [preprocess_image(img, label, genre) for img, label, genre in batch]\n",
    "    imgs, periods, genres = zip(*preprocessed_batch)\n",
    "\n",
    "    # Convert list of images to torch tensor and move to the device\n",
    "    img_tensors = torch.stack([transforms.ToTensor()(img) for img in imgs]).to(device)\n",
    "\n",
    "    with torch.no_grad():\n",
    "        encodings = vae_model.representation(img_tensors)\n",
    "    encodings = encodings.cpu().numpy()\n",
    "\n",
    "    return encodings, periods, genres"
   ]
  },
  {
   "cell_type": "code",
   "execution_count": 16,
   "id": "c3048546-7a3c-412c-a2ea-2d1bdebb13b2",
   "metadata": {},
   "outputs": [],
   "source": [
    "def get_encodings_and_labels(dataset, vae_model, device='cuda', batch_size=32):\n",
    "    vae_model.to(device)\n",
    "    vae_model.eval()\n",
    "\n",
    "    all_encodings = []\n",
    "    all_periods = []\n",
    "    all_genres = []\n",
    "\n",
    "    num_batches = (len(dataset) + batch_size - 1) // batch_size\n",
    "\n",
    "    for i in tqdm(range(num_batches)):\n",
    "        start_idx = i * batch_size\n",
    "        end_idx = min(start_idx + batch_size, len(dataset))\n",
    "        batch = [dataset[j] for j in range(start_idx, end_idx)]\n",
    "        encodings, periods, genres = process_batch(batch, vae_model, device)\n",
    "        all_encodings.extend(encodings)\n",
    "        all_periods.extend(periods)\n",
    "        all_genres.extend(genres)\n",
    "\n",
    "    return np.array(all_encodings), np.array(all_periods), np.array(all_genres)"
   ]
  },
  {
   "cell_type": "code",
   "execution_count": 19,
   "id": "93385281-fe6f-4dac-b323-09a5332872cd",
   "metadata": {},
   "outputs": [
    {
     "name": "stderr",
     "output_type": "stream",
     "text": [
      "100%|██████████| 2972/2972 [09:40<00:00,  5.12it/s]\n"
     ]
    }
   ],
   "source": [
    "# Main execution\n",
    "encodings, periods, genres = get_encodings_and_labels(ds_train, vae_model)\n",
    "\n",
    "# Create dataframe\n",
    "df = pd.DataFrame(encodings, columns=[f\"X{i}\" for i in range(1, encodings.shape[1] + 1)])\n",
    "df['Period'] = periods\n",
    "df['Genre'] = genres"
   ]
  },
  {
   "cell_type": "code",
   "execution_count": 20,
   "id": "32c32e19-7544-4e0a-8b85-ca2c7a6d4fd7",
   "metadata": {},
   "outputs": [],
   "source": [
    "PERIOD_INDICES = {\n",
    "\n",
    "    0: 'other',\n",
    "    1: 'Ur III',\n",
    "    2: 'Neo-Assyrian',\n",
    "    3: 'Old Babylonian',\n",
    "    4: 'Middle Babylonian',\n",
    "    5: 'Neo-Babylonian',\n",
    "    6: 'Old Akkadian',\n",
    "    7: 'Achaemenid',\n",
    "    8: 'Early Old Babylonian',\n",
    "    9: 'ED IIIb',\n",
    "    10: 'Middle Assyrian',\n",
    "    11: 'Old Assyrian',\n",
    "    12: 'Uruk III',\n",
    "    13: 'Proto-Elamite',\n",
    "    14: 'Lagash II',\n",
    "    15: 'Ebla',\n",
    "    16: 'ED IIIa',\n",
    "    17: 'Hellenistic',\n",
    "    18: 'ED I-II',\n",
    "    19: 'Middle Elamite',\n",
    "    20: 'Middle Hittite',\n",
    "    21: 'Uruk IV'\n",
    "}"
   ]
  },
  {
   "cell_type": "code",
   "execution_count": 21,
   "id": "8e785a34-f7bc-4e45-99a2-bf1a55cce0ac",
   "metadata": {},
   "outputs": [],
   "source": [
    "GENRE_INDICES = {\n",
    "        \n",
    "        1: 'Administrative',\n",
    "        2: 'Letter',\n",
    "        3: 'Legal',\n",
    "        4: 'Royal/Monumental',\n",
    "        5: 'Literary',\n",
    "        6: 'Lexical',\n",
    "        7: 'Omen',\n",
    "        8: 'uncertain',\n",
    "        9: 'School',\n",
    "        10: 'Mathematical',\n",
    "        11: 'Prayer/Incantation',\n",
    "        12: 'Scientific',\n",
    "        13: 'Ritual',\n",
    "        14: 'fake (modern)',\n",
    "        15: 'Astronomical',\n",
    "        16: 'Private/Votive',\n",
    "    }"
   ]
  },
  {
   "cell_type": "code",
   "execution_count": 22,
   "id": "c48249c4-0b05-49ea-8c83-d712c8eebfff",
   "metadata": {},
   "outputs": [],
   "source": [
    "df['Period_Name'] = df['Period'].map(PERIOD_INDICES)"
   ]
  },
  {
   "cell_type": "code",
   "execution_count": 23,
   "id": "87679d9d-8c7a-4c34-b723-680ceb995792",
   "metadata": {},
   "outputs": [],
   "source": [
    "df['Genre_Name'] = df['Genre'].map(GENRE_INDICES)"
   ]
  },
  {
   "cell_type": "code",
   "execution_count": 24,
   "id": "6289c85e-b113-4626-8386-f9e86c374c11",
   "metadata": {},
   "outputs": [
    {
     "data": {
      "text/html": [
       "<div>\n",
       "<style scoped>\n",
       "    .dataframe tbody tr th:only-of-type {\n",
       "        vertical-align: middle;\n",
       "    }\n",
       "\n",
       "    .dataframe tbody tr th {\n",
       "        vertical-align: top;\n",
       "    }\n",
       "\n",
       "    .dataframe thead th {\n",
       "        text-align: right;\n",
       "    }\n",
       "</style>\n",
       "<table border=\"1\" class=\"dataframe\">\n",
       "  <thead>\n",
       "    <tr style=\"text-align: right;\">\n",
       "      <th></th>\n",
       "      <th>X1</th>\n",
       "      <th>X2</th>\n",
       "      <th>X3</th>\n",
       "      <th>X4</th>\n",
       "      <th>X5</th>\n",
       "      <th>X6</th>\n",
       "      <th>X7</th>\n",
       "      <th>X8</th>\n",
       "      <th>X9</th>\n",
       "      <th>X10</th>\n",
       "      <th>X11</th>\n",
       "      <th>X12</th>\n",
       "      <th>X13</th>\n",
       "      <th>X14</th>\n",
       "      <th>X15</th>\n",
       "      <th>X16</th>\n",
       "      <th>Period</th>\n",
       "      <th>Genre</th>\n",
       "      <th>Period_Name</th>\n",
       "      <th>Genre_Name</th>\n",
       "    </tr>\n",
       "  </thead>\n",
       "  <tbody>\n",
       "    <tr>\n",
       "      <th>0</th>\n",
       "      <td>4.919055</td>\n",
       "      <td>-0.909482</td>\n",
       "      <td>0.731892</td>\n",
       "      <td>3.075751</td>\n",
       "      <td>0.739380</td>\n",
       "      <td>1.116917</td>\n",
       "      <td>-0.079185</td>\n",
       "      <td>-2.698598</td>\n",
       "      <td>-0.269075</td>\n",
       "      <td>-0.048176</td>\n",
       "      <td>0.498897</td>\n",
       "      <td>-0.863170</td>\n",
       "      <td>0.132350</td>\n",
       "      <td>1.552988</td>\n",
       "      <td>-0.643640</td>\n",
       "      <td>1.021853</td>\n",
       "      <td>1</td>\n",
       "      <td>1</td>\n",
       "      <td>Ur III</td>\n",
       "      <td>Administrative</td>\n",
       "    </tr>\n",
       "    <tr>\n",
       "      <th>1</th>\n",
       "      <td>5.572304</td>\n",
       "      <td>0.368163</td>\n",
       "      <td>0.547902</td>\n",
       "      <td>1.861315</td>\n",
       "      <td>2.257494</td>\n",
       "      <td>-0.009318</td>\n",
       "      <td>-1.815033</td>\n",
       "      <td>-2.713016</td>\n",
       "      <td>-0.048724</td>\n",
       "      <td>-0.110121</td>\n",
       "      <td>0.344479</td>\n",
       "      <td>-0.798703</td>\n",
       "      <td>1.087145</td>\n",
       "      <td>0.339530</td>\n",
       "      <td>0.039574</td>\n",
       "      <td>1.694017</td>\n",
       "      <td>1</td>\n",
       "      <td>1</td>\n",
       "      <td>Ur III</td>\n",
       "      <td>Administrative</td>\n",
       "    </tr>\n",
       "    <tr>\n",
       "      <th>2</th>\n",
       "      <td>3.653273</td>\n",
       "      <td>-0.613616</td>\n",
       "      <td>0.854104</td>\n",
       "      <td>2.117145</td>\n",
       "      <td>2.047022</td>\n",
       "      <td>1.595965</td>\n",
       "      <td>0.886784</td>\n",
       "      <td>-1.895508</td>\n",
       "      <td>1.556806</td>\n",
       "      <td>0.692500</td>\n",
       "      <td>0.160684</td>\n",
       "      <td>0.265394</td>\n",
       "      <td>-1.112293</td>\n",
       "      <td>0.948919</td>\n",
       "      <td>-1.182204</td>\n",
       "      <td>-1.597994</td>\n",
       "      <td>1</td>\n",
       "      <td>1</td>\n",
       "      <td>Ur III</td>\n",
       "      <td>Administrative</td>\n",
       "    </tr>\n",
       "    <tr>\n",
       "      <th>3</th>\n",
       "      <td>2.979478</td>\n",
       "      <td>-0.681644</td>\n",
       "      <td>1.629997</td>\n",
       "      <td>3.078679</td>\n",
       "      <td>2.948597</td>\n",
       "      <td>0.412386</td>\n",
       "      <td>0.453947</td>\n",
       "      <td>-1.124372</td>\n",
       "      <td>-0.059042</td>\n",
       "      <td>1.094117</td>\n",
       "      <td>-0.880540</td>\n",
       "      <td>1.021095</td>\n",
       "      <td>-0.224409</td>\n",
       "      <td>0.850543</td>\n",
       "      <td>-1.316289</td>\n",
       "      <td>0.622071</td>\n",
       "      <td>1</td>\n",
       "      <td>1</td>\n",
       "      <td>Ur III</td>\n",
       "      <td>Administrative</td>\n",
       "    </tr>\n",
       "    <tr>\n",
       "      <th>4</th>\n",
       "      <td>2.673495</td>\n",
       "      <td>2.518288</td>\n",
       "      <td>1.001184</td>\n",
       "      <td>0.948618</td>\n",
       "      <td>1.412897</td>\n",
       "      <td>-2.765255</td>\n",
       "      <td>-1.220888</td>\n",
       "      <td>-0.643057</td>\n",
       "      <td>-0.337250</td>\n",
       "      <td>-1.413469</td>\n",
       "      <td>-1.256204</td>\n",
       "      <td>0.544692</td>\n",
       "      <td>1.556024</td>\n",
       "      <td>-0.523407</td>\n",
       "      <td>-2.559521</td>\n",
       "      <td>-0.752193</td>\n",
       "      <td>1</td>\n",
       "      <td>1</td>\n",
       "      <td>Ur III</td>\n",
       "      <td>Administrative</td>\n",
       "    </tr>\n",
       "    <tr>\n",
       "      <th>...</th>\n",
       "      <td>...</td>\n",
       "      <td>...</td>\n",
       "      <td>...</td>\n",
       "      <td>...</td>\n",
       "      <td>...</td>\n",
       "      <td>...</td>\n",
       "      <td>...</td>\n",
       "      <td>...</td>\n",
       "      <td>...</td>\n",
       "      <td>...</td>\n",
       "      <td>...</td>\n",
       "      <td>...</td>\n",
       "      <td>...</td>\n",
       "      <td>...</td>\n",
       "      <td>...</td>\n",
       "      <td>...</td>\n",
       "      <td>...</td>\n",
       "      <td>...</td>\n",
       "      <td>...</td>\n",
       "      <td>...</td>\n",
       "    </tr>\n",
       "    <tr>\n",
       "      <th>95083</th>\n",
       "      <td>0.737175</td>\n",
       "      <td>1.758523</td>\n",
       "      <td>5.484700</td>\n",
       "      <td>-1.709509</td>\n",
       "      <td>1.047772</td>\n",
       "      <td>5.191993</td>\n",
       "      <td>-1.451209</td>\n",
       "      <td>-3.498457</td>\n",
       "      <td>2.893486</td>\n",
       "      <td>-0.044255</td>\n",
       "      <td>2.840436</td>\n",
       "      <td>-2.595210</td>\n",
       "      <td>0.089514</td>\n",
       "      <td>-4.235375</td>\n",
       "      <td>4.771692</td>\n",
       "      <td>-2.074991</td>\n",
       "      <td>1</td>\n",
       "      <td>1</td>\n",
       "      <td>Ur III</td>\n",
       "      <td>Administrative</td>\n",
       "    </tr>\n",
       "    <tr>\n",
       "      <th>95084</th>\n",
       "      <td>-0.805932</td>\n",
       "      <td>0.645323</td>\n",
       "      <td>2.743832</td>\n",
       "      <td>0.007985</td>\n",
       "      <td>-0.520500</td>\n",
       "      <td>7.281477</td>\n",
       "      <td>0.626895</td>\n",
       "      <td>-5.238637</td>\n",
       "      <td>1.697937</td>\n",
       "      <td>2.884061</td>\n",
       "      <td>-0.349408</td>\n",
       "      <td>-4.909880</td>\n",
       "      <td>0.440484</td>\n",
       "      <td>-2.714566</td>\n",
       "      <td>3.064813</td>\n",
       "      <td>-3.019037</td>\n",
       "      <td>1</td>\n",
       "      <td>4</td>\n",
       "      <td>Ur III</td>\n",
       "      <td>Royal/Monumental</td>\n",
       "    </tr>\n",
       "    <tr>\n",
       "      <th>95085</th>\n",
       "      <td>0.798387</td>\n",
       "      <td>3.441451</td>\n",
       "      <td>-0.875406</td>\n",
       "      <td>-1.518119</td>\n",
       "      <td>2.518986</td>\n",
       "      <td>-2.295340</td>\n",
       "      <td>2.231613</td>\n",
       "      <td>1.615952</td>\n",
       "      <td>0.901302</td>\n",
       "      <td>2.897573</td>\n",
       "      <td>0.315274</td>\n",
       "      <td>2.655319</td>\n",
       "      <td>-0.702260</td>\n",
       "      <td>-1.005092</td>\n",
       "      <td>0.267886</td>\n",
       "      <td>1.466802</td>\n",
       "      <td>3</td>\n",
       "      <td>9</td>\n",
       "      <td>Old Babylonian</td>\n",
       "      <td>School</td>\n",
       "    </tr>\n",
       "    <tr>\n",
       "      <th>95086</th>\n",
       "      <td>4.048042</td>\n",
       "      <td>0.295159</td>\n",
       "      <td>2.476530</td>\n",
       "      <td>-1.279784</td>\n",
       "      <td>0.812973</td>\n",
       "      <td>-0.250022</td>\n",
       "      <td>1.787098</td>\n",
       "      <td>0.191454</td>\n",
       "      <td>-1.881001</td>\n",
       "      <td>-0.611311</td>\n",
       "      <td>-1.686032</td>\n",
       "      <td>1.790781</td>\n",
       "      <td>-0.915468</td>\n",
       "      <td>0.545573</td>\n",
       "      <td>-0.012969</td>\n",
       "      <td>-0.165567</td>\n",
       "      <td>3</td>\n",
       "      <td>9</td>\n",
       "      <td>Old Babylonian</td>\n",
       "      <td>School</td>\n",
       "    </tr>\n",
       "    <tr>\n",
       "      <th>95087</th>\n",
       "      <td>5.132173</td>\n",
       "      <td>-0.782258</td>\n",
       "      <td>1.097992</td>\n",
       "      <td>-0.849846</td>\n",
       "      <td>0.277023</td>\n",
       "      <td>1.445382</td>\n",
       "      <td>-2.116100</td>\n",
       "      <td>-2.507836</td>\n",
       "      <td>-2.254118</td>\n",
       "      <td>0.905543</td>\n",
       "      <td>3.185253</td>\n",
       "      <td>2.060735</td>\n",
       "      <td>-1.037717</td>\n",
       "      <td>0.501496</td>\n",
       "      <td>-0.256482</td>\n",
       "      <td>-0.525047</td>\n",
       "      <td>10</td>\n",
       "      <td>8</td>\n",
       "      <td>Middle Assyrian</td>\n",
       "      <td>uncertain</td>\n",
       "    </tr>\n",
       "  </tbody>\n",
       "</table>\n",
       "<p>95088 rows × 20 columns</p>\n",
       "</div>"
      ],
      "text/plain": [
       "             X1        X2        X3        X4        X5        X6        X7  \\\n",
       "0      4.919055 -0.909482  0.731892  3.075751  0.739380  1.116917 -0.079185   \n",
       "1      5.572304  0.368163  0.547902  1.861315  2.257494 -0.009318 -1.815033   \n",
       "2      3.653273 -0.613616  0.854104  2.117145  2.047022  1.595965  0.886784   \n",
       "3      2.979478 -0.681644  1.629997  3.078679  2.948597  0.412386  0.453947   \n",
       "4      2.673495  2.518288  1.001184  0.948618  1.412897 -2.765255 -1.220888   \n",
       "...         ...       ...       ...       ...       ...       ...       ...   \n",
       "95083  0.737175  1.758523  5.484700 -1.709509  1.047772  5.191993 -1.451209   \n",
       "95084 -0.805932  0.645323  2.743832  0.007985 -0.520500  7.281477  0.626895   \n",
       "95085  0.798387  3.441451 -0.875406 -1.518119  2.518986 -2.295340  2.231613   \n",
       "95086  4.048042  0.295159  2.476530 -1.279784  0.812973 -0.250022  1.787098   \n",
       "95087  5.132173 -0.782258  1.097992 -0.849846  0.277023  1.445382 -2.116100   \n",
       "\n",
       "             X8        X9       X10       X11       X12       X13       X14  \\\n",
       "0     -2.698598 -0.269075 -0.048176  0.498897 -0.863170  0.132350  1.552988   \n",
       "1     -2.713016 -0.048724 -0.110121  0.344479 -0.798703  1.087145  0.339530   \n",
       "2     -1.895508  1.556806  0.692500  0.160684  0.265394 -1.112293  0.948919   \n",
       "3     -1.124372 -0.059042  1.094117 -0.880540  1.021095 -0.224409  0.850543   \n",
       "4     -0.643057 -0.337250 -1.413469 -1.256204  0.544692  1.556024 -0.523407   \n",
       "...         ...       ...       ...       ...       ...       ...       ...   \n",
       "95083 -3.498457  2.893486 -0.044255  2.840436 -2.595210  0.089514 -4.235375   \n",
       "95084 -5.238637  1.697937  2.884061 -0.349408 -4.909880  0.440484 -2.714566   \n",
       "95085  1.615952  0.901302  2.897573  0.315274  2.655319 -0.702260 -1.005092   \n",
       "95086  0.191454 -1.881001 -0.611311 -1.686032  1.790781 -0.915468  0.545573   \n",
       "95087 -2.507836 -2.254118  0.905543  3.185253  2.060735 -1.037717  0.501496   \n",
       "\n",
       "            X15       X16  Period  Genre      Period_Name        Genre_Name  \n",
       "0     -0.643640  1.021853       1      1           Ur III    Administrative  \n",
       "1      0.039574  1.694017       1      1           Ur III    Administrative  \n",
       "2     -1.182204 -1.597994       1      1           Ur III    Administrative  \n",
       "3     -1.316289  0.622071       1      1           Ur III    Administrative  \n",
       "4     -2.559521 -0.752193       1      1           Ur III    Administrative  \n",
       "...         ...       ...     ...    ...              ...               ...  \n",
       "95083  4.771692 -2.074991       1      1           Ur III    Administrative  \n",
       "95084  3.064813 -3.019037       1      4           Ur III  Royal/Monumental  \n",
       "95085  0.267886  1.466802       3      9   Old Babylonian            School  \n",
       "95086 -0.012969 -0.165567       3      9   Old Babylonian            School  \n",
       "95087 -0.256482 -0.525047      10      8  Middle Assyrian         uncertain  \n",
       "\n",
       "[95088 rows x 20 columns]"
      ]
     },
     "execution_count": 24,
     "metadata": {},
     "output_type": "execute_result"
    }
   ],
   "source": [
    "df"
   ]
  },
  {
   "cell_type": "code",
   "execution_count": 25,
   "id": "7a9e7093-bf9f-4fb8-ba4b-338af0b86f5c",
   "metadata": {},
   "outputs": [],
   "source": [
    "df.to_csv(f\"vae_encodings_and_data/vae_encoding_df_{DATE}_w_class_train.csv\", index=False)"
   ]
  },
  {
   "cell_type": "markdown",
   "id": "2e7fc915-c34f-472d-aa82-1593052746bd",
   "metadata": {},
   "source": [
    "I will now repeat the process for the test set:"
   ]
  },
  {
   "cell_type": "code",
   "execution_count": 26,
   "id": "defe907b-9773-4b27-b78a-2cb3a4c332ec",
   "metadata": {},
   "outputs": [
    {
     "name": "stderr",
     "output_type": "stream",
     "text": [
      "100%|██████████| 16/16 [00:02<00:00,  5.48it/s]\n"
     ]
    }
   ],
   "source": [
    "# Main execution\n",
    "encodings, periods, genres = get_encodings_and_labels(ds_test, vae_model)\n",
    "\n",
    "# Create dataframe\n",
    "df_test = pd.DataFrame(encodings, columns=[f\"X{i}\" for i in range(1, encodings.shape[1] + 1)])\n",
    "df_test['Period'] = periods\n",
    "df_test['Genre'] = genres"
   ]
  },
  {
   "cell_type": "code",
   "execution_count": 27,
   "id": "cc6de4b4-c5df-4363-93fb-62db86d5cd62",
   "metadata": {},
   "outputs": [],
   "source": [
    "df_test['Period_Name'] = df_test['Period'].map(PERIOD_INDICES)\n",
    "df_test['Genre_Name'] = df_test['Genre'].map(GENRE_INDICES)"
   ]
  },
  {
   "cell_type": "code",
   "execution_count": 28,
   "id": "f3d742ea-220b-42ea-9140-e17c0dd7e95b",
   "metadata": {},
   "outputs": [],
   "source": [
    "df_test.to_csv(f\"vae_encodings_and_data/vae_encoding_df_{DATE}_w_class_test.csv\", index=False)"
   ]
  },
  {
   "cell_type": "code",
   "execution_count": null,
   "id": "490a540d-53aa-4390-ad9b-4fa677de2dfa",
   "metadata": {},
   "outputs": [],
   "source": []
  }
 ],
 "metadata": {
  "kernelspec": {
   "display_name": "dani_torch",
   "language": "python",
   "name": "dani_torch"
  },
  "language_info": {
   "codemirror_mode": {
    "name": "ipython",
    "version": 3
   },
   "file_extension": ".py",
   "mimetype": "text/x-python",
   "name": "python",
   "nbconvert_exporter": "python",
   "pygments_lexer": "ipython3",
   "version": "3.11.5"
  }
 },
 "nbformat": 4,
 "nbformat_minor": 5
}
