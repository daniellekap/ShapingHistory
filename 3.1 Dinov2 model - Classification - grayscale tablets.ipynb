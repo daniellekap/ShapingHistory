{
 "cells": [
  {
   "cell_type": "code",
   "execution_count": 10,
   "id": "c02c5471-dabb-4575-90b9-60a4ebbecf11",
   "metadata": {},
   "outputs": [],
   "source": [
    "from collections import Counter\n",
    "import warnings\n",
    "\n",
    "import numpy as np\n",
    "import pandas as pd\n",
    "import xgboost as xgb\n",
    "import matplotlib.pyplot as plt\n",
    "from sklearn.metrics import classification_report, roc_auc_score\n",
    "from sklearn.model_selection import train_test_split\n",
    "from sklearn.manifold import TSNE\n",
    "from sklearn.preprocessing import label_binarize\n",
    "\n",
    "from era_data import TabletPeriodDataset\n",
    "\n",
    "warnings.filterwarnings(\n",
    "    action='ignore', \n",
    "    message='is_sparse is deprecated and will be removed in a future version. Check `isinstance\\(dtype, pd.SparseDtype\\)` instead.',\n",
    "    category=FutureWarning, \n",
    "    module='xgboost.*'\n",
    ")\n",
    "\n",
    "warnings.filterwarnings(\n",
    "    action='ignore', \n",
    "    category=FutureWarning, \n",
    "    module='xgboost.*'  \n",
    ")"
   ]
  },
  {
   "cell_type": "markdown",
   "id": "7925efd0-aa85-4a66-ae2f-e38bf66db882",
   "metadata": {},
   "source": [
    "# Loading Dataset - Extracted DinoV2 Vectors"
   ]
  },
  {
   "cell_type": "code",
   "execution_count": 3,
   "id": "67d764f6-05b7-4f93-a906-11103c8124d2",
   "metadata": {},
   "outputs": [],
   "source": [
    "df_features_train = pd.read_csv('output/dino_v2_train_set_vectors_greyscale_April20.csv', \n",
    "                                names=[f'X{i}' for i in range(384)] + ['Period'], \n",
    "                                header=0)\n",
    "df_features_test = pd.read_csv('output/dino_v2_test_set_vectors_greyscale_April20.csv', \n",
    "                               names=[f'X{i}' for i in range(384)] + ['Period'], \n",
    "                               header=0)"
   ]
  },
  {
   "cell_type": "markdown",
   "id": "bacfb6ea-8aab-4c0b-9614-e61088983604",
   "metadata": {},
   "source": [
    "# Preparing Data for Model"
   ]
  },
  {
   "cell_type": "code",
   "execution_count": 4,
   "id": "7b3aa02c-9a4c-47c7-a924-2a4836bd5ded",
   "metadata": {},
   "outputs": [],
   "source": [
    "X_train_period = df_features_train.drop('Period', axis=1)\n",
    "y_train_period = df_features_train[\"Period\"]\n",
    "\n",
    "X_train_period, X_val_period, y_train_period, y_val_period = train_test_split(X_train_period, y_train_period, test_size=0.111111111, random_state=0)\n",
    "\n",
    "X_test_period = df_features_test.drop('Period', axis=1)\n",
    "y_test_period = df_features_test[\"Period\"]"
   ]
  },
  {
   "cell_type": "code",
   "execution_count": 5,
   "id": "d5565ba3-41d3-4583-a4f0-b49b26c5844f",
   "metadata": {},
   "outputs": [
    {
     "data": {
      "text/plain": [
       "(75948, 9494, 9494)"
      ]
     },
     "execution_count": 5,
     "metadata": {},
     "output_type": "execute_result"
    }
   ],
   "source": [
    "len(y_train_period), len(y_val_period), len(y_test_period)"
   ]
  },
  {
   "cell_type": "code",
   "execution_count": 6,
   "id": "bc9806e0-8da2-43d3-8164-7fb2429c6292",
   "metadata": {},
   "outputs": [],
   "source": [
    "D_train_period = xgb.DMatrix(X_train_period, label=y_train_period)\n",
    "D_val_period = xgb.DMatrix(X_val_period, label=y_val_period)\n",
    "D_test_period = xgb.DMatrix(X_test_period, label=y_test_period)"
   ]
  },
  {
   "cell_type": "code",
   "execution_count": 7,
   "id": "585ba911-d478-422c-b384-605c77b6c2a6",
   "metadata": {},
   "outputs": [
    {
     "data": {
      "text/plain": [
       "22"
      ]
     },
     "execution_count": 7,
     "metadata": {},
     "output_type": "execute_result"
    }
   ],
   "source": [
    "num_classes = len(TabletPeriodDataset.PERIOD_INDICES)\n",
    "num_classes"
   ]
  },
  {
   "cell_type": "markdown",
   "id": "e4aa05be-0cee-4560-9541-e72575970439",
   "metadata": {},
   "source": [
    "# Clasification Model and Predictions"
   ]
  },
  {
   "cell_type": "code",
   "execution_count": 68,
   "id": "92bb2127-6f5f-4e17-b20e-6cca6d286ab7",
   "metadata": {},
   "outputs": [],
   "source": [
    "best_params = {'eta': 0.1, 'max_depth': 20, 'subsample': 0.9, 'objective': 'multi:softprob', 'num_class': 22, 'colsample_bytree': 0.9, 'nthread': 10}"
   ]
  },
  {
   "cell_type": "code",
   "execution_count": 69,
   "id": "a4816fc8-0630-4336-b225-12dac2b931fd",
   "metadata": {},
   "outputs": [],
   "source": [
    "bst = xgb.train(best_params, D_train_period, num_boost_round=50)\n",
    "        \n",
    "preds = bst.predict(D_val_period)\n",
    "preds_labels = np.argmax(preds, axis=1)"
   ]
  },
  {
   "cell_type": "code",
   "execution_count": 70,
   "id": "c843b0af-eafb-486a-9fab-da4a5929c134",
   "metadata": {},
   "outputs": [],
   "source": [
    "preds_test = bst.predict(D_test_period)\n",
    "preds_labels_test = np.argmax(preds_test, axis=1)"
   ]
  },
  {
   "cell_type": "markdown",
   "id": "8b1d2fd9-0ad2-4e5f-901f-413813122dc5",
   "metadata": {},
   "source": [
    "# Prediction analysis"
   ]
  },
  {
   "cell_type": "code",
   "execution_count": 71,
   "id": "ea1d49cc-e742-4b4a-a399-e72c2cb337fa",
   "metadata": {},
   "outputs": [],
   "source": [
    "EARLY_BRONZE = {\n",
    "    'Old Akkadian', 'Ur III',\n",
    "    'ED IIIb', 'Uruk III',\n",
    "    'Proto-Elamite', 'Lagash II',\n",
    "    'Ebla', 'ED IIIa', 'ED I-II',\n",
    "    'Uruk IV', 'Linear Elamite',\n",
    "    'Harappan'\n",
    "    \n",
    "}\n",
    "MID_LATE_BRONZE = {\n",
    "    'Early Old Babylonian',\n",
    "    'Old Babylonian', 'Old Assyrian',\n",
    "    'Middle Babylonian', 'Middle Assyrian',\n",
    "    'Middle Elamite', 'Hittite'\n",
    "}\n",
    "IRON = {\n",
    "    'Neo-Babylonian', 'Neo-Assyrian',\n",
    "    'Achaemenid', 'Hellenistic',\n",
    "    'Neo-Elamite'\n",
    "}\n",
    "ERA_MAP = {\n",
    "    **{K: 'EB' for K in EARLY_BRONZE},\n",
    "    **{K: 'MLB' for K in MID_LATE_BRONZE},\n",
    "    **{K: 'I' for K in IRON},\n",
    "}"
   ]
  },
  {
   "cell_type": "code",
   "execution_count": 72,
   "id": "53be74da-8517-4f08-8ced-a685fb622d3b",
   "metadata": {},
   "outputs": [
    {
     "data": {
      "text/plain": [
       "'Neo-Babylonian (I)'"
      ]
     },
     "execution_count": 72,
     "metadata": {},
     "output_type": "execute_result"
    }
   ],
   "source": [
    "def explain(period):\n",
    "    return f'{period} ({ERA_MAP.get(period, \"?\")})'\n",
    "explain('Neo-Babylonian')"
   ]
  },
  {
   "cell_type": "code",
   "execution_count": 73,
   "id": "3685bbdb-088b-47b1-9689-a73d984dd822",
   "metadata": {},
   "outputs": [],
   "source": [
    "idx2period = {v: k for k, v in TabletPeriodDataset.PERIOD_INDICES.items()}\n",
    "idx2period[0] = 'other'"
   ]
  },
  {
   "cell_type": "code",
   "execution_count": 74,
   "id": "862a60d6-04d1-4815-bb44-9d34c45eab34",
   "metadata": {},
   "outputs": [
    {
     "data": {
      "text/plain": [
       "('other', 'Neo-Babylonian')"
      ]
     },
     "execution_count": 74,
     "metadata": {},
     "output_type": "execute_result"
    }
   ],
   "source": [
    "idx2period[0], idx2period[5]"
   ]
  },
  {
   "cell_type": "code",
   "execution_count": 75,
   "id": "4f3a8df6-b561-42db-8a65-2316216faef8",
   "metadata": {},
   "outputs": [
    {
     "data": {
      "text/plain": [
       "[0, 1, 2, 3, 4, 5, 6, 7, 8, 9, 10, 11, 12, 13, 14, 15, 16, 17, 18, 19, 20, 21]"
      ]
     },
     "execution_count": 75,
     "metadata": {},
     "output_type": "execute_result"
    }
   ],
   "source": [
    "list(set(y_test_period) | set(preds_labels_test))"
   ]
  },
  {
   "cell_type": "code",
   "execution_count": 76,
   "id": "89944376-234c-49bf-b5ac-84e05232a941",
   "metadata": {},
   "outputs": [
    {
     "name": "stdout",
     "output_type": "stream",
     "text": [
      "22\n",
      "[0, 1, 2, 3, 4, 5, 6, 7, 8, 9, 10, 11, 12, 13, 14, 15, 16, 17, 18, 19, 20, 21]\n",
      "['other (?)', 'Ur III (EB)', 'Neo-Assyrian (I)', 'Old Babylonian (MLB)', 'Middle Babylonian (MLB)', 'Neo-Babylonian (I)', 'Old Akkadian (EB)', 'Achaemenid (I)', 'Early Old Babylonian (MLB)', 'ED IIIb (EB)', 'Middle Assyrian (MLB)', 'Old Assyrian (MLB)', 'Uruk III (EB)', 'Proto-Elamite (EB)', 'Lagash II (EB)', 'Ebla (EB)', 'ED IIIa (EB)', 'Hellenistic (I)', 'ED I-II (EB)', 'Middle Elamite (MLB)', 'Middle Hittite (MLB)', 'Uruk IV (EB)']\n"
     ]
    }
   ],
   "source": [
    "indices = list(set(y_test_period) | set(preds_labels_test))\n",
    "print(len(indices))\n",
    "print(indices)\n",
    "PERIOD_LABELS = [explain(idx2period[i]) for i in indices]\n",
    "print(PERIOD_LABELS)"
   ]
  },
  {
   "cell_type": "code",
   "execution_count": 77,
   "id": "88507e5a-6a4e-4f81-8c91-c3e003796453",
   "metadata": {},
   "outputs": [
    {
     "name": "stdout",
     "output_type": "stream",
     "text": [
      "                            precision    recall  f1-score   support\n",
      "\n",
      "                 other (?)       0.00      0.00      0.00        60\n",
      "               Ur III (EB)       0.02      0.00      0.00      2782\n",
      "          Neo-Assyrian (I)       0.50      0.03      0.05      2326\n",
      "      Old Babylonian (MLB)       0.18      0.20      0.19      1634\n",
      "   Middle Babylonian (MLB)       0.00      0.00      0.00       635\n",
      "        Neo-Babylonian (I)       0.00      0.00      0.00       504\n",
      "         Old Akkadian (EB)       0.00      0.00      0.00       295\n",
      "            Achaemenid (I)       0.02      0.80      0.04       183\n",
      "Early Old Babylonian (MLB)       0.00      0.00      0.00       217\n",
      "              ED IIIb (EB)       0.00      0.00      0.00       159\n",
      "     Middle Assyrian (MLB)       0.00      0.00      0.00       148\n",
      "        Old Assyrian (MLB)       0.00      0.00      0.00       157\n",
      "             Uruk III (EB)       0.00      0.00      0.00        83\n",
      "        Proto-Elamite (EB)       0.00      0.00      0.00        75\n",
      "            Lagash II (EB)       0.00      0.00      0.00        55\n",
      "                 Ebla (EB)       0.00      0.00      0.00        45\n",
      "              ED IIIa (EB)       0.00      0.00      0.00        40\n",
      "           Hellenistic (I)       0.00      0.00      0.00        18\n",
      "              ED I-II (EB)       0.00      0.00      0.00        26\n",
      "      Middle Elamite (MLB)       0.00      0.00      0.00        20\n",
      "      Middle Hittite (MLB)       0.00      0.00      0.00        14\n",
      "              Uruk IV (EB)       0.00      0.00      0.00        18\n",
      "\n",
      "                  accuracy                           0.06      9494\n",
      "                 macro avg       0.03      0.05      0.01      9494\n",
      "              weighted avg       0.16      0.06      0.05      9494\n",
      "\n"
     ]
    },
    {
     "name": "stderr",
     "output_type": "stream",
     "text": [
      "/home/kapond/.conda/envs/dani_torch/lib/python3.11/site-packages/sklearn/metrics/_classification.py:1469: UndefinedMetricWarning: Precision and F-score are ill-defined and being set to 0.0 in labels with no predicted samples. Use `zero_division` parameter to control this behavior.\n",
      "  _warn_prf(average, modifier, msg_start, len(result))\n",
      "/home/kapond/.conda/envs/dani_torch/lib/python3.11/site-packages/sklearn/metrics/_classification.py:1469: UndefinedMetricWarning: Precision and F-score are ill-defined and being set to 0.0 in labels with no predicted samples. Use `zero_division` parameter to control this behavior.\n",
      "  _warn_prf(average, modifier, msg_start, len(result))\n",
      "/home/kapond/.conda/envs/dani_torch/lib/python3.11/site-packages/sklearn/metrics/_classification.py:1469: UndefinedMetricWarning: Precision and F-score are ill-defined and being set to 0.0 in labels with no predicted samples. Use `zero_division` parameter to control this behavior.\n",
      "  _warn_prf(average, modifier, msg_start, len(result))\n"
     ]
    }
   ],
   "source": [
    "print(classification_report(y_test_period, preds_labels_test, target_names=PERIOD_LABELS))"
   ]
  },
  {
   "cell_type": "code",
   "execution_count": 78,
   "id": "16b514a2-00a2-44d5-b0d2-863bbf493c4d",
   "metadata": {},
   "outputs": [
    {
     "name": "stdout",
     "output_type": "stream",
     "text": [
      "Common labels: (17)\n"
     ]
    },
    {
     "data": {
      "text/plain": [
       "[(0, 'other (?)'),\n",
       " (1, 'Ur III (EB)'),\n",
       " (2, 'Neo-Assyrian (I)'),\n",
       " (3, 'Old Babylonian (MLB)'),\n",
       " (4, 'Middle Babylonian (MLB)'),\n",
       " (5, 'Neo-Babylonian (I)'),\n",
       " (6, 'Old Akkadian (EB)'),\n",
       " (7, 'Achaemenid (I)'),\n",
       " (8, 'Early Old Babylonian (MLB)'),\n",
       " (9, 'ED IIIb (EB)'),\n",
       " (10, 'Middle Assyrian (MLB)'),\n",
       " (11, 'Old Assyrian (MLB)'),\n",
       " (12, 'Uruk III (EB)'),\n",
       " (13, 'Proto-Elamite (EB)'),\n",
       " (14, 'Lagash II (EB)'),\n",
       " (15, 'Ebla (EB)'),\n",
       " (16, 'ED IIIa (EB)')]"
      ]
     },
     "execution_count": 78,
     "metadata": {},
     "output_type": "execute_result"
    }
   ],
   "source": [
    "# let's just use classes with support >=40, everything else goes to 0: other\n",
    "COMMON_LABELS = list({k for k, v in Counter(y_test_period).items() if v >= 40})\n",
    "print(f'Common labels: ({len(COMMON_LABELS)})')\n",
    "[(i, explain(idx2period[i])) for i in COMMON_LABELS]"
   ]
  },
  {
   "cell_type": "code",
   "execution_count": 79,
   "id": "64536a4c-a1e9-462c-88d1-0695316d427d",
   "metadata": {},
   "outputs": [
    {
     "name": "stdout",
     "output_type": "stream",
     "text": [
      "0.010111649462818622 changed to \"other\"\n"
     ]
    }
   ],
   "source": [
    "y_true_c = y_test_period.copy()\n",
    "y_true_c[~np.isin(y_test_period, COMMON_LABELS)] = 0\n",
    "print((~np.isin(y_test_period, COMMON_LABELS)).mean(), 'changed to \"other\"')"
   ]
  },
  {
   "cell_type": "code",
   "execution_count": 80,
   "id": "4aa85487-a3c7-4b7d-b1ee-212ec435b8f8",
   "metadata": {},
   "outputs": [
    {
     "name": "stdout",
     "output_type": "stream",
     "text": [
      "0.0 changed to \"other\"\n"
     ]
    }
   ],
   "source": [
    "y_pred_c = preds_labels_test.copy()\n",
    "y_pred_c[~np.isin(preds_labels_test, COMMON_LABELS)] = 0\n",
    "print((~np.isin(preds_labels_test, COMMON_LABELS)).mean(), 'changed to \"other\"')"
   ]
  },
  {
   "cell_type": "code",
   "execution_count": 81,
   "id": "b247a68b-f1e1-43fb-a940-d5f913f226c6",
   "metadata": {},
   "outputs": [
    {
     "name": "stdout",
     "output_type": "stream",
     "text": [
      "17\n",
      "[0, 1, 2, 3, 4, 5, 6, 7, 8, 9, 10, 11, 12, 13, 14, 15, 16]\n",
      "['other (?)', 'Ur III (EB)', 'Neo-Assyrian (I)', 'Old Babylonian (MLB)', 'Middle Babylonian (MLB)', 'Neo-Babylonian (I)', 'Old Akkadian (EB)', 'Achaemenid (I)', 'Early Old Babylonian (MLB)', 'ED IIIb (EB)', 'Middle Assyrian (MLB)', 'Old Assyrian (MLB)', 'Uruk III (EB)', 'Proto-Elamite (EB)', 'Lagash II (EB)', 'Ebla (EB)', 'ED IIIa (EB)']\n"
     ]
    }
   ],
   "source": [
    "indices_c = list(set(y_true_c))\n",
    "print(len(indices_c))\n",
    "print(indices_c)\n",
    "PERIOD_LABELS_C = [explain(idx2period[i]) for i in indices_c]\n",
    "print(PERIOD_LABELS_C)"
   ]
  },
  {
   "cell_type": "code",
   "execution_count": 82,
   "id": "935cc0e7-1d85-47a1-8747-1e587def594d",
   "metadata": {},
   "outputs": [
    {
     "data": {
      "text/plain": [
       "{0, 1, 2, 3, 4, 5, 6, 7, 8, 9, 10, 11, 12, 13, 14, 15, 16}"
      ]
     },
     "execution_count": 82,
     "metadata": {},
     "output_type": "execute_result"
    }
   ],
   "source": [
    "set(y_true_c)"
   ]
  },
  {
   "cell_type": "code",
   "execution_count": 83,
   "id": "86ae620c-94a7-4682-9bed-c99d111bc9d5",
   "metadata": {},
   "outputs": [
    {
     "name": "stdout",
     "output_type": "stream",
     "text": [
      "                            precision    recall  f1-score   support\n",
      "\n",
      "                 other (?)       0.00      0.00      0.00       156\n",
      "               Ur III (EB)       0.02      0.00      0.00      2782\n",
      "          Neo-Assyrian (I)       0.50      0.03      0.05      2326\n",
      "      Old Babylonian (MLB)       0.18      0.20      0.19      1634\n",
      "   Middle Babylonian (MLB)       0.00      0.00      0.00       635\n",
      "        Neo-Babylonian (I)       0.00      0.00      0.00       504\n",
      "         Old Akkadian (EB)       0.00      0.00      0.00       295\n",
      "            Achaemenid (I)       0.02      0.80      0.04       183\n",
      "Early Old Babylonian (MLB)       0.00      0.00      0.00       217\n",
      "              ED IIIb (EB)       0.00      0.00      0.00       159\n",
      "     Middle Assyrian (MLB)       0.00      0.00      0.00       148\n",
      "        Old Assyrian (MLB)       0.00      0.00      0.00       157\n",
      "             Uruk III (EB)       0.00      0.00      0.00        83\n",
      "        Proto-Elamite (EB)       0.00      0.00      0.00        75\n",
      "            Lagash II (EB)       0.00      0.00      0.00        55\n",
      "                 Ebla (EB)       0.00      0.00      0.00        45\n",
      "              ED IIIa (EB)       0.00      0.00      0.00        40\n",
      "\n",
      "                  accuracy                           0.06      9494\n",
      "                 macro avg       0.04      0.06      0.02      9494\n",
      "              weighted avg       0.16      0.06      0.05      9494\n",
      "\n"
     ]
    },
    {
     "name": "stderr",
     "output_type": "stream",
     "text": [
      "/home/kapond/.conda/envs/dani_torch/lib/python3.11/site-packages/sklearn/metrics/_classification.py:1469: UndefinedMetricWarning: Precision and F-score are ill-defined and being set to 0.0 in labels with no predicted samples. Use `zero_division` parameter to control this behavior.\n",
      "  _warn_prf(average, modifier, msg_start, len(result))\n",
      "/home/kapond/.conda/envs/dani_torch/lib/python3.11/site-packages/sklearn/metrics/_classification.py:1469: UndefinedMetricWarning: Precision and F-score are ill-defined and being set to 0.0 in labels with no predicted samples. Use `zero_division` parameter to control this behavior.\n",
      "  _warn_prf(average, modifier, msg_start, len(result))\n",
      "/home/kapond/.conda/envs/dani_torch/lib/python3.11/site-packages/sklearn/metrics/_classification.py:1469: UndefinedMetricWarning: Precision and F-score are ill-defined and being set to 0.0 in labels with no predicted samples. Use `zero_division` parameter to control this behavior.\n",
      "  _warn_prf(average, modifier, msg_start, len(result))\n"
     ]
    }
   ],
   "source": [
    "print(classification_report(y_true_c, y_pred_c, target_names=PERIOD_LABELS_C))"
   ]
  },
  {
   "cell_type": "code",
   "execution_count": 84,
   "id": "0b604597-3c50-48f6-9e67-326d14f3f9fd",
   "metadata": {},
   "outputs": [
    {
     "name": "stdout",
     "output_type": "stream",
     "text": [
      "Macro-OvR-AUC: 0.540172073466883\n"
     ]
    }
   ],
   "source": [
    "Y = label_binarize(y_test_period, classes=np.unique(y_test_period))\n",
    "n_classes = Y.shape[1]\n",
    "\n",
    "auc_scores = []\n",
    "for i in range(n_classes):\n",
    "    auc = roc_auc_score(Y[:, i], preds_test[:, i])\n",
    "    auc_scores.append(auc)\n",
    "\n",
    "macro_ovr_auc = np.mean(auc_scores)\n",
    "print(f\"Macro-OvR-AUC: {macro_ovr_auc}\")"
   ]
  },
  {
   "cell_type": "markdown",
   "id": "32a63922-41a3-49df-8ee1-1ef1ef261fc1",
   "metadata": {},
   "source": [
    "# TSNE over the extracted vectors"
   ]
  },
  {
   "cell_type": "code",
   "execution_count": 49,
   "id": "aa48033f-8f86-423d-a9cf-263bfb5ac229",
   "metadata": {
    "scrolled": true
   },
   "outputs": [],
   "source": [
    "F = TSNE(n_components=2, init='pca').fit_transform(X_train_period)"
   ]
  },
  {
   "cell_type": "code",
   "execution_count": 50,
   "id": "2e305c59-f8f4-4ddf-9911-1abd412e995e",
   "metadata": {},
   "outputs": [
    {
     "data": {
      "image/png": "[encoded data removed]",
      "text/plain": [
       "<Figure size 1000x600 with 1 Axes>"
      ]
     },
     "metadata": {},
     "output_type": "display_data"
    }
   ],
   "source": [
    "fig = plt.figure(figsize=(10, 6))\n",
    "ax = fig.add_subplot(111)\n",
    "\n",
    "for period in set(y_train_period):\n",
    "    period_data = F[y_train_period == period]\n",
    "    \n",
    "    # Scatter plot for the period.\n",
    "    plt.scatter(period_data[:, 0], period_data[:, 1], label=f'{period} - {explain(idx2period[period])}', s=1)\n",
    "    \n",
    "    centroid = np.mean(period_data, axis=0)\n",
    "    \n",
    "    ax.text(centroid[0], centroid[1], f'{idx2period[period]}', horizontalalignment='center', verticalalignment='center', fontsize=12, weight='bold')\n",
    "ax.legend(loc='upper left', bbox_to_anchor=(1, 1), markerscale=10)\n",
    "plt.tight_layout()\n",
    "plt.title('TSME clustering of the train set - greyscale Images - DinoV2')\n",
    "scatter_pdf_path = 'output/plots/TSNEclusteringGreyscale.pdf'\n",
    "plt.savefig(scatter_pdf_path, format='pdf')\n",
    "\n",
    "#plt.show()"
   ]
  },
  {
   "cell_type": "code",
   "execution_count": null,
   "id": "0e93f809-1716-4f60-b7d4-2e9aa4bb5a16",
   "metadata": {},
   "outputs": [],
   "source": []
  }
 ],
 "metadata": {
  "kernelspec": {
   "display_name": "dani_torch",
   "language": "python",
   "name": "dani_torch"
  },
  "language_info": {
   "codemirror_mode": {
    "name": "ipython",
    "version": 3
   },
   "file_extension": ".py",
   "mimetype": "text/x-python",
   "name": "python",
   "nbconvert_exporter": "python",
   "pygments_lexer": "ipython3",
   "version": "3.11.5"
  }
 },
 "nbformat": 4,
 "nbformat_minor": 5
}
